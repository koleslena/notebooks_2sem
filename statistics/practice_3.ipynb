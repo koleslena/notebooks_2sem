{
 "cells": [
  {
   "cell_type": "code",
   "execution_count": 1,
   "id": "a7e16843",
   "metadata": {},
   "outputs": [],
   "source": [
    "%matplotlib inline\n",
    "import numpy as np\n",
    "import pandas as pd\n",
    "import matplotlib\n",
    "import matplotlib.pyplot as plt\n",
    "import scipy\n",
    "import scipy.stats as stats\n",
    "import seaborn as sns\n",
    "import sklearn.linear_model as lm\n",
    "\n",
    "pd.options.display.max_rows = 8"
   ]
  },
  {
   "cell_type": "markdown",
   "id": "c7538620",
   "metadata": {},
   "source": [
    "# Корреляционный анализ"
   ]
  },
  {
   "cell_type": "code",
   "execution_count": 2,
   "id": "91a5cd31",
   "metadata": {},
   "outputs": [
    {
     "data": {
      "text/html": [
       "<div>\n",
       "<style scoped>\n",
       "    .dataframe tbody tr th:only-of-type {\n",
       "        vertical-align: middle;\n",
       "    }\n",
       "\n",
       "    .dataframe tbody tr th {\n",
       "        vertical-align: top;\n",
       "    }\n",
       "\n",
       "    .dataframe thead th {\n",
       "        text-align: right;\n",
       "    }\n",
       "</style>\n",
       "<table border=\"1\" class=\"dataframe\">\n",
       "  <thead>\n",
       "    <tr style=\"text-align: right;\">\n",
       "      <th></th>\n",
       "      <th>rent</th>\n",
       "      <th>s</th>\n",
       "      <th>floor</th>\n",
       "      <th>rooms</th>\n",
       "      <th>district</th>\n",
       "      <th>walls</th>\n",
       "      <th>furniture</th>\n",
       "    </tr>\n",
       "  </thead>\n",
       "  <tbody>\n",
       "    <tr>\n",
       "      <th>0</th>\n",
       "      <td>27500</td>\n",
       "      <td>35.0</td>\n",
       "      <td>5</td>\n",
       "      <td>1</td>\n",
       "      <td>3</td>\n",
       "      <td>1</td>\n",
       "      <td>1</td>\n",
       "    </tr>\n",
       "    <tr>\n",
       "      <th>1</th>\n",
       "      <td>29800</td>\n",
       "      <td>31.0</td>\n",
       "      <td>2</td>\n",
       "      <td>1</td>\n",
       "      <td>2</td>\n",
       "      <td>0</td>\n",
       "      <td>1</td>\n",
       "    </tr>\n",
       "    <tr>\n",
       "      <th>2</th>\n",
       "      <td>32000</td>\n",
       "      <td>30.0</td>\n",
       "      <td>4</td>\n",
       "      <td>1</td>\n",
       "      <td>3</td>\n",
       "      <td>1</td>\n",
       "      <td>1</td>\n",
       "    </tr>\n",
       "    <tr>\n",
       "      <th>3</th>\n",
       "      <td>50000</td>\n",
       "      <td>55.0</td>\n",
       "      <td>1</td>\n",
       "      <td>2</td>\n",
       "      <td>3</td>\n",
       "      <td>1</td>\n",
       "      <td>1</td>\n",
       "    </tr>\n",
       "    <tr>\n",
       "      <th>...</th>\n",
       "      <td>...</td>\n",
       "      <td>...</td>\n",
       "      <td>...</td>\n",
       "      <td>...</td>\n",
       "      <td>...</td>\n",
       "      <td>...</td>\n",
       "      <td>...</td>\n",
       "    </tr>\n",
       "    <tr>\n",
       "      <th>126</th>\n",
       "      <td>47800</td>\n",
       "      <td>54.0</td>\n",
       "      <td>1</td>\n",
       "      <td>2</td>\n",
       "      <td>1</td>\n",
       "      <td>1</td>\n",
       "      <td>1</td>\n",
       "    </tr>\n",
       "    <tr>\n",
       "      <th>127</th>\n",
       "      <td>34200</td>\n",
       "      <td>54.0</td>\n",
       "      <td>3</td>\n",
       "      <td>2</td>\n",
       "      <td>2</td>\n",
       "      <td>0</td>\n",
       "      <td>1</td>\n",
       "    </tr>\n",
       "    <tr>\n",
       "      <th>128</th>\n",
       "      <td>20800</td>\n",
       "      <td>12.0</td>\n",
       "      <td>4</td>\n",
       "      <td>1</td>\n",
       "      <td>3</td>\n",
       "      <td>1</td>\n",
       "      <td>0</td>\n",
       "    </tr>\n",
       "    <tr>\n",
       "      <th>129</th>\n",
       "      <td>34200</td>\n",
       "      <td>68.0</td>\n",
       "      <td>4</td>\n",
       "      <td>2</td>\n",
       "      <td>2</td>\n",
       "      <td>0</td>\n",
       "      <td>1</td>\n",
       "    </tr>\n",
       "  </tbody>\n",
       "</table>\n",
       "<p>130 rows × 7 columns</p>\n",
       "</div>"
      ],
      "text/plain": [
       "      rent     s  floor  rooms  district  walls  furniture\n",
       "0    27500  35.0      5      1         3      1          1\n",
       "1    29800  31.0      2      1         2      0          1\n",
       "2    32000  30.0      4      1         3      1          1\n",
       "3    50000  55.0      1      2         3      1          1\n",
       "..     ...   ...    ...    ...       ...    ...        ...\n",
       "126  47800  54.0      1      2         1      1          1\n",
       "127  34200  54.0      3      2         2      0          1\n",
       "128  20800  12.0      4      1         3      1          0\n",
       "129  34200  68.0      4      2         2      0          1\n",
       "\n",
       "[130 rows x 7 columns]"
      ]
     },
     "execution_count": 2,
     "metadata": {},
     "output_type": "execute_result"
    }
   ],
   "source": [
    "df = pd.read_csv(\"../data/Ap_Rent_2023.csv\", sep=';')\n",
    "df"
   ]
  },
  {
   "cell_type": "code",
   "execution_count": 3,
   "id": "0a5f1411",
   "metadata": {},
   "outputs": [
    {
     "data": {
      "text/html": [
       "<div>\n",
       "<style scoped>\n",
       "    .dataframe tbody tr th:only-of-type {\n",
       "        vertical-align: middle;\n",
       "    }\n",
       "\n",
       "    .dataframe tbody tr th {\n",
       "        vertical-align: top;\n",
       "    }\n",
       "\n",
       "    .dataframe thead th {\n",
       "        text-align: right;\n",
       "    }\n",
       "</style>\n",
       "<table border=\"1\" class=\"dataframe\">\n",
       "  <thead>\n",
       "    <tr style=\"text-align: right;\">\n",
       "      <th></th>\n",
       "      <th>rent</th>\n",
       "      <th>s</th>\n",
       "      <th>floor</th>\n",
       "      <th>rooms</th>\n",
       "    </tr>\n",
       "  </thead>\n",
       "  <tbody>\n",
       "    <tr>\n",
       "      <th>count</th>\n",
       "      <td>130.000000</td>\n",
       "      <td>130.000000</td>\n",
       "      <td>130.000000</td>\n",
       "      <td>130.000000</td>\n",
       "    </tr>\n",
       "    <tr>\n",
       "      <th>mean</th>\n",
       "      <td>31837.692308</td>\n",
       "      <td>36.439231</td>\n",
       "      <td>4.153846</td>\n",
       "      <td>1.376923</td>\n",
       "    </tr>\n",
       "    <tr>\n",
       "      <th>std</th>\n",
       "      <td>8412.175242</td>\n",
       "      <td>15.753831</td>\n",
       "      <td>2.680569</td>\n",
       "      <td>0.613358</td>\n",
       "    </tr>\n",
       "    <tr>\n",
       "      <th>min</th>\n",
       "      <td>18500.000000</td>\n",
       "      <td>11.000000</td>\n",
       "      <td>1.000000</td>\n",
       "      <td>1.000000</td>\n",
       "    </tr>\n",
       "    <tr>\n",
       "      <th>25%</th>\n",
       "      <td>25200.000000</td>\n",
       "      <td>21.250000</td>\n",
       "      <td>2.000000</td>\n",
       "      <td>1.000000</td>\n",
       "    </tr>\n",
       "    <tr>\n",
       "      <th>50%</th>\n",
       "      <td>32000.000000</td>\n",
       "      <td>36.000000</td>\n",
       "      <td>3.000000</td>\n",
       "      <td>1.000000</td>\n",
       "    </tr>\n",
       "    <tr>\n",
       "      <th>75%</th>\n",
       "      <td>36500.000000</td>\n",
       "      <td>45.000000</td>\n",
       "      <td>5.000000</td>\n",
       "      <td>2.000000</td>\n",
       "    </tr>\n",
       "    <tr>\n",
       "      <th>max</th>\n",
       "      <td>50000.000000</td>\n",
       "      <td>70.000000</td>\n",
       "      <td>12.000000</td>\n",
       "      <td>3.000000</td>\n",
       "    </tr>\n",
       "  </tbody>\n",
       "</table>\n",
       "</div>"
      ],
      "text/plain": [
       "               rent           s       floor       rooms\n",
       "count    130.000000  130.000000  130.000000  130.000000\n",
       "mean   31837.692308   36.439231    4.153846    1.376923\n",
       "std     8412.175242   15.753831    2.680569    0.613358\n",
       "min    18500.000000   11.000000    1.000000    1.000000\n",
       "25%    25200.000000   21.250000    2.000000    1.000000\n",
       "50%    32000.000000   36.000000    3.000000    1.000000\n",
       "75%    36500.000000   45.000000    5.000000    2.000000\n",
       "max    50000.000000   70.000000   12.000000    3.000000"
      ]
     },
     "execution_count": 3,
     "metadata": {},
     "output_type": "execute_result"
    }
   ],
   "source": [
    "df.drop(['walls','furniture','district'],axis=1).describe()"
   ]
  },
  {
   "cell_type": "code",
   "execution_count": 4,
   "id": "b4f25f62",
   "metadata": {},
   "outputs": [
    {
     "data": {
      "text/plain": [
       "ShapiroResult(statistic=np.float64(0.9487043312214398), pvalue=np.float64(9.023533207396696e-05))"
      ]
     },
     "execution_count": 4,
     "metadata": {},
     "output_type": "execute_result"
    }
   ],
   "source": [
    "stats.shapiro(df['rent'])"
   ]
  },
  {
   "cell_type": "code",
   "execution_count": 5,
   "id": "298b6502",
   "metadata": {},
   "outputs": [
    {
     "data": {
      "text/plain": [
       "ShapiroResult(statistic=np.float64(0.9606575659311349), pvalue=np.float64(0.0008220715748812157))"
      ]
     },
     "execution_count": 5,
     "metadata": {},
     "output_type": "execute_result"
    }
   ],
   "source": [
    "stats.shapiro(df['s'])"
   ]
  },
  {
   "cell_type": "markdown",
   "id": "fe6d37ce",
   "metadata": {},
   "source": [
    "## Связь целевого показателя rent и категориальных факторов"
   ]
  },
  {
   "cell_type": "code",
   "execution_count": 6,
   "id": "abdebc2a",
   "metadata": {},
   "outputs": [
    {
     "data": {
      "image/png": "[encoded data removed]",
      "text/plain": [
       "<Figure size 600x600 with 1 Axes>"
      ]
     },
     "metadata": {},
     "output_type": "display_data"
    }
   ],
   "source": [
    "f, ax = plt.subplots(figsize=(6, 6))\n",
    "fig = sns.boxplot(x='walls', y='rent', data=df)"
   ]
  },
  {
   "cell_type": "code",
   "execution_count": 7,
   "id": "11831c8c",
   "metadata": {},
   "outputs": [
    {
     "data": {
      "image/png": "[encoded data removed]",
      "text/plain": [
       "<Figure size 600x600 with 1 Axes>"
      ]
     },
     "metadata": {},
     "output_type": "display_data"
    }
   ],
   "source": [
    "f, ax = plt.subplots(figsize=(6, 6))\n",
    "fig = sns.boxplot(x='furniture', y='rent', data=df)"
   ]
  },
  {
   "cell_type": "code",
   "execution_count": 8,
   "id": "e6bbbacc",
   "metadata": {},
   "outputs": [
    {
     "data": {
      "image/png": "[encoded data removed]",
      "text/plain": [
       "<Figure size 600x600 with 1 Axes>"
      ]
     },
     "metadata": {},
     "output_type": "display_data"
    }
   ],
   "source": [
    "f, ax = plt.subplots(figsize=(6, 6))\n",
    "fig = sns.boxplot(x='district', y='rent', data=df)"
   ]
  },
  {
   "cell_type": "code",
   "execution_count": 9,
   "id": "973bb0ff",
   "metadata": {},
   "outputs": [
    {
     "data": {
      "text/html": [
       "<div>\n",
       "<style scoped>\n",
       "    .dataframe tbody tr th:only-of-type {\n",
       "        vertical-align: middle;\n",
       "    }\n",
       "\n",
       "    .dataframe tbody tr th {\n",
       "        vertical-align: top;\n",
       "    }\n",
       "\n",
       "    .dataframe thead th {\n",
       "        text-align: right;\n",
       "    }\n",
       "</style>\n",
       "<table border=\"1\" class=\"dataframe\">\n",
       "  <thead>\n",
       "    <tr style=\"text-align: right;\">\n",
       "      <th></th>\n",
       "      <th>rent</th>\n",
       "      <th>s</th>\n",
       "      <th>floor</th>\n",
       "      <th>rooms</th>\n",
       "      <th>district</th>\n",
       "      <th>walls</th>\n",
       "      <th>furniture</th>\n",
       "    </tr>\n",
       "  </thead>\n",
       "  <tbody>\n",
       "    <tr>\n",
       "      <th>37</th>\n",
       "      <td>50000</td>\n",
       "      <td>64.0</td>\n",
       "      <td>3</td>\n",
       "      <td>3</td>\n",
       "      <td>2</td>\n",
       "      <td>0</td>\n",
       "      <td>1</td>\n",
       "    </tr>\n",
       "  </tbody>\n",
       "</table>\n",
       "</div>"
      ],
      "text/plain": [
       "     rent     s  floor  rooms  district  walls  furniture\n",
       "37  50000  64.0      3      3         2      0          1"
      ]
     },
     "execution_count": 9,
     "metadata": {},
     "output_type": "execute_result"
    }
   ],
   "source": [
    "df.loc[(df['rent'] == 50000) & (df['district'] == 2)]"
   ]
  },
  {
   "cell_type": "code",
   "execution_count": 10,
   "id": "24892f6d",
   "metadata": {},
   "outputs": [],
   "source": [
    "df=df.drop(df.index[[37]])"
   ]
  },
  {
   "cell_type": "code",
   "execution_count": 11,
   "id": "db0822d5",
   "metadata": {},
   "outputs": [
    {
     "data": {
      "image/png": "[encoded data removed]",
      "text/plain": [
       "<Figure size 600x600 with 1 Axes>"
      ]
     },
     "metadata": {},
     "output_type": "display_data"
    }
   ],
   "source": [
    "f, ax = plt.subplots(figsize=(6, 6))\n",
    "fig = sns.boxplot(x='rooms', y='rent', data=df)"
   ]
  },
  {
   "cell_type": "markdown",
   "id": "0183ce57",
   "metadata": {},
   "source": [
    "# Корреляционный анализ"
   ]
  },
  {
   "cell_type": "markdown",
   "id": "836782d3",
   "metadata": {},
   "source": [
    "## Связь целевого показателя rent с количественным показателем площади"
   ]
  },
  {
   "cell_type": "code",
   "execution_count": 12,
   "id": "bcf4ce3c",
   "metadata": {},
   "outputs": [
    {
     "data": {
      "text/plain": [
       "<Axes: xlabel='s', ylabel='rent'>"
      ]
     },
     "execution_count": 12,
     "metadata": {},
     "output_type": "execute_result"
    },
    {
     "data": {
      "image/png": "[encoded data removed]",
      "text/plain": [
       "<Figure size 640x480 with 1 Axes>"
      ]
     },
     "metadata": {},
     "output_type": "display_data"
    }
   ],
   "source": [
    "df.plot('s','rent',kind=\"scatter\")"
   ]
  },
  {
   "cell_type": "code",
   "execution_count": 13,
   "id": "3e51145c",
   "metadata": {},
   "outputs": [
    {
     "data": {
      "text/plain": [
       "<Axes: xlabel='rooms', ylabel='rent'>"
      ]
     },
     "execution_count": 13,
     "metadata": {},
     "output_type": "execute_result"
    },
    {
     "data": {
      "image/png": "[encoded data removed]",
      "text/plain": [
       "<Figure size 640x480 with 1 Axes>"
      ]
     },
     "metadata": {},
     "output_type": "display_data"
    }
   ],
   "source": [
    "df.plot('rooms','rent',kind=\"scatter\")"
   ]
  },
  {
   "cell_type": "code",
   "execution_count": 14,
   "id": "8f9a84d2",
   "metadata": {},
   "outputs": [
    {
     "data": {
      "image/png": "[encoded data removed]",
      "text/plain": [
       "<Figure size 600x600 with 1 Axes>"
      ]
     },
     "metadata": {},
     "output_type": "display_data"
    }
   ],
   "source": [
    "f, ax = plt.subplots(figsize=(6, 6))\n",
    "fig = sns.boxplot(x='rooms', y='rent', data=df)"
   ]
  },
  {
   "cell_type": "code",
   "execution_count": 15,
   "id": "b521378b",
   "metadata": {},
   "outputs": [
    {
     "data": {
      "text/html": [
       "<div>\n",
       "<style scoped>\n",
       "    .dataframe tbody tr th:only-of-type {\n",
       "        vertical-align: middle;\n",
       "    }\n",
       "\n",
       "    .dataframe tbody tr th {\n",
       "        vertical-align: top;\n",
       "    }\n",
       "\n",
       "    .dataframe thead th {\n",
       "        text-align: right;\n",
       "    }\n",
       "</style>\n",
       "<table border=\"1\" class=\"dataframe\">\n",
       "  <thead>\n",
       "    <tr style=\"text-align: right;\">\n",
       "      <th></th>\n",
       "      <th>rent</th>\n",
       "      <th>s</th>\n",
       "      <th>rooms</th>\n",
       "    </tr>\n",
       "  </thead>\n",
       "  <tbody>\n",
       "    <tr>\n",
       "      <th>rent</th>\n",
       "      <td>1.000000</td>\n",
       "      <td>0.829161</td>\n",
       "      <td>0.592600</td>\n",
       "    </tr>\n",
       "    <tr>\n",
       "      <th>s</th>\n",
       "      <td>0.829161</td>\n",
       "      <td>1.000000</td>\n",
       "      <td>0.730449</td>\n",
       "    </tr>\n",
       "    <tr>\n",
       "      <th>rooms</th>\n",
       "      <td>0.592600</td>\n",
       "      <td>0.730449</td>\n",
       "      <td>1.000000</td>\n",
       "    </tr>\n",
       "  </tbody>\n",
       "</table>\n",
       "</div>"
      ],
      "text/plain": [
       "           rent         s     rooms\n",
       "rent   1.000000  0.829161  0.592600\n",
       "s      0.829161  1.000000  0.730449\n",
       "rooms  0.592600  0.730449  1.000000"
      ]
     },
     "execution_count": 15,
     "metadata": {},
     "output_type": "execute_result"
    }
   ],
   "source": [
    "df[['rent','s','rooms']].corr(method='pearson') # количественная корреляция Пирсона"
   ]
  },
  {
   "cell_type": "code",
   "execution_count": null,
   "id": "6bd3fa8a",
   "metadata": {},
   "outputs": [
    {
     "data": {
      "text/html": [
       "<div>\n",
       "<style scoped>\n",
       "    .dataframe tbody tr th:only-of-type {\n",
       "        vertical-align: middle;\n",
       "    }\n",
       "\n",
       "    .dataframe tbody tr th {\n",
       "        vertical-align: top;\n",
       "    }\n",
       "\n",
       "    .dataframe thead th {\n",
       "        text-align: right;\n",
       "    }\n",
       "</style>\n",
       "<table border=\"1\" class=\"dataframe\">\n",
       "  <thead>\n",
       "    <tr style=\"text-align: right;\">\n",
       "      <th></th>\n",
       "      <th>rent</th>\n",
       "      <th>s</th>\n",
       "      <th>rooms</th>\n",
       "    </tr>\n",
       "  </thead>\n",
       "  <tbody>\n",
       "    <tr>\n",
       "      <th>rent</th>\n",
       "      <td>1.000000</td>\n",
       "      <td>0.829161</td>\n",
       "      <td>0.592600</td>\n",
       "    </tr>\n",
       "    <tr>\n",
       "      <th>s</th>\n",
       "      <td>0.829161</td>\n",
       "      <td>1.000000</td>\n",
       "      <td>0.730449</td>\n",
       "    </tr>\n",
       "    <tr>\n",
       "      <th>rooms</th>\n",
       "      <td>0.592600</td>\n",
       "      <td>0.730449</td>\n",
       "      <td>1.000000</td>\n",
       "    </tr>\n",
       "  </tbody>\n",
       "</table>\n",
       "</div>"
      ],
      "text/plain": [
       "           rent         s     rooms\n",
       "rent   1.000000  0.829161  0.592600\n",
       "s      0.829161  1.000000  0.730449\n",
       "rooms  0.592600  0.730449  1.000000"
      ]
     },
     "execution_count": 16,
     "metadata": {},
     "output_type": "execute_result"
    }
   ],
   "source": [
    "df[['rent','s','rooms']].corr() # то же самое, по умолчанию Пирсон. Надо следить чтобы все факторы были количественными!!"
   ]
  },
  {
   "cell_type": "code",
   "execution_count": 17,
   "id": "9aaf823a",
   "metadata": {},
   "outputs": [
    {
     "data": {
      "image/png": "[encoded data removed]",
      "text/plain": [
       "<Figure size 640x480 with 2 Axes>"
      ]
     },
     "metadata": {},
     "output_type": "display_data"
    }
   ],
   "source": [
    "num = ['rent', 's', 'rooms']\n",
    "hm = sns.heatmap(df[num].corr(),annot=True)"
   ]
  },
  {
   "cell_type": "code",
   "execution_count": 18,
   "id": "f6083efa",
   "metadata": {},
   "outputs": [
    {
     "data": {
      "text/html": [
       "<div>\n",
       "<style scoped>\n",
       "    .dataframe tbody tr th:only-of-type {\n",
       "        vertical-align: middle;\n",
       "    }\n",
       "\n",
       "    .dataframe tbody tr th {\n",
       "        vertical-align: top;\n",
       "    }\n",
       "\n",
       "    .dataframe thead th {\n",
       "        text-align: right;\n",
       "    }\n",
       "</style>\n",
       "<table border=\"1\" class=\"dataframe\">\n",
       "  <thead>\n",
       "    <tr style=\"text-align: right;\">\n",
       "      <th></th>\n",
       "      <th>rent</th>\n",
       "      <th>s</th>\n",
       "      <th>rooms</th>\n",
       "      <th>floor</th>\n",
       "    </tr>\n",
       "  </thead>\n",
       "  <tbody>\n",
       "    <tr>\n",
       "      <th>rent</th>\n",
       "      <td>1.000000</td>\n",
       "      <td>0.857035</td>\n",
       "      <td>0.599251</td>\n",
       "      <td>0.383969</td>\n",
       "    </tr>\n",
       "    <tr>\n",
       "      <th>s</th>\n",
       "      <td>0.857035</td>\n",
       "      <td>1.000000</td>\n",
       "      <td>0.715424</td>\n",
       "      <td>0.413951</td>\n",
       "    </tr>\n",
       "    <tr>\n",
       "      <th>rooms</th>\n",
       "      <td>0.599251</td>\n",
       "      <td>0.715424</td>\n",
       "      <td>1.000000</td>\n",
       "      <td>0.158063</td>\n",
       "    </tr>\n",
       "    <tr>\n",
       "      <th>floor</th>\n",
       "      <td>0.383969</td>\n",
       "      <td>0.413951</td>\n",
       "      <td>0.158063</td>\n",
       "      <td>1.000000</td>\n",
       "    </tr>\n",
       "  </tbody>\n",
       "</table>\n",
       "</div>"
      ],
      "text/plain": [
       "           rent         s     rooms     floor\n",
       "rent   1.000000  0.857035  0.599251  0.383969\n",
       "s      0.857035  1.000000  0.715424  0.413951\n",
       "rooms  0.599251  0.715424  1.000000  0.158063\n",
       "floor  0.383969  0.413951  0.158063  1.000000"
      ]
     },
     "execution_count": 18,
     "metadata": {},
     "output_type": "execute_result"
    }
   ],
   "source": [
    "df[['rent','s','rooms','floor']].corr(method='spearman') # ранговая корреляция Спирмена"
   ]
  },
  {
   "cell_type": "code",
   "execution_count": 19,
   "id": "8990fe8c",
   "metadata": {},
   "outputs": [
    {
     "data": {
      "image/png": "[encoded data removed]",
      "text/plain": [
       "<Figure size 640x480 with 2 Axes>"
      ]
     },
     "metadata": {},
     "output_type": "display_data"
    }
   ],
   "source": [
    "ran = ['rent', 's','rooms','floor']\n",
    "hm = sns.heatmap(df[ran].corr(method = 'spearman'), annot=True)"
   ]
  },
  {
   "cell_type": "markdown",
   "id": "9fe628eb",
   "metadata": {},
   "source": [
    "### Проверка значимости корреляции"
   ]
  },
  {
   "cell_type": "code",
   "execution_count": null,
   "id": "9b5aea2c",
   "metadata": {},
   "outputs": [
    {
     "data": {
      "text/plain": [
       "PearsonRResult(statistic=np.float64(0.8291605778493312), pvalue=np.float64(7.101707498392363e-34))"
      ]
     },
     "execution_count": 25,
     "metadata": {},
     "output_type": "execute_result"
    }
   ],
   "source": [
    "scipy.stats.pearsonr(df.rent, df.s) \n",
    "# С вероятностью почти = 0 (pvalue=np.float64(7.101707498392363e-34)) истинность нулевой гипотезы\n",
    "# следовательно можем отвергнуть нулевую гипотезу что корреляция равна 0\n",
    "# следовательно связь статестически значимая \n",
    "# statistic=np.float64(0.8291605778493312) следовательно связь очень значимая"
   ]
  },
  {
   "cell_type": "code",
   "execution_count": 26,
   "id": "c3be7d94",
   "metadata": {},
   "outputs": [
    {
     "data": {
      "text/plain": [
       "PearsonRResult(statistic=np.float64(0.5926001358217224), pvalue=np.float64(1.382008874275996e-13))"
      ]
     },
     "execution_count": 26,
     "metadata": {},
     "output_type": "execute_result"
    }
   ],
   "source": [
    "scipy.stats.pearsonr(df.rent, df.rooms)\n",
    "# pvalue=np.float64(1.382008874275996e-13) также отклоняем нулевую гипотезу \n",
    "# следовательно показатели связаны"
   ]
  },
  {
   "cell_type": "code",
   "execution_count": null,
   "id": "292061b6",
   "metadata": {},
   "outputs": [
    {
     "data": {
      "text/plain": [
       "SignificanceResult(statistic=np.float64(0.38396878193353856), pvalue=np.float64(7.0550083304872275e-06))"
      ]
     },
     "execution_count": 27,
     "metadata": {},
     "output_type": "execute_result"
    }
   ],
   "source": [
    "scipy.stats.spearmanr(df.rent, df.floor)\n",
    "# используем Спирмена так как этаж ранговый показатель\n",
    "# pvalue=np.float64(7.0550083304872275e-06) следователньо связь есть \n",
    "# statistic=np.float64(0.38396878193353856) связь досточно значимая"
   ]
  },
  {
   "cell_type": "code",
   "execution_count": null,
   "id": "63cfbdbc",
   "metadata": {},
   "outputs": [
    {
     "data": {
      "text/plain": [
       "PearsonRResult(statistic=np.float64(0.7304486159283048), pvalue=np.float64(8.94366027103074e-23))"
      ]
     },
     "execution_count": 23,
     "metadata": {},
     "output_type": "execute_result"
    }
   ],
   "source": [
    "scipy.stats.pearsonr(df.s, df.rooms)\n",
    "# очевидно связь есть => будет проблема для регрессионной модели"
   ]
  },
  {
   "cell_type": "code",
   "execution_count": null,
   "id": "68090841",
   "metadata": {},
   "outputs": [
    {
     "data": {
      "text/plain": [
       "SignificanceResult(statistic=np.float64(0.15806284415685032), pvalue=np.float64(0.07360852836026584))"
      ]
     },
     "execution_count": 24,
     "metadata": {},
     "output_type": "execute_result"
    }
   ],
   "source": [
    "scipy.stats.spearmanr(df.rooms, df.floor)\n",
    "# pvalue=np.float64(0.07360852836026584) > 0.05 следовательно нет оснований отклонить нулевую гипотезу\n",
    "# принимаем нулевую гипотезу => свять статистически не значимая"
   ]
  },
  {
   "cell_type": "markdown",
   "id": "2f4eaed5",
   "metadata": {},
   "source": [
    "## Связь категориальных признаков друг с другом"
   ]
  },
  {
   "cell_type": "code",
   "execution_count": null,
   "id": "ebf45b63",
   "metadata": {},
   "outputs": [
    {
     "data": {
      "text/html": [
       "<div>\n",
       "<style scoped>\n",
       "    .dataframe tbody tr th:only-of-type {\n",
       "        vertical-align: middle;\n",
       "    }\n",
       "\n",
       "    .dataframe tbody tr th {\n",
       "        vertical-align: top;\n",
       "    }\n",
       "\n",
       "    .dataframe thead th {\n",
       "        text-align: right;\n",
       "    }\n",
       "</style>\n",
       "<table border=\"1\" class=\"dataframe\">\n",
       "  <thead>\n",
       "    <tr style=\"text-align: right;\">\n",
       "      <th>furniture</th>\n",
       "      <th>0</th>\n",
       "      <th>1</th>\n",
       "    </tr>\n",
       "    <tr>\n",
       "      <th>walls</th>\n",
       "      <th></th>\n",
       "      <th></th>\n",
       "    </tr>\n",
       "  </thead>\n",
       "  <tbody>\n",
       "    <tr>\n",
       "      <th>0</th>\n",
       "      <td>7</td>\n",
       "      <td>42</td>\n",
       "    </tr>\n",
       "    <tr>\n",
       "      <th>1</th>\n",
       "      <td>14</td>\n",
       "      <td>66</td>\n",
       "    </tr>\n",
       "  </tbody>\n",
       "</table>\n",
       "</div>"
      ],
      "text/plain": [
       "furniture   0   1\n",
       "walls            \n",
       "0           7  42\n",
       "1          14  66"
      ]
     },
     "execution_count": 31,
     "metadata": {},
     "output_type": "execute_result"
    }
   ],
   "source": [
    "# два бинарных показателя\n",
    "WF=pd.crosstab(df['walls'],df['furniture']); WF\n",
    "# для хи2 надо чтобы каждая частота была не меньше 5, наше самое маленькое =7, \n",
    "# следовательно можно его применять"
   ]
  },
  {
   "cell_type": "code",
   "execution_count": 29,
   "id": "47fc6f4a",
   "metadata": {},
   "outputs": [
    {
     "data": {
      "image/png": "[encoded data removed]",
      "text/plain": [
       "<Figure size 640x480 with 1 Axes>"
      ]
     },
     "metadata": {},
     "output_type": "display_data"
    }
   ],
   "source": [
    "sns.countplot(x=df['walls'], hue=df['furniture']);"
   ]
  },
  {
   "cell_type": "code",
   "execution_count": null,
   "id": "df4ccc4a",
   "metadata": {},
   "outputs": [
    {
     "name": "stdout",
     "output_type": "stream",
     "text": [
      "test Statistics: 0.054879585762876604\n",
      "degrees of freedom: 1\n",
      "p-value: 0.8147800917238359\n",
      "\n"
     ]
    }
   ],
   "source": [
    "chi2, prob, f, expected = scipy.stats.chi2_contingency(WF)\n",
    " \n",
    "print(f\"test Statistics: {chi2}\\ndegrees of freedom: {f}\\np-value: {prob}\\n\")\n",
    "# p-value: 0.81478 с большой вероятностью надо принять нулевую гипотезу\n",
    "# нулевая гипотеза о том что признаки независимы "
   ]
  },
  {
   "cell_type": "code",
   "execution_count": 33,
   "id": "d58ef3f7",
   "metadata": {},
   "outputs": [
    {
     "data": {
      "text/plain": [
       "SignificanceResult(statistic=np.float64(0.7857142857142857), pvalue=np.float64(0.8066490085960722))"
      ]
     },
     "execution_count": 33,
     "metadata": {},
     "output_type": "execute_result"
    }
   ],
   "source": [
    "# если бы мы не могли применить хи2 (хотя бы 1 частота меньше или равна 5), \n",
    "# то применяем критерий Фишера\n",
    "stats.fisher_exact(WF)"
   ]
  },
  {
   "cell_type": "code",
   "execution_count": 34,
   "id": "e89df710",
   "metadata": {},
   "outputs": [
    {
     "data": {
      "text/html": [
       "<div>\n",
       "<style scoped>\n",
       "    .dataframe tbody tr th:only-of-type {\n",
       "        vertical-align: middle;\n",
       "    }\n",
       "\n",
       "    .dataframe tbody tr th {\n",
       "        vertical-align: top;\n",
       "    }\n",
       "\n",
       "    .dataframe thead th {\n",
       "        text-align: right;\n",
       "    }\n",
       "</style>\n",
       "<table border=\"1\" class=\"dataframe\">\n",
       "  <thead>\n",
       "    <tr style=\"text-align: right;\">\n",
       "      <th>district</th>\n",
       "      <th>1</th>\n",
       "      <th>2</th>\n",
       "      <th>3</th>\n",
       "    </tr>\n",
       "    <tr>\n",
       "      <th>walls</th>\n",
       "      <th></th>\n",
       "      <th></th>\n",
       "      <th></th>\n",
       "    </tr>\n",
       "  </thead>\n",
       "  <tbody>\n",
       "    <tr>\n",
       "      <th>0</th>\n",
       "      <td>9</td>\n",
       "      <td>23</td>\n",
       "      <td>17</td>\n",
       "    </tr>\n",
       "    <tr>\n",
       "      <th>1</th>\n",
       "      <td>29</td>\n",
       "      <td>20</td>\n",
       "      <td>31</td>\n",
       "    </tr>\n",
       "  </tbody>\n",
       "</table>\n",
       "</div>"
      ],
      "text/plain": [
       "district   1   2   3\n",
       "walls               \n",
       "0          9  23  17\n",
       "1         29  20  31"
      ]
     },
     "execution_count": 34,
     "metadata": {},
     "output_type": "execute_result"
    }
   ],
   "source": [
    "WD=pd.crosstab(df['walls'],df['district']); WD"
   ]
  },
  {
   "cell_type": "code",
   "execution_count": 35,
   "id": "c5f793a6",
   "metadata": {},
   "outputs": [
    {
     "data": {
      "text/plain": [
       "<Axes: xlabel='district', ylabel='count'>"
      ]
     },
     "execution_count": 35,
     "metadata": {},
     "output_type": "execute_result"
    },
    {
     "data": {
      "image/png": "[encoded data removed]",
      "text/plain": [
       "<Figure size 640x480 with 1 Axes>"
      ]
     },
     "metadata": {},
     "output_type": "display_data"
    }
   ],
   "source": [
    "sns.countplot(x=df['district'], hue=df['walls'])"
   ]
  },
  {
   "cell_type": "code",
   "execution_count": null,
   "id": "4c01617b",
   "metadata": {},
   "outputs": [
    {
     "name": "stdout",
     "output_type": "stream",
     "text": [
      "test Statistics: 7.820993051825996\n",
      "degrees of freedom: 2\n",
      "p-value: 0.020030552903560955\n",
      "\n"
     ]
    }
   ],
   "source": [
    "chi2, prob, f, expected = scipy.stats.chi2_contingency(WD)\n",
    " \n",
    "print(f\"test Statistics: {chi2}\\ndegrees of freedom: {f}\\np-value: {prob}\\n\")\n",
    "# p-value: 0.02 надо отказаться от нулевой гипотезы \n",
    "# нулевая гипотеза о том что признаки независимы \n",
    "# следовательно признаки зависимы с большой вероятностью"
   ]
  },
  {
   "cell_type": "markdown",
   "id": "7bdb4c2f",
   "metadata": {},
   "source": [
    "зависимые признаки в регрессионной модели будут соревноваться за то чтобы влиять на целевую\n",
    "поэтому придется исключить какой-то из признаков, чтобы мультиколленеарность не мешала построению модели"
   ]
  },
  {
   "cell_type": "markdown",
   "id": "3f1c1b79",
   "metadata": {},
   "source": [
    "### Проверка корреляции количественного показателя с категориальным фактором путем проверки ПДС и расчета корреляционного отношения"
   ]
  },
  {
   "cell_type": "code",
   "execution_count": 37,
   "id": "f2fbd496",
   "metadata": {},
   "outputs": [],
   "source": [
    "df_w0 = df[df['walls']==0]\n",
    "df_w1 = df[df['walls']==1]"
   ]
  },
  {
   "cell_type": "code",
   "execution_count": 38,
   "id": "dfe29b50",
   "metadata": {},
   "outputs": [
    {
     "data": {
      "text/plain": [
       "np.float64(31696.899224806202)"
      ]
     },
     "execution_count": 38,
     "metadata": {},
     "output_type": "execute_result"
    }
   ],
   "source": [
    "# Общее среднее\n",
    "m=df['rent'].mean(); m"
   ]
  },
  {
   "cell_type": "code",
   "execution_count": 39,
   "id": "36a546bd",
   "metadata": {},
   "outputs": [
    {
     "data": {
      "text/html": [
       "<div>\n",
       "<style scoped>\n",
       "    .dataframe tbody tr th:only-of-type {\n",
       "        vertical-align: middle;\n",
       "    }\n",
       "\n",
       "    .dataframe tbody tr th {\n",
       "        vertical-align: top;\n",
       "    }\n",
       "\n",
       "    .dataframe thead th {\n",
       "        text-align: right;\n",
       "    }\n",
       "</style>\n",
       "<table border=\"1\" class=\"dataframe\">\n",
       "  <thead>\n",
       "    <tr style=\"text-align: right;\">\n",
       "      <th></th>\n",
       "      <th>rent</th>\n",
       "    </tr>\n",
       "    <tr>\n",
       "      <th>walls</th>\n",
       "      <th></th>\n",
       "    </tr>\n",
       "  </thead>\n",
       "  <tbody>\n",
       "    <tr>\n",
       "      <th>0</th>\n",
       "      <td>31312.244898</td>\n",
       "    </tr>\n",
       "    <tr>\n",
       "      <th>1</th>\n",
       "      <td>31932.500000</td>\n",
       "    </tr>\n",
       "  </tbody>\n",
       "</table>\n",
       "</div>"
      ],
      "text/plain": [
       "               rent\n",
       "walls              \n",
       "0      31312.244898\n",
       "1      31932.500000"
      ]
     },
     "execution_count": 39,
     "metadata": {},
     "output_type": "execute_result"
    }
   ],
   "source": [
    "# Частные внутригрупповые средние\n",
    "m_gr=df.groupby('walls')[['rent']].mean(); m_gr"
   ]
  },
  {
   "cell_type": "code",
   "execution_count": 40,
   "id": "278d4179",
   "metadata": {},
   "outputs": [
    {
     "name": "stdout",
     "output_type": "stream",
     "text": [
      "129 49 80\n"
     ]
    }
   ],
   "source": [
    "# Объемы совокупностей\n",
    "n=df['rent'].shape[0]\n",
    "n0=df_w0.shape[0]\n",
    "n1=df_w1.shape[0]\n",
    "print(n, n0, n1)"
   ]
  },
  {
   "cell_type": "code",
   "execution_count": 41,
   "id": "38d51789",
   "metadata": {},
   "outputs": [],
   "source": [
    "m0=m_gr.iloc[0,0]\n",
    "m1=m_gr.iloc[1,0]"
   ]
  },
  {
   "cell_type": "code",
   "execution_count": 53,
   "id": "2c62860d",
   "metadata": {},
   "outputs": [
    {
     "data": {
      "text/plain": [
       "np.True_"
      ]
     },
     "execution_count": 53,
     "metadata": {},
     "output_type": "execute_result"
    }
   ],
   "source": [
    "# Проверка \n",
    "m == (m0*n0+m1*n1)/n"
   ]
  },
  {
   "cell_type": "code",
   "execution_count": 43,
   "id": "9b56f1ba",
   "metadata": {},
   "outputs": [
    {
     "data": {
      "text/plain": [
       "np.float64(68187742.3231777)"
      ]
     },
     "execution_count": 43,
     "metadata": {},
     "output_type": "execute_result"
    }
   ],
   "source": [
    "# Общая исперсия\n",
    "d=df['rent'].var()*(n-1)/n; d"
   ]
  },
  {
   "cell_type": "code",
   "execution_count": 44,
   "id": "581a449b",
   "metadata": {},
   "outputs": [
    {
     "data": {
      "text/html": [
       "<div>\n",
       "<style scoped>\n",
       "    .dataframe tbody tr th:only-of-type {\n",
       "        vertical-align: middle;\n",
       "    }\n",
       "\n",
       "    .dataframe tbody tr th {\n",
       "        vertical-align: top;\n",
       "    }\n",
       "\n",
       "    .dataframe thead th {\n",
       "        text-align: right;\n",
       "    }\n",
       "</style>\n",
       "<table border=\"1\" class=\"dataframe\">\n",
       "  <thead>\n",
       "    <tr style=\"text-align: right;\">\n",
       "      <th></th>\n",
       "      <th>rent</th>\n",
       "    </tr>\n",
       "    <tr>\n",
       "      <th>walls</th>\n",
       "      <th></th>\n",
       "    </tr>\n",
       "  </thead>\n",
       "  <tbody>\n",
       "    <tr>\n",
       "      <th>0</th>\n",
       "      <td>4.950360e+07</td>\n",
       "    </tr>\n",
       "    <tr>\n",
       "      <th>1</th>\n",
       "      <td>8.111842e+07</td>\n",
       "    </tr>\n",
       "  </tbody>\n",
       "</table>\n",
       "</div>"
      ],
      "text/plain": [
       "               rent\n",
       "walls              \n",
       "0      4.950360e+07\n",
       "1      8.111842e+07"
      ]
     },
     "execution_count": 44,
     "metadata": {},
     "output_type": "execute_result"
    }
   ],
   "source": [
    "# Частные внутригрупповые дисперсии\n",
    "d_gr=df.groupby('walls')[['rent']].var(); d_gr"
   ]
  },
  {
   "cell_type": "code",
   "execution_count": 45,
   "id": "2b4a4fff",
   "metadata": {},
   "outputs": [],
   "source": [
    "d0=d_gr.iloc[0,0]*(n0-1)/n0\n",
    "d1=d_gr.iloc[1,0]*(n1-1)/n1"
   ]
  },
  {
   "cell_type": "code",
   "execution_count": null,
   "id": "fe094d8b",
   "metadata": {},
   "outputs": [
    {
     "data": {
      "text/plain": [
       "np.float64(68097117.46559086)"
      ]
     },
     "execution_count": 46,
     "metadata": {},
     "output_type": "execute_result"
    }
   ],
   "source": [
    "# Средняя внутригрупповая дисперсия\n",
    "d_gr_ = (d0*n0+d1*n1)/n; d_gr_"
   ]
  },
  {
   "cell_type": "code",
   "execution_count": 47,
   "id": "6db2440d",
   "metadata": {},
   "outputs": [
    {
     "data": {
      "text/plain": [
       "np.float64(90624.85758680642)"
      ]
     },
     "execution_count": 47,
     "metadata": {},
     "output_type": "execute_result"
    }
   ],
   "source": [
    "# Межгрупповая дисперсия\n",
    "d_int = (n0*(m0-m)**2+n1*(m1-m)**2)/n; d_int"
   ]
  },
  {
   "cell_type": "code",
   "execution_count": 48,
   "id": "2fc9a783",
   "metadata": {},
   "outputs": [
    {
     "data": {
      "text/plain": [
       "np.float64(68187742.32317767)"
      ]
     },
     "execution_count": 48,
     "metadata": {},
     "output_type": "execute_result"
    }
   ],
   "source": [
    "d_gr_ + d_int"
   ]
  },
  {
   "cell_type": "code",
   "execution_count": 56,
   "id": "40317808",
   "metadata": {},
   "outputs": [
    {
     "data": {
      "text/plain": [
       "np.float64(2.9802322387695312e-08)"
      ]
     },
     "execution_count": 56,
     "metadata": {},
     "output_type": "execute_result"
    }
   ],
   "source": [
    "d - (d_gr_ + d_int) # Почти равны"
   ]
  },
  {
   "cell_type": "code",
   "execution_count": 49,
   "id": "14e4075c",
   "metadata": {},
   "outputs": [
    {
     "data": {
      "text/plain": [
       "np.float64(0.0013290491003102492)"
      ]
     },
     "execution_count": 49,
     "metadata": {},
     "output_type": "execute_result"
    }
   ],
   "source": [
    "# Коффициент детерминации\n",
    "d_int/d"
   ]
  },
  {
   "cell_type": "code",
   "execution_count": 50,
   "id": "7a218424",
   "metadata": {},
   "outputs": [
    {
     "data": {
      "text/plain": [
       "np.float64(0.03645612568979662)"
      ]
     },
     "execution_count": 50,
     "metadata": {},
     "output_type": "execute_result"
    }
   ],
   "source": [
    "# Корреляцинное отношения\n",
    "np.sqrt(d_int/d)"
   ]
  },
  {
   "cell_type": "markdown",
   "id": "b8a3cf0b",
   "metadata": {},
   "source": [
    "Задание. проверить на уровне значимости 0.05 статистическую значимость связи площади и этажа, выбрав корректный коэффициент для анализа связи."
   ]
  },
  {
   "cell_type": "code",
   "execution_count": 52,
   "id": "33d12ade",
   "metadata": {},
   "outputs": [
    {
     "data": {
      "text/plain": [
       "PearsonRResult(statistic=np.float64(0.7304486159283048), pvalue=np.float64(8.94366027103074e-23))"
      ]
     },
     "execution_count": 52,
     "metadata": {},
     "output_type": "execute_result"
    }
   ],
   "source": [
    "scipy.stats.pearsonr(df.s, df.rooms)\n",
    "# С вероятностью почти = 0 (pvalue=np.float64(8.94366027103074e-23)) истинность нулевой гипотезы\n",
    "# следовательно можем отвергнуть нулевую гипотезу что корреляция равна 0\n",
    "# следовательно связь статестически значимая \n",
    "# statistic=np.float64(0.7304486159283048) следовательно связь очень значимая"
   ]
  },
  {
   "cell_type": "markdown",
   "id": "897fbd30",
   "metadata": {},
   "source": [
    "# Задание 2\n",
    "\n",
    "Dutch sensory modality norms\n",
    "Laura J. Speed1 & Marc Brybaert 2"
   ]
  },
  {
   "cell_type": "code",
   "execution_count": null,
   "id": "18592459",
   "metadata": {},
   "outputs": [
    {
     "data": {
      "text/html": [
       "<div>\n",
       "<style scoped>\n",
       "    .dataframe tbody tr th:only-of-type {\n",
       "        vertical-align: middle;\n",
       "    }\n",
       "\n",
       "    .dataframe tbody tr th {\n",
       "        vertical-align: top;\n",
       "    }\n",
       "\n",
       "    .dataframe thead th {\n",
       "        text-align: right;\n",
       "    }\n",
       "</style>\n",
       "<table border=\"1\" class=\"dataframe\">\n",
       "  <thead>\n",
       "    <tr style=\"text-align: right;\">\n",
       "      <th></th>\n",
       "      <th>Woord</th>\n",
       "      <th>Horen</th>\n",
       "      <th>Zien</th>\n",
       "      <th>Ruiken</th>\n",
       "      <th>Proeven</th>\n",
       "      <th>Voelen</th>\n",
       "      <th>Sensaties</th>\n",
       "      <th>Modality</th>\n",
       "      <th>ModalityExclusivity</th>\n",
       "      <th>MaxPercStrength</th>\n",
       "      <th>...</th>\n",
       "      <th>Prevalence</th>\n",
       "      <th>Length</th>\n",
       "      <th>Nsyl</th>\n",
       "      <th>N_phonemes</th>\n",
       "      <th>PoS</th>\n",
       "      <th>OLD20</th>\n",
       "      <th>DLP_RT</th>\n",
       "      <th>DLP_Acc</th>\n",
       "      <th>DCP_RT</th>\n",
       "      <th>DCP_Acc</th>\n",
       "    </tr>\n",
       "  </thead>\n",
       "  <tbody>\n",
       "    <tr>\n",
       "      <th>0</th>\n",
       "      <td>aai</td>\n",
       "      <td>0.2</td>\n",
       "      <td>3.1</td>\n",
       "      <td>0.00</td>\n",
       "      <td>0.00</td>\n",
       "      <td>4.40</td>\n",
       "      <td>0.80</td>\n",
       "      <td>Voelen</td>\n",
       "      <td>0.517647</td>\n",
       "      <td>4.40</td>\n",
       "      <td>...</td>\n",
       "      <td>1.714174</td>\n",
       "      <td>3</td>\n",
       "      <td>1</td>\n",
       "      <td>2</td>\n",
       "      <td>N</td>\n",
       "      <td>1.00</td>\n",
       "      <td>537.85</td>\n",
       "      <td>0.95000</td>\n",
       "      <td>1024.92</td>\n",
       "      <td>0.97</td>\n",
       "    </tr>\n",
       "    <tr>\n",
       "      <th>1</th>\n",
       "      <td>aaien</td>\n",
       "      <td>0.0</td>\n",
       "      <td>2.7</td>\n",
       "      <td>0.00</td>\n",
       "      <td>0.00</td>\n",
       "      <td>4.90</td>\n",
       "      <td>0.90</td>\n",
       "      <td>Voelen</td>\n",
       "      <td>0.576471</td>\n",
       "      <td>4.90</td>\n",
       "      <td>...</td>\n",
       "      <td>2.586581</td>\n",
       "      <td>5</td>\n",
       "      <td>2</td>\n",
       "      <td>3</td>\n",
       "      <td>WW</td>\n",
       "      <td>1.25</td>\n",
       "      <td>571.50</td>\n",
       "      <td>0.95122</td>\n",
       "      <td>991.05</td>\n",
       "      <td>1.00</td>\n",
       "    </tr>\n",
       "    <tr>\n",
       "      <th>2</th>\n",
       "      <td>aal</td>\n",
       "      <td>0.0</td>\n",
       "      <td>3.4</td>\n",
       "      <td>0.90</td>\n",
       "      <td>0.30</td>\n",
       "      <td>1.40</td>\n",
       "      <td>0.40</td>\n",
       "      <td>Zien</td>\n",
       "      <td>0.531250</td>\n",
       "      <td>3.40</td>\n",
       "      <td>...</td>\n",
       "      <td>1.830408</td>\n",
       "      <td>3</td>\n",
       "      <td>1</td>\n",
       "      <td>2</td>\n",
       "      <td>N</td>\n",
       "      <td>1.00</td>\n",
       "      <td>613.63</td>\n",
       "      <td>0.80000</td>\n",
       "      <td>1075.17</td>\n",
       "      <td>0.97</td>\n",
       "    </tr>\n",
       "    <tr>\n",
       "      <th>3</th>\n",
       "      <td>aalbes</td>\n",
       "      <td>0.0</td>\n",
       "      <td>4.0</td>\n",
       "      <td>1.92</td>\n",
       "      <td>4.17</td>\n",
       "      <td>2.92</td>\n",
       "      <td>0.25</td>\n",
       "      <td>Proeven</td>\n",
       "      <td>0.314465</td>\n",
       "      <td>4.17</td>\n",
       "      <td>...</td>\n",
       "      <td>1.562257</td>\n",
       "      <td>6</td>\n",
       "      <td>2</td>\n",
       "      <td>5</td>\n",
       "      <td>N</td>\n",
       "      <td>2.00</td>\n",
       "      <td>593.23</td>\n",
       "      <td>0.82500</td>\n",
       "      <td>1041.53</td>\n",
       "      <td>0.96</td>\n",
       "    </tr>\n",
       "    <tr>\n",
       "      <th>4</th>\n",
       "      <td>aalmoes</td>\n",
       "      <td>0.5</td>\n",
       "      <td>2.9</td>\n",
       "      <td>0.00</td>\n",
       "      <td>0.00</td>\n",
       "      <td>1.50</td>\n",
       "      <td>0.30</td>\n",
       "      <td>Zien</td>\n",
       "      <td>0.557692</td>\n",
       "      <td>2.90</td>\n",
       "      <td>...</td>\n",
       "      <td>2.192199</td>\n",
       "      <td>7</td>\n",
       "      <td>2</td>\n",
       "      <td>5</td>\n",
       "      <td>N</td>\n",
       "      <td>2.55</td>\n",
       "      <td>634.01</td>\n",
       "      <td>0.92500</td>\n",
       "      <td>953.61</td>\n",
       "      <td>0.98</td>\n",
       "    </tr>\n",
       "  </tbody>\n",
       "</table>\n",
       "<p>5 rows × 28 columns</p>\n",
       "</div>"
      ],
      "text/plain": [
       "     Woord  Horen  Zien  Ruiken  Proeven  Voelen  Sensaties Modality  \\\n",
       "0      aai    0.2   3.1    0.00     0.00    4.40       0.80   Voelen   \n",
       "1    aaien    0.0   2.7    0.00     0.00    4.90       0.90   Voelen   \n",
       "2      aal    0.0   3.4    0.90     0.30    1.40       0.40     Zien   \n",
       "3   aalbes    0.0   4.0    1.92     4.17    2.92       0.25  Proeven   \n",
       "4  aalmoes    0.5   2.9    0.00     0.00    1.50       0.30     Zien   \n",
       "\n",
       "   ModalityExclusivity  MaxPercStrength  ...  Prevalence  Length  Nsyl  \\\n",
       "0             0.517647             4.40  ...    1.714174       3     1   \n",
       "1             0.576471             4.90  ...    2.586581       5     2   \n",
       "2             0.531250             3.40  ...    1.830408       3     1   \n",
       "3             0.314465             4.17  ...    1.562257       6     2   \n",
       "4             0.557692             2.90  ...    2.192199       7     2   \n",
       "\n",
       "  N_phonemes PoS OLD20  DLP_RT  DLP_Acc   DCP_RT  DCP_Acc  \n",
       "0          2   N  1.00  537.85  0.95000  1024.92     0.97  \n",
       "1          3  WW  1.25  571.50  0.95122   991.05     1.00  \n",
       "2          2   N  1.00  613.63  0.80000  1075.17     0.97  \n",
       "3          5   N  2.00  593.23  0.82500  1041.53     0.96  \n",
       "4          5   N  2.55  634.01  0.92500   953.61     0.98  \n",
       "\n",
       "[5 rows x 28 columns]"
      ]
     },
     "execution_count": 60,
     "metadata": {},
     "output_type": "execute_result"
    }
   ],
   "source": [
    "file_path = '../data/SpeedBrysbaert_Norms.csv'  \n",
    "df_sb = pd.read_csv(file_path, sep=';')\n",
    "\n",
    "df_sb.head()\n",
    "# почти все оценки (оценочные показатели) ранговые, \n",
    "# принято допущение что разницы между рангами равны, \n",
    "# принятая интервальность дает нам право считать среднее, \n",
    "# следовательно можно с этой оговоркой работать с ними как с количественной величиной"
   ]
  },
  {
   "cell_type": "code",
   "execution_count": 61,
   "id": "05017bbb",
   "metadata": {},
   "outputs": [
    {
     "name": "stdout",
     "output_type": "stream",
     "text": [
      "<class 'pandas.core.frame.DataFrame'>\n",
      "RangeIndex: 24036 entries, 0 to 24035\n",
      "Data columns (total 28 columns):\n",
      " #   Column                Non-Null Count  Dtype  \n",
      "---  ------                --------------  -----  \n",
      " 0   Woord                 24036 non-null  object \n",
      " 1   Horen                 24036 non-null  float64\n",
      " 2   Zien                  24036 non-null  float64\n",
      " 3   Ruiken                24036 non-null  float64\n",
      " 4   Proeven               24036 non-null  float64\n",
      " 5   Voelen                24036 non-null  float64\n",
      " 6   Sensaties             24036 non-null  float64\n",
      " 7   Modality              24036 non-null  object \n",
      " 8   ModalityExclusivity   24036 non-null  float64\n",
      " 9   MaxPercStrength       24036 non-null  float64\n",
      " 10  AvModalityStrength    24036 non-null  float64\n",
      " 11  Minkowski3            24036 non-null  float64\n",
      " 12  Concreteness          24036 non-null  float64\n",
      " 13  ConcretenessCategory  24036 non-null  object \n",
      " 14  Imageability          24036 non-null  object \n",
      " 15  ImageabilityCategory  24036 non-null  object \n",
      " 16  SourceImageability    24036 non-null  object \n",
      " 17  Frequency             24036 non-null  int64  \n",
      " 18  Prevalence            24036 non-null  float64\n",
      " 19  Length                24036 non-null  int64  \n",
      " 20  Nsyl                  24036 non-null  int64  \n",
      " 21  N_phonemes            24036 non-null  int64  \n",
      " 22  PoS                   24036 non-null  object \n",
      " 23  OLD20                 24036 non-null  float64\n",
      " 24  DLP_RT                24036 non-null  float64\n",
      " 25  DLP_Acc               24036 non-null  float64\n",
      " 26  DCP_RT                24036 non-null  float64\n",
      " 27  DCP_Acc               24036 non-null  float64\n",
      "dtypes: float64(17), int64(4), object(7)\n",
      "memory usage: 5.1+ MB\n"
     ]
    }
   ],
   "source": [
    "df_sb.info()"
   ]
  },
  {
   "cell_type": "code",
   "execution_count": 62,
   "id": "d144d218",
   "metadata": {},
   "outputs": [
    {
     "data": {
      "text/plain": [
       "Modality\n",
       "Zien         17498\n",
       "Horen         2567\n",
       "Sensaties     2026\n",
       "Proeven        613\n",
       "Voelen         589\n",
       "Joint          582\n",
       "Ruiken         161\n",
       "Name: count, dtype: int64"
      ]
     },
     "execution_count": 62,
     "metadata": {},
     "output_type": "execute_result"
    }
   ],
   "source": [
    "df_sb['Modality'].value_counts()"
   ]
  },
  {
   "cell_type": "code",
   "execution_count": 63,
   "id": "4b793456",
   "metadata": {},
   "outputs": [
    {
     "data": {
      "text/plain": [
       "<Axes: >"
      ]
     },
     "execution_count": 63,
     "metadata": {},
     "output_type": "execute_result"
    },
    {
     "data": {
      "image/png": "[encoded data removed]",
      "text/plain": [
       "<Figure size 640x480 with 1 Axes>"
      ]
     },
     "metadata": {},
     "output_type": "display_data"
    }
   ],
   "source": [
    "df_sb['ModalityExclusivity'].hist()"
   ]
  },
  {
   "cell_type": "code",
   "execution_count": 64,
   "id": "8dd50944",
   "metadata": {},
   "outputs": [
    {
     "data": {
      "text/plain": [
       "count    24036.000000\n",
       "mean         0.497316\n",
       "std          0.142674\n",
       "min          0.025316\n",
       "25%          0.394366\n",
       "50%          0.478261\n",
       "75%          0.581081\n",
       "max          1.000000\n",
       "Name: ModalityExclusivity, dtype: float64"
      ]
     },
     "execution_count": 64,
     "metadata": {},
     "output_type": "execute_result"
    }
   ],
   "source": [
    "# Описательные статистики\n",
    "df_sb['ModalityExclusivity'].describe()"
   ]
  },
  {
   "cell_type": "code",
   "execution_count": 65,
   "id": "6331c474",
   "metadata": {},
   "outputs": [
    {
     "data": {
      "image/png": "[encoded data removed]",
      "text/plain": [
       "<Figure size 600x600 with 1 Axes>"
      ]
     },
     "metadata": {},
     "output_type": "display_data"
    }
   ],
   "source": [
    "f, ax = plt.subplots(figsize=(6, 6))\n",
    "fig = sns.boxplot(y=\"ModalityExclusivity\", data=df_sb)"
   ]
  },
  {
   "cell_type": "code",
   "execution_count": 67,
   "id": "406bfe3f",
   "metadata": {},
   "outputs": [
    {
     "data": {
      "text/plain": [
       "<Axes: >"
      ]
     },
     "execution_count": 67,
     "metadata": {},
     "output_type": "execute_result"
    },
    {
     "data": {
      "image/png": "[encoded data removed]",
      "text/plain": [
       "<Figure size 640x480 with 1 Axes>"
      ]
     },
     "metadata": {},
     "output_type": "display_data"
    }
   ],
   "source": [
    "df_sb['Concreteness'].hist()"
   ]
  },
  {
   "cell_type": "code",
   "execution_count": 68,
   "id": "ecf46c74",
   "metadata": {},
   "outputs": [
    {
     "data": {
      "text/plain": [
       "count    24036.000000\n",
       "mean         3.021016\n",
       "std          1.019765\n",
       "min          1.000000\n",
       "25%          2.133333\n",
       "50%          2.933333\n",
       "75%          3.866667\n",
       "max          5.000000\n",
       "Name: Concreteness, dtype: float64"
      ]
     },
     "execution_count": 68,
     "metadata": {},
     "output_type": "execute_result"
    }
   ],
   "source": [
    "# Описательные статистики\n",
    "df_sb['Concreteness'].describe()"
   ]
  },
  {
   "cell_type": "code",
   "execution_count": 69,
   "id": "edd72718",
   "metadata": {},
   "outputs": [
    {
     "data": {
      "image/png": "[encoded data removed]",
      "text/plain": [
       "<Figure size 600x600 with 1 Axes>"
      ]
     },
     "metadata": {},
     "output_type": "display_data"
    }
   ],
   "source": [
    "f, ax = plt.subplots(figsize=(6, 6))\n",
    "fig = sns.boxplot(y=\"Concreteness\", data=df_sb)"
   ]
  },
  {
   "cell_type": "code",
   "execution_count": 70,
   "id": "1b12bc1c",
   "metadata": {},
   "outputs": [
    {
     "data": {
      "text/html": [
       "<div>\n",
       "<style scoped>\n",
       "    .dataframe tbody tr th:only-of-type {\n",
       "        vertical-align: middle;\n",
       "    }\n",
       "\n",
       "    .dataframe tbody tr th {\n",
       "        vertical-align: top;\n",
       "    }\n",
       "\n",
       "    .dataframe thead th {\n",
       "        text-align: right;\n",
       "    }\n",
       "</style>\n",
       "<table border=\"1\" class=\"dataframe\">\n",
       "  <thead>\n",
       "    <tr style=\"text-align: right;\">\n",
       "      <th></th>\n",
       "      <th>Horen</th>\n",
       "      <th>Zien</th>\n",
       "      <th>Ruiken</th>\n",
       "      <th>Proeven</th>\n",
       "      <th>Voelen</th>\n",
       "      <th>Sensaties</th>\n",
       "    </tr>\n",
       "  </thead>\n",
       "  <tbody>\n",
       "    <tr>\n",
       "      <th>0</th>\n",
       "      <td>0.20</td>\n",
       "      <td>3.10</td>\n",
       "      <td>0.00</td>\n",
       "      <td>0.00</td>\n",
       "      <td>4.40</td>\n",
       "      <td>0.80</td>\n",
       "    </tr>\n",
       "    <tr>\n",
       "      <th>1</th>\n",
       "      <td>0.00</td>\n",
       "      <td>2.70</td>\n",
       "      <td>0.00</td>\n",
       "      <td>0.00</td>\n",
       "      <td>4.90</td>\n",
       "      <td>0.90</td>\n",
       "    </tr>\n",
       "    <tr>\n",
       "      <th>2</th>\n",
       "      <td>0.00</td>\n",
       "      <td>3.40</td>\n",
       "      <td>0.90</td>\n",
       "      <td>0.30</td>\n",
       "      <td>1.40</td>\n",
       "      <td>0.40</td>\n",
       "    </tr>\n",
       "    <tr>\n",
       "      <th>3</th>\n",
       "      <td>0.00</td>\n",
       "      <td>4.00</td>\n",
       "      <td>1.92</td>\n",
       "      <td>4.17</td>\n",
       "      <td>2.92</td>\n",
       "      <td>0.25</td>\n",
       "    </tr>\n",
       "    <tr>\n",
       "      <th>...</th>\n",
       "      <td>...</td>\n",
       "      <td>...</td>\n",
       "      <td>...</td>\n",
       "      <td>...</td>\n",
       "      <td>...</td>\n",
       "      <td>...</td>\n",
       "    </tr>\n",
       "    <tr>\n",
       "      <th>24032</th>\n",
       "      <td>3.25</td>\n",
       "      <td>4.25</td>\n",
       "      <td>2.25</td>\n",
       "      <td>1.00</td>\n",
       "      <td>2.50</td>\n",
       "      <td>0.25</td>\n",
       "    </tr>\n",
       "    <tr>\n",
       "      <th>24033</th>\n",
       "      <td>0.92</td>\n",
       "      <td>3.92</td>\n",
       "      <td>2.58</td>\n",
       "      <td>0.25</td>\n",
       "      <td>1.17</td>\n",
       "      <td>0.50</td>\n",
       "    </tr>\n",
       "    <tr>\n",
       "      <th>24034</th>\n",
       "      <td>1.08</td>\n",
       "      <td>2.58</td>\n",
       "      <td>0.17</td>\n",
       "      <td>0.00</td>\n",
       "      <td>1.50</td>\n",
       "      <td>1.67</td>\n",
       "    </tr>\n",
       "    <tr>\n",
       "      <th>24035</th>\n",
       "      <td>1.08</td>\n",
       "      <td>2.25</td>\n",
       "      <td>0.42</td>\n",
       "      <td>0.17</td>\n",
       "      <td>1.25</td>\n",
       "      <td>2.08</td>\n",
       "    </tr>\n",
       "  </tbody>\n",
       "</table>\n",
       "<p>24036 rows × 6 columns</p>\n",
       "</div>"
      ],
      "text/plain": [
       "       Horen  Zien  Ruiken  Proeven  Voelen  Sensaties\n",
       "0       0.20  3.10    0.00     0.00    4.40       0.80\n",
       "1       0.00  2.70    0.00     0.00    4.90       0.90\n",
       "2       0.00  3.40    0.90     0.30    1.40       0.40\n",
       "3       0.00  4.00    1.92     4.17    2.92       0.25\n",
       "...      ...   ...     ...      ...     ...        ...\n",
       "24032   3.25  4.25    2.25     1.00    2.50       0.25\n",
       "24033   0.92  3.92    2.58     0.25    1.17       0.50\n",
       "24034   1.08  2.58    0.17     0.00    1.50       1.67\n",
       "24035   1.08  2.25    0.42     0.17    1.25       2.08\n",
       "\n",
       "[24036 rows x 6 columns]"
      ]
     },
     "execution_count": 70,
     "metadata": {},
     "output_type": "execute_result"
    }
   ],
   "source": [
    "X=df_sb[['Horen','Zien','Ruiken','Proeven','Voelen','Sensaties']]\n",
    "X"
   ]
  },
  {
   "cell_type": "code",
   "execution_count": 71,
   "id": "51bd0246",
   "metadata": {},
   "outputs": [
    {
     "data": {
      "text/html": [
       "<div>\n",
       "<style scoped>\n",
       "    .dataframe tbody tr th:only-of-type {\n",
       "        vertical-align: middle;\n",
       "    }\n",
       "\n",
       "    .dataframe tbody tr th {\n",
       "        vertical-align: top;\n",
       "    }\n",
       "\n",
       "    .dataframe thead th {\n",
       "        text-align: right;\n",
       "    }\n",
       "</style>\n",
       "<table border=\"1\" class=\"dataframe\">\n",
       "  <thead>\n",
       "    <tr style=\"text-align: right;\">\n",
       "      <th></th>\n",
       "      <th>Concreteness</th>\n",
       "    </tr>\n",
       "  </thead>\n",
       "  <tbody>\n",
       "    <tr>\n",
       "      <th>0</th>\n",
       "      <td>4.071429</td>\n",
       "    </tr>\n",
       "    <tr>\n",
       "      <th>1</th>\n",
       "      <td>4.133333</td>\n",
       "    </tr>\n",
       "    <tr>\n",
       "      <th>2</th>\n",
       "      <td>4.692308</td>\n",
       "    </tr>\n",
       "    <tr>\n",
       "      <th>3</th>\n",
       "      <td>4.733333</td>\n",
       "    </tr>\n",
       "    <tr>\n",
       "      <th>...</th>\n",
       "      <td>...</td>\n",
       "    </tr>\n",
       "    <tr>\n",
       "      <th>24032</th>\n",
       "      <td>4.600000</td>\n",
       "    </tr>\n",
       "    <tr>\n",
       "      <th>24033</th>\n",
       "      <td>3.000000</td>\n",
       "    </tr>\n",
       "    <tr>\n",
       "      <th>24034</th>\n",
       "      <td>2.866667</td>\n",
       "    </tr>\n",
       "    <tr>\n",
       "      <th>24035</th>\n",
       "      <td>2.533333</td>\n",
       "    </tr>\n",
       "  </tbody>\n",
       "</table>\n",
       "<p>24036 rows × 1 columns</p>\n",
       "</div>"
      ],
      "text/plain": [
       "       Concreteness\n",
       "0          4.071429\n",
       "1          4.133333\n",
       "2          4.692308\n",
       "3          4.733333\n",
       "...             ...\n",
       "24032      4.600000\n",
       "24033      3.000000\n",
       "24034      2.866667\n",
       "24035      2.533333\n",
       "\n",
       "[24036 rows x 1 columns]"
      ]
     },
     "execution_count": 71,
     "metadata": {},
     "output_type": "execute_result"
    }
   ],
   "source": [
    "Y=df_sb[['Concreteness']]\n",
    "Y"
   ]
  },
  {
   "cell_type": "code",
   "execution_count": 72,
   "id": "7b105aa7",
   "metadata": {},
   "outputs": [
    {
     "data": {
      "text/html": [
       "<div>\n",
       "<style scoped>\n",
       "    .dataframe tbody tr th:only-of-type {\n",
       "        vertical-align: middle;\n",
       "    }\n",
       "\n",
       "    .dataframe tbody tr th {\n",
       "        vertical-align: top;\n",
       "    }\n",
       "\n",
       "    .dataframe thead th {\n",
       "        text-align: right;\n",
       "    }\n",
       "</style>\n",
       "<table border=\"1\" class=\"dataframe\">\n",
       "  <thead>\n",
       "    <tr style=\"text-align: right;\">\n",
       "      <th></th>\n",
       "      <th>Horen</th>\n",
       "      <th>Zien</th>\n",
       "      <th>Ruiken</th>\n",
       "      <th>Proeven</th>\n",
       "      <th>Voelen</th>\n",
       "      <th>Sensaties</th>\n",
       "    </tr>\n",
       "  </thead>\n",
       "  <tbody>\n",
       "    <tr>\n",
       "      <th>Horen</th>\n",
       "      <td>1.000000</td>\n",
       "      <td>-0.090255</td>\n",
       "      <td>-0.126828</td>\n",
       "      <td>-0.162467</td>\n",
       "      <td>-0.156464</td>\n",
       "      <td>0.219187</td>\n",
       "    </tr>\n",
       "    <tr>\n",
       "      <th>Zien</th>\n",
       "      <td>-0.090255</td>\n",
       "      <td>1.000000</td>\n",
       "      <td>0.256869</td>\n",
       "      <td>0.153960</td>\n",
       "      <td>0.558252</td>\n",
       "      <td>-0.213318</td>\n",
       "    </tr>\n",
       "    <tr>\n",
       "      <th>Ruiken</th>\n",
       "      <td>-0.126828</td>\n",
       "      <td>0.256869</td>\n",
       "      <td>1.000000</td>\n",
       "      <td>0.697768</td>\n",
       "      <td>0.266620</td>\n",
       "      <td>-0.064437</td>\n",
       "    </tr>\n",
       "    <tr>\n",
       "      <th>Proeven</th>\n",
       "      <td>-0.162467</td>\n",
       "      <td>0.153960</td>\n",
       "      <td>0.697768</td>\n",
       "      <td>1.000000</td>\n",
       "      <td>0.212626</td>\n",
       "      <td>-0.041444</td>\n",
       "    </tr>\n",
       "    <tr>\n",
       "      <th>Voelen</th>\n",
       "      <td>-0.156464</td>\n",
       "      <td>0.558252</td>\n",
       "      <td>0.266620</td>\n",
       "      <td>0.212626</td>\n",
       "      <td>1.000000</td>\n",
       "      <td>-0.119524</td>\n",
       "    </tr>\n",
       "    <tr>\n",
       "      <th>Sensaties</th>\n",
       "      <td>0.219187</td>\n",
       "      <td>-0.213318</td>\n",
       "      <td>-0.064437</td>\n",
       "      <td>-0.041444</td>\n",
       "      <td>-0.119524</td>\n",
       "      <td>1.000000</td>\n",
       "    </tr>\n",
       "  </tbody>\n",
       "</table>\n",
       "</div>"
      ],
      "text/plain": [
       "              Horen      Zien    Ruiken   Proeven    Voelen  Sensaties\n",
       "Horen      1.000000 -0.090255 -0.126828 -0.162467 -0.156464   0.219187\n",
       "Zien      -0.090255  1.000000  0.256869  0.153960  0.558252  -0.213318\n",
       "Ruiken    -0.126828  0.256869  1.000000  0.697768  0.266620  -0.064437\n",
       "Proeven   -0.162467  0.153960  0.697768  1.000000  0.212626  -0.041444\n",
       "Voelen    -0.156464  0.558252  0.266620  0.212626  1.000000  -0.119524\n",
       "Sensaties  0.219187 -0.213318 -0.064437 -0.041444 -0.119524   1.000000"
      ]
     },
     "execution_count": 72,
     "metadata": {},
     "output_type": "execute_result"
    }
   ],
   "source": [
    "X.corr()"
   ]
  },
  {
   "cell_type": "code",
   "execution_count": 73,
   "id": "e919f2d9",
   "metadata": {},
   "outputs": [
    {
     "data": {
      "image/png": "[encoded data removed]",
      "text/plain": [
       "<Figure size 640x480 with 2 Axes>"
      ]
     },
     "metadata": {},
     "output_type": "display_data"
    }
   ],
   "source": [
    "hm = sns.heatmap(X.corr(),annot=True)"
   ]
  },
  {
   "cell_type": "code",
   "execution_count": 74,
   "id": "02f6604f",
   "metadata": {},
   "outputs": [
    {
     "data": {
      "text/html": [
       "<div>\n",
       "<style scoped>\n",
       "    .dataframe tbody tr th:only-of-type {\n",
       "        vertical-align: middle;\n",
       "    }\n",
       "\n",
       "    .dataframe tbody tr th {\n",
       "        vertical-align: top;\n",
       "    }\n",
       "\n",
       "    .dataframe thead th {\n",
       "        text-align: right;\n",
       "    }\n",
       "</style>\n",
       "<table border=\"1\" class=\"dataframe\">\n",
       "  <thead>\n",
       "    <tr style=\"text-align: right;\">\n",
       "      <th></th>\n",
       "      <th>Concreteness</th>\n",
       "      <th>Horen</th>\n",
       "      <th>Zien</th>\n",
       "      <th>Ruiken</th>\n",
       "      <th>Proeven</th>\n",
       "      <th>Voelen</th>\n",
       "      <th>Sensaties</th>\n",
       "    </tr>\n",
       "  </thead>\n",
       "  <tbody>\n",
       "    <tr>\n",
       "      <th>Concreteness</th>\n",
       "      <td>1.000000</td>\n",
       "      <td>-0.107000</td>\n",
       "      <td>0.695022</td>\n",
       "      <td>0.364797</td>\n",
       "      <td>0.271848</td>\n",
       "      <td>0.620741</td>\n",
       "      <td>-0.326970</td>\n",
       "    </tr>\n",
       "    <tr>\n",
       "      <th>Horen</th>\n",
       "      <td>-0.107000</td>\n",
       "      <td>1.000000</td>\n",
       "      <td>-0.090255</td>\n",
       "      <td>-0.126828</td>\n",
       "      <td>-0.162467</td>\n",
       "      <td>-0.156464</td>\n",
       "      <td>0.219187</td>\n",
       "    </tr>\n",
       "    <tr>\n",
       "      <th>Zien</th>\n",
       "      <td>0.695022</td>\n",
       "      <td>-0.090255</td>\n",
       "      <td>1.000000</td>\n",
       "      <td>0.256869</td>\n",
       "      <td>0.153960</td>\n",
       "      <td>0.558252</td>\n",
       "      <td>-0.213318</td>\n",
       "    </tr>\n",
       "    <tr>\n",
       "      <th>Ruiken</th>\n",
       "      <td>0.364797</td>\n",
       "      <td>-0.126828</td>\n",
       "      <td>0.256869</td>\n",
       "      <td>1.000000</td>\n",
       "      <td>0.697768</td>\n",
       "      <td>0.266620</td>\n",
       "      <td>-0.064437</td>\n",
       "    </tr>\n",
       "    <tr>\n",
       "      <th>Proeven</th>\n",
       "      <td>0.271848</td>\n",
       "      <td>-0.162467</td>\n",
       "      <td>0.153960</td>\n",
       "      <td>0.697768</td>\n",
       "      <td>1.000000</td>\n",
       "      <td>0.212626</td>\n",
       "      <td>-0.041444</td>\n",
       "    </tr>\n",
       "    <tr>\n",
       "      <th>Voelen</th>\n",
       "      <td>0.620741</td>\n",
       "      <td>-0.156464</td>\n",
       "      <td>0.558252</td>\n",
       "      <td>0.266620</td>\n",
       "      <td>0.212626</td>\n",
       "      <td>1.000000</td>\n",
       "      <td>-0.119524</td>\n",
       "    </tr>\n",
       "    <tr>\n",
       "      <th>Sensaties</th>\n",
       "      <td>-0.326970</td>\n",
       "      <td>0.219187</td>\n",
       "      <td>-0.213318</td>\n",
       "      <td>-0.064437</td>\n",
       "      <td>-0.041444</td>\n",
       "      <td>-0.119524</td>\n",
       "      <td>1.000000</td>\n",
       "    </tr>\n",
       "  </tbody>\n",
       "</table>\n",
       "</div>"
      ],
      "text/plain": [
       "              Concreteness     Horen      Zien    Ruiken   Proeven    Voelen  \\\n",
       "Concreteness      1.000000 -0.107000  0.695022  0.364797  0.271848  0.620741   \n",
       "Horen            -0.107000  1.000000 -0.090255 -0.126828 -0.162467 -0.156464   \n",
       "Zien              0.695022 -0.090255  1.000000  0.256869  0.153960  0.558252   \n",
       "Ruiken            0.364797 -0.126828  0.256869  1.000000  0.697768  0.266620   \n",
       "Proeven           0.271848 -0.162467  0.153960  0.697768  1.000000  0.212626   \n",
       "Voelen            0.620741 -0.156464  0.558252  0.266620  0.212626  1.000000   \n",
       "Sensaties        -0.326970  0.219187 -0.213318 -0.064437 -0.041444 -0.119524   \n",
       "\n",
       "              Sensaties  \n",
       "Concreteness  -0.326970  \n",
       "Horen          0.219187  \n",
       "Zien          -0.213318  \n",
       "Ruiken        -0.064437  \n",
       "Proeven       -0.041444  \n",
       "Voelen        -0.119524  \n",
       "Sensaties      1.000000  "
      ]
     },
     "execution_count": 74,
     "metadata": {},
     "output_type": "execute_result"
    }
   ],
   "source": [
    "df_sb[['Concreteness', 'Horen', 'Zien', 'Ruiken', 'Proeven', 'Voelen', 'Sensaties']].corr()"
   ]
  },
  {
   "cell_type": "code",
   "execution_count": 76,
   "id": "a3bb16cd",
   "metadata": {},
   "outputs": [
    {
     "name": "stdout",
     "output_type": "stream",
     "text": [
      "PearsonRResult(statistic=np.float64(0.1538869888128246), pvalue=np.float64(2.7953390947481165e-127))\n",
      "PearsonRResult(statistic=np.float64(0.8226024670745786), pvalue=np.float64(0.0))\n",
      "PearsonRResult(statistic=np.float64(0.33046383930435624), pvalue=np.float64(0.0))\n",
      "PearsonRResult(statistic=np.float64(0.2541278882077589), pvalue=np.float64(0.0))\n",
      "PearsonRResult(statistic=np.float64(0.5192688993827173), pvalue=np.float64(0.0))\n",
      "PearsonRResult(statistic=np.float64(-0.03484108704762927), pvalue=np.float64(6.554862582965985e-08))\n"
     ]
    }
   ],
   "source": [
    "for t in ['Horen', 'Zien', 'Ruiken', 'Proeven', 'Voelen', 'Sensaties']:\n",
    "    print(scipy.stats.pearsonr(df_sb.MaxPercStrength, df_sb[t]))\n"
   ]
  }
 ],
 "metadata": {
  "kernelspec": {
   "display_name": "pandas_kernel",
   "language": "python",
   "name": "pandas_kernel"
  },
  "language_info": {
   "codemirror_mode": {
    "name": "ipython",
    "version": 3
   },
   "file_extension": ".py",
   "mimetype": "text/x-python",
   "name": "python",
   "nbconvert_exporter": "python",
   "pygments_lexer": "ipython3",
   "version": "3.13.5"
  }
 },
 "nbformat": 4,
 "nbformat_minor": 5
}
