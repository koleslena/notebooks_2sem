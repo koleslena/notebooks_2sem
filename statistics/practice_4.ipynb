{
 "cells": [
  {
   "cell_type": "markdown",
   "id": "f3dec2e3",
   "metadata": {},
   "source": [
    "## Регрессионный анализ"
   ]
  },
  {
   "cell_type": "markdown",
   "id": "8a81bf06",
   "metadata": {},
   "source": [
    "### Парная регрессия\n",
    "построение модели "
   ]
  },
  {
   "cell_type": "code",
   "execution_count": 1,
   "id": "574b5850",
   "metadata": {},
   "outputs": [],
   "source": [
    "%matplotlib inline\n",
    "import numpy as np\n",
    "import pandas as pd\n",
    "import matplotlib.pyplot as plt\n",
    "import scipy\n",
    "import scipy.stats as stats\n",
    "import seaborn as sns\n",
    "import sklearn.linear_model as lm\n",
    "\n",
    "pd.options.display.max_rows = 8"
   ]
  },
  {
   "cell_type": "code",
   "execution_count": 2,
   "id": "6184d46a",
   "metadata": {},
   "outputs": [
    {
     "data": {
      "text/html": [
       "<div>\n",
       "<style scoped>\n",
       "    .dataframe tbody tr th:only-of-type {\n",
       "        vertical-align: middle;\n",
       "    }\n",
       "\n",
       "    .dataframe tbody tr th {\n",
       "        vertical-align: top;\n",
       "    }\n",
       "\n",
       "    .dataframe thead th {\n",
       "        text-align: right;\n",
       "    }\n",
       "</style>\n",
       "<table border=\"1\" class=\"dataframe\">\n",
       "  <thead>\n",
       "    <tr style=\"text-align: right;\">\n",
       "      <th></th>\n",
       "      <th>rent</th>\n",
       "      <th>s</th>\n",
       "      <th>floor</th>\n",
       "      <th>rooms</th>\n",
       "      <th>district</th>\n",
       "      <th>walls</th>\n",
       "      <th>furniture</th>\n",
       "    </tr>\n",
       "  </thead>\n",
       "  <tbody>\n",
       "    <tr>\n",
       "      <th>0</th>\n",
       "      <td>27500</td>\n",
       "      <td>35.0</td>\n",
       "      <td>5</td>\n",
       "      <td>1</td>\n",
       "      <td>3</td>\n",
       "      <td>1</td>\n",
       "      <td>1</td>\n",
       "    </tr>\n",
       "    <tr>\n",
       "      <th>1</th>\n",
       "      <td>29800</td>\n",
       "      <td>31.0</td>\n",
       "      <td>2</td>\n",
       "      <td>1</td>\n",
       "      <td>2</td>\n",
       "      <td>0</td>\n",
       "      <td>1</td>\n",
       "    </tr>\n",
       "    <tr>\n",
       "      <th>2</th>\n",
       "      <td>32000</td>\n",
       "      <td>30.0</td>\n",
       "      <td>4</td>\n",
       "      <td>1</td>\n",
       "      <td>3</td>\n",
       "      <td>1</td>\n",
       "      <td>1</td>\n",
       "    </tr>\n",
       "    <tr>\n",
       "      <th>3</th>\n",
       "      <td>50000</td>\n",
       "      <td>55.0</td>\n",
       "      <td>1</td>\n",
       "      <td>2</td>\n",
       "      <td>3</td>\n",
       "      <td>1</td>\n",
       "      <td>1</td>\n",
       "    </tr>\n",
       "    <tr>\n",
       "      <th>...</th>\n",
       "      <td>...</td>\n",
       "      <td>...</td>\n",
       "      <td>...</td>\n",
       "      <td>...</td>\n",
       "      <td>...</td>\n",
       "      <td>...</td>\n",
       "      <td>...</td>\n",
       "    </tr>\n",
       "    <tr>\n",
       "      <th>126</th>\n",
       "      <td>47800</td>\n",
       "      <td>54.0</td>\n",
       "      <td>1</td>\n",
       "      <td>2</td>\n",
       "      <td>1</td>\n",
       "      <td>1</td>\n",
       "      <td>1</td>\n",
       "    </tr>\n",
       "    <tr>\n",
       "      <th>127</th>\n",
       "      <td>34200</td>\n",
       "      <td>54.0</td>\n",
       "      <td>3</td>\n",
       "      <td>2</td>\n",
       "      <td>2</td>\n",
       "      <td>0</td>\n",
       "      <td>1</td>\n",
       "    </tr>\n",
       "    <tr>\n",
       "      <th>128</th>\n",
       "      <td>20800</td>\n",
       "      <td>12.0</td>\n",
       "      <td>4</td>\n",
       "      <td>1</td>\n",
       "      <td>3</td>\n",
       "      <td>1</td>\n",
       "      <td>0</td>\n",
       "    </tr>\n",
       "    <tr>\n",
       "      <th>129</th>\n",
       "      <td>34200</td>\n",
       "      <td>68.0</td>\n",
       "      <td>4</td>\n",
       "      <td>2</td>\n",
       "      <td>2</td>\n",
       "      <td>0</td>\n",
       "      <td>1</td>\n",
       "    </tr>\n",
       "  </tbody>\n",
       "</table>\n",
       "<p>130 rows × 7 columns</p>\n",
       "</div>"
      ],
      "text/plain": [
       "      rent     s  floor  rooms  district  walls  furniture\n",
       "0    27500  35.0      5      1         3      1          1\n",
       "1    29800  31.0      2      1         2      0          1\n",
       "2    32000  30.0      4      1         3      1          1\n",
       "3    50000  55.0      1      2         3      1          1\n",
       "..     ...   ...    ...    ...       ...    ...        ...\n",
       "126  47800  54.0      1      2         1      1          1\n",
       "127  34200  54.0      3      2         2      0          1\n",
       "128  20800  12.0      4      1         3      1          0\n",
       "129  34200  68.0      4      2         2      0          1\n",
       "\n",
       "[130 rows x 7 columns]"
      ]
     },
     "execution_count": 2,
     "metadata": {},
     "output_type": "execute_result"
    }
   ],
   "source": [
    "df = pd.read_csv(\"../data/Ap_Rent_2023.csv\", sep=';')\n",
    "df"
   ]
  },
  {
   "cell_type": "code",
   "execution_count": 3,
   "id": "dd90fe51",
   "metadata": {},
   "outputs": [
    {
     "data": {
      "image/png": "[encoded data removed]",
      "text/plain": [
       "<Figure size 600x600 with 1 Axes>"
      ]
     },
     "metadata": {},
     "output_type": "display_data"
    }
   ],
   "source": [
    "f, ax = plt.subplots(figsize=(6, 6))\n",
    "fig = sns.boxplot(x='district', y='rent', data=df)"
   ]
  },
  {
   "cell_type": "code",
   "execution_count": 4,
   "id": "00bcf8c0",
   "metadata": {},
   "outputs": [
    {
     "data": {
      "text/html": [
       "<div>\n",
       "<style scoped>\n",
       "    .dataframe tbody tr th:only-of-type {\n",
       "        vertical-align: middle;\n",
       "    }\n",
       "\n",
       "    .dataframe tbody tr th {\n",
       "        vertical-align: top;\n",
       "    }\n",
       "\n",
       "    .dataframe thead th {\n",
       "        text-align: right;\n",
       "    }\n",
       "</style>\n",
       "<table border=\"1\" class=\"dataframe\">\n",
       "  <thead>\n",
       "    <tr style=\"text-align: right;\">\n",
       "      <th></th>\n",
       "      <th>rent</th>\n",
       "      <th>s</th>\n",
       "      <th>floor</th>\n",
       "      <th>rooms</th>\n",
       "      <th>district</th>\n",
       "      <th>walls</th>\n",
       "      <th>furniture</th>\n",
       "    </tr>\n",
       "  </thead>\n",
       "  <tbody>\n",
       "    <tr>\n",
       "      <th>37</th>\n",
       "      <td>50000</td>\n",
       "      <td>64.0</td>\n",
       "      <td>3</td>\n",
       "      <td>3</td>\n",
       "      <td>2</td>\n",
       "      <td>0</td>\n",
       "      <td>1</td>\n",
       "    </tr>\n",
       "  </tbody>\n",
       "</table>\n",
       "</div>"
      ],
      "text/plain": [
       "     rent     s  floor  rooms  district  walls  furniture\n",
       "37  50000  64.0      3      3         2      0          1"
      ]
     },
     "execution_count": 4,
     "metadata": {},
     "output_type": "execute_result"
    }
   ],
   "source": [
    "df.loc[(df['rent'] == 50000) & (df['district'] == 2)]"
   ]
  },
  {
   "cell_type": "code",
   "execution_count": null,
   "id": "11e939b3",
   "metadata": {},
   "outputs": [],
   "source": [
    "df=df.drop(df.index[[37]])"
   ]
  },
  {
   "cell_type": "code",
   "execution_count": 7,
   "id": "67e5dffd",
   "metadata": {},
   "outputs": [
    {
     "data": {
      "text/plain": [
       "<seaborn.axisgrid.JointGrid at 0x122366510>"
      ]
     },
     "execution_count": 7,
     "metadata": {},
     "output_type": "execute_result"
    },
    {
     "data": {
      "image/png": "[encoded data removed]",
      "text/plain": [
       "<Figure size 600x600 with 3 Axes>"
      ]
     },
     "metadata": {},
     "output_type": "display_data"
    }
   ],
   "source": [
    "#sns.set(style=\"darkgrid\")\n",
    "sns.jointplot(x='s', y='rent', data=df, kind=\"reg\")"
   ]
  },
  {
   "cell_type": "code",
   "execution_count": 8,
   "id": "3ec93e0b",
   "metadata": {},
   "outputs": [],
   "source": [
    "LR = lm.LinearRegression()"
   ]
  },
  {
   "cell_type": "code",
   "execution_count": 9,
   "id": "0b355544",
   "metadata": {},
   "outputs": [],
   "source": [
    "mod1 = LR.fit(df[['s']],df[['rent']])"
   ]
  },
  {
   "cell_type": "code",
   "execution_count": 10,
   "id": "be6e7f4b",
   "metadata": {},
   "outputs": [
    {
     "data": {
      "text/plain": [
       "(array([15761.02115325]), array([[439.90675809]]))"
      ]
     },
     "execution_count": 10,
     "metadata": {},
     "output_type": "execute_result"
    }
   ],
   "source": [
    "mod1.intercept_, mod1.coef_"
   ]
  },
  {
   "cell_type": "code",
   "execution_count": 11,
   "id": "223886ed",
   "metadata": {},
   "outputs": [
    {
     "data": {
      "text/plain": [
       "0.6875072638594368"
      ]
     },
     "execution_count": 11,
     "metadata": {},
     "output_type": "execute_result"
    }
   ],
   "source": [
    "r2 = mod1.score(df[['s']],df[['rent']])\n",
    "r2"
   ]
  },
  {
   "cell_type": "markdown",
   "id": "898577e0",
   "metadata": {},
   "source": [
    "## Парная регрессия (OLS). Статистический подход."
   ]
  },
  {
   "cell_type": "code",
   "execution_count": 12,
   "id": "6ed5bc2b",
   "metadata": {},
   "outputs": [],
   "source": [
    "import statsmodels.api as sm\n",
    "import statsmodels.formula.api as smf"
   ]
  },
  {
   "cell_type": "code",
   "execution_count": 13,
   "id": "a1336e0d",
   "metadata": {},
   "outputs": [
    {
     "data": {
      "text/html": [
       "<table class=\"simpletable\">\n",
       "<caption>OLS Regression Results</caption>\n",
       "<tr>\n",
       "  <th>Dep. Variable:</th>          <td>rent</td>       <th>  R-squared:         </th> <td>   0.688</td>\n",
       "</tr>\n",
       "<tr>\n",
       "  <th>Model:</th>                   <td>OLS</td>       <th>  Adj. R-squared:    </th> <td>   0.685</td>\n",
       "</tr>\n",
       "<tr>\n",
       "  <th>Method:</th>             <td>Least Squares</td>  <th>  F-statistic:       </th> <td>   279.4</td>\n",
       "</tr>\n",
       "<tr>\n",
       "  <th>Date:</th>             <td>Sun, 29 Jun 2025</td> <th>  Prob (F-statistic):</th> <td>7.10e-34</td>\n",
       "</tr>\n",
       "<tr>\n",
       "  <th>Time:</th>                 <td>18:56:42</td>     <th>  Log-Likelihood:    </th> <td> -1271.5</td>\n",
       "</tr>\n",
       "<tr>\n",
       "  <th>No. Observations:</th>      <td>   129</td>      <th>  AIC:               </th> <td>   2547.</td>\n",
       "</tr>\n",
       "<tr>\n",
       "  <th>Df Residuals:</th>          <td>   127</td>      <th>  BIC:               </th> <td>   2553.</td>\n",
       "</tr>\n",
       "<tr>\n",
       "  <th>Df Model:</th>              <td>     1</td>      <th>                     </th>     <td> </td>   \n",
       "</tr>\n",
       "<tr>\n",
       "  <th>Covariance Type:</th>      <td>nonrobust</td>    <th>                     </th>     <td> </td>   \n",
       "</tr>\n",
       "</table>\n",
       "<table class=\"simpletable\">\n",
       "<tr>\n",
       "      <td></td>         <th>coef</th>     <th>std err</th>      <th>t</th>      <th>P>|t|</th>  <th>[0.025</th>    <th>0.975]</th>  \n",
       "</tr>\n",
       "<tr>\n",
       "  <th>Intercept</th> <td> 1.576e+04</td> <td> 1037.627</td> <td>   15.189</td> <td> 0.000</td> <td> 1.37e+04</td> <td> 1.78e+04</td>\n",
       "</tr>\n",
       "<tr>\n",
       "  <th>s</th>         <td>  439.9068</td> <td>   26.317</td> <td>   16.716</td> <td> 0.000</td> <td>  387.830</td> <td>  491.984</td>\n",
       "</tr>\n",
       "</table>\n",
       "<table class=\"simpletable\">\n",
       "<tr>\n",
       "  <th>Omnibus:</th>       <td> 4.021</td> <th>  Durbin-Watson:     </th> <td>   1.879</td>\n",
       "</tr>\n",
       "<tr>\n",
       "  <th>Prob(Omnibus):</th> <td> 0.134</td> <th>  Jarque-Bera (JB):  </th> <td>   3.935</td>\n",
       "</tr>\n",
       "<tr>\n",
       "  <th>Skew:</th>          <td> 0.234</td> <th>  Prob(JB):          </th> <td>   0.140</td>\n",
       "</tr>\n",
       "<tr>\n",
       "  <th>Kurtosis:</th>      <td> 3.716</td> <th>  Cond. No.          </th> <td>    99.9</td>\n",
       "</tr>\n",
       "</table><br/><br/>Notes:<br/>[1] Standard Errors assume that the covariance matrix of the errors is correctly specified."
      ],
      "text/latex": [
       "\\begin{center}\n",
       "\\begin{tabular}{lclc}\n",
       "\\toprule\n",
       "\\textbf{Dep. Variable:}    &       rent       & \\textbf{  R-squared:         } &     0.688   \\\\\n",
       "\\textbf{Model:}            &       OLS        & \\textbf{  Adj. R-squared:    } &     0.685   \\\\\n",
       "\\textbf{Method:}           &  Least Squares   & \\textbf{  F-statistic:       } &     279.4   \\\\\n",
       "\\textbf{Date:}             & Sun, 29 Jun 2025 & \\textbf{  Prob (F-statistic):} &  7.10e-34   \\\\\n",
       "\\textbf{Time:}             &     18:56:42     & \\textbf{  Log-Likelihood:    } &   -1271.5   \\\\\n",
       "\\textbf{No. Observations:} &         129      & \\textbf{  AIC:               } &     2547.   \\\\\n",
       "\\textbf{Df Residuals:}     &         127      & \\textbf{  BIC:               } &     2553.   \\\\\n",
       "\\textbf{Df Model:}         &           1      & \\textbf{                     } &             \\\\\n",
       "\\textbf{Covariance Type:}  &    nonrobust     & \\textbf{                     } &             \\\\\n",
       "\\bottomrule\n",
       "\\end{tabular}\n",
       "\\begin{tabular}{lcccccc}\n",
       "                   & \\textbf{coef} & \\textbf{std err} & \\textbf{t} & \\textbf{P$> |$t$|$} & \\textbf{[0.025} & \\textbf{0.975]}  \\\\\n",
       "\\midrule\n",
       "\\textbf{Intercept} &    1.576e+04  &     1037.627     &    15.189  &         0.000        &     1.37e+04    &     1.78e+04     \\\\\n",
       "\\textbf{s}         &     439.9068  &       26.317     &    16.716  &         0.000        &      387.830    &      491.984     \\\\\n",
       "\\bottomrule\n",
       "\\end{tabular}\n",
       "\\begin{tabular}{lclc}\n",
       "\\textbf{Omnibus:}       &  4.021 & \\textbf{  Durbin-Watson:     } &    1.879  \\\\\n",
       "\\textbf{Prob(Omnibus):} &  0.134 & \\textbf{  Jarque-Bera (JB):  } &    3.935  \\\\\n",
       "\\textbf{Skew:}          &  0.234 & \\textbf{  Prob(JB):          } &    0.140  \\\\\n",
       "\\textbf{Kurtosis:}      &  3.716 & \\textbf{  Cond. No.          } &     99.9  \\\\\n",
       "\\bottomrule\n",
       "\\end{tabular}\n",
       "%\\caption{OLS Regression Results}\n",
       "\\end{center}\n",
       "\n",
       "Notes: \\newline\n",
       " [1] Standard Errors assume that the covariance matrix of the errors is correctly specified."
      ],
      "text/plain": [
       "<class 'statsmodels.iolib.summary.Summary'>\n",
       "\"\"\"\n",
       "                            OLS Regression Results                            \n",
       "==============================================================================\n",
       "Dep. Variable:                   rent   R-squared:                       0.688\n",
       "Model:                            OLS   Adj. R-squared:                  0.685\n",
       "Method:                 Least Squares   F-statistic:                     279.4\n",
       "Date:                Sun, 29 Jun 2025   Prob (F-statistic):           7.10e-34\n",
       "Time:                        18:56:42   Log-Likelihood:                -1271.5\n",
       "No. Observations:                 129   AIC:                             2547.\n",
       "Df Residuals:                     127   BIC:                             2553.\n",
       "Df Model:                           1                                         \n",
       "Covariance Type:            nonrobust                                         \n",
       "==============================================================================\n",
       "                 coef    std err          t      P>|t|      [0.025      0.975]\n",
       "------------------------------------------------------------------------------\n",
       "Intercept   1.576e+04   1037.627     15.189      0.000    1.37e+04    1.78e+04\n",
       "s            439.9068     26.317     16.716      0.000     387.830     491.984\n",
       "==============================================================================\n",
       "Omnibus:                        4.021   Durbin-Watson:                   1.879\n",
       "Prob(Omnibus):                  0.134   Jarque-Bera (JB):                3.935\n",
       "Skew:                           0.234   Prob(JB):                        0.140\n",
       "Kurtosis:                       3.716   Cond. No.                         99.9\n",
       "==============================================================================\n",
       "\n",
       "Notes:\n",
       "[1] Standard Errors assume that the covariance matrix of the errors is correctly specified.\n",
       "\"\"\""
      ]
     },
     "execution_count": 13,
     "metadata": {},
     "output_type": "execute_result"
    }
   ],
   "source": [
    "results1 = smf.ols('rent ~ s', data=df).fit()\n",
    "results1.summary()"
   ]
  },
  {
   "cell_type": "markdown",
   "id": "8b742229",
   "metadata": {},
   "source": [
    "Prob (F-statistic):\t7.10e-34 \n",
    "pvalue очень маленькое, следовательно мы можем очень надежно отклонить гипотезу о неадекватности модели\n",
    "=> наша модель адекватна"
   ]
  },
  {
   "cell_type": "markdown",
   "id": "858a4720",
   "metadata": {},
   "source": [
    "### Влияние количества комнат на арендную плату"
   ]
  },
  {
   "cell_type": "code",
   "execution_count": 14,
   "id": "701488e5",
   "metadata": {},
   "outputs": [
    {
     "data": {
      "text/html": [
       "<table class=\"simpletable\">\n",
       "<caption>OLS Regression Results</caption>\n",
       "<tr>\n",
       "  <th>Dep. Variable:</th>          <td>rent</td>       <th>  R-squared:         </th> <td>   0.351</td>\n",
       "</tr>\n",
       "<tr>\n",
       "  <th>Model:</th>                   <td>OLS</td>       <th>  Adj. R-squared:    </th> <td>   0.346</td>\n",
       "</tr>\n",
       "<tr>\n",
       "  <th>Method:</th>             <td>Least Squares</td>  <th>  F-statistic:       </th> <td>   68.74</td>\n",
       "</tr>\n",
       "<tr>\n",
       "  <th>Date:</th>             <td>Sun, 29 Jun 2025</td> <th>  Prob (F-statistic):</th> <td>1.38e-13</td>\n",
       "</tr>\n",
       "<tr>\n",
       "  <th>Time:</th>                 <td>19:49:28</td>     <th>  Log-Likelihood:    </th> <td> -1318.6</td>\n",
       "</tr>\n",
       "<tr>\n",
       "  <th>No. Observations:</th>      <td>   129</td>      <th>  AIC:               </th> <td>   2641.</td>\n",
       "</tr>\n",
       "<tr>\n",
       "  <th>Df Residuals:</th>          <td>   127</td>      <th>  BIC:               </th> <td>   2647.</td>\n",
       "</tr>\n",
       "<tr>\n",
       "  <th>Df Model:</th>              <td>     1</td>      <th>                     </th>     <td> </td>   \n",
       "</tr>\n",
       "<tr>\n",
       "  <th>Covariance Type:</th>      <td>nonrobust</td>    <th>                     </th>     <td> </td>   \n",
       "</tr>\n",
       "</table>\n",
       "<table class=\"simpletable\">\n",
       "<tr>\n",
       "      <td></td>         <th>coef</th>     <th>std err</th>      <th>t</th>      <th>P>|t|</th>  <th>[0.025</th>    <th>0.975]</th>  \n",
       "</tr>\n",
       "<tr>\n",
       "  <th>Intercept</th> <td>  2.05e+04</td> <td> 1473.688</td> <td>   13.912</td> <td> 0.000</td> <td> 1.76e+04</td> <td> 2.34e+04</td>\n",
       "</tr>\n",
       "<tr>\n",
       "  <th>rooms</th>     <td> 8205.7283</td> <td>  989.731</td> <td>    8.291</td> <td> 0.000</td> <td> 6247.229</td> <td> 1.02e+04</td>\n",
       "</tr>\n",
       "</table>\n",
       "<table class=\"simpletable\">\n",
       "<tr>\n",
       "  <th>Omnibus:</th>       <td> 4.039</td> <th>  Durbin-Watson:     </th> <td>   2.114</td>\n",
       "</tr>\n",
       "<tr>\n",
       "  <th>Prob(Omnibus):</th> <td> 0.133</td> <th>  Jarque-Bera (JB):  </th> <td>   3.639</td>\n",
       "</tr>\n",
       "<tr>\n",
       "  <th>Skew:</th>          <td> 0.405</td> <th>  Prob(JB):          </th> <td>   0.162</td>\n",
       "</tr>\n",
       "<tr>\n",
       "  <th>Kurtosis:</th>      <td> 3.139</td> <th>  Cond. No.          </th> <td>    5.20</td>\n",
       "</tr>\n",
       "</table><br/><br/>Notes:<br/>[1] Standard Errors assume that the covariance matrix of the errors is correctly specified."
      ],
      "text/latex": [
       "\\begin{center}\n",
       "\\begin{tabular}{lclc}\n",
       "\\toprule\n",
       "\\textbf{Dep. Variable:}    &       rent       & \\textbf{  R-squared:         } &     0.351   \\\\\n",
       "\\textbf{Model:}            &       OLS        & \\textbf{  Adj. R-squared:    } &     0.346   \\\\\n",
       "\\textbf{Method:}           &  Least Squares   & \\textbf{  F-statistic:       } &     68.74   \\\\\n",
       "\\textbf{Date:}             & Sun, 29 Jun 2025 & \\textbf{  Prob (F-statistic):} &  1.38e-13   \\\\\n",
       "\\textbf{Time:}             &     19:49:28     & \\textbf{  Log-Likelihood:    } &   -1318.6   \\\\\n",
       "\\textbf{No. Observations:} &         129      & \\textbf{  AIC:               } &     2641.   \\\\\n",
       "\\textbf{Df Residuals:}     &         127      & \\textbf{  BIC:               } &     2647.   \\\\\n",
       "\\textbf{Df Model:}         &           1      & \\textbf{                     } &             \\\\\n",
       "\\textbf{Covariance Type:}  &    nonrobust     & \\textbf{                     } &             \\\\\n",
       "\\bottomrule\n",
       "\\end{tabular}\n",
       "\\begin{tabular}{lcccccc}\n",
       "                   & \\textbf{coef} & \\textbf{std err} & \\textbf{t} & \\textbf{P$> |$t$|$} & \\textbf{[0.025} & \\textbf{0.975]}  \\\\\n",
       "\\midrule\n",
       "\\textbf{Intercept} &     2.05e+04  &     1473.688     &    13.912  &         0.000        &     1.76e+04    &     2.34e+04     \\\\\n",
       "\\textbf{rooms}     &    8205.7283  &      989.731     &     8.291  &         0.000        &     6247.229    &     1.02e+04     \\\\\n",
       "\\bottomrule\n",
       "\\end{tabular}\n",
       "\\begin{tabular}{lclc}\n",
       "\\textbf{Omnibus:}       &  4.039 & \\textbf{  Durbin-Watson:     } &    2.114  \\\\\n",
       "\\textbf{Prob(Omnibus):} &  0.133 & \\textbf{  Jarque-Bera (JB):  } &    3.639  \\\\\n",
       "\\textbf{Skew:}          &  0.405 & \\textbf{  Prob(JB):          } &    0.162  \\\\\n",
       "\\textbf{Kurtosis:}      &  3.139 & \\textbf{  Cond. No.          } &     5.20  \\\\\n",
       "\\bottomrule\n",
       "\\end{tabular}\n",
       "%\\caption{OLS Regression Results}\n",
       "\\end{center}\n",
       "\n",
       "Notes: \\newline\n",
       " [1] Standard Errors assume that the covariance matrix of the errors is correctly specified."
      ],
      "text/plain": [
       "<class 'statsmodels.iolib.summary.Summary'>\n",
       "\"\"\"\n",
       "                            OLS Regression Results                            \n",
       "==============================================================================\n",
       "Dep. Variable:                   rent   R-squared:                       0.351\n",
       "Model:                            OLS   Adj. R-squared:                  0.346\n",
       "Method:                 Least Squares   F-statistic:                     68.74\n",
       "Date:                Sun, 29 Jun 2025   Prob (F-statistic):           1.38e-13\n",
       "Time:                        19:49:28   Log-Likelihood:                -1318.6\n",
       "No. Observations:                 129   AIC:                             2641.\n",
       "Df Residuals:                     127   BIC:                             2647.\n",
       "Df Model:                           1                                         \n",
       "Covariance Type:            nonrobust                                         \n",
       "==============================================================================\n",
       "                 coef    std err          t      P>|t|      [0.025      0.975]\n",
       "------------------------------------------------------------------------------\n",
       "Intercept    2.05e+04   1473.688     13.912      0.000    1.76e+04    2.34e+04\n",
       "rooms       8205.7283    989.731      8.291      0.000    6247.229    1.02e+04\n",
       "==============================================================================\n",
       "Omnibus:                        4.039   Durbin-Watson:                   2.114\n",
       "Prob(Omnibus):                  0.133   Jarque-Bera (JB):                3.639\n",
       "Skew:                           0.405   Prob(JB):                        0.162\n",
       "Kurtosis:                       3.139   Cond. No.                         5.20\n",
       "==============================================================================\n",
       "\n",
       "Notes:\n",
       "[1] Standard Errors assume that the covariance matrix of the errors is correctly specified.\n",
       "\"\"\""
      ]
     },
     "execution_count": 14,
     "metadata": {},
     "output_type": "execute_result"
    }
   ],
   "source": [
    "results2 = smf.ols('rent ~ rooms', data=df).fit()\n",
    "results2.summary()"
   ]
  },
  {
   "cell_type": "markdown",
   "id": "f8408800",
   "metadata": {},
   "source": [
    "### Влияние этажа на арендную плату"
   ]
  },
  {
   "cell_type": "code",
   "execution_count": 15,
   "id": "52912d80",
   "metadata": {},
   "outputs": [
    {
     "data": {
      "text/html": [
       "<table class=\"simpletable\">\n",
       "<caption>OLS Regression Results</caption>\n",
       "<tr>\n",
       "  <th>Dep. Variable:</th>          <td>rent</td>       <th>  R-squared:         </th> <td>   0.123</td>\n",
       "</tr>\n",
       "<tr>\n",
       "  <th>Model:</th>                   <td>OLS</td>       <th>  Adj. R-squared:    </th> <td>   0.116</td>\n",
       "</tr>\n",
       "<tr>\n",
       "  <th>Method:</th>             <td>Least Squares</td>  <th>  F-statistic:       </th> <td>   17.83</td>\n",
       "</tr>\n",
       "<tr>\n",
       "  <th>Date:</th>             <td>Sun, 29 Jun 2025</td> <th>  Prob (F-statistic):</th> <td>4.56e-05</td>\n",
       "</tr>\n",
       "<tr>\n",
       "  <th>Time:</th>                 <td>19:56:05</td>     <th>  Log-Likelihood:    </th> <td> -1338.0</td>\n",
       "</tr>\n",
       "<tr>\n",
       "  <th>No. Observations:</th>      <td>   129</td>      <th>  AIC:               </th> <td>   2680.</td>\n",
       "</tr>\n",
       "<tr>\n",
       "  <th>Df Residuals:</th>          <td>   127</td>      <th>  BIC:               </th> <td>   2686.</td>\n",
       "</tr>\n",
       "<tr>\n",
       "  <th>Df Model:</th>              <td>     1</td>      <th>                     </th>     <td> </td>   \n",
       "</tr>\n",
       "<tr>\n",
       "  <th>Covariance Type:</th>      <td>nonrobust</td>    <th>                     </th>     <td> </td>   \n",
       "</tr>\n",
       "</table>\n",
       "<table class=\"simpletable\">\n",
       "<tr>\n",
       "      <td></td>         <th>coef</th>     <th>std err</th>      <th>t</th>      <th>P>|t|</th>  <th>[0.025</th>    <th>0.975]</th>  \n",
       "</tr>\n",
       "<tr>\n",
       "  <th>Intercept</th> <td> 2.719e+04</td> <td> 1268.009</td> <td>   21.446</td> <td> 0.000</td> <td> 2.47e+04</td> <td> 2.97e+04</td>\n",
       "</tr>\n",
       "<tr>\n",
       "  <th>floor</th>     <td> 1081.7688</td> <td>  256.156</td> <td>    4.223</td> <td> 0.000</td> <td>  574.882</td> <td> 1588.656</td>\n",
       "</tr>\n",
       "</table>\n",
       "<table class=\"simpletable\">\n",
       "<tr>\n",
       "  <th>Omnibus:</th>       <td>10.968</td> <th>  Durbin-Watson:     </th> <td>   1.946</td>\n",
       "</tr>\n",
       "<tr>\n",
       "  <th>Prob(Omnibus):</th> <td> 0.004</td> <th>  Jarque-Bera (JB):  </th> <td>  11.832</td>\n",
       "</tr>\n",
       "<tr>\n",
       "  <th>Skew:</th>          <td> 0.742</td> <th>  Prob(JB):          </th> <td> 0.00270</td>\n",
       "</tr>\n",
       "<tr>\n",
       "  <th>Kurtosis:</th>      <td> 3.042</td> <th>  Cond. No.          </th> <td>    9.42</td>\n",
       "</tr>\n",
       "</table><br/><br/>Notes:<br/>[1] Standard Errors assume that the covariance matrix of the errors is correctly specified."
      ],
      "text/latex": [
       "\\begin{center}\n",
       "\\begin{tabular}{lclc}\n",
       "\\toprule\n",
       "\\textbf{Dep. Variable:}    &       rent       & \\textbf{  R-squared:         } &     0.123   \\\\\n",
       "\\textbf{Model:}            &       OLS        & \\textbf{  Adj. R-squared:    } &     0.116   \\\\\n",
       "\\textbf{Method:}           &  Least Squares   & \\textbf{  F-statistic:       } &     17.83   \\\\\n",
       "\\textbf{Date:}             & Sun, 29 Jun 2025 & \\textbf{  Prob (F-statistic):} &  4.56e-05   \\\\\n",
       "\\textbf{Time:}             &     19:56:05     & \\textbf{  Log-Likelihood:    } &   -1338.0   \\\\\n",
       "\\textbf{No. Observations:} &         129      & \\textbf{  AIC:               } &     2680.   \\\\\n",
       "\\textbf{Df Residuals:}     &         127      & \\textbf{  BIC:               } &     2686.   \\\\\n",
       "\\textbf{Df Model:}         &           1      & \\textbf{                     } &             \\\\\n",
       "\\textbf{Covariance Type:}  &    nonrobust     & \\textbf{                     } &             \\\\\n",
       "\\bottomrule\n",
       "\\end{tabular}\n",
       "\\begin{tabular}{lcccccc}\n",
       "                   & \\textbf{coef} & \\textbf{std err} & \\textbf{t} & \\textbf{P$> |$t$|$} & \\textbf{[0.025} & \\textbf{0.975]}  \\\\\n",
       "\\midrule\n",
       "\\textbf{Intercept} &    2.719e+04  &     1268.009     &    21.446  &         0.000        &     2.47e+04    &     2.97e+04     \\\\\n",
       "\\textbf{floor}     &    1081.7688  &      256.156     &     4.223  &         0.000        &      574.882    &     1588.656     \\\\\n",
       "\\bottomrule\n",
       "\\end{tabular}\n",
       "\\begin{tabular}{lclc}\n",
       "\\textbf{Omnibus:}       & 10.968 & \\textbf{  Durbin-Watson:     } &    1.946  \\\\\n",
       "\\textbf{Prob(Omnibus):} &  0.004 & \\textbf{  Jarque-Bera (JB):  } &   11.832  \\\\\n",
       "\\textbf{Skew:}          &  0.742 & \\textbf{  Prob(JB):          } &  0.00270  \\\\\n",
       "\\textbf{Kurtosis:}      &  3.042 & \\textbf{  Cond. No.          } &     9.42  \\\\\n",
       "\\bottomrule\n",
       "\\end{tabular}\n",
       "%\\caption{OLS Regression Results}\n",
       "\\end{center}\n",
       "\n",
       "Notes: \\newline\n",
       " [1] Standard Errors assume that the covariance matrix of the errors is correctly specified."
      ],
      "text/plain": [
       "<class 'statsmodels.iolib.summary.Summary'>\n",
       "\"\"\"\n",
       "                            OLS Regression Results                            \n",
       "==============================================================================\n",
       "Dep. Variable:                   rent   R-squared:                       0.123\n",
       "Model:                            OLS   Adj. R-squared:                  0.116\n",
       "Method:                 Least Squares   F-statistic:                     17.83\n",
       "Date:                Sun, 29 Jun 2025   Prob (F-statistic):           4.56e-05\n",
       "Time:                        19:56:05   Log-Likelihood:                -1338.0\n",
       "No. Observations:                 129   AIC:                             2680.\n",
       "Df Residuals:                     127   BIC:                             2686.\n",
       "Df Model:                           1                                         \n",
       "Covariance Type:            nonrobust                                         \n",
       "==============================================================================\n",
       "                 coef    std err          t      P>|t|      [0.025      0.975]\n",
       "------------------------------------------------------------------------------\n",
       "Intercept   2.719e+04   1268.009     21.446      0.000    2.47e+04    2.97e+04\n",
       "floor       1081.7688    256.156      4.223      0.000     574.882    1588.656\n",
       "==============================================================================\n",
       "Omnibus:                       10.968   Durbin-Watson:                   1.946\n",
       "Prob(Omnibus):                  0.004   Jarque-Bera (JB):               11.832\n",
       "Skew:                           0.742   Prob(JB):                      0.00270\n",
       "Kurtosis:                       3.042   Cond. No.                         9.42\n",
       "==============================================================================\n",
       "\n",
       "Notes:\n",
       "[1] Standard Errors assume that the covariance matrix of the errors is correctly specified.\n",
       "\"\"\""
      ]
     },
     "execution_count": 15,
     "metadata": {},
     "output_type": "execute_result"
    }
   ],
   "source": [
    "results3 = smf.ols('rent ~ floor', data=df).fit()\n",
    "results3.summary()"
   ]
  },
  {
   "cell_type": "markdown",
   "id": "dc15a53d",
   "metadata": {},
   "source": [
    "# Нелинейные модели"
   ]
  },
  {
   "cell_type": "code",
   "execution_count": 18,
   "id": "700c7d1b",
   "metadata": {},
   "outputs": [
    {
     "data": {
      "text/html": [
       "<div>\n",
       "<style scoped>\n",
       "    .dataframe tbody tr th:only-of-type {\n",
       "        vertical-align: middle;\n",
       "    }\n",
       "\n",
       "    .dataframe tbody tr th {\n",
       "        vertical-align: top;\n",
       "    }\n",
       "\n",
       "    .dataframe thead th {\n",
       "        text-align: right;\n",
       "    }\n",
       "</style>\n",
       "<table border=\"1\" class=\"dataframe\">\n",
       "  <thead>\n",
       "    <tr style=\"text-align: right;\">\n",
       "      <th></th>\n",
       "      <th>Income</th>\n",
       "      <th>Expense</th>\n",
       "    </tr>\n",
       "  </thead>\n",
       "  <tbody>\n",
       "    <tr>\n",
       "      <th>0</th>\n",
       "      <td>103</td>\n",
       "      <td>38.8</td>\n",
       "    </tr>\n",
       "    <tr>\n",
       "      <th>1</th>\n",
       "      <td>107</td>\n",
       "      <td>38.5</td>\n",
       "    </tr>\n",
       "    <tr>\n",
       "      <th>2</th>\n",
       "      <td>110</td>\n",
       "      <td>39.3</td>\n",
       "    </tr>\n",
       "    <tr>\n",
       "      <th>3</th>\n",
       "      <td>112</td>\n",
       "      <td>40.0</td>\n",
       "    </tr>\n",
       "    <tr>\n",
       "      <th>...</th>\n",
       "      <td>...</td>\n",
       "      <td>...</td>\n",
       "    </tr>\n",
       "    <tr>\n",
       "      <th>16</th>\n",
       "      <td>139</td>\n",
       "      <td>41.7</td>\n",
       "    </tr>\n",
       "    <tr>\n",
       "      <th>17</th>\n",
       "      <td>140</td>\n",
       "      <td>41.1</td>\n",
       "    </tr>\n",
       "    <tr>\n",
       "      <th>18</th>\n",
       "      <td>142</td>\n",
       "      <td>41.0</td>\n",
       "    </tr>\n",
       "    <tr>\n",
       "      <th>19</th>\n",
       "      <td>150</td>\n",
       "      <td>42.4</td>\n",
       "    </tr>\n",
       "  </tbody>\n",
       "</table>\n",
       "<p>20 rows × 2 columns</p>\n",
       "</div>"
      ],
      "text/plain": [
       "    Income  Expense\n",
       "0      103     38.8\n",
       "1      107     38.5\n",
       "2      110     39.3\n",
       "3      112     40.0\n",
       "..     ...      ...\n",
       "16     139     41.7\n",
       "17     140     41.1\n",
       "18     142     41.0\n",
       "19     150     42.4\n",
       "\n",
       "[20 rows x 2 columns]"
      ]
     },
     "execution_count": 18,
     "metadata": {},
     "output_type": "execute_result"
    }
   ],
   "source": [
    "df = pd.read_csv(\"../data/Non_lin UTF.csv\", sep=';')\n",
    "df"
   ]
  },
  {
   "cell_type": "markdown",
   "id": "a83e1034",
   "metadata": {},
   "source": [
    "# Предварительная обработка"
   ]
  },
  {
   "cell_type": "markdown",
   "id": "b3c809a5",
   "metadata": {},
   "source": [
    "## Гистограммы"
   ]
  },
  {
   "cell_type": "code",
   "execution_count": 19,
   "id": "517874f4",
   "metadata": {},
   "outputs": [
    {
     "data": {
      "text/plain": [
       "<Axes: >"
      ]
     },
     "execution_count": 19,
     "metadata": {},
     "output_type": "execute_result"
    },
    {
     "data": {
      "image/png": "[encoded data removed]",
      "text/plain": [
       "<Figure size 640x480 with 1 Axes>"
      ]
     },
     "metadata": {},
     "output_type": "display_data"
    }
   ],
   "source": [
    "df['Income'].hist(bins=5)"
   ]
  },
  {
   "cell_type": "code",
   "execution_count": 20,
   "id": "e569ce7b",
   "metadata": {},
   "outputs": [
    {
     "data": {
      "text/plain": [
       "<Axes: >"
      ]
     },
     "execution_count": 20,
     "metadata": {},
     "output_type": "execute_result"
    },
    {
     "data": {
      "image/png": "[encoded data removed]",
      "text/plain": [
       "<Figure size 640x480 with 1 Axes>"
      ]
     },
     "metadata": {},
     "output_type": "display_data"
    }
   ],
   "source": [
    "df['Expense'].hist(bins=5)"
   ]
  },
  {
   "cell_type": "code",
   "execution_count": 21,
   "id": "2dc26aa2",
   "metadata": {},
   "outputs": [
    {
     "data": {
      "text/html": [
       "<div>\n",
       "<style scoped>\n",
       "    .dataframe tbody tr th:only-of-type {\n",
       "        vertical-align: middle;\n",
       "    }\n",
       "\n",
       "    .dataframe tbody tr th {\n",
       "        vertical-align: top;\n",
       "    }\n",
       "\n",
       "    .dataframe thead th {\n",
       "        text-align: right;\n",
       "    }\n",
       "</style>\n",
       "<table border=\"1\" class=\"dataframe\">\n",
       "  <thead>\n",
       "    <tr style=\"text-align: right;\">\n",
       "      <th></th>\n",
       "      <th>Income</th>\n",
       "      <th>Expense</th>\n",
       "    </tr>\n",
       "  </thead>\n",
       "  <tbody>\n",
       "    <tr>\n",
       "      <th>count</th>\n",
       "      <td>20.00000</td>\n",
       "      <td>20.000000</td>\n",
       "    </tr>\n",
       "    <tr>\n",
       "      <th>mean</th>\n",
       "      <td>124.05000</td>\n",
       "      <td>40.605000</td>\n",
       "    </tr>\n",
       "    <tr>\n",
       "      <th>std</th>\n",
       "      <td>12.96341</td>\n",
       "      <td>1.079218</td>\n",
       "    </tr>\n",
       "    <tr>\n",
       "      <th>min</th>\n",
       "      <td>103.00000</td>\n",
       "      <td>38.500000</td>\n",
       "    </tr>\n",
       "    <tr>\n",
       "      <th>25%</th>\n",
       "      <td>114.50000</td>\n",
       "      <td>39.925000</td>\n",
       "    </tr>\n",
       "    <tr>\n",
       "      <th>50%</th>\n",
       "      <td>122.50000</td>\n",
       "      <td>40.750000</td>\n",
       "    </tr>\n",
       "    <tr>\n",
       "      <th>75%</th>\n",
       "      <td>134.25000</td>\n",
       "      <td>41.175000</td>\n",
       "    </tr>\n",
       "    <tr>\n",
       "      <th>max</th>\n",
       "      <td>150.00000</td>\n",
       "      <td>42.400000</td>\n",
       "    </tr>\n",
       "  </tbody>\n",
       "</table>\n",
       "</div>"
      ],
      "text/plain": [
       "          Income    Expense\n",
       "count   20.00000  20.000000\n",
       "mean   124.05000  40.605000\n",
       "std     12.96341   1.079218\n",
       "min    103.00000  38.500000\n",
       "25%    114.50000  39.925000\n",
       "50%    122.50000  40.750000\n",
       "75%    134.25000  41.175000\n",
       "max    150.00000  42.400000"
      ]
     },
     "execution_count": 21,
     "metadata": {},
     "output_type": "execute_result"
    }
   ],
   "source": [
    "df.describe()"
   ]
  },
  {
   "cell_type": "code",
   "execution_count": 22,
   "id": "3804cd80",
   "metadata": {},
   "outputs": [
    {
     "data": {
      "text/plain": [
       "Income     124.050\n",
       "Expense     40.605\n",
       "dtype: float64"
      ]
     },
     "execution_count": 22,
     "metadata": {},
     "output_type": "execute_result"
    }
   ],
   "source": [
    "df.mean() # среднее"
   ]
  },
  {
   "cell_type": "code",
   "execution_count": 23,
   "id": "bd3c9f29",
   "metadata": {},
   "outputs": [
    {
     "data": {
      "text/plain": [
       "Income     12.963410\n",
       "Expense     1.079218\n",
       "dtype: float64"
      ]
     },
     "execution_count": 23,
     "metadata": {},
     "output_type": "execute_result"
    }
   ],
   "source": [
    "df.std()  # средне квадратическое отклонение"
   ]
  },
  {
   "cell_type": "code",
   "execution_count": 24,
   "id": "7bdb6645",
   "metadata": {},
   "outputs": [
    {
     "data": {
      "text/plain": [
       "Income     0.331202\n",
       "Expense   -0.322734\n",
       "dtype: float64"
      ]
     },
     "execution_count": 24,
     "metadata": {},
     "output_type": "execute_result"
    }
   ],
   "source": [
    "df.skew() # коэффициент асимметрии"
   ]
  },
  {
   "cell_type": "code",
   "execution_count": 25,
   "id": "51196d3a",
   "metadata": {},
   "outputs": [
    {
     "data": {
      "text/plain": [
       "Income    -0.761112\n",
       "Expense   -0.538070\n",
       "dtype: float64"
      ]
     },
     "execution_count": 25,
     "metadata": {},
     "output_type": "execute_result"
    }
   ],
   "source": [
    "df.kurtosis() # коэффициент эксцесса"
   ]
  },
  {
   "cell_type": "markdown",
   "id": "0ddfdc9a",
   "metadata": {},
   "source": [
    "## Проверка нормальности по критерию Шапиро-Уилка"
   ]
  },
  {
   "cell_type": "code",
   "execution_count": 26,
   "id": "7fecfdb2",
   "metadata": {},
   "outputs": [
    {
     "data": {
      "text/plain": [
       "ShapiroResult(statistic=np.float64(0.9689613527794745), pvalue=np.float64(0.7328040472268101))"
      ]
     },
     "execution_count": 26,
     "metadata": {},
     "output_type": "execute_result"
    }
   ],
   "source": [
    "stats.shapiro(df['Income'])"
   ]
  },
  {
   "cell_type": "code",
   "execution_count": 27,
   "id": "35373a65",
   "metadata": {},
   "outputs": [
    {
     "data": {
      "text/plain": [
       "ShapiroResult(statistic=np.float64(0.9684593376603265), pvalue=np.float64(0.7220629561081846))"
      ]
     },
     "execution_count": 27,
     "metadata": {},
     "output_type": "execute_result"
    }
   ],
   "source": [
    "stats.shapiro(df['Expense'])"
   ]
  },
  {
   "cell_type": "markdown",
   "id": "5738b81e",
   "metadata": {},
   "source": [
    "## Корреляционный анализ"
   ]
  },
  {
   "cell_type": "code",
   "execution_count": 28,
   "id": "d9fae22f",
   "metadata": {},
   "outputs": [
    {
     "data": {
      "text/plain": [
       "<Axes: xlabel='Income', ylabel='Expense'>"
      ]
     },
     "execution_count": 28,
     "metadata": {},
     "output_type": "execute_result"
    },
    {
     "data": {
      "image/png": "[encoded data removed]",
      "text/plain": [
       "<Figure size 640x480 with 1 Axes>"
      ]
     },
     "metadata": {},
     "output_type": "display_data"
    }
   ],
   "source": [
    "df.plot(\"Income\",'Expense',kind=\"scatter\")"
   ]
  },
  {
   "cell_type": "code",
   "execution_count": 29,
   "id": "db906ffe",
   "metadata": {},
   "outputs": [
    {
     "data": {
      "text/html": [
       "<div>\n",
       "<style scoped>\n",
       "    .dataframe tbody tr th:only-of-type {\n",
       "        vertical-align: middle;\n",
       "    }\n",
       "\n",
       "    .dataframe tbody tr th {\n",
       "        vertical-align: top;\n",
       "    }\n",
       "\n",
       "    .dataframe thead th {\n",
       "        text-align: right;\n",
       "    }\n",
       "</style>\n",
       "<table border=\"1\" class=\"dataframe\">\n",
       "  <thead>\n",
       "    <tr style=\"text-align: right;\">\n",
       "      <th></th>\n",
       "      <th>Income</th>\n",
       "      <th>Expense</th>\n",
       "    </tr>\n",
       "  </thead>\n",
       "  <tbody>\n",
       "    <tr>\n",
       "      <th>Income</th>\n",
       "      <td>1.000000</td>\n",
       "      <td>0.807681</td>\n",
       "    </tr>\n",
       "    <tr>\n",
       "      <th>Expense</th>\n",
       "      <td>0.807681</td>\n",
       "      <td>1.000000</td>\n",
       "    </tr>\n",
       "  </tbody>\n",
       "</table>\n",
       "</div>"
      ],
      "text/plain": [
       "           Income   Expense\n",
       "Income   1.000000  0.807681\n",
       "Expense  0.807681  1.000000"
      ]
     },
     "execution_count": 29,
     "metadata": {},
     "output_type": "execute_result"
    }
   ],
   "source": [
    "df.corr(method='pearson') # количественная корреляция Пирсона"
   ]
  },
  {
   "cell_type": "code",
   "execution_count": 30,
   "id": "be4d391e",
   "metadata": {},
   "outputs": [
    {
     "data": {
      "text/html": [
       "<div>\n",
       "<style scoped>\n",
       "    .dataframe tbody tr th:only-of-type {\n",
       "        vertical-align: middle;\n",
       "    }\n",
       "\n",
       "    .dataframe tbody tr th {\n",
       "        vertical-align: top;\n",
       "    }\n",
       "\n",
       "    .dataframe thead th {\n",
       "        text-align: right;\n",
       "    }\n",
       "</style>\n",
       "<table border=\"1\" class=\"dataframe\">\n",
       "  <thead>\n",
       "    <tr style=\"text-align: right;\">\n",
       "      <th></th>\n",
       "      <th>Income</th>\n",
       "      <th>Expense</th>\n",
       "    </tr>\n",
       "  </thead>\n",
       "  <tbody>\n",
       "    <tr>\n",
       "      <th>Income</th>\n",
       "      <td>1.000000</td>\n",
       "      <td>0.807681</td>\n",
       "    </tr>\n",
       "    <tr>\n",
       "      <th>Expense</th>\n",
       "      <td>0.807681</td>\n",
       "      <td>1.000000</td>\n",
       "    </tr>\n",
       "  </tbody>\n",
       "</table>\n",
       "</div>"
      ],
      "text/plain": [
       "           Income   Expense\n",
       "Income   1.000000  0.807681\n",
       "Expense  0.807681  1.000000"
      ]
     },
     "execution_count": 30,
     "metadata": {},
     "output_type": "execute_result"
    }
   ],
   "source": [
    "df.corr() # то же самое"
   ]
  },
  {
   "cell_type": "code",
   "execution_count": 31,
   "id": "0e44eb4d",
   "metadata": {},
   "outputs": [
    {
     "data": {
      "text/plain": [
       "PearsonRResult(statistic=np.float64(0.8076813796180543), pvalue=np.float64(1.6610162287569093e-05))"
      ]
     },
     "execution_count": 31,
     "metadata": {},
     "output_type": "execute_result"
    }
   ],
   "source": [
    "scipy.stats.pearsonr(df.Income, df.Expense)"
   ]
  },
  {
   "cell_type": "markdown",
   "id": "3e627adc",
   "metadata": {},
   "source": [
    "# Регрессионный анализ"
   ]
  },
  {
   "cell_type": "markdown",
   "id": "5fd31d24",
   "metadata": {},
   "source": [
    "## Линейная модель"
   ]
  },
  {
   "cell_type": "markdown",
   "id": "969c0e2e",
   "metadata": {},
   "source": [
    "$$ y = a + b \\cdot x + \\epsilon $$\n",
    "$$ \\hat{y} = \\hat{a} + \\hat{b} \\cdot x $$"
   ]
  },
  {
   "cell_type": "code",
   "execution_count": 32,
   "id": "1da6fa15",
   "metadata": {},
   "outputs": [],
   "source": [
    "Y=np.array(df.Expense).reshape((-1, 1))\n",
    "X=np.array(df.Income).reshape((-1, 1))"
   ]
  },
  {
   "cell_type": "code",
   "execution_count": 34,
   "id": "868f8160",
   "metadata": {},
   "outputs": [
    {
     "data": {
      "text/plain": [
       "<seaborn.axisgrid.JointGrid at 0x1266b5090>"
      ]
     },
     "execution_count": 34,
     "metadata": {},
     "output_type": "execute_result"
    },
    {
     "data": {
      "image/png": "[encoded data removed]",
      "text/plain": [
       "<Figure size 600x600 with 3 Axes>"
      ]
     },
     "metadata": {},
     "output_type": "display_data"
    }
   ],
   "source": [
    "#sns.set(style=\"darkgrid\")\n",
    "sns.jointplot(x='Income', y='Expense', data=df, kind=\"reg\")"
   ]
  },
  {
   "cell_type": "code",
   "execution_count": 35,
   "id": "fedb96f9",
   "metadata": {},
   "outputs": [
    {
     "data": {
      "text/html": [
       "<table class=\"simpletable\">\n",
       "<caption>OLS Regression Results</caption>\n",
       "<tr>\n",
       "  <th>Dep. Variable:</th>            <td>Y</td>        <th>  R-squared:         </th> <td>   0.652</td>\n",
       "</tr>\n",
       "<tr>\n",
       "  <th>Model:</th>                   <td>OLS</td>       <th>  Adj. R-squared:    </th> <td>   0.633</td>\n",
       "</tr>\n",
       "<tr>\n",
       "  <th>Method:</th>             <td>Least Squares</td>  <th>  F-statistic:       </th> <td>   33.78</td>\n",
       "</tr>\n",
       "<tr>\n",
       "  <th>Date:</th>             <td>Sun, 29 Jun 2025</td> <th>  Prob (F-statistic):</th> <td>1.66e-05</td>\n",
       "</tr>\n",
       "<tr>\n",
       "  <th>Time:</th>                 <td>20:30:27</td>     <th>  Log-Likelihood:    </th> <td> -18.825</td>\n",
       "</tr>\n",
       "<tr>\n",
       "  <th>No. Observations:</th>      <td>    20</td>      <th>  AIC:               </th> <td>   41.65</td>\n",
       "</tr>\n",
       "<tr>\n",
       "  <th>Df Residuals:</th>          <td>    18</td>      <th>  BIC:               </th> <td>   43.64</td>\n",
       "</tr>\n",
       "<tr>\n",
       "  <th>Df Model:</th>              <td>     1</td>      <th>                     </th>     <td> </td>   \n",
       "</tr>\n",
       "<tr>\n",
       "  <th>Covariance Type:</th>      <td>nonrobust</td>    <th>                     </th>     <td> </td>   \n",
       "</tr>\n",
       "</table>\n",
       "<table class=\"simpletable\">\n",
       "<tr>\n",
       "      <td></td>         <th>coef</th>     <th>std err</th>      <th>t</th>      <th>P>|t|</th>  <th>[0.025</th>    <th>0.975]</th>  \n",
       "</tr>\n",
       "<tr>\n",
       "  <th>Intercept</th> <td>   32.2638</td> <td>    1.443</td> <td>   22.364</td> <td> 0.000</td> <td>   29.233</td> <td>   35.295</td>\n",
       "</tr>\n",
       "<tr>\n",
       "  <th>X</th>         <td>    0.0672</td> <td>    0.012</td> <td>    5.812</td> <td> 0.000</td> <td>    0.043</td> <td>    0.092</td>\n",
       "</tr>\n",
       "</table>\n",
       "<table class=\"simpletable\">\n",
       "<tr>\n",
       "  <th>Omnibus:</th>       <td> 1.482</td> <th>  Durbin-Watson:     </th> <td>   1.963</td>\n",
       "</tr>\n",
       "<tr>\n",
       "  <th>Prob(Omnibus):</th> <td> 0.477</td> <th>  Jarque-Bera (JB):  </th> <td>   0.987</td>\n",
       "</tr>\n",
       "<tr>\n",
       "  <th>Skew:</th>          <td> 0.216</td> <th>  Prob(JB):          </th> <td>   0.610</td>\n",
       "</tr>\n",
       "<tr>\n",
       "  <th>Kurtosis:</th>      <td> 2.001</td> <th>  Cond. No.          </th> <td>1.23e+03</td>\n",
       "</tr>\n",
       "</table><br/><br/>Notes:<br/>[1] Standard Errors assume that the covariance matrix of the errors is correctly specified.<br/>[2] The condition number is large, 1.23e+03. This might indicate that there are<br/>strong multicollinearity or other numerical problems."
      ],
      "text/latex": [
       "\\begin{center}\n",
       "\\begin{tabular}{lclc}\n",
       "\\toprule\n",
       "\\textbf{Dep. Variable:}    &        Y         & \\textbf{  R-squared:         } &     0.652   \\\\\n",
       "\\textbf{Model:}            &       OLS        & \\textbf{  Adj. R-squared:    } &     0.633   \\\\\n",
       "\\textbf{Method:}           &  Least Squares   & \\textbf{  F-statistic:       } &     33.78   \\\\\n",
       "\\textbf{Date:}             & Sun, 29 Jun 2025 & \\textbf{  Prob (F-statistic):} &  1.66e-05   \\\\\n",
       "\\textbf{Time:}             &     20:30:27     & \\textbf{  Log-Likelihood:    } &   -18.825   \\\\\n",
       "\\textbf{No. Observations:} &          20      & \\textbf{  AIC:               } &     41.65   \\\\\n",
       "\\textbf{Df Residuals:}     &          18      & \\textbf{  BIC:               } &     43.64   \\\\\n",
       "\\textbf{Df Model:}         &           1      & \\textbf{                     } &             \\\\\n",
       "\\textbf{Covariance Type:}  &    nonrobust     & \\textbf{                     } &             \\\\\n",
       "\\bottomrule\n",
       "\\end{tabular}\n",
       "\\begin{tabular}{lcccccc}\n",
       "                   & \\textbf{coef} & \\textbf{std err} & \\textbf{t} & \\textbf{P$> |$t$|$} & \\textbf{[0.025} & \\textbf{0.975]}  \\\\\n",
       "\\midrule\n",
       "\\textbf{Intercept} &      32.2638  &        1.443     &    22.364  &         0.000        &       29.233    &       35.295     \\\\\n",
       "\\textbf{X}         &       0.0672  &        0.012     &     5.812  &         0.000        &        0.043    &        0.092     \\\\\n",
       "\\bottomrule\n",
       "\\end{tabular}\n",
       "\\begin{tabular}{lclc}\n",
       "\\textbf{Omnibus:}       &  1.482 & \\textbf{  Durbin-Watson:     } &    1.963  \\\\\n",
       "\\textbf{Prob(Omnibus):} &  0.477 & \\textbf{  Jarque-Bera (JB):  } &    0.987  \\\\\n",
       "\\textbf{Skew:}          &  0.216 & \\textbf{  Prob(JB):          } &    0.610  \\\\\n",
       "\\textbf{Kurtosis:}      &  2.001 & \\textbf{  Cond. No.          } & 1.23e+03  \\\\\n",
       "\\bottomrule\n",
       "\\end{tabular}\n",
       "%\\caption{OLS Regression Results}\n",
       "\\end{center}\n",
       "\n",
       "Notes: \\newline\n",
       " [1] Standard Errors assume that the covariance matrix of the errors is correctly specified. \\newline\n",
       " [2] The condition number is large, 1.23e+03. This might indicate that there are \\newline\n",
       " strong multicollinearity or other numerical problems."
      ],
      "text/plain": [
       "<class 'statsmodels.iolib.summary.Summary'>\n",
       "\"\"\"\n",
       "                            OLS Regression Results                            \n",
       "==============================================================================\n",
       "Dep. Variable:                      Y   R-squared:                       0.652\n",
       "Model:                            OLS   Adj. R-squared:                  0.633\n",
       "Method:                 Least Squares   F-statistic:                     33.78\n",
       "Date:                Sun, 29 Jun 2025   Prob (F-statistic):           1.66e-05\n",
       "Time:                        20:30:27   Log-Likelihood:                -18.825\n",
       "No. Observations:                  20   AIC:                             41.65\n",
       "Df Residuals:                      18   BIC:                             43.64\n",
       "Df Model:                           1                                         \n",
       "Covariance Type:            nonrobust                                         \n",
       "==============================================================================\n",
       "                 coef    std err          t      P>|t|      [0.025      0.975]\n",
       "------------------------------------------------------------------------------\n",
       "Intercept     32.2638      1.443     22.364      0.000      29.233      35.295\n",
       "X              0.0672      0.012      5.812      0.000       0.043       0.092\n",
       "==============================================================================\n",
       "Omnibus:                        1.482   Durbin-Watson:                   1.963\n",
       "Prob(Omnibus):                  0.477   Jarque-Bera (JB):                0.987\n",
       "Skew:                           0.216   Prob(JB):                        0.610\n",
       "Kurtosis:                       2.001   Cond. No.                     1.23e+03\n",
       "==============================================================================\n",
       "\n",
       "Notes:\n",
       "[1] Standard Errors assume that the covariance matrix of the errors is correctly specified.\n",
       "[2] The condition number is large, 1.23e+03. This might indicate that there are\n",
       "strong multicollinearity or other numerical problems.\n",
       "\"\"\""
      ]
     },
     "execution_count": 35,
     "metadata": {},
     "output_type": "execute_result"
    }
   ],
   "source": [
    "results_lin = smf.ols('Y ~ X', data=df).fit()\n",
    "results_lin.summary()"
   ]
  },
  {
   "cell_type": "markdown",
   "id": "fde8db07",
   "metadata": {},
   "source": [
    "## Метрики качества\n",
    "Коэффициент детерминации\n",
    "$$ R^2=1-\\frac{\\sum{(y_i-\\hat y_i)^2}}{\\sum{(y_i-\\bar y)^2}}=\\frac{\\sum{(\\hat y_i-\\bar y)^2}}{\\sum{(y_i-\\bar y)^2}} $$\n",
    "\n",
    "Ошибка аппроксимации\n",
    "$$ A=\\frac{1}{n}\\sum{\\left|\\frac{y_i-\\hat y_i}{y_i}\\right|}\\cdot100 \\% $$\n"
   ]
  },
  {
   "cell_type": "code",
   "execution_count": 36,
   "id": "b0e24835",
   "metadata": {},
   "outputs": [],
   "source": [
    "LR = lm.LinearRegression()"
   ]
  },
  {
   "cell_type": "code",
   "execution_count": 37,
   "id": "495aa14c",
   "metadata": {},
   "outputs": [],
   "source": [
    "#mod_lin = LR.fit(df[['Income']],df[['Expense']])\n",
    "mod_lin = LR.fit(X,Y)"
   ]
  },
  {
   "cell_type": "code",
   "execution_count": 38,
   "id": "cddb8ee7",
   "metadata": {},
   "outputs": [
    {
     "data": {
      "text/plain": [
       "(array([32.26383752]), array([[0.06724033]]))"
      ]
     },
     "execution_count": 38,
     "metadata": {},
     "output_type": "execute_result"
    }
   ],
   "source": [
    "mod_lin.intercept_, mod_lin.coef_"
   ]
  },
  {
   "cell_type": "code",
   "execution_count": 39,
   "id": "8e836590",
   "metadata": {},
   "outputs": [
    {
     "data": {
      "text/plain": [
       "0.6523492109817238"
      ]
     },
     "execution_count": 39,
     "metadata": {},
     "output_type": "execute_result"
    }
   ],
   "source": [
    "r2_lin = mod_lin.score(X,Y)\n",
    "r2_lin"
   ]
  },
  {
   "cell_type": "code",
   "execution_count": 40,
   "id": "7caf8794",
   "metadata": {},
   "outputs": [],
   "source": [
    "Y_lin=mod_lin.predict(X)"
   ]
  },
  {
   "cell_type": "code",
   "execution_count": 41,
   "id": "e601d14d",
   "metadata": {},
   "outputs": [
    {
     "data": {
      "text/plain": [
       "array([[38.8, 38.5, 39.3, 40. , 41. , 39.7, 40.6, 40.7, 39.4, 40. , 41.4,\n",
       "        41. , 40.7, 41.9, 40.8, 42.1, 41.7, 41.1, 41. , 42.4]])"
      ]
     },
     "execution_count": 41,
     "metadata": {},
     "output_type": "execute_result"
    }
   ],
   "source": [
    "Y.transpose()"
   ]
  },
  {
   "cell_type": "code",
   "execution_count": 42,
   "id": "52269d75",
   "metadata": {},
   "outputs": [
    {
     "data": {
      "text/plain": [
       "array([[39.18959113, 39.45855244, 39.66027341, 39.79475407, 39.86199439,\n",
       "        39.99647505, 40.06371537, 40.1309557 , 40.33267668, 40.46715733,\n",
       "        40.53439766, 40.73611864, 40.80335896, 40.87059929, 41.20680092,\n",
       "        41.54300255, 41.61024288, 41.67748321, 41.81196386, 42.34988647]])"
      ]
     },
     "execution_count": 42,
     "metadata": {},
     "output_type": "execute_result"
    }
   ],
   "source": [
    "Y_lin.transpose()"
   ]
  },
  {
   "cell_type": "code",
   "execution_count": 60,
   "id": "5e84d9cb",
   "metadata": {},
   "outputs": [
    {
     "data": {
      "text/plain": [
       "np.float64(1.3092216263089103)"
      ]
     },
     "execution_count": 60,
     "metadata": {},
     "output_type": "execute_result"
    }
   ],
   "source": [
    "n=20\n",
    "A_lin=100*(abs((Y-Y_lin)/Y)/n).sum()\n",
    "A_lin\n",
    "# ошибка аппроксимации меньше 8% => модель хорошая"
   ]
  },
  {
   "cell_type": "code",
   "execution_count": 61,
   "id": "18af1117",
   "metadata": {},
   "outputs": [
    {
     "data": {
      "text/plain": [
       "0.6523492109817238"
      ]
     },
     "execution_count": 61,
     "metadata": {},
     "output_type": "execute_result"
    }
   ],
   "source": [
    "R2_lin = r2_lin \n",
    "R2_lin"
   ]
  },
  {
   "cell_type": "markdown",
   "id": "c4729cab",
   "metadata": {},
   "source": [
    "## Степенная модель"
   ]
  },
  {
   "cell_type": "markdown",
   "id": "b5333494",
   "metadata": {},
   "source": [
    "$$ y = a x^b  \\epsilon $$\n",
    "$$ ln(y) = ln(a) + b \\cdot ln(x) + ln(\\epsilon) $$\n",
    "$$ \\hat{a} = exp(\\hat{ln(a)}) $$\n",
    "$$ \\hat{y} = \\hat{a}x^{ \\hat{b}} $$"
   ]
  },
  {
   "cell_type": "code",
   "execution_count": 45,
   "id": "f4f58d96",
   "metadata": {},
   "outputs": [],
   "source": [
    "LX=np.log(X)\n",
    "LY=np.log(Y)"
   ]
  },
  {
   "cell_type": "code",
   "execution_count": 46,
   "id": "1171c47b",
   "metadata": {},
   "outputs": [
    {
     "data": {
      "text/html": [
       "<div>\n",
       "<style scoped>\n",
       "    .dataframe tbody tr th:only-of-type {\n",
       "        vertical-align: middle;\n",
       "    }\n",
       "\n",
       "    .dataframe tbody tr th {\n",
       "        vertical-align: top;\n",
       "    }\n",
       "\n",
       "    .dataframe thead th {\n",
       "        text-align: right;\n",
       "    }\n",
       "</style>\n",
       "<table border=\"1\" class=\"dataframe\">\n",
       "  <thead>\n",
       "    <tr style=\"text-align: right;\">\n",
       "      <th></th>\n",
       "      <th>X</th>\n",
       "      <th>Y</th>\n",
       "      <th>LX</th>\n",
       "      <th>LY</th>\n",
       "    </tr>\n",
       "  </thead>\n",
       "  <tbody>\n",
       "    <tr>\n",
       "      <th>0</th>\n",
       "      <td>103.0</td>\n",
       "      <td>38.8</td>\n",
       "      <td>4.634729</td>\n",
       "      <td>3.658420</td>\n",
       "    </tr>\n",
       "    <tr>\n",
       "      <th>1</th>\n",
       "      <td>107.0</td>\n",
       "      <td>38.5</td>\n",
       "      <td>4.672829</td>\n",
       "      <td>3.650658</td>\n",
       "    </tr>\n",
       "    <tr>\n",
       "      <th>2</th>\n",
       "      <td>110.0</td>\n",
       "      <td>39.3</td>\n",
       "      <td>4.700480</td>\n",
       "      <td>3.671225</td>\n",
       "    </tr>\n",
       "    <tr>\n",
       "      <th>3</th>\n",
       "      <td>112.0</td>\n",
       "      <td>40.0</td>\n",
       "      <td>4.718499</td>\n",
       "      <td>3.688879</td>\n",
       "    </tr>\n",
       "    <tr>\n",
       "      <th>...</th>\n",
       "      <td>...</td>\n",
       "      <td>...</td>\n",
       "      <td>...</td>\n",
       "      <td>...</td>\n",
       "    </tr>\n",
       "    <tr>\n",
       "      <th>16</th>\n",
       "      <td>139.0</td>\n",
       "      <td>41.7</td>\n",
       "      <td>4.934474</td>\n",
       "      <td>3.730501</td>\n",
       "    </tr>\n",
       "    <tr>\n",
       "      <th>17</th>\n",
       "      <td>140.0</td>\n",
       "      <td>41.1</td>\n",
       "      <td>4.941642</td>\n",
       "      <td>3.716008</td>\n",
       "    </tr>\n",
       "    <tr>\n",
       "      <th>18</th>\n",
       "      <td>142.0</td>\n",
       "      <td>41.0</td>\n",
       "      <td>4.955827</td>\n",
       "      <td>3.713572</td>\n",
       "    </tr>\n",
       "    <tr>\n",
       "      <th>19</th>\n",
       "      <td>150.0</td>\n",
       "      <td>42.4</td>\n",
       "      <td>5.010635</td>\n",
       "      <td>3.747148</td>\n",
       "    </tr>\n",
       "  </tbody>\n",
       "</table>\n",
       "<p>20 rows × 4 columns</p>\n",
       "</div>"
      ],
      "text/plain": [
       "        X     Y        LX        LY\n",
       "0   103.0  38.8  4.634729  3.658420\n",
       "1   107.0  38.5  4.672829  3.650658\n",
       "2   110.0  39.3  4.700480  3.671225\n",
       "3   112.0  40.0  4.718499  3.688879\n",
       "..    ...   ...       ...       ...\n",
       "16  139.0  41.7  4.934474  3.730501\n",
       "17  140.0  41.1  4.941642  3.716008\n",
       "18  142.0  41.0  4.955827  3.713572\n",
       "19  150.0  42.4  5.010635  3.747148\n",
       "\n",
       "[20 rows x 4 columns]"
      ]
     },
     "execution_count": 46,
     "metadata": {},
     "output_type": "execute_result"
    }
   ],
   "source": [
    "data=pd.DataFrame(np.hstack([X,Y,LX,LY]), columns=['X','Y','LX','LY'])\n",
    "data"
   ]
  },
  {
   "cell_type": "code",
   "execution_count": 47,
   "id": "5692009d",
   "metadata": {},
   "outputs": [
    {
     "data": {
      "text/plain": [
       "<seaborn.axisgrid.JointGrid at 0x1266b4e10>"
      ]
     },
     "execution_count": 47,
     "metadata": {},
     "output_type": "execute_result"
    },
    {
     "data": {
      "image/png": "[encoded data removed]",
      "text/plain": [
       "<Figure size 600x600 with 3 Axes>"
      ]
     },
     "metadata": {},
     "output_type": "display_data"
    }
   ],
   "source": [
    "sns.jointplot(x='LX', y='LY', data=data, kind=\"reg\")"
   ]
  },
  {
   "cell_type": "code",
   "execution_count": 48,
   "id": "4412bae6",
   "metadata": {},
   "outputs": [
    {
     "data": {
      "text/html": [
       "<table class=\"simpletable\">\n",
       "<caption>OLS Regression Results</caption>\n",
       "<tr>\n",
       "  <th>Dep. Variable:</th>           <td>LY</td>        <th>  R-squared:         </th> <td>   0.665</td>\n",
       "</tr>\n",
       "<tr>\n",
       "  <th>Model:</th>                   <td>OLS</td>       <th>  Adj. R-squared:    </th> <td>   0.646</td>\n",
       "</tr>\n",
       "<tr>\n",
       "  <th>Method:</th>             <td>Least Squares</td>  <th>  F-statistic:       </th> <td>   35.68</td>\n",
       "</tr>\n",
       "<tr>\n",
       "  <th>Date:</th>             <td>Sun, 29 Jun 2025</td> <th>  Prob (F-statistic):</th> <td>1.19e-05</td>\n",
       "</tr>\n",
       "<tr>\n",
       "  <th>Time:</th>                 <td>20:33:47</td>     <th>  Log-Likelihood:    </th> <td>  55.525</td>\n",
       "</tr>\n",
       "<tr>\n",
       "  <th>No. Observations:</th>      <td>    20</td>      <th>  AIC:               </th> <td>  -107.1</td>\n",
       "</tr>\n",
       "<tr>\n",
       "  <th>Df Residuals:</th>          <td>    18</td>      <th>  BIC:               </th> <td>  -105.1</td>\n",
       "</tr>\n",
       "<tr>\n",
       "  <th>Df Model:</th>              <td>     1</td>      <th>                     </th>     <td> </td>   \n",
       "</tr>\n",
       "<tr>\n",
       "  <th>Covariance Type:</th>      <td>nonrobust</td>    <th>                     </th>     <td> </td>   \n",
       "</tr>\n",
       "</table>\n",
       "<table class=\"simpletable\">\n",
       "<tr>\n",
       "      <td></td>         <th>coef</th>     <th>std err</th>      <th>t</th>      <th>P>|t|</th>  <th>[0.025</th>    <th>0.975]</th>  \n",
       "</tr>\n",
       "<tr>\n",
       "  <th>Intercept</th> <td>    2.6933</td> <td>    0.169</td> <td>   15.922</td> <td> 0.000</td> <td>    2.338</td> <td>    3.049</td>\n",
       "</tr>\n",
       "<tr>\n",
       "  <th>LX</th>        <td>    0.2098</td> <td>    0.035</td> <td>    5.974</td> <td> 0.000</td> <td>    0.136</td> <td>    0.284</td>\n",
       "</tr>\n",
       "</table>\n",
       "<table class=\"simpletable\">\n",
       "<tr>\n",
       "  <th>Omnibus:</th>       <td> 1.240</td> <th>  Durbin-Watson:     </th> <td>   2.032</td>\n",
       "</tr>\n",
       "<tr>\n",
       "  <th>Prob(Omnibus):</th> <td> 0.538</td> <th>  Jarque-Bera (JB):  </th> <td>   0.895</td>\n",
       "</tr>\n",
       "<tr>\n",
       "  <th>Skew:</th>          <td> 0.191</td> <th>  Prob(JB):          </th> <td>   0.639</td>\n",
       "</tr>\n",
       "<tr>\n",
       "  <th>Kurtosis:</th>      <td> 2.037</td> <th>  Cond. No.          </th> <td>    239.</td>\n",
       "</tr>\n",
       "</table><br/><br/>Notes:<br/>[1] Standard Errors assume that the covariance matrix of the errors is correctly specified."
      ],
      "text/latex": [
       "\\begin{center}\n",
       "\\begin{tabular}{lclc}\n",
       "\\toprule\n",
       "\\textbf{Dep. Variable:}    &        LY        & \\textbf{  R-squared:         } &     0.665   \\\\\n",
       "\\textbf{Model:}            &       OLS        & \\textbf{  Adj. R-squared:    } &     0.646   \\\\\n",
       "\\textbf{Method:}           &  Least Squares   & \\textbf{  F-statistic:       } &     35.68   \\\\\n",
       "\\textbf{Date:}             & Sun, 29 Jun 2025 & \\textbf{  Prob (F-statistic):} &  1.19e-05   \\\\\n",
       "\\textbf{Time:}             &     20:33:47     & \\textbf{  Log-Likelihood:    } &    55.525   \\\\\n",
       "\\textbf{No. Observations:} &          20      & \\textbf{  AIC:               } &    -107.1   \\\\\n",
       "\\textbf{Df Residuals:}     &          18      & \\textbf{  BIC:               } &    -105.1   \\\\\n",
       "\\textbf{Df Model:}         &           1      & \\textbf{                     } &             \\\\\n",
       "\\textbf{Covariance Type:}  &    nonrobust     & \\textbf{                     } &             \\\\\n",
       "\\bottomrule\n",
       "\\end{tabular}\n",
       "\\begin{tabular}{lcccccc}\n",
       "                   & \\textbf{coef} & \\textbf{std err} & \\textbf{t} & \\textbf{P$> |$t$|$} & \\textbf{[0.025} & \\textbf{0.975]}  \\\\\n",
       "\\midrule\n",
       "\\textbf{Intercept} &       2.6933  &        0.169     &    15.922  &         0.000        &        2.338    &        3.049     \\\\\n",
       "\\textbf{LX}        &       0.2098  &        0.035     &     5.974  &         0.000        &        0.136    &        0.284     \\\\\n",
       "\\bottomrule\n",
       "\\end{tabular}\n",
       "\\begin{tabular}{lclc}\n",
       "\\textbf{Omnibus:}       &  1.240 & \\textbf{  Durbin-Watson:     } &    2.032  \\\\\n",
       "\\textbf{Prob(Omnibus):} &  0.538 & \\textbf{  Jarque-Bera (JB):  } &    0.895  \\\\\n",
       "\\textbf{Skew:}          &  0.191 & \\textbf{  Prob(JB):          } &    0.639  \\\\\n",
       "\\textbf{Kurtosis:}      &  2.037 & \\textbf{  Cond. No.          } &     239.  \\\\\n",
       "\\bottomrule\n",
       "\\end{tabular}\n",
       "%\\caption{OLS Regression Results}\n",
       "\\end{center}\n",
       "\n",
       "Notes: \\newline\n",
       " [1] Standard Errors assume that the covariance matrix of the errors is correctly specified."
      ],
      "text/plain": [
       "<class 'statsmodels.iolib.summary.Summary'>\n",
       "\"\"\"\n",
       "                            OLS Regression Results                            \n",
       "==============================================================================\n",
       "Dep. Variable:                     LY   R-squared:                       0.665\n",
       "Model:                            OLS   Adj. R-squared:                  0.646\n",
       "Method:                 Least Squares   F-statistic:                     35.68\n",
       "Date:                Sun, 29 Jun 2025   Prob (F-statistic):           1.19e-05\n",
       "Time:                        20:33:47   Log-Likelihood:                 55.525\n",
       "No. Observations:                  20   AIC:                            -107.1\n",
       "Df Residuals:                      18   BIC:                            -105.1\n",
       "Df Model:                           1                                         \n",
       "Covariance Type:            nonrobust                                         \n",
       "==============================================================================\n",
       "                 coef    std err          t      P>|t|      [0.025      0.975]\n",
       "------------------------------------------------------------------------------\n",
       "Intercept      2.6933      0.169     15.922      0.000       2.338       3.049\n",
       "LX             0.2098      0.035      5.974      0.000       0.136       0.284\n",
       "==============================================================================\n",
       "Omnibus:                        1.240   Durbin-Watson:                   2.032\n",
       "Prob(Omnibus):                  0.538   Jarque-Bera (JB):                0.895\n",
       "Skew:                           0.191   Prob(JB):                        0.639\n",
       "Kurtosis:                       2.037   Cond. No.                         239.\n",
       "==============================================================================\n",
       "\n",
       "Notes:\n",
       "[1] Standard Errors assume that the covariance matrix of the errors is correctly specified.\n",
       "\"\"\""
      ]
     },
     "execution_count": 48,
     "metadata": {},
     "output_type": "execute_result"
    }
   ],
   "source": [
    "results_pow = smf.ols('LY ~ LX', data=df).fit()\n",
    "results_pow.summary()"
   ]
  },
  {
   "cell_type": "code",
   "execution_count": 49,
   "id": "0ba1cc5b",
   "metadata": {},
   "outputs": [],
   "source": [
    "mod_pow = LR.fit(LX,LY)"
   ]
  },
  {
   "cell_type": "code",
   "execution_count": 50,
   "id": "bcef38f2",
   "metadata": {},
   "outputs": [
    {
     "data": {
      "text/plain": [
       "0.6647029603480158"
      ]
     },
     "execution_count": 50,
     "metadata": {},
     "output_type": "execute_result"
    }
   ],
   "source": [
    "r2_pow = mod_pow.score(LX,LY)\n",
    "r2_pow"
   ]
  },
  {
   "cell_type": "code",
   "execution_count": 51,
   "id": "f0985c28",
   "metadata": {},
   "outputs": [],
   "source": [
    "Y_pow=mod_pow.predict(LX)"
   ]
  },
  {
   "cell_type": "code",
   "execution_count": 52,
   "id": "5cc2efd2",
   "metadata": {},
   "outputs": [
    {
     "data": {
      "text/plain": [
       "array([[3.6656198 , 3.67361265, 3.67941358, 3.68319363, 3.68505841,\n",
       "        3.68873898, 3.69055533, 3.69235609, 3.69766743, 3.70113506,\n",
       "        3.70284762, 3.70790297, 3.70956137, 3.71120677, 3.71924556,\n",
       "        3.72698766, 3.72850237, 3.73000623, 3.73298198, 3.74448003]])"
      ]
     },
     "execution_count": 52,
     "metadata": {},
     "output_type": "execute_result"
    }
   ],
   "source": [
    "Y_pow.transpose()"
   ]
  },
  {
   "cell_type": "code",
   "execution_count": 53,
   "id": "75da9de2",
   "metadata": {},
   "outputs": [
    {
     "data": {
      "text/plain": [
       "array([[39.08035076, 39.39396578, 39.62315151, 39.77321231, 39.84745   ,\n",
       "        39.99438142, 40.06709116, 40.13930727, 40.35306815, 40.49324061,\n",
       "        40.56264695, 40.76822457, 40.83589082, 40.90313734, 41.23327452,\n",
       "        41.55374533, 41.61673505, 41.67936768, 41.80357982, 42.28701346]])"
      ]
     },
     "execution_count": 53,
     "metadata": {},
     "output_type": "execute_result"
    }
   ],
   "source": [
    "Y_pow=np.exp(Y_pow)\n",
    "Y_pow.transpose()"
   ]
  },
  {
   "cell_type": "code",
   "execution_count": 54,
   "id": "48f03f2d",
   "metadata": {},
   "outputs": [
    {
     "name": "stdout",
     "output_type": "stream",
     "text": [
      "1.3092 1.2912\n"
     ]
    }
   ],
   "source": [
    "A_pow=100*(abs((Y-Y_pow)/Y)/n).sum(); \n",
    "print (A_lin.round(4), A_pow.round(4))"
   ]
  },
  {
   "cell_type": "code",
   "execution_count": 58,
   "id": "a6aac460",
   "metadata": {},
   "outputs": [
    {
     "name": "stdout",
     "output_type": "stream",
     "text": [
      "0.6523 0.6632\n"
     ]
    }
   ],
   "source": [
    "RSS = ((Y-Y_pow)**2).sum()\n",
    "TSS = ((Y-Y.mean())**2).sum()\n",
    "R2_pow = 1 - RSS/TSS \n",
    "print (round(R2_lin, 4), round(R2_pow, 4))"
   ]
  },
  {
   "cell_type": "markdown",
   "id": "81e4d9e6",
   "metadata": {},
   "source": [
    "## Экспоненциальная модель"
   ]
  },
  {
   "cell_type": "markdown",
   "id": "34c7780a",
   "metadata": {},
   "source": [
    "$$ y = a e^{bx}  \\epsilon $$\n",
    "$$ ln(y) = ln(a) + b x + ln(\\epsilon) $$\n",
    "$$ \\hat{a} = exp(\\hat{ln(a)}) $$\n",
    "$$ \\hat{y} = \\hat{a}e^{ \\hat{b}x} $$"
   ]
  },
  {
   "cell_type": "code",
   "execution_count": 74,
   "id": "19db0bae",
   "metadata": {},
   "outputs": [
    {
     "data": {
      "text/plain": [
       "<seaborn.axisgrid.JointGrid at 0x1265422c0>"
      ]
     },
     "execution_count": 74,
     "metadata": {},
     "output_type": "execute_result"
    },
    {
     "data": {
      "image/png": "[encoded data removed]",
      "text/plain": [
       "<Figure size 600x600 with 3 Axes>"
      ]
     },
     "metadata": {},
     "output_type": "display_data"
    }
   ],
   "source": [
    "sns.jointplot(x='X', y='LY', data=data, kind=\"reg\")\n",
    "# ухадшилась модель, так как у экспоненты выпуклость вниз, широкий интервал на графике"
   ]
  },
  {
   "cell_type": "code",
   "execution_count": 64,
   "id": "fd90671b",
   "metadata": {},
   "outputs": [
    {
     "data": {
      "text/html": [
       "<table class=\"simpletable\">\n",
       "<caption>OLS Regression Results</caption>\n",
       "<tr>\n",
       "  <th>Dep. Variable:</th>           <td>LY</td>        <th>  R-squared:         </th> <td>   0.650</td>\n",
       "</tr>\n",
       "<tr>\n",
       "  <th>Model:</th>                   <td>OLS</td>       <th>  Adj. R-squared:    </th> <td>   0.631</td>\n",
       "</tr>\n",
       "<tr>\n",
       "  <th>Method:</th>             <td>Least Squares</td>  <th>  F-statistic:       </th> <td>   33.48</td>\n",
       "</tr>\n",
       "<tr>\n",
       "  <th>Date:</th>             <td>Sun, 29 Jun 2025</td> <th>  Prob (F-statistic):</th> <td>1.75e-05</td>\n",
       "</tr>\n",
       "<tr>\n",
       "  <th>Time:</th>                 <td>23:24:17</td>     <th>  Log-Likelihood:    </th> <td>  55.106</td>\n",
       "</tr>\n",
       "<tr>\n",
       "  <th>No. Observations:</th>      <td>    20</td>      <th>  AIC:               </th> <td>  -106.2</td>\n",
       "</tr>\n",
       "<tr>\n",
       "  <th>Df Residuals:</th>          <td>    18</td>      <th>  BIC:               </th> <td>  -104.2</td>\n",
       "</tr>\n",
       "<tr>\n",
       "  <th>Df Model:</th>              <td>     1</td>      <th>                     </th>     <td> </td>   \n",
       "</tr>\n",
       "<tr>\n",
       "  <th>Covariance Type:</th>      <td>nonrobust</td>    <th>                     </th>     <td> </td>   \n",
       "</tr>\n",
       "</table>\n",
       "<table class=\"simpletable\">\n",
       "<tr>\n",
       "      <td></td>         <th>coef</th>     <th>std err</th>      <th>t</th>      <th>P>|t|</th>  <th>[0.025</th>    <th>0.975]</th>  \n",
       "</tr>\n",
       "<tr>\n",
       "  <th>Intercept</th> <td>    3.4975</td> <td>    0.036</td> <td>   97.723</td> <td> 0.000</td> <td>    3.422</td> <td>    3.573</td>\n",
       "</tr>\n",
       "<tr>\n",
       "  <th>X</th>         <td>    0.0017</td> <td>    0.000</td> <td>    5.786</td> <td> 0.000</td> <td>    0.001</td> <td>    0.002</td>\n",
       "</tr>\n",
       "</table>\n",
       "<table class=\"simpletable\">\n",
       "<tr>\n",
       "  <th>Omnibus:</th>       <td> 1.382</td> <th>  Durbin-Watson:     </th> <td>   1.927</td>\n",
       "</tr>\n",
       "<tr>\n",
       "  <th>Prob(Omnibus):</th> <td> 0.501</td> <th>  Jarque-Bera (JB):  </th> <td>   0.948</td>\n",
       "</tr>\n",
       "<tr>\n",
       "  <th>Skew:</th>          <td> 0.204</td> <th>  Prob(JB):          </th> <td>   0.623</td>\n",
       "</tr>\n",
       "<tr>\n",
       "  <th>Kurtosis:</th>      <td> 2.015</td> <th>  Cond. No.          </th> <td>1.23e+03</td>\n",
       "</tr>\n",
       "</table><br/><br/>Notes:<br/>[1] Standard Errors assume that the covariance matrix of the errors is correctly specified.<br/>[2] The condition number is large, 1.23e+03. This might indicate that there are<br/>strong multicollinearity or other numerical problems."
      ],
      "text/latex": [
       "\\begin{center}\n",
       "\\begin{tabular}{lclc}\n",
       "\\toprule\n",
       "\\textbf{Dep. Variable:}    &        LY        & \\textbf{  R-squared:         } &     0.650   \\\\\n",
       "\\textbf{Model:}            &       OLS        & \\textbf{  Adj. R-squared:    } &     0.631   \\\\\n",
       "\\textbf{Method:}           &  Least Squares   & \\textbf{  F-statistic:       } &     33.48   \\\\\n",
       "\\textbf{Date:}             & Sun, 29 Jun 2025 & \\textbf{  Prob (F-statistic):} &  1.75e-05   \\\\\n",
       "\\textbf{Time:}             &     23:24:17     & \\textbf{  Log-Likelihood:    } &    55.106   \\\\\n",
       "\\textbf{No. Observations:} &          20      & \\textbf{  AIC:               } &    -106.2   \\\\\n",
       "\\textbf{Df Residuals:}     &          18      & \\textbf{  BIC:               } &    -104.2   \\\\\n",
       "\\textbf{Df Model:}         &           1      & \\textbf{                     } &             \\\\\n",
       "\\textbf{Covariance Type:}  &    nonrobust     & \\textbf{                     } &             \\\\\n",
       "\\bottomrule\n",
       "\\end{tabular}\n",
       "\\begin{tabular}{lcccccc}\n",
       "                   & \\textbf{coef} & \\textbf{std err} & \\textbf{t} & \\textbf{P$> |$t$|$} & \\textbf{[0.025} & \\textbf{0.975]}  \\\\\n",
       "\\midrule\n",
       "\\textbf{Intercept} &       3.4975  &        0.036     &    97.723  &         0.000        &        3.422    &        3.573     \\\\\n",
       "\\textbf{X}         &       0.0017  &        0.000     &     5.786  &         0.000        &        0.001    &        0.002     \\\\\n",
       "\\bottomrule\n",
       "\\end{tabular}\n",
       "\\begin{tabular}{lclc}\n",
       "\\textbf{Omnibus:}       &  1.382 & \\textbf{  Durbin-Watson:     } &    1.927  \\\\\n",
       "\\textbf{Prob(Omnibus):} &  0.501 & \\textbf{  Jarque-Bera (JB):  } &    0.948  \\\\\n",
       "\\textbf{Skew:}          &  0.204 & \\textbf{  Prob(JB):          } &    0.623  \\\\\n",
       "\\textbf{Kurtosis:}      &  2.015 & \\textbf{  Cond. No.          } & 1.23e+03  \\\\\n",
       "\\bottomrule\n",
       "\\end{tabular}\n",
       "%\\caption{OLS Regression Results}\n",
       "\\end{center}\n",
       "\n",
       "Notes: \\newline\n",
       " [1] Standard Errors assume that the covariance matrix of the errors is correctly specified. \\newline\n",
       " [2] The condition number is large, 1.23e+03. This might indicate that there are \\newline\n",
       " strong multicollinearity or other numerical problems."
      ],
      "text/plain": [
       "<class 'statsmodels.iolib.summary.Summary'>\n",
       "\"\"\"\n",
       "                            OLS Regression Results                            \n",
       "==============================================================================\n",
       "Dep. Variable:                     LY   R-squared:                       0.650\n",
       "Model:                            OLS   Adj. R-squared:                  0.631\n",
       "Method:                 Least Squares   F-statistic:                     33.48\n",
       "Date:                Sun, 29 Jun 2025   Prob (F-statistic):           1.75e-05\n",
       "Time:                        23:24:17   Log-Likelihood:                 55.106\n",
       "No. Observations:                  20   AIC:                            -106.2\n",
       "Df Residuals:                      18   BIC:                            -104.2\n",
       "Df Model:                           1                                         \n",
       "Covariance Type:            nonrobust                                         \n",
       "==============================================================================\n",
       "                 coef    std err          t      P>|t|      [0.025      0.975]\n",
       "------------------------------------------------------------------------------\n",
       "Intercept      3.4975      0.036     97.723      0.000       3.422       3.573\n",
       "X              0.0017      0.000      5.786      0.000       0.001       0.002\n",
       "==============================================================================\n",
       "Omnibus:                        1.382   Durbin-Watson:                   1.927\n",
       "Prob(Omnibus):                  0.501   Jarque-Bera (JB):                0.948\n",
       "Skew:                           0.204   Prob(JB):                        0.623\n",
       "Kurtosis:                       2.015   Cond. No.                     1.23e+03\n",
       "==============================================================================\n",
       "\n",
       "Notes:\n",
       "[1] Standard Errors assume that the covariance matrix of the errors is correctly specified.\n",
       "[2] The condition number is large, 1.23e+03. This might indicate that there are\n",
       "strong multicollinearity or other numerical problems.\n",
       "\"\"\""
      ]
     },
     "execution_count": 64,
     "metadata": {},
     "output_type": "execute_result"
    }
   ],
   "source": [
    "results_exp = smf.ols('LY ~ X', data=df).fit()\n",
    "results_exp.summary()"
   ]
  },
  {
   "cell_type": "code",
   "execution_count": 65,
   "id": "13028d49",
   "metadata": {},
   "outputs": [],
   "source": [
    "mod_exp = LR.fit(X,LY)"
   ]
  },
  {
   "cell_type": "code",
   "execution_count": 66,
   "id": "ff4e7f81",
   "metadata": {},
   "outputs": [
    {
     "data": {
      "text/plain": [
       "0.6503618589937877"
      ]
     },
     "execution_count": 66,
     "metadata": {},
     "output_type": "execute_result"
    }
   ],
   "source": [
    "r2_exp = mod_exp.score(X,LY)\n",
    "r2_exp"
   ]
  },
  {
   "cell_type": "code",
   "execution_count": 68,
   "id": "20b26e44",
   "metadata": {},
   "outputs": [
    {
     "data": {
      "text/plain": [
       "array([[3.66859274, 3.67523615, 3.68021871, 3.68354041, 3.68520126,\n",
       "        3.68852297, 3.69018382, 3.69184467, 3.69682723, 3.70014893,\n",
       "        3.70180978, 3.70679234, 3.70845319, 3.71011404, 3.7184183 ,\n",
       "        3.72672256, 3.72838341, 3.73004426, 3.73336597, 3.74665278]])"
      ]
     },
     "execution_count": 68,
     "metadata": {},
     "output_type": "execute_result"
    }
   ],
   "source": [
    "Y_exp=mod_exp.predict(X)\n",
    "Y_exp.transpose()"
   ]
  },
  {
   "cell_type": "code",
   "execution_count": 69,
   "id": "10c052d6",
   "metadata": {},
   "outputs": [
    {
     "data": {
      "text/plain": [
       "array([[39.19670722, 39.45797381, 39.65506596, 39.78700735, 39.85314258,\n",
       "        39.98574302, 40.0522086 , 40.11878466, 40.31917755, 40.4533286 ,\n",
       "        40.52057141, 40.72297123, 40.79066225, 40.85846578, 41.1991778 ,\n",
       "        41.54273096, 41.61178461, 41.68095305, 41.81963503, 42.37899259]])"
      ]
     },
     "execution_count": 69,
     "metadata": {},
     "output_type": "execute_result"
    }
   ],
   "source": [
    "Y_exp=np.exp(Y_exp)\n",
    "Y_exp.transpose()"
   ]
  },
  {
   "cell_type": "code",
   "execution_count": 70,
   "id": "c0db684e",
   "metadata": {},
   "outputs": [
    {
     "name": "stdout",
     "output_type": "stream",
     "text": [
      "1.3092 1.2912 1.3096\n"
     ]
    }
   ],
   "source": [
    "A_exp=100*(abs((Y-Y_exp)/Y)/n).sum(); \n",
    "print (A_lin.round(4), A_pow.round(4), A_exp.round(4))"
   ]
  },
  {
   "cell_type": "code",
   "execution_count": 72,
   "id": "aaa3e957",
   "metadata": {},
   "outputs": [
    {
     "name": "stdout",
     "output_type": "stream",
     "text": [
      "0.6523 0.6632 0.6492\n"
     ]
    }
   ],
   "source": [
    "RSS = ((Y-Y_exp)**2).sum()\n",
    "TSS = ((Y-Y.mean())**2).sum()\n",
    "R2_exp = 1 - RSS/TSS \n",
    "print (round(R2_lin, 4), round(R2_pow, 4), round(R2_exp, 4))"
   ]
  },
  {
   "cell_type": "markdown",
   "id": "a9ac7134",
   "metadata": {},
   "source": [
    "## Параболическая модель"
   ]
  },
  {
   "cell_type": "markdown",
   "id": "1d337a51",
   "metadata": {},
   "source": [
    "$$ y = a + b \\sqrt {x} + \\epsilon $$\n",
    "$$ \\hat{y} = \\hat{a} + \\hat{b} \\sqrt {x} $$"
   ]
  },
  {
   "cell_type": "code",
   "execution_count": 75,
   "id": "b44d3faf",
   "metadata": {},
   "outputs": [],
   "source": [
    "SX=np.sqrt(X)"
   ]
  },
  {
   "cell_type": "code",
   "execution_count": 76,
   "id": "b702aefa",
   "metadata": {},
   "outputs": [
    {
     "data": {
      "text/html": [
       "<div>\n",
       "<style scoped>\n",
       "    .dataframe tbody tr th:only-of-type {\n",
       "        vertical-align: middle;\n",
       "    }\n",
       "\n",
       "    .dataframe tbody tr th {\n",
       "        vertical-align: top;\n",
       "    }\n",
       "\n",
       "    .dataframe thead th {\n",
       "        text-align: right;\n",
       "    }\n",
       "</style>\n",
       "<table border=\"1\" class=\"dataframe\">\n",
       "  <thead>\n",
       "    <tr style=\"text-align: right;\">\n",
       "      <th></th>\n",
       "      <th>X</th>\n",
       "      <th>Y</th>\n",
       "      <th>LX</th>\n",
       "      <th>LY</th>\n",
       "      <th>SX</th>\n",
       "    </tr>\n",
       "  </thead>\n",
       "  <tbody>\n",
       "    <tr>\n",
       "      <th>0</th>\n",
       "      <td>103.0</td>\n",
       "      <td>38.8</td>\n",
       "      <td>4.634729</td>\n",
       "      <td>3.658420</td>\n",
       "      <td>10.148892</td>\n",
       "    </tr>\n",
       "    <tr>\n",
       "      <th>1</th>\n",
       "      <td>107.0</td>\n",
       "      <td>38.5</td>\n",
       "      <td>4.672829</td>\n",
       "      <td>3.650658</td>\n",
       "      <td>10.344080</td>\n",
       "    </tr>\n",
       "    <tr>\n",
       "      <th>2</th>\n",
       "      <td>110.0</td>\n",
       "      <td>39.3</td>\n",
       "      <td>4.700480</td>\n",
       "      <td>3.671225</td>\n",
       "      <td>10.488088</td>\n",
       "    </tr>\n",
       "    <tr>\n",
       "      <th>3</th>\n",
       "      <td>112.0</td>\n",
       "      <td>40.0</td>\n",
       "      <td>4.718499</td>\n",
       "      <td>3.688879</td>\n",
       "      <td>10.583005</td>\n",
       "    </tr>\n",
       "    <tr>\n",
       "      <th>...</th>\n",
       "      <td>...</td>\n",
       "      <td>...</td>\n",
       "      <td>...</td>\n",
       "      <td>...</td>\n",
       "      <td>...</td>\n",
       "    </tr>\n",
       "    <tr>\n",
       "      <th>16</th>\n",
       "      <td>139.0</td>\n",
       "      <td>41.7</td>\n",
       "      <td>4.934474</td>\n",
       "      <td>3.730501</td>\n",
       "      <td>11.789826</td>\n",
       "    </tr>\n",
       "    <tr>\n",
       "      <th>17</th>\n",
       "      <td>140.0</td>\n",
       "      <td>41.1</td>\n",
       "      <td>4.941642</td>\n",
       "      <td>3.716008</td>\n",
       "      <td>11.832160</td>\n",
       "    </tr>\n",
       "    <tr>\n",
       "      <th>18</th>\n",
       "      <td>142.0</td>\n",
       "      <td>41.0</td>\n",
       "      <td>4.955827</td>\n",
       "      <td>3.713572</td>\n",
       "      <td>11.916375</td>\n",
       "    </tr>\n",
       "    <tr>\n",
       "      <th>19</th>\n",
       "      <td>150.0</td>\n",
       "      <td>42.4</td>\n",
       "      <td>5.010635</td>\n",
       "      <td>3.747148</td>\n",
       "      <td>12.247449</td>\n",
       "    </tr>\n",
       "  </tbody>\n",
       "</table>\n",
       "<p>20 rows × 5 columns</p>\n",
       "</div>"
      ],
      "text/plain": [
       "        X     Y        LX        LY         SX\n",
       "0   103.0  38.8  4.634729  3.658420  10.148892\n",
       "1   107.0  38.5  4.672829  3.650658  10.344080\n",
       "2   110.0  39.3  4.700480  3.671225  10.488088\n",
       "3   112.0  40.0  4.718499  3.688879  10.583005\n",
       "..    ...   ...       ...       ...        ...\n",
       "16  139.0  41.7  4.934474  3.730501  11.789826\n",
       "17  140.0  41.1  4.941642  3.716008  11.832160\n",
       "18  142.0  41.0  4.955827  3.713572  11.916375\n",
       "19  150.0  42.4  5.010635  3.747148  12.247449\n",
       "\n",
       "[20 rows x 5 columns]"
      ]
     },
     "execution_count": 76,
     "metadata": {},
     "output_type": "execute_result"
    }
   ],
   "source": [
    "data[['SX']]=SX\n",
    "data"
   ]
  },
  {
   "cell_type": "code",
   "execution_count": 78,
   "id": "7c2a5970",
   "metadata": {},
   "outputs": [
    {
     "data": {
      "text/plain": [
       "<seaborn.axisgrid.JointGrid at 0x1269bbe30>"
      ]
     },
     "execution_count": 78,
     "metadata": {},
     "output_type": "execute_result"
    },
    {
     "data": {
      "image/png": "[encoded data removed]",
      "text/plain": [
       "<Figure size 600x600 with 3 Axes>"
      ]
     },
     "metadata": {},
     "output_type": "display_data"
    }
   ],
   "source": [
    "sns.jointplot(x='SX', y='Y', data=data, kind=\"reg\")"
   ]
  },
  {
   "cell_type": "code",
   "execution_count": 79,
   "id": "5f91b086",
   "metadata": {},
   "outputs": [
    {
     "data": {
      "text/html": [
       "<table class=\"simpletable\">\n",
       "<caption>OLS Regression Results</caption>\n",
       "<tr>\n",
       "  <th>Dep. Variable:</th>            <td>Y</td>        <th>  R-squared:         </th> <td>   0.659</td>\n",
       "</tr>\n",
       "<tr>\n",
       "  <th>Model:</th>                   <td>OLS</td>       <th>  Adj. R-squared:    </th> <td>   0.641</td>\n",
       "</tr>\n",
       "<tr>\n",
       "  <th>Method:</th>             <td>Least Squares</td>  <th>  F-statistic:       </th> <td>   34.85</td>\n",
       "</tr>\n",
       "<tr>\n",
       "  <th>Date:</th>             <td>Sun, 29 Jun 2025</td> <th>  Prob (F-statistic):</th> <td>1.37e-05</td>\n",
       "</tr>\n",
       "<tr>\n",
       "  <th>Time:</th>                 <td>23:44:37</td>     <th>  Log-Likelihood:    </th> <td> -18.619</td>\n",
       "</tr>\n",
       "<tr>\n",
       "  <th>No. Observations:</th>      <td>    20</td>      <th>  AIC:               </th> <td>   41.24</td>\n",
       "</tr>\n",
       "<tr>\n",
       "  <th>Df Residuals:</th>          <td>    18</td>      <th>  BIC:               </th> <td>   43.23</td>\n",
       "</tr>\n",
       "<tr>\n",
       "  <th>Df Model:</th>              <td>     1</td>      <th>                     </th>     <td> </td>   \n",
       "</tr>\n",
       "<tr>\n",
       "  <th>Covariance Type:</th>      <td>nonrobust</td>    <th>                     </th>     <td> </td>   \n",
       "</tr>\n",
       "</table>\n",
       "<table class=\"simpletable\">\n",
       "<tr>\n",
       "      <td></td>         <th>coef</th>     <th>std err</th>      <th>t</th>      <th>P>|t|</th>  <th>[0.025</th>    <th>0.975]</th>  \n",
       "</tr>\n",
       "<tr>\n",
       "  <th>Intercept</th> <td>   23.7734</td> <td>    2.855</td> <td>    8.328</td> <td> 0.000</td> <td>   17.776</td> <td>   29.771</td>\n",
       "</tr>\n",
       "<tr>\n",
       "  <th>SX</th>        <td>    1.5132</td> <td>    0.256</td> <td>    5.904</td> <td> 0.000</td> <td>    0.975</td> <td>    2.052</td>\n",
       "</tr>\n",
       "</table>\n",
       "<table class=\"simpletable\">\n",
       "<tr>\n",
       "  <th>Omnibus:</th>       <td> 1.415</td> <th>  Durbin-Watson:     </th> <td>   2.016</td>\n",
       "</tr>\n",
       "<tr>\n",
       "  <th>Prob(Omnibus):</th> <td> 0.493</td> <th>  Jarque-Bera (JB):  </th> <td>   0.962</td>\n",
       "</tr>\n",
       "<tr>\n",
       "  <th>Skew:</th>          <td> 0.209</td> <th>  Prob(JB):          </th> <td>   0.618</td>\n",
       "</tr>\n",
       "<tr>\n",
       "  <th>Kurtosis:</th>      <td> 2.010</td> <th>  Cond. No.          </th> <td>    222.</td>\n",
       "</tr>\n",
       "</table><br/><br/>Notes:<br/>[1] Standard Errors assume that the covariance matrix of the errors is correctly specified."
      ],
      "text/latex": [
       "\\begin{center}\n",
       "\\begin{tabular}{lclc}\n",
       "\\toprule\n",
       "\\textbf{Dep. Variable:}    &        Y         & \\textbf{  R-squared:         } &     0.659   \\\\\n",
       "\\textbf{Model:}            &       OLS        & \\textbf{  Adj. R-squared:    } &     0.641   \\\\\n",
       "\\textbf{Method:}           &  Least Squares   & \\textbf{  F-statistic:       } &     34.85   \\\\\n",
       "\\textbf{Date:}             & Sun, 29 Jun 2025 & \\textbf{  Prob (F-statistic):} &  1.37e-05   \\\\\n",
       "\\textbf{Time:}             &     23:44:37     & \\textbf{  Log-Likelihood:    } &   -18.619   \\\\\n",
       "\\textbf{No. Observations:} &          20      & \\textbf{  AIC:               } &     41.24   \\\\\n",
       "\\textbf{Df Residuals:}     &          18      & \\textbf{  BIC:               } &     43.23   \\\\\n",
       "\\textbf{Df Model:}         &           1      & \\textbf{                     } &             \\\\\n",
       "\\textbf{Covariance Type:}  &    nonrobust     & \\textbf{                     } &             \\\\\n",
       "\\bottomrule\n",
       "\\end{tabular}\n",
       "\\begin{tabular}{lcccccc}\n",
       "                   & \\textbf{coef} & \\textbf{std err} & \\textbf{t} & \\textbf{P$> |$t$|$} & \\textbf{[0.025} & \\textbf{0.975]}  \\\\\n",
       "\\midrule\n",
       "\\textbf{Intercept} &      23.7734  &        2.855     &     8.328  &         0.000        &       17.776    &       29.771     \\\\\n",
       "\\textbf{SX}        &       1.5132  &        0.256     &     5.904  &         0.000        &        0.975    &        2.052     \\\\\n",
       "\\bottomrule\n",
       "\\end{tabular}\n",
       "\\begin{tabular}{lclc}\n",
       "\\textbf{Omnibus:}       &  1.415 & \\textbf{  Durbin-Watson:     } &    2.016  \\\\\n",
       "\\textbf{Prob(Omnibus):} &  0.493 & \\textbf{  Jarque-Bera (JB):  } &    0.962  \\\\\n",
       "\\textbf{Skew:}          &  0.209 & \\textbf{  Prob(JB):          } &    0.618  \\\\\n",
       "\\textbf{Kurtosis:}      &  2.010 & \\textbf{  Cond. No.          } &     222.  \\\\\n",
       "\\bottomrule\n",
       "\\end{tabular}\n",
       "%\\caption{OLS Regression Results}\n",
       "\\end{center}\n",
       "\n",
       "Notes: \\newline\n",
       " [1] Standard Errors assume that the covariance matrix of the errors is correctly specified."
      ],
      "text/plain": [
       "<class 'statsmodels.iolib.summary.Summary'>\n",
       "\"\"\"\n",
       "                            OLS Regression Results                            \n",
       "==============================================================================\n",
       "Dep. Variable:                      Y   R-squared:                       0.659\n",
       "Model:                            OLS   Adj. R-squared:                  0.641\n",
       "Method:                 Least Squares   F-statistic:                     34.85\n",
       "Date:                Sun, 29 Jun 2025   Prob (F-statistic):           1.37e-05\n",
       "Time:                        23:44:37   Log-Likelihood:                -18.619\n",
       "No. Observations:                  20   AIC:                             41.24\n",
       "Df Residuals:                      18   BIC:                             43.23\n",
       "Df Model:                           1                                         \n",
       "Covariance Type:            nonrobust                                         \n",
       "==============================================================================\n",
       "                 coef    std err          t      P>|t|      [0.025      0.975]\n",
       "------------------------------------------------------------------------------\n",
       "Intercept     23.7734      2.855      8.328      0.000      17.776      29.771\n",
       "SX             1.5132      0.256      5.904      0.000       0.975       2.052\n",
       "==============================================================================\n",
       "Omnibus:                        1.415   Durbin-Watson:                   2.016\n",
       "Prob(Omnibus):                  0.493   Jarque-Bera (JB):                0.962\n",
       "Skew:                           0.209   Prob(JB):                        0.618\n",
       "Kurtosis:                       2.010   Cond. No.                         222.\n",
       "==============================================================================\n",
       "\n",
       "Notes:\n",
       "[1] Standard Errors assume that the covariance matrix of the errors is correctly specified.\n",
       "\"\"\""
      ]
     },
     "execution_count": 79,
     "metadata": {},
     "output_type": "execute_result"
    }
   ],
   "source": [
    "results_par = smf.ols('Y ~ SX', data=df).fit()\n",
    "results_par.summary()"
   ]
  },
  {
   "cell_type": "code",
   "execution_count": 80,
   "id": "4d60b600",
   "metadata": {},
   "outputs": [],
   "source": [
    "mod_par = LR.fit(SX,Y)"
   ]
  },
  {
   "cell_type": "code",
   "execution_count": 81,
   "id": "4587a7ae",
   "metadata": {},
   "outputs": [
    {
     "data": {
      "text/plain": [
       "0.6594390478344883"
      ]
     },
     "execution_count": 81,
     "metadata": {},
     "output_type": "execute_result"
    }
   ],
   "source": [
    "r2_par = mod_par.score(SX,Y)\n",
    "r2_par"
   ]
  },
  {
   "cell_type": "code",
   "execution_count": 82,
   "id": "a220d9b8",
   "metadata": {},
   "outputs": [
    {
     "data": {
      "text/plain": [
       "array([[39.13031831, 39.4256715 , 39.64357961, 39.78720444, 39.85853596,\n",
       "        40.00025831, 40.07065734, 40.14075357, 40.34926382, 40.48682556,\n",
       "        40.55518358, 40.75860706, 40.82587563, 40.89287989, 41.2240425 ,\n",
       "        41.54903659, 41.61332497, 41.6773825 , 41.80481488, 42.30578399]])"
      ]
     },
     "execution_count": 82,
     "metadata": {},
     "output_type": "execute_result"
    }
   ],
   "source": [
    "Y_par=mod_par.predict(SX)\n",
    "Y_par.transpose()"
   ]
  },
  {
   "cell_type": "code",
   "execution_count": 83,
   "id": "4f6d5f26",
   "metadata": {},
   "outputs": [
    {
     "name": "stdout",
     "output_type": "stream",
     "text": [
      "1.3092 1.2912 1.3096 1.2997\n"
     ]
    }
   ],
   "source": [
    "A_par=100*(abs((Y-Y_par)/Y)/n).sum(); \n",
    "print (A_lin.round(4), A_pow.round(4), A_exp.round(4), A_par.round(4))"
   ]
  },
  {
   "cell_type": "code",
   "execution_count": 85,
   "id": "2ada80ca",
   "metadata": {},
   "outputs": [
    {
     "name": "stdout",
     "output_type": "stream",
     "text": [
      "0.6523 0.6632 0.6492 0.6594\n"
     ]
    }
   ],
   "source": [
    "R2_par=r2_par\n",
    "print (round(R2_lin, 4), round(R2_pow, 4), round(R2_exp, 4), round(R2_par, 4))"
   ]
  },
  {
   "cell_type": "markdown",
   "id": "c143e9a0",
   "metadata": {},
   "source": [
    "## Логарифмическая модель"
   ]
  },
  {
   "cell_type": "markdown",
   "id": "c9ba9d43",
   "metadata": {},
   "source": [
    "$$ y = a + b \\cdot ln(x) + \\epsilon $$\n",
    "$$ \\hat{y} = \\hat{a} + \\hat{b} \\cdot ln(x) $$"
   ]
  },
  {
   "cell_type": "code",
   "execution_count": 87,
   "id": "77c4ef38",
   "metadata": {},
   "outputs": [
    {
     "data": {
      "text/plain": [
       "<seaborn.axisgrid.JointGrid at 0x1222e5d00>"
      ]
     },
     "execution_count": 87,
     "metadata": {},
     "output_type": "execute_result"
    },
    {
     "data": {
      "image/png": "[encoded data removed]",
      "text/plain": [
       "<Figure size 600x600 with 3 Axes>"
      ]
     },
     "metadata": {},
     "output_type": "display_data"
    }
   ],
   "source": [
    "sns.jointplot(x='LX', y='Y', data=data, kind=\"reg\")"
   ]
  },
  {
   "cell_type": "code",
   "execution_count": 88,
   "id": "dc6f4750",
   "metadata": {},
   "outputs": [
    {
     "data": {
      "text/html": [
       "<table class=\"simpletable\">\n",
       "<caption>OLS Regression Results</caption>\n",
       "<tr>\n",
       "  <th>Dep. Variable:</th>            <td>Y</td>        <th>  R-squared:         </th> <td>   0.666</td>\n",
       "</tr>\n",
       "<tr>\n",
       "  <th>Model:</th>                   <td>OLS</td>       <th>  Adj. R-squared:    </th> <td>   0.647</td>\n",
       "</tr>\n",
       "<tr>\n",
       "  <th>Method:</th>             <td>Least Squares</td>  <th>  F-statistic:       </th> <td>   35.87</td>\n",
       "</tr>\n",
       "<tr>\n",
       "  <th>Date:</th>             <td>Sun, 29 Jun 2025</td> <th>  Prob (F-statistic):</th> <td>1.15e-05</td>\n",
       "</tr>\n",
       "<tr>\n",
       "  <th>Time:</th>                 <td>23:46:48</td>     <th>  Log-Likelihood:    </th> <td> -18.428</td>\n",
       "</tr>\n",
       "<tr>\n",
       "  <th>No. Observations:</th>      <td>    20</td>      <th>  AIC:               </th> <td>   40.86</td>\n",
       "</tr>\n",
       "<tr>\n",
       "  <th>Df Residuals:</th>          <td>    18</td>      <th>  BIC:               </th> <td>   42.85</td>\n",
       "</tr>\n",
       "<tr>\n",
       "  <th>Df Model:</th>              <td>     1</td>      <th>                     </th>     <td> </td>   \n",
       "</tr>\n",
       "<tr>\n",
       "  <th>Covariance Type:</th>      <td>nonrobust</td>    <th>                     </th>     <td> </td>   \n",
       "</tr>\n",
       "</table>\n",
       "<table class=\"simpletable\">\n",
       "<tr>\n",
       "      <td></td>         <th>coef</th>     <th>std err</th>      <th>t</th>      <th>P>|t|</th>  <th>[0.025</th>    <th>0.975]</th>  \n",
       "</tr>\n",
       "<tr>\n",
       "  <th>Intercept</th> <td>   -0.2690</td> <td>    6.826</td> <td>   -0.039</td> <td> 0.969</td> <td>  -14.609</td> <td>   14.071</td>\n",
       "</tr>\n",
       "<tr>\n",
       "  <th>LX</th>        <td>    8.4879</td> <td>    1.417</td> <td>    5.989</td> <td> 0.000</td> <td>    5.511</td> <td>   11.465</td>\n",
       "</tr>\n",
       "</table>\n",
       "<table class=\"simpletable\">\n",
       "<tr>\n",
       "  <th>Omnibus:</th>       <td> 1.340</td> <th>  Durbin-Watson:     </th> <td>   2.067</td>\n",
       "</tr>\n",
       "<tr>\n",
       "  <th>Prob(Omnibus):</th> <td> 0.512</td> <th>  Jarque-Bera (JB):  </th> <td>   0.931</td>\n",
       "</tr>\n",
       "<tr>\n",
       "  <th>Skew:</th>          <td> 0.198</td> <th>  Prob(JB):          </th> <td>   0.628</td>\n",
       "</tr>\n",
       "<tr>\n",
       "  <th>Kurtosis:</th>      <td> 2.020</td> <th>  Cond. No.          </th> <td>    239.</td>\n",
       "</tr>\n",
       "</table><br/><br/>Notes:<br/>[1] Standard Errors assume that the covariance matrix of the errors is correctly specified."
      ],
      "text/latex": [
       "\\begin{center}\n",
       "\\begin{tabular}{lclc}\n",
       "\\toprule\n",
       "\\textbf{Dep. Variable:}    &        Y         & \\textbf{  R-squared:         } &     0.666   \\\\\n",
       "\\textbf{Model:}            &       OLS        & \\textbf{  Adj. R-squared:    } &     0.647   \\\\\n",
       "\\textbf{Method:}           &  Least Squares   & \\textbf{  F-statistic:       } &     35.87   \\\\\n",
       "\\textbf{Date:}             & Sun, 29 Jun 2025 & \\textbf{  Prob (F-statistic):} &  1.15e-05   \\\\\n",
       "\\textbf{Time:}             &     23:46:48     & \\textbf{  Log-Likelihood:    } &   -18.428   \\\\\n",
       "\\textbf{No. Observations:} &          20      & \\textbf{  AIC:               } &     40.86   \\\\\n",
       "\\textbf{Df Residuals:}     &          18      & \\textbf{  BIC:               } &     42.85   \\\\\n",
       "\\textbf{Df Model:}         &           1      & \\textbf{                     } &             \\\\\n",
       "\\textbf{Covariance Type:}  &    nonrobust     & \\textbf{                     } &             \\\\\n",
       "\\bottomrule\n",
       "\\end{tabular}\n",
       "\\begin{tabular}{lcccccc}\n",
       "                   & \\textbf{coef} & \\textbf{std err} & \\textbf{t} & \\textbf{P$> |$t$|$} & \\textbf{[0.025} & \\textbf{0.975]}  \\\\\n",
       "\\midrule\n",
       "\\textbf{Intercept} &      -0.2690  &        6.826     &    -0.039  &         0.969        &      -14.609    &       14.071     \\\\\n",
       "\\textbf{LX}        &       8.4879  &        1.417     &     5.989  &         0.000        &        5.511    &       11.465     \\\\\n",
       "\\bottomrule\n",
       "\\end{tabular}\n",
       "\\begin{tabular}{lclc}\n",
       "\\textbf{Omnibus:}       &  1.340 & \\textbf{  Durbin-Watson:     } &    2.067  \\\\\n",
       "\\textbf{Prob(Omnibus):} &  0.512 & \\textbf{  Jarque-Bera (JB):  } &    0.931  \\\\\n",
       "\\textbf{Skew:}          &  0.198 & \\textbf{  Prob(JB):          } &    0.628  \\\\\n",
       "\\textbf{Kurtosis:}      &  2.020 & \\textbf{  Cond. No.          } &     239.  \\\\\n",
       "\\bottomrule\n",
       "\\end{tabular}\n",
       "%\\caption{OLS Regression Results}\n",
       "\\end{center}\n",
       "\n",
       "Notes: \\newline\n",
       " [1] Standard Errors assume that the covariance matrix of the errors is correctly specified."
      ],
      "text/plain": [
       "<class 'statsmodels.iolib.summary.Summary'>\n",
       "\"\"\"\n",
       "                            OLS Regression Results                            \n",
       "==============================================================================\n",
       "Dep. Variable:                      Y   R-squared:                       0.666\n",
       "Model:                            OLS   Adj. R-squared:                  0.647\n",
       "Method:                 Least Squares   F-statistic:                     35.87\n",
       "Date:                Sun, 29 Jun 2025   Prob (F-statistic):           1.15e-05\n",
       "Time:                        23:46:48   Log-Likelihood:                -18.428\n",
       "No. Observations:                  20   AIC:                             40.86\n",
       "Df Residuals:                      18   BIC:                             42.85\n",
       "Df Model:                           1                                         \n",
       "Covariance Type:            nonrobust                                         \n",
       "==============================================================================\n",
       "                 coef    std err          t      P>|t|      [0.025      0.975]\n",
       "------------------------------------------------------------------------------\n",
       "Intercept     -0.2690      6.826     -0.039      0.969     -14.609      14.071\n",
       "LX             8.4879      1.417      5.989      0.000       5.511      11.465\n",
       "==============================================================================\n",
       "Omnibus:                        1.340   Durbin-Watson:                   2.067\n",
       "Prob(Omnibus):                  0.512   Jarque-Bera (JB):                0.931\n",
       "Skew:                           0.198   Prob(JB):                        0.628\n",
       "Kurtosis:                       2.020   Cond. No.                         239.\n",
       "==============================================================================\n",
       "\n",
       "Notes:\n",
       "[1] Standard Errors assume that the covariance matrix of the errors is correctly specified.\n",
       "\"\"\""
      ]
     },
     "execution_count": 88,
     "metadata": {},
     "output_type": "execute_result"
    }
   ],
   "source": [
    "results_log = smf.ols('Y ~ LX', data=df).fit()\n",
    "results_log.summary()"
   ]
  },
  {
   "cell_type": "markdown",
   "id": "07777d15",
   "metadata": {},
   "source": [
    "получился очень сильно не значимый один параметр по Стьюденту \tP>|t| (pvalue) = 0.969 \n",
    "интервал почти симметрично накрывает 0 [0.025\t0.975] == -14.609\t14.071\n",
    "почти однозначно можно сказать, что этот параметр в модели не нужен\n",
    "=> надо посчитать без интерсепта (Intercept)\n",
    "то есть в нашей модели $\\hat{a} $ нам не нужна, остается  $\\hat{y} = \\hat{b} \\cdot ln(x)$"
   ]
  },
  {
   "cell_type": "code",
   "execution_count": null,
   "id": "fcd2da9d",
   "metadata": {},
   "outputs": [
    {
     "data": {
      "text/html": [
       "<table class=\"simpletable\">\n",
       "<caption>OLS Regression Results</caption>\n",
       "<tr>\n",
       "  <th>Dep. Variable:</th>            <td>Y</td>        <th>  R-squared (uncentered):</th>      <td>   1.000</td> \n",
       "</tr>\n",
       "<tr>\n",
       "  <th>Model:</th>                   <td>OLS</td>       <th>  Adj. R-squared (uncentered):</th> <td>   1.000</td> \n",
       "</tr>\n",
       "<tr>\n",
       "  <th>Method:</th>             <td>Least Squares</td>  <th>  F-statistic:       </th>          <td>8.477e+04</td>\n",
       "</tr>\n",
       "<tr>\n",
       "  <th>Date:</th>             <td>Sun, 29 Jun 2025</td> <th>  Prob (F-statistic):</th>          <td>3.85e-36</td> \n",
       "</tr>\n",
       "<tr>\n",
       "  <th>Time:</th>                 <td>23:47:03</td>     <th>  Log-Likelihood:    </th>          <td> -18.429</td> \n",
       "</tr>\n",
       "<tr>\n",
       "  <th>No. Observations:</th>      <td>    20</td>      <th>  AIC:               </th>          <td>   38.86</td> \n",
       "</tr>\n",
       "<tr>\n",
       "  <th>Df Residuals:</th>          <td>    19</td>      <th>  BIC:               </th>          <td>   39.85</td> \n",
       "</tr>\n",
       "<tr>\n",
       "  <th>Df Model:</th>              <td>     1</td>      <th>                     </th>              <td> </td>    \n",
       "</tr>\n",
       "<tr>\n",
       "  <th>Covariance Type:</th>      <td>nonrobust</td>    <th>                     </th>              <td> </td>    \n",
       "</tr>\n",
       "</table>\n",
       "<table class=\"simpletable\">\n",
       "<tr>\n",
       "   <td></td>     <th>coef</th>     <th>std err</th>      <th>t</th>      <th>P>|t|</th>  <th>[0.025</th>    <th>0.975]</th>  \n",
       "</tr>\n",
       "<tr>\n",
       "  <th>LX</th> <td>    8.4321</td> <td>    0.029</td> <td>  291.150</td> <td> 0.000</td> <td>    8.371</td> <td>    8.493</td>\n",
       "</tr>\n",
       "</table>\n",
       "<table class=\"simpletable\">\n",
       "<tr>\n",
       "  <th>Omnibus:</th>       <td> 1.359</td> <th>  Durbin-Watson:     </th> <td>   2.067</td>\n",
       "</tr>\n",
       "<tr>\n",
       "  <th>Prob(Omnibus):</th> <td> 0.507</td> <th>  Jarque-Bera (JB):  </th> <td>   0.934</td>\n",
       "</tr>\n",
       "<tr>\n",
       "  <th>Skew:</th>          <td> 0.194</td> <th>  Prob(JB):          </th> <td>   0.627</td>\n",
       "</tr>\n",
       "<tr>\n",
       "  <th>Kurtosis:</th>      <td> 2.015</td> <th>  Cond. No.          </th> <td>    1.00</td>\n",
       "</tr>\n",
       "</table><br/><br/>Notes:<br/>[1] R² is computed without centering (uncentered) since the model does not contain a constant.<br/>[2] Standard Errors assume that the covariance matrix of the errors is correctly specified."
      ],
      "text/latex": [
       "\\begin{center}\n",
       "\\begin{tabular}{lclc}\n",
       "\\toprule\n",
       "\\textbf{Dep. Variable:}    &        Y         & \\textbf{  R-squared (uncentered):}      &     1.000   \\\\\n",
       "\\textbf{Model:}            &       OLS        & \\textbf{  Adj. R-squared (uncentered):} &     1.000   \\\\\n",
       "\\textbf{Method:}           &  Least Squares   & \\textbf{  F-statistic:       }          & 8.477e+04   \\\\\n",
       "\\textbf{Date:}             & Sun, 29 Jun 2025 & \\textbf{  Prob (F-statistic):}          &  3.85e-36   \\\\\n",
       "\\textbf{Time:}             &     23:47:03     & \\textbf{  Log-Likelihood:    }          &   -18.429   \\\\\n",
       "\\textbf{No. Observations:} &          20      & \\textbf{  AIC:               }          &     38.86   \\\\\n",
       "\\textbf{Df Residuals:}     &          19      & \\textbf{  BIC:               }          &     39.85   \\\\\n",
       "\\textbf{Df Model:}         &           1      & \\textbf{                     }          &             \\\\\n",
       "\\textbf{Covariance Type:}  &    nonrobust     & \\textbf{                     }          &             \\\\\n",
       "\\bottomrule\n",
       "\\end{tabular}\n",
       "\\begin{tabular}{lcccccc}\n",
       "            & \\textbf{coef} & \\textbf{std err} & \\textbf{t} & \\textbf{P$> |$t$|$} & \\textbf{[0.025} & \\textbf{0.975]}  \\\\\n",
       "\\midrule\n",
       "\\textbf{LX} &       8.4321  &        0.029     &   291.150  &         0.000        &        8.371    &        8.493     \\\\\n",
       "\\bottomrule\n",
       "\\end{tabular}\n",
       "\\begin{tabular}{lclc}\n",
       "\\textbf{Omnibus:}       &  1.359 & \\textbf{  Durbin-Watson:     } &    2.067  \\\\\n",
       "\\textbf{Prob(Omnibus):} &  0.507 & \\textbf{  Jarque-Bera (JB):  } &    0.934  \\\\\n",
       "\\textbf{Skew:}          &  0.194 & \\textbf{  Prob(JB):          } &    0.627  \\\\\n",
       "\\textbf{Kurtosis:}      &  2.015 & \\textbf{  Cond. No.          } &     1.00  \\\\\n",
       "\\bottomrule\n",
       "\\end{tabular}\n",
       "%\\caption{OLS Regression Results}\n",
       "\\end{center}\n",
       "\n",
       "Notes: \\newline\n",
       " [1] R² is computed without centering (uncentered) since the model does not contain a constant. \\newline\n",
       " [2] Standard Errors assume that the covariance matrix of the errors is correctly specified."
      ],
      "text/plain": [
       "<class 'statsmodels.iolib.summary.Summary'>\n",
       "\"\"\"\n",
       "                                 OLS Regression Results                                \n",
       "=======================================================================================\n",
       "Dep. Variable:                      Y   R-squared (uncentered):                   1.000\n",
       "Model:                            OLS   Adj. R-squared (uncentered):              1.000\n",
       "Method:                 Least Squares   F-statistic:                          8.477e+04\n",
       "Date:                Sun, 29 Jun 2025   Prob (F-statistic):                    3.85e-36\n",
       "Time:                        23:47:03   Log-Likelihood:                         -18.429\n",
       "No. Observations:                  20   AIC:                                      38.86\n",
       "Df Residuals:                      19   BIC:                                      39.85\n",
       "Df Model:                           1                                                  \n",
       "Covariance Type:            nonrobust                                                  \n",
       "==============================================================================\n",
       "                 coef    std err          t      P>|t|      [0.025      0.975]\n",
       "------------------------------------------------------------------------------\n",
       "LX             8.4321      0.029    291.150      0.000       8.371       8.493\n",
       "==============================================================================\n",
       "Omnibus:                        1.359   Durbin-Watson:                   2.067\n",
       "Prob(Omnibus):                  0.507   Jarque-Bera (JB):                0.934\n",
       "Skew:                           0.194   Prob(JB):                        0.627\n",
       "Kurtosis:                       2.015   Cond. No.                         1.00\n",
       "==============================================================================\n",
       "\n",
       "Notes:\n",
       "[1] R² is computed without centering (uncentered) since the model does not contain a constant.\n",
       "[2] Standard Errors assume that the covariance matrix of the errors is correctly specified.\n",
       "\"\"\""
      ]
     },
     "execution_count": 89,
     "metadata": {},
     "output_type": "execute_result"
    }
   ],
   "source": [
    "# results_log = smf.ols('Y ~ LX - 1', data=df).fit() # возможно и такая запись\n",
    "results_log = smf.ols('Y ~ LX + 0', data=df).fit()\n",
    "results_log.summary()"
   ]
  },
  {
   "cell_type": "markdown",
   "id": "4c1c0217",
   "metadata": {},
   "source": [
    "кажется как будто идеальная модель!! но!\n",
    "по комментарию видно что коэфф детерминации был посчитан по другой формуле\n",
    "следовательно, это не верно что мы получили самую лучшую функиональную модель\n",
    "это значит, что нам надо пересчитать коэфф детерминации!\n",
    "модель нормальная, но коэф детерм надо пересчитать"
   ]
  },
  {
   "cell_type": "markdown",
   "id": "7af45821",
   "metadata": {},
   "source": [
    "## Коэффициент детерминации\n",
    "В модели со свободным членом\n",
    "$$ R^2=1-\\frac{\\sum{(y_i-\\hat y_i)^2}}{\\sum{(y_i-\\bar y)^2}}=\\frac{\\sum{(\\hat y_i-\\bar y)^2}}{\\sum{(y_i-\\bar y)^2}} $$\n",
    "\n",
    "В модели без свободного члена\n",
    "$$ R^2=\\frac{\\sum{\\hat y_i^2}}{\\sum{y_i^2}} $$"
   ]
  },
  {
   "cell_type": "code",
   "execution_count": 93,
   "id": "7082f72b",
   "metadata": {},
   "outputs": [],
   "source": [
    "LR0=lm.LinearRegression(fit_intercept=False) # без свободного членаб интерфепта"
   ]
  },
  {
   "cell_type": "code",
   "execution_count": 91,
   "id": "35d0c7db",
   "metadata": {},
   "outputs": [
    {
     "data": {
      "text/plain": [
       "0.6658583690660848"
      ]
     },
     "execution_count": 91,
     "metadata": {},
     "output_type": "execute_result"
    }
   ],
   "source": [
    "mod_log = LR0.fit(LX,Y)\n",
    "r2_log = mod_log.score(LX,Y)\n",
    "r2_log"
   ]
  },
  {
   "cell_type": "code",
   "execution_count": 94,
   "id": "d5fb7af0",
   "metadata": {},
   "outputs": [
    {
     "data": {
      "text/plain": [
       "array([[39.08042114, 39.40168222, 39.63484223, 39.78677577, 39.86172812,\n",
       "        40.0096632 , 40.08266871, 40.15504755, 40.36852942, 40.50790587,\n",
       "        40.57673958, 40.77993215, 40.84658928, 40.91272361, 41.23583146,\n",
       "        41.54701376, 41.6078955 , 41.6683408 , 41.78794682, 42.25009444]])"
      ]
     },
     "execution_count": 94,
     "metadata": {},
     "output_type": "execute_result"
    }
   ],
   "source": [
    "Y_log=mod_log.predict(LX)\n",
    "Y_log.transpose()"
   ]
  },
  {
   "cell_type": "code",
   "execution_count": 95,
   "id": "75593b3c",
   "metadata": {},
   "outputs": [
    {
     "name": "stdout",
     "output_type": "stream",
     "text": [
      "1.3092 1.2912 1.3096 1.2997 1.2925\n"
     ]
    }
   ],
   "source": [
    "A_log=100*(abs((Y-Y_log)/Y)/n).sum(); \n",
    "print (A_lin.round(4), A_pow.round(4), A_exp.round(4), A_par.round(4), A_log.round(4))"
   ]
  },
  {
   "cell_type": "code",
   "execution_count": 97,
   "id": "0bd9debb",
   "metadata": {},
   "outputs": [
    {
     "name": "stdout",
     "output_type": "stream",
     "text": [
      "0.6523 0.6632 0.6492 0.6594 0.6659\n"
     ]
    }
   ],
   "source": [
    "R2_log=r2_log\n",
    "print (round(R2_lin, 4), round(R2_pow, 4), round(R2_exp, 4), round(R2_par, 4), round(R2_log, 4))"
   ]
  },
  {
   "cell_type": "markdown",
   "id": "ba7d02f3",
   "metadata": {},
   "source": [
    "## Гиперболическая модель"
   ]
  },
  {
   "cell_type": "markdown",
   "id": "495fbbbb",
   "metadata": {},
   "source": [
    "$$ y = a + \\frac {b}{x} + \\epsilon $$\n",
    "$$ \\hat{y} = \\hat{a} + \\frac{\\hat{b}}{x} $$"
   ]
  },
  {
   "cell_type": "code",
   "execution_count": 98,
   "id": "8614c1f2",
   "metadata": {},
   "outputs": [],
   "source": [
    "X1=1/X"
   ]
  },
  {
   "cell_type": "code",
   "execution_count": 99,
   "id": "3e6dcc9b",
   "metadata": {},
   "outputs": [
    {
     "data": {
      "text/html": [
       "<div>\n",
       "<style scoped>\n",
       "    .dataframe tbody tr th:only-of-type {\n",
       "        vertical-align: middle;\n",
       "    }\n",
       "\n",
       "    .dataframe tbody tr th {\n",
       "        vertical-align: top;\n",
       "    }\n",
       "\n",
       "    .dataframe thead th {\n",
       "        text-align: right;\n",
       "    }\n",
       "</style>\n",
       "<table border=\"1\" class=\"dataframe\">\n",
       "  <thead>\n",
       "    <tr style=\"text-align: right;\">\n",
       "      <th></th>\n",
       "      <th>X</th>\n",
       "      <th>Y</th>\n",
       "      <th>LX</th>\n",
       "      <th>LY</th>\n",
       "      <th>SX</th>\n",
       "      <th>X1</th>\n",
       "    </tr>\n",
       "  </thead>\n",
       "  <tbody>\n",
       "    <tr>\n",
       "      <th>0</th>\n",
       "      <td>103.0</td>\n",
       "      <td>38.8</td>\n",
       "      <td>4.634729</td>\n",
       "      <td>3.658420</td>\n",
       "      <td>10.148892</td>\n",
       "      <td>0.009709</td>\n",
       "    </tr>\n",
       "    <tr>\n",
       "      <th>1</th>\n",
       "      <td>107.0</td>\n",
       "      <td>38.5</td>\n",
       "      <td>4.672829</td>\n",
       "      <td>3.650658</td>\n",
       "      <td>10.344080</td>\n",
       "      <td>0.009346</td>\n",
       "    </tr>\n",
       "    <tr>\n",
       "      <th>2</th>\n",
       "      <td>110.0</td>\n",
       "      <td>39.3</td>\n",
       "      <td>4.700480</td>\n",
       "      <td>3.671225</td>\n",
       "      <td>10.488088</td>\n",
       "      <td>0.009091</td>\n",
       "    </tr>\n",
       "    <tr>\n",
       "      <th>3</th>\n",
       "      <td>112.0</td>\n",
       "      <td>40.0</td>\n",
       "      <td>4.718499</td>\n",
       "      <td>3.688879</td>\n",
       "      <td>10.583005</td>\n",
       "      <td>0.008929</td>\n",
       "    </tr>\n",
       "    <tr>\n",
       "      <th>...</th>\n",
       "      <td>...</td>\n",
       "      <td>...</td>\n",
       "      <td>...</td>\n",
       "      <td>...</td>\n",
       "      <td>...</td>\n",
       "      <td>...</td>\n",
       "    </tr>\n",
       "    <tr>\n",
       "      <th>16</th>\n",
       "      <td>139.0</td>\n",
       "      <td>41.7</td>\n",
       "      <td>4.934474</td>\n",
       "      <td>3.730501</td>\n",
       "      <td>11.789826</td>\n",
       "      <td>0.007194</td>\n",
       "    </tr>\n",
       "    <tr>\n",
       "      <th>17</th>\n",
       "      <td>140.0</td>\n",
       "      <td>41.1</td>\n",
       "      <td>4.941642</td>\n",
       "      <td>3.716008</td>\n",
       "      <td>11.832160</td>\n",
       "      <td>0.007143</td>\n",
       "    </tr>\n",
       "    <tr>\n",
       "      <th>18</th>\n",
       "      <td>142.0</td>\n",
       "      <td>41.0</td>\n",
       "      <td>4.955827</td>\n",
       "      <td>3.713572</td>\n",
       "      <td>11.916375</td>\n",
       "      <td>0.007042</td>\n",
       "    </tr>\n",
       "    <tr>\n",
       "      <th>19</th>\n",
       "      <td>150.0</td>\n",
       "      <td>42.4</td>\n",
       "      <td>5.010635</td>\n",
       "      <td>3.747148</td>\n",
       "      <td>12.247449</td>\n",
       "      <td>0.006667</td>\n",
       "    </tr>\n",
       "  </tbody>\n",
       "</table>\n",
       "<p>20 rows × 6 columns</p>\n",
       "</div>"
      ],
      "text/plain": [
       "        X     Y        LX        LY         SX        X1\n",
       "0   103.0  38.8  4.634729  3.658420  10.148892  0.009709\n",
       "1   107.0  38.5  4.672829  3.650658  10.344080  0.009346\n",
       "2   110.0  39.3  4.700480  3.671225  10.488088  0.009091\n",
       "3   112.0  40.0  4.718499  3.688879  10.583005  0.008929\n",
       "..    ...   ...       ...       ...        ...       ...\n",
       "16  139.0  41.7  4.934474  3.730501  11.789826  0.007194\n",
       "17  140.0  41.1  4.941642  3.716008  11.832160  0.007143\n",
       "18  142.0  41.0  4.955827  3.713572  11.916375  0.007042\n",
       "19  150.0  42.4  5.010635  3.747148  12.247449  0.006667\n",
       "\n",
       "[20 rows x 6 columns]"
      ]
     },
     "execution_count": 99,
     "metadata": {},
     "output_type": "execute_result"
    }
   ],
   "source": [
    "data[['X1']]=X1\n",
    "data"
   ]
  },
  {
   "cell_type": "code",
   "execution_count": 101,
   "id": "9f2dc900",
   "metadata": {},
   "outputs": [
    {
     "data": {
      "text/plain": [
       "<seaborn.axisgrid.JointGrid at 0x125763f00>"
      ]
     },
     "execution_count": 101,
     "metadata": {},
     "output_type": "execute_result"
    },
    {
     "data": {
      "image/png": "[encoded data removed]",
      "text/plain": [
       "<Figure size 600x600 with 3 Axes>"
      ]
     },
     "metadata": {},
     "output_type": "display_data"
    }
   ],
   "source": [
    "sns.jointplot(x='X1', y='Y', data=data, kind=\"reg\")"
   ]
  },
  {
   "cell_type": "code",
   "execution_count": 102,
   "id": "96ac3c38",
   "metadata": {},
   "outputs": [
    {
     "data": {
      "text/html": [
       "<table class=\"simpletable\">\n",
       "<caption>OLS Regression Results</caption>\n",
       "<tr>\n",
       "  <th>Dep. Variable:</th>            <td>Y</td>        <th>  R-squared:         </th> <td>   0.677</td>\n",
       "</tr>\n",
       "<tr>\n",
       "  <th>Model:</th>                   <td>OLS</td>       <th>  Adj. R-squared:    </th> <td>   0.659</td>\n",
       "</tr>\n",
       "<tr>\n",
       "  <th>Method:</th>             <td>Least Squares</td>  <th>  F-statistic:       </th> <td>   37.67</td>\n",
       "</tr>\n",
       "<tr>\n",
       "  <th>Date:</th>             <td>Mon, 30 Jun 2025</td> <th>  Prob (F-statistic):</th> <td>8.51e-06</td>\n",
       "</tr>\n",
       "<tr>\n",
       "  <th>Time:</th>                 <td>00:01:35</td>     <th>  Log-Likelihood:    </th> <td> -18.099</td>\n",
       "</tr>\n",
       "<tr>\n",
       "  <th>No. Observations:</th>      <td>    20</td>      <th>  AIC:               </th> <td>   40.20</td>\n",
       "</tr>\n",
       "<tr>\n",
       "  <th>Df Residuals:</th>          <td>    18</td>      <th>  BIC:               </th> <td>   42.19</td>\n",
       "</tr>\n",
       "<tr>\n",
       "  <th>Df Model:</th>              <td>     1</td>      <th>                     </th>     <td> </td>   \n",
       "</tr>\n",
       "<tr>\n",
       "  <th>Covariance Type:</th>      <td>nonrobust</td>    <th>                     </th>     <td> </td>   \n",
       "</tr>\n",
       "</table>\n",
       "<table class=\"simpletable\">\n",
       "<tr>\n",
       "      <td></td>         <th>coef</th>     <th>std err</th>      <th>t</th>      <th>P>|t|</th>  <th>[0.025</th>    <th>0.975]</th>  \n",
       "</tr>\n",
       "<tr>\n",
       "  <th>Intercept</th> <td>   49.2276</td> <td>    1.412</td> <td>   34.867</td> <td> 0.000</td> <td>   46.261</td> <td>   52.194</td>\n",
       "</tr>\n",
       "<tr>\n",
       "  <th>X1</th>        <td>-1058.7599</td> <td>  172.498</td> <td>   -6.138</td> <td> 0.000</td> <td>-1421.164</td> <td> -696.356</td>\n",
       "</tr>\n",
       "</table>\n",
       "<table class=\"simpletable\">\n",
       "<tr>\n",
       "  <th>Omnibus:</th>       <td> 1.194</td> <th>  Durbin-Watson:     </th> <td>   2.162</td>\n",
       "</tr>\n",
       "<tr>\n",
       "  <th>Prob(Omnibus):</th> <td> 0.550</td> <th>  Jarque-Bera (JB):  </th> <td>   0.862</td>\n",
       "</tr>\n",
       "<tr>\n",
       "  <th>Skew:</th>          <td> 0.162</td> <th>  Prob(JB):          </th> <td>   0.650</td>\n",
       "</tr>\n",
       "<tr>\n",
       "  <th>Kurtosis:</th>      <td> 2.036</td> <th>  Cond. No.          </th> <td>1.22e+03</td>\n",
       "</tr>\n",
       "</table><br/><br/>Notes:<br/>[1] Standard Errors assume that the covariance matrix of the errors is correctly specified.<br/>[2] The condition number is large, 1.22e+03. This might indicate that there are<br/>strong multicollinearity or other numerical problems."
      ],
      "text/latex": [
       "\\begin{center}\n",
       "\\begin{tabular}{lclc}\n",
       "\\toprule\n",
       "\\textbf{Dep. Variable:}    &        Y         & \\textbf{  R-squared:         } &     0.677   \\\\\n",
       "\\textbf{Model:}            &       OLS        & \\textbf{  Adj. R-squared:    } &     0.659   \\\\\n",
       "\\textbf{Method:}           &  Least Squares   & \\textbf{  F-statistic:       } &     37.67   \\\\\n",
       "\\textbf{Date:}             & Mon, 30 Jun 2025 & \\textbf{  Prob (F-statistic):} &  8.51e-06   \\\\\n",
       "\\textbf{Time:}             &     00:01:35     & \\textbf{  Log-Likelihood:    } &   -18.099   \\\\\n",
       "\\textbf{No. Observations:} &          20      & \\textbf{  AIC:               } &     40.20   \\\\\n",
       "\\textbf{Df Residuals:}     &          18      & \\textbf{  BIC:               } &     42.19   \\\\\n",
       "\\textbf{Df Model:}         &           1      & \\textbf{                     } &             \\\\\n",
       "\\textbf{Covariance Type:}  &    nonrobust     & \\textbf{                     } &             \\\\\n",
       "\\bottomrule\n",
       "\\end{tabular}\n",
       "\\begin{tabular}{lcccccc}\n",
       "                   & \\textbf{coef} & \\textbf{std err} & \\textbf{t} & \\textbf{P$> |$t$|$} & \\textbf{[0.025} & \\textbf{0.975]}  \\\\\n",
       "\\midrule\n",
       "\\textbf{Intercept} &      49.2276  &        1.412     &    34.867  &         0.000        &       46.261    &       52.194     \\\\\n",
       "\\textbf{X1}        &   -1058.7599  &      172.498     &    -6.138  &         0.000        &    -1421.164    &     -696.356     \\\\\n",
       "\\bottomrule\n",
       "\\end{tabular}\n",
       "\\begin{tabular}{lclc}\n",
       "\\textbf{Omnibus:}       &  1.194 & \\textbf{  Durbin-Watson:     } &    2.162  \\\\\n",
       "\\textbf{Prob(Omnibus):} &  0.550 & \\textbf{  Jarque-Bera (JB):  } &    0.862  \\\\\n",
       "\\textbf{Skew:}          &  0.162 & \\textbf{  Prob(JB):          } &    0.650  \\\\\n",
       "\\textbf{Kurtosis:}      &  2.036 & \\textbf{  Cond. No.          } & 1.22e+03  \\\\\n",
       "\\bottomrule\n",
       "\\end{tabular}\n",
       "%\\caption{OLS Regression Results}\n",
       "\\end{center}\n",
       "\n",
       "Notes: \\newline\n",
       " [1] Standard Errors assume that the covariance matrix of the errors is correctly specified. \\newline\n",
       " [2] The condition number is large, 1.22e+03. This might indicate that there are \\newline\n",
       " strong multicollinearity or other numerical problems."
      ],
      "text/plain": [
       "<class 'statsmodels.iolib.summary.Summary'>\n",
       "\"\"\"\n",
       "                            OLS Regression Results                            \n",
       "==============================================================================\n",
       "Dep. Variable:                      Y   R-squared:                       0.677\n",
       "Model:                            OLS   Adj. R-squared:                  0.659\n",
       "Method:                 Least Squares   F-statistic:                     37.67\n",
       "Date:                Mon, 30 Jun 2025   Prob (F-statistic):           8.51e-06\n",
       "Time:                        00:01:35   Log-Likelihood:                -18.099\n",
       "No. Observations:                  20   AIC:                             40.20\n",
       "Df Residuals:                      18   BIC:                             42.19\n",
       "Df Model:                           1                                         \n",
       "Covariance Type:            nonrobust                                         \n",
       "==============================================================================\n",
       "                 coef    std err          t      P>|t|      [0.025      0.975]\n",
       "------------------------------------------------------------------------------\n",
       "Intercept     49.2276      1.412     34.867      0.000      46.261      52.194\n",
       "X1         -1058.7599    172.498     -6.138      0.000   -1421.164    -696.356\n",
       "==============================================================================\n",
       "Omnibus:                        1.194   Durbin-Watson:                   2.162\n",
       "Prob(Omnibus):                  0.550   Jarque-Bera (JB):                0.862\n",
       "Skew:                           0.162   Prob(JB):                        0.650\n",
       "Kurtosis:                       2.036   Cond. No.                     1.22e+03\n",
       "==============================================================================\n",
       "\n",
       "Notes:\n",
       "[1] Standard Errors assume that the covariance matrix of the errors is correctly specified.\n",
       "[2] The condition number is large, 1.22e+03. This might indicate that there are\n",
       "strong multicollinearity or other numerical problems.\n",
       "\"\"\""
      ]
     },
     "execution_count": 102,
     "metadata": {},
     "output_type": "execute_result"
    }
   ],
   "source": [
    "results_hyp = smf.ols('Y ~ X1', data=df).fit()\n",
    "results_hyp.summary()"
   ]
  },
  {
   "cell_type": "code",
   "execution_count": 103,
   "id": "3b6464f2",
   "metadata": {},
   "outputs": [],
   "source": [
    "mod_hyp = LR.fit(X1,Y)"
   ]
  },
  {
   "cell_type": "code",
   "execution_count": 104,
   "id": "99efb4fe",
   "metadata": {},
   "outputs": [
    {
     "data": {
      "text/plain": [
       "0.676682926118884"
      ]
     },
     "execution_count": 104,
     "metadata": {},
     "output_type": "execute_result"
    }
   ],
   "source": [
    "r2_hyp = mod_hyp.score(X1,Y)\n",
    "r2_hyp"
   ]
  },
  {
   "cell_type": "code",
   "execution_count": 105,
   "id": "e7818a8f",
   "metadata": {},
   "outputs": [
    {
     "data": {
      "text/plain": [
       "array([[38.94838589, 39.33265587, 39.6025182 , 39.77439481, 39.85805156,\n",
       "        40.02100037, 40.10036767, 40.17837827, 40.40460902, 40.54924834,\n",
       "        40.61980411, 40.82475182, 40.89091604, 40.95604645, 41.26700741,\n",
       "        41.55543496, 41.61063045, 41.66503743, 41.77155251, 42.1692088 ]])"
      ]
     },
     "execution_count": 105,
     "metadata": {},
     "output_type": "execute_result"
    }
   ],
   "source": [
    "Y_hyp=mod_hyp.predict(X1)\n",
    "Y_hyp.transpose()"
   ]
  },
  {
   "cell_type": "code",
   "execution_count": 106,
   "id": "c3fd4dc1",
   "metadata": {},
   "outputs": [
    {
     "name": "stdout",
     "output_type": "stream",
     "text": [
      "1.3092 1.2912 1.3096 1.2997 1.2925 1.2698\n"
     ]
    }
   ],
   "source": [
    "A_hyp=100*(abs((Y-Y_hyp)/Y)/n).sum()\n",
    "print (A_lin.round(4), A_pow.round(4), A_exp.round(4), A_par.round(4), A_log.round(4), A_hyp.round(4))"
   ]
  },
  {
   "cell_type": "code",
   "execution_count": 107,
   "id": "57d9173b",
   "metadata": {},
   "outputs": [
    {
     "name": "stdout",
     "output_type": "stream",
     "text": [
      "0.6523 0.6632 0.6492 0.6594 0.6659 0.6767\n"
     ]
    }
   ],
   "source": [
    "R2_hyp=r2_hyp\n",
    "print (round(R2_lin, 4), round(R2_pow, 4), round(R2_exp, 4), round(R2_par, 4), round(R2_log, 4), round(R2_hyp, 4))"
   ]
  },
  {
   "cell_type": "markdown",
   "id": "ca8284f2",
   "metadata": {},
   "source": [
    "## Сравнение моделей"
   ]
  },
  {
   "cell_type": "code",
   "execution_count": 110,
   "id": "dc475b28",
   "metadata": {},
   "outputs": [
    {
     "data": {
      "text/html": [
       "<div>\n",
       "<style scoped>\n",
       "    .dataframe tbody tr th:only-of-type {\n",
       "        vertical-align: middle;\n",
       "    }\n",
       "\n",
       "    .dataframe tbody tr th {\n",
       "        vertical-align: top;\n",
       "    }\n",
       "\n",
       "    .dataframe thead th {\n",
       "        text-align: right;\n",
       "    }\n",
       "</style>\n",
       "<table border=\"1\" class=\"dataframe\">\n",
       "  <thead>\n",
       "    <tr style=\"text-align: right;\">\n",
       "      <th></th>\n",
       "      <th>Коэффициент деретминации</th>\n",
       "      <th>Ошибка аппроксимации</th>\n",
       "    </tr>\n",
       "    <tr>\n",
       "      <th>Модель</th>\n",
       "      <th></th>\n",
       "      <th></th>\n",
       "    </tr>\n",
       "  </thead>\n",
       "  <tbody>\n",
       "    <tr>\n",
       "      <th>Линейная</th>\n",
       "      <td>0.6523</td>\n",
       "      <td>1.3092</td>\n",
       "    </tr>\n",
       "    <tr>\n",
       "      <th>Степенная</th>\n",
       "      <td>0.6632</td>\n",
       "      <td>1.2912</td>\n",
       "    </tr>\n",
       "    <tr>\n",
       "      <th>Экспоненциальная</th>\n",
       "      <td>0.6492</td>\n",
       "      <td>1.3096</td>\n",
       "    </tr>\n",
       "    <tr>\n",
       "      <th>Параболическая</th>\n",
       "      <td>0.6594</td>\n",
       "      <td>1.2997</td>\n",
       "    </tr>\n",
       "    <tr>\n",
       "      <th>Логарифмическая</th>\n",
       "      <td>0.6659</td>\n",
       "      <td>1.2925</td>\n",
       "    </tr>\n",
       "    <tr>\n",
       "      <th>Гиперболическая</th>\n",
       "      <td>0.6767</td>\n",
       "      <td>1.2698</td>\n",
       "    </tr>\n",
       "  </tbody>\n",
       "</table>\n",
       "</div>"
      ],
      "text/plain": [
       "                 Коэффициент деретминации Ошибка аппроксимации\n",
       "Модель                                                        \n",
       "Линейная                           0.6523               1.3092\n",
       "Степенная                          0.6632               1.2912\n",
       "Экспоненциальная                   0.6492               1.3096\n",
       "Параболическая                     0.6594               1.2997\n",
       "Логарифмическая                    0.6659               1.2925\n",
       "Гиперболическая                    0.6767               1.2698"
      ]
     },
     "execution_count": 110,
     "metadata": {},
     "output_type": "execute_result"
    }
   ],
   "source": [
    "mes = pd.DataFrame(np.array([['Линейная', round(R2_lin, 4),A_lin.round(4)],\n",
    "                             ['Степенная', round(R2_pow, 4),A_pow.round(4)],\n",
    "                             ['Экспоненциальная', round(R2_exp, 4),A_exp.round(4)],\n",
    "                             ['Параболическая', round(R2_par, 4),A_par.round(4)],\n",
    "                             ['Логарифмическая', round(R2_log, 4),A_log.round(4)],\n",
    "                             ['Гиперболическая', round(R2_hyp, 4),A_hyp.round(4)]]),\n",
    "                   columns=['Модель','Коэффициент деретминации','Ошибка аппроксимации'])\n",
    "mes=mes.set_index('Модель')\n",
    "mes"
   ]
  },
  {
   "cell_type": "markdown",
   "id": "75aa7212",
   "metadata": {},
   "source": [
    "## Прогноз"
   ]
  },
  {
   "cell_type": "code",
   "execution_count": 111,
   "id": "e9e57290",
   "metadata": {},
   "outputs": [
    {
     "data": {
      "text/plain": [
       "array([[103, 107, 110, 112, 113, 115, 116, 117, 120, 122, 123, 126, 127,\n",
       "        128, 133, 138, 139, 140, 142, 150]])"
      ]
     },
     "execution_count": 111,
     "metadata": {},
     "output_type": "execute_result"
    }
   ],
   "source": [
    "X.transpose()"
   ]
  },
  {
   "cell_type": "code",
   "execution_count": 112,
   "id": "ee847dc1",
   "metadata": {},
   "outputs": [],
   "source": [
    "Xnew = pd.DataFrame(np.array([[111], [145]]))"
   ]
  },
  {
   "cell_type": "markdown",
   "id": "bc3966fc",
   "metadata": {},
   "source": [
    "#### Для лучшей (гиперболической) модели"
   ]
  },
  {
   "cell_type": "code",
   "execution_count": 113,
   "id": "d3573304",
   "metadata": {},
   "outputs": [
    {
     "data": {
      "text/plain": [
       "array([[39.689],\n",
       "       [41.926]])"
      ]
     },
     "execution_count": 113,
     "metadata": {},
     "output_type": "execute_result"
    }
   ],
   "source": [
    "X1new=1/Xnew\n",
    "mod_hyp = LR.fit(X1,Y)\n",
    "mod_hyp.predict(X1new).round(3)"
   ]
  },
  {
   "cell_type": "markdown",
   "id": "9a962cc5",
   "metadata": {},
   "source": [
    "#### Для логарифмической модели"
   ]
  },
  {
   "cell_type": "code",
   "execution_count": null,
   "id": "500ab7c6",
   "metadata": {},
   "outputs": [
    {
     "data": {
      "text/plain": [
       "array([[39.711],\n",
       "       [41.964]])"
      ]
     },
     "execution_count": 114,
     "metadata": {},
     "output_type": "execute_result"
    }
   ],
   "source": [
    "LXnew=np.log(Xnew)\n",
    "mod_log = LR0.fit(LX,Y) # так как мы не используем свободный член, без интерсепта\n",
    "mod_log.predict(LXnew).round(3)"
   ]
  },
  {
   "cell_type": "markdown",
   "id": "bf9d4269",
   "metadata": {},
   "source": [
    "#### Для мультипликативной степенной модели"
   ]
  },
  {
   "cell_type": "code",
   "execution_count": 115,
   "id": "a61209b2",
   "metadata": {},
   "outputs": [
    {
     "data": {
      "text/plain": [
       "array([[3.681],\n",
       "       [3.737]])"
      ]
     },
     "execution_count": 115,
     "metadata": {},
     "output_type": "execute_result"
    }
   ],
   "source": [
    "mod_pow = LR.fit(LX,LY)\n",
    "mod_pow.predict(LXnew).round(3)"
   ]
  },
  {
   "cell_type": "code",
   "execution_count": 116,
   "id": "03e55e18",
   "metadata": {},
   "outputs": [
    {
     "data": {
      "text/plain": [
       "array([[39.698],\n",
       "       [41.987]])"
      ]
     },
     "execution_count": 116,
     "metadata": {},
     "output_type": "execute_result"
    }
   ],
   "source": [
    "np.exp(mod_pow.predict(LXnew)).round(3)"
   ]
  },
  {
   "cell_type": "markdown",
   "id": "3da8a4f6",
   "metadata": {},
   "source": [
    "## Визуализация"
   ]
  },
  {
   "cell_type": "code",
   "execution_count": 117,
   "id": "80f95f47",
   "metadata": {},
   "outputs": [
    {
     "data": {
      "text/html": [
       "<div>\n",
       "<style scoped>\n",
       "    .dataframe tbody tr th:only-of-type {\n",
       "        vertical-align: middle;\n",
       "    }\n",
       "\n",
       "    .dataframe tbody tr th {\n",
       "        vertical-align: top;\n",
       "    }\n",
       "\n",
       "    .dataframe thead th {\n",
       "        text-align: right;\n",
       "    }\n",
       "</style>\n",
       "<table border=\"1\" class=\"dataframe\">\n",
       "  <thead>\n",
       "    <tr style=\"text-align: right;\">\n",
       "      <th></th>\n",
       "      <th>X</th>\n",
       "      <th>Y</th>\n",
       "      <th>Y_lin</th>\n",
       "      <th>Y_hyp</th>\n",
       "    </tr>\n",
       "  </thead>\n",
       "  <tbody>\n",
       "    <tr>\n",
       "      <th>0</th>\n",
       "      <td>103.0</td>\n",
       "      <td>38.8</td>\n",
       "      <td>39.189591</td>\n",
       "      <td>38.948386</td>\n",
       "    </tr>\n",
       "    <tr>\n",
       "      <th>1</th>\n",
       "      <td>107.0</td>\n",
       "      <td>38.5</td>\n",
       "      <td>39.458552</td>\n",
       "      <td>39.332656</td>\n",
       "    </tr>\n",
       "    <tr>\n",
       "      <th>2</th>\n",
       "      <td>110.0</td>\n",
       "      <td>39.3</td>\n",
       "      <td>39.660273</td>\n",
       "      <td>39.602518</td>\n",
       "    </tr>\n",
       "    <tr>\n",
       "      <th>3</th>\n",
       "      <td>112.0</td>\n",
       "      <td>40.0</td>\n",
       "      <td>39.794754</td>\n",
       "      <td>39.774395</td>\n",
       "    </tr>\n",
       "    <tr>\n",
       "      <th>...</th>\n",
       "      <td>...</td>\n",
       "      <td>...</td>\n",
       "      <td>...</td>\n",
       "      <td>...</td>\n",
       "    </tr>\n",
       "    <tr>\n",
       "      <th>16</th>\n",
       "      <td>139.0</td>\n",
       "      <td>41.7</td>\n",
       "      <td>41.610243</td>\n",
       "      <td>41.610630</td>\n",
       "    </tr>\n",
       "    <tr>\n",
       "      <th>17</th>\n",
       "      <td>140.0</td>\n",
       "      <td>41.1</td>\n",
       "      <td>41.677483</td>\n",
       "      <td>41.665037</td>\n",
       "    </tr>\n",
       "    <tr>\n",
       "      <th>18</th>\n",
       "      <td>142.0</td>\n",
       "      <td>41.0</td>\n",
       "      <td>41.811964</td>\n",
       "      <td>41.771553</td>\n",
       "    </tr>\n",
       "    <tr>\n",
       "      <th>19</th>\n",
       "      <td>150.0</td>\n",
       "      <td>42.4</td>\n",
       "      <td>42.349886</td>\n",
       "      <td>42.169209</td>\n",
       "    </tr>\n",
       "  </tbody>\n",
       "</table>\n",
       "<p>20 rows × 4 columns</p>\n",
       "</div>"
      ],
      "text/plain": [
       "        X     Y      Y_lin      Y_hyp\n",
       "0   103.0  38.8  39.189591  38.948386\n",
       "1   107.0  38.5  39.458552  39.332656\n",
       "2   110.0  39.3  39.660273  39.602518\n",
       "3   112.0  40.0  39.794754  39.774395\n",
       "..    ...   ...        ...        ...\n",
       "16  139.0  41.7  41.610243  41.610630\n",
       "17  140.0  41.1  41.677483  41.665037\n",
       "18  142.0  41.0  41.811964  41.771553\n",
       "19  150.0  42.4  42.349886  42.169209\n",
       "\n",
       "[20 rows x 4 columns]"
      ]
     },
     "execution_count": 117,
     "metadata": {},
     "output_type": "execute_result"
    }
   ],
   "source": [
    "pred = data=pd.DataFrame(np.hstack([X,Y,Y_lin,Y_hyp]))\n",
    "pred.columns=['X','Y','Y_lin','Y_hyp']\n",
    "pred"
   ]
  },
  {
   "cell_type": "code",
   "execution_count": 118,
   "id": "508a15da",
   "metadata": {},
   "outputs": [
    {
     "data": {
      "application/vnd.plotly.v1+json": {
       "config": {
        "plotlyServerURL": "https://plot.ly"
       },
       "data": [
        {
         "mode": "markers",
         "name": "Expense",
         "type": "scatter",
         "x": [
          103,
          107,
          110,
          112,
          113,
          115,
          116,
          117,
          120,
          122,
          123,
          126,
          127,
          128,
          133,
          138,
          139,
          140,
          142,
          150
         ],
         "y": [
          38.8,
          38.5,
          39.3,
          40,
          41,
          39.7,
          40.6,
          40.7,
          39.4,
          40,
          41.4,
          41,
          40.7,
          41.9,
          40.8,
          42.1,
          41.7,
          41.1,
          41,
          42.4
         ]
        },
        {
         "mode": "lines",
         "name": "Lin_model",
         "type": "scatter",
         "x": [
          103,
          107,
          110,
          112,
          113,
          115,
          116,
          117,
          120,
          122,
          123,
          126,
          127,
          128,
          133,
          138,
          139,
          140,
          142,
          150
         ],
         "y": [
          39.18959113045929,
          39.4585524358352,
          39.660273414867135,
          39.79475406755508,
          39.86199439389906,
          39.996475046587015,
          40.06371537293099,
          40.13095569927496,
          40.332676678306896,
          40.46715733099485,
          40.53439765733883,
          40.736118636370755,
          40.80335896271473,
          40.87059928905871,
          41.20680092077859,
          41.54300255249848,
          41.610242878842456,
          41.67748320518643,
          41.81196385787438,
          42.349886468626195
         ]
        },
        {
         "mode": "lines",
         "name": "Hyp_model",
         "type": "scatter",
         "x": [
          103,
          107,
          110,
          112,
          113,
          115,
          116,
          117,
          120,
          122,
          123,
          126,
          127,
          128,
          133,
          138,
          139,
          140,
          142,
          150
         ],
         "y": [
          38.94838588976556,
          39.332655873421615,
          39.602518202852806,
          39.774394805526235,
          39.85805155903985,
          40.02100036588377,
          40.100367672665506,
          40.17837827334841,
          40.40460901532883,
          40.54924834216877,
          40.61980411135898,
          40.82475182186389,
          40.89091604336547,
          40.95604644890609,
          41.26700740769027,
          41.555434963664,
          41.610630452792776,
          41.66503743493401,
          41.771552512647126,
          42.16920880277608
         ]
        }
       ],
       "layout": {
        "template": {
         "data": {
          "bar": [
           {
            "error_x": {
             "color": "#2a3f5f"
            },
            "error_y": {
             "color": "#2a3f5f"
            },
            "marker": {
             "line": {
              "color": "#E5ECF6",
              "width": 0.5
             },
             "pattern": {
              "fillmode": "overlay",
              "size": 10,
              "solidity": 0.2
             }
            },
            "type": "bar"
           }
          ],
          "barpolar": [
           {
            "marker": {
             "line": {
              "color": "#E5ECF6",
              "width": 0.5
             },
             "pattern": {
              "fillmode": "overlay",
              "size": 10,
              "solidity": 0.2
             }
            },
            "type": "barpolar"
           }
          ],
          "carpet": [
           {
            "aaxis": {
             "endlinecolor": "#2a3f5f",
             "gridcolor": "white",
             "linecolor": "white",
             "minorgridcolor": "white",
             "startlinecolor": "#2a3f5f"
            },
            "baxis": {
             "endlinecolor": "#2a3f5f",
             "gridcolor": "white",
             "linecolor": "white",
             "minorgridcolor": "white",
             "startlinecolor": "#2a3f5f"
            },
            "type": "carpet"
           }
          ],
          "choropleth": [
           {
            "colorbar": {
             "outlinewidth": 0,
             "ticks": ""
            },
            "type": "choropleth"
           }
          ],
          "contour": [
           {
            "colorbar": {
             "outlinewidth": 0,
             "ticks": ""
            },
            "colorscale": [
             [
              0,
              "#0d0887"
             ],
             [
              0.1111111111111111,
              "#46039f"
             ],
             [
              0.2222222222222222,
              "#7201a8"
             ],
             [
              0.3333333333333333,
              "#9c179e"
             ],
             [
              0.4444444444444444,
              "#bd3786"
             ],
             [
              0.5555555555555556,
              "#d8576b"
             ],
             [
              0.6666666666666666,
              "#ed7953"
             ],
             [
              0.7777777777777778,
              "#fb9f3a"
             ],
             [
              0.8888888888888888,
              "#fdca26"
             ],
             [
              1,
              "#f0f921"
             ]
            ],
            "type": "contour"
           }
          ],
          "contourcarpet": [
           {
            "colorbar": {
             "outlinewidth": 0,
             "ticks": ""
            },
            "type": "contourcarpet"
           }
          ],
          "heatmap": [
           {
            "colorbar": {
             "outlinewidth": 0,
             "ticks": ""
            },
            "colorscale": [
             [
              0,
              "#0d0887"
             ],
             [
              0.1111111111111111,
              "#46039f"
             ],
             [
              0.2222222222222222,
              "#7201a8"
             ],
             [
              0.3333333333333333,
              "#9c179e"
             ],
             [
              0.4444444444444444,
              "#bd3786"
             ],
             [
              0.5555555555555556,
              "#d8576b"
             ],
             [
              0.6666666666666666,
              "#ed7953"
             ],
             [
              0.7777777777777778,
              "#fb9f3a"
             ],
             [
              0.8888888888888888,
              "#fdca26"
             ],
             [
              1,
              "#f0f921"
             ]
            ],
            "type": "heatmap"
           }
          ],
          "heatmapgl": [
           {
            "colorbar": {
             "outlinewidth": 0,
             "ticks": ""
            },
            "colorscale": [
             [
              0,
              "#0d0887"
             ],
             [
              0.1111111111111111,
              "#46039f"
             ],
             [
              0.2222222222222222,
              "#7201a8"
             ],
             [
              0.3333333333333333,
              "#9c179e"
             ],
             [
              0.4444444444444444,
              "#bd3786"
             ],
             [
              0.5555555555555556,
              "#d8576b"
             ],
             [
              0.6666666666666666,
              "#ed7953"
             ],
             [
              0.7777777777777778,
              "#fb9f3a"
             ],
             [
              0.8888888888888888,
              "#fdca26"
             ],
             [
              1,
              "#f0f921"
             ]
            ],
            "type": "heatmapgl"
           }
          ],
          "histogram": [
           {
            "marker": {
             "pattern": {
              "fillmode": "overlay",
              "size": 10,
              "solidity": 0.2
             }
            },
            "type": "histogram"
           }
          ],
          "histogram2d": [
           {
            "colorbar": {
             "outlinewidth": 0,
             "ticks": ""
            },
            "colorscale": [
             [
              0,
              "#0d0887"
             ],
             [
              0.1111111111111111,
              "#46039f"
             ],
             [
              0.2222222222222222,
              "#7201a8"
             ],
             [
              0.3333333333333333,
              "#9c179e"
             ],
             [
              0.4444444444444444,
              "#bd3786"
             ],
             [
              0.5555555555555556,
              "#d8576b"
             ],
             [
              0.6666666666666666,
              "#ed7953"
             ],
             [
              0.7777777777777778,
              "#fb9f3a"
             ],
             [
              0.8888888888888888,
              "#fdca26"
             ],
             [
              1,
              "#f0f921"
             ]
            ],
            "type": "histogram2d"
           }
          ],
          "histogram2dcontour": [
           {
            "colorbar": {
             "outlinewidth": 0,
             "ticks": ""
            },
            "colorscale": [
             [
              0,
              "#0d0887"
             ],
             [
              0.1111111111111111,
              "#46039f"
             ],
             [
              0.2222222222222222,
              "#7201a8"
             ],
             [
              0.3333333333333333,
              "#9c179e"
             ],
             [
              0.4444444444444444,
              "#bd3786"
             ],
             [
              0.5555555555555556,
              "#d8576b"
             ],
             [
              0.6666666666666666,
              "#ed7953"
             ],
             [
              0.7777777777777778,
              "#fb9f3a"
             ],
             [
              0.8888888888888888,
              "#fdca26"
             ],
             [
              1,
              "#f0f921"
             ]
            ],
            "type": "histogram2dcontour"
           }
          ],
          "mesh3d": [
           {
            "colorbar": {
             "outlinewidth": 0,
             "ticks": ""
            },
            "type": "mesh3d"
           }
          ],
          "parcoords": [
           {
            "line": {
             "colorbar": {
              "outlinewidth": 0,
              "ticks": ""
             }
            },
            "type": "parcoords"
           }
          ],
          "pie": [
           {
            "automargin": true,
            "type": "pie"
           }
          ],
          "scatter": [
           {
            "fillpattern": {
             "fillmode": "overlay",
             "size": 10,
             "solidity": 0.2
            },
            "type": "scatter"
           }
          ],
          "scatter3d": [
           {
            "line": {
             "colorbar": {
              "outlinewidth": 0,
              "ticks": ""
             }
            },
            "marker": {
             "colorbar": {
              "outlinewidth": 0,
              "ticks": ""
             }
            },
            "type": "scatter3d"
           }
          ],
          "scattercarpet": [
           {
            "marker": {
             "colorbar": {
              "outlinewidth": 0,
              "ticks": ""
             }
            },
            "type": "scattercarpet"
           }
          ],
          "scattergeo": [
           {
            "marker": {
             "colorbar": {
              "outlinewidth": 0,
              "ticks": ""
             }
            },
            "type": "scattergeo"
           }
          ],
          "scattergl": [
           {
            "marker": {
             "colorbar": {
              "outlinewidth": 0,
              "ticks": ""
             }
            },
            "type": "scattergl"
           }
          ],
          "scattermapbox": [
           {
            "marker": {
             "colorbar": {
              "outlinewidth": 0,
              "ticks": ""
             }
            },
            "type": "scattermapbox"
           }
          ],
          "scatterpolar": [
           {
            "marker": {
             "colorbar": {
              "outlinewidth": 0,
              "ticks": ""
             }
            },
            "type": "scatterpolar"
           }
          ],
          "scatterpolargl": [
           {
            "marker": {
             "colorbar": {
              "outlinewidth": 0,
              "ticks": ""
             }
            },
            "type": "scatterpolargl"
           }
          ],
          "scatterternary": [
           {
            "marker": {
             "colorbar": {
              "outlinewidth": 0,
              "ticks": ""
             }
            },
            "type": "scatterternary"
           }
          ],
          "surface": [
           {
            "colorbar": {
             "outlinewidth": 0,
             "ticks": ""
            },
            "colorscale": [
             [
              0,
              "#0d0887"
             ],
             [
              0.1111111111111111,
              "#46039f"
             ],
             [
              0.2222222222222222,
              "#7201a8"
             ],
             [
              0.3333333333333333,
              "#9c179e"
             ],
             [
              0.4444444444444444,
              "#bd3786"
             ],
             [
              0.5555555555555556,
              "#d8576b"
             ],
             [
              0.6666666666666666,
              "#ed7953"
             ],
             [
              0.7777777777777778,
              "#fb9f3a"
             ],
             [
              0.8888888888888888,
              "#fdca26"
             ],
             [
              1,
              "#f0f921"
             ]
            ],
            "type": "surface"
           }
          ],
          "table": [
           {
            "cells": {
             "fill": {
              "color": "#EBF0F8"
             },
             "line": {
              "color": "white"
             }
            },
            "header": {
             "fill": {
              "color": "#C8D4E3"
             },
             "line": {
              "color": "white"
             }
            },
            "type": "table"
           }
          ]
         },
         "layout": {
          "annotationdefaults": {
           "arrowcolor": "#2a3f5f",
           "arrowhead": 0,
           "arrowwidth": 1
          },
          "autotypenumbers": "strict",
          "coloraxis": {
           "colorbar": {
            "outlinewidth": 0,
            "ticks": ""
           }
          },
          "colorscale": {
           "diverging": [
            [
             0,
             "#8e0152"
            ],
            [
             0.1,
             "#c51b7d"
            ],
            [
             0.2,
             "#de77ae"
            ],
            [
             0.3,
             "#f1b6da"
            ],
            [
             0.4,
             "#fde0ef"
            ],
            [
             0.5,
             "#f7f7f7"
            ],
            [
             0.6,
             "#e6f5d0"
            ],
            [
             0.7,
             "#b8e186"
            ],
            [
             0.8,
             "#7fbc41"
            ],
            [
             0.9,
             "#4d9221"
            ],
            [
             1,
             "#276419"
            ]
           ],
           "sequential": [
            [
             0,
             "#0d0887"
            ],
            [
             0.1111111111111111,
             "#46039f"
            ],
            [
             0.2222222222222222,
             "#7201a8"
            ],
            [
             0.3333333333333333,
             "#9c179e"
            ],
            [
             0.4444444444444444,
             "#bd3786"
            ],
            [
             0.5555555555555556,
             "#d8576b"
            ],
            [
             0.6666666666666666,
             "#ed7953"
            ],
            [
             0.7777777777777778,
             "#fb9f3a"
            ],
            [
             0.8888888888888888,
             "#fdca26"
            ],
            [
             1,
             "#f0f921"
            ]
           ],
           "sequentialminus": [
            [
             0,
             "#0d0887"
            ],
            [
             0.1111111111111111,
             "#46039f"
            ],
            [
             0.2222222222222222,
             "#7201a8"
            ],
            [
             0.3333333333333333,
             "#9c179e"
            ],
            [
             0.4444444444444444,
             "#bd3786"
            ],
            [
             0.5555555555555556,
             "#d8576b"
            ],
            [
             0.6666666666666666,
             "#ed7953"
            ],
            [
             0.7777777777777778,
             "#fb9f3a"
            ],
            [
             0.8888888888888888,
             "#fdca26"
            ],
            [
             1,
             "#f0f921"
            ]
           ]
          },
          "colorway": [
           "#636efa",
           "#EF553B",
           "#00cc96",
           "#ab63fa",
           "#FFA15A",
           "#19d3f3",
           "#FF6692",
           "#B6E880",
           "#FF97FF",
           "#FECB52"
          ],
          "font": {
           "color": "#2a3f5f"
          },
          "geo": {
           "bgcolor": "white",
           "lakecolor": "white",
           "landcolor": "#E5ECF6",
           "showlakes": true,
           "showland": true,
           "subunitcolor": "white"
          },
          "hoverlabel": {
           "align": "left"
          },
          "hovermode": "closest",
          "mapbox": {
           "style": "light"
          },
          "paper_bgcolor": "white",
          "plot_bgcolor": "#E5ECF6",
          "polar": {
           "angularaxis": {
            "gridcolor": "white",
            "linecolor": "white",
            "ticks": ""
           },
           "bgcolor": "#E5ECF6",
           "radialaxis": {
            "gridcolor": "white",
            "linecolor": "white",
            "ticks": ""
           }
          },
          "scene": {
           "xaxis": {
            "backgroundcolor": "#E5ECF6",
            "gridcolor": "white",
            "gridwidth": 2,
            "linecolor": "white",
            "showbackground": true,
            "ticks": "",
            "zerolinecolor": "white"
           },
           "yaxis": {
            "backgroundcolor": "#E5ECF6",
            "gridcolor": "white",
            "gridwidth": 2,
            "linecolor": "white",
            "showbackground": true,
            "ticks": "",
            "zerolinecolor": "white"
           },
           "zaxis": {
            "backgroundcolor": "#E5ECF6",
            "gridcolor": "white",
            "gridwidth": 2,
            "linecolor": "white",
            "showbackground": true,
            "ticks": "",
            "zerolinecolor": "white"
           }
          },
          "shapedefaults": {
           "line": {
            "color": "#2a3f5f"
           }
          },
          "ternary": {
           "aaxis": {
            "gridcolor": "white",
            "linecolor": "white",
            "ticks": ""
           },
           "baxis": {
            "gridcolor": "white",
            "linecolor": "white",
            "ticks": ""
           },
           "bgcolor": "#E5ECF6",
           "caxis": {
            "gridcolor": "white",
            "linecolor": "white",
            "ticks": ""
           }
          },
          "title": {
           "x": 0.05
          },
          "xaxis": {
           "automargin": true,
           "gridcolor": "white",
           "linecolor": "white",
           "ticks": "",
           "title": {
            "standoff": 15
           },
           "zerolinecolor": "white",
           "zerolinewidth": 2
          },
          "yaxis": {
           "automargin": true,
           "gridcolor": "white",
           "linecolor": "white",
           "ticks": "",
           "title": {
            "standoff": 15
           },
           "zerolinecolor": "white",
           "zerolinewidth": 2
          }
         }
        }
       }
      }
     },
     "metadata": {},
     "output_type": "display_data"
    }
   ],
   "source": [
    "import plotly.graph_objects as go\n",
    "\n",
    "fig = go.Figure()\n",
    "fig.add_trace(go.Scatter(x=pred.X, y=pred.Y, mode='markers', name='Expense'))\n",
    "fig.add_trace(go.Scatter(x=pred.X, y=pred.Y_lin, mode='lines', name='Lin_model'))\n",
    "fig.add_trace(go.Scatter(x=pred.X, y=pred.Y_hyp, mode='lines', name='Hyp_model'))\n",
    "fig.show()"
   ]
  },
  {
   "cell_type": "markdown",
   "id": "c197b770",
   "metadata": {},
   "source": [
    "## МНОЖЕСТВЕННАЯ РЕГРЕССИЯ"
   ]
  },
  {
   "cell_type": "code",
   "execution_count": 120,
   "id": "b866bdab",
   "metadata": {},
   "outputs": [
    {
     "data": {
      "text/html": [
       "<div>\n",
       "<style scoped>\n",
       "    .dataframe tbody tr th:only-of-type {\n",
       "        vertical-align: middle;\n",
       "    }\n",
       "\n",
       "    .dataframe tbody tr th {\n",
       "        vertical-align: top;\n",
       "    }\n",
       "\n",
       "    .dataframe thead th {\n",
       "        text-align: right;\n",
       "    }\n",
       "</style>\n",
       "<table border=\"1\" class=\"dataframe\">\n",
       "  <thead>\n",
       "    <tr style=\"text-align: right;\">\n",
       "      <th></th>\n",
       "      <th>rent</th>\n",
       "      <th>s</th>\n",
       "      <th>floor</th>\n",
       "      <th>rooms</th>\n",
       "      <th>district</th>\n",
       "      <th>walls</th>\n",
       "      <th>furniture</th>\n",
       "    </tr>\n",
       "  </thead>\n",
       "  <tbody>\n",
       "    <tr>\n",
       "      <th>0</th>\n",
       "      <td>27500</td>\n",
       "      <td>35.0</td>\n",
       "      <td>5</td>\n",
       "      <td>1</td>\n",
       "      <td>3</td>\n",
       "      <td>1</td>\n",
       "      <td>1</td>\n",
       "    </tr>\n",
       "    <tr>\n",
       "      <th>1</th>\n",
       "      <td>29800</td>\n",
       "      <td>31.0</td>\n",
       "      <td>2</td>\n",
       "      <td>1</td>\n",
       "      <td>2</td>\n",
       "      <td>0</td>\n",
       "      <td>1</td>\n",
       "    </tr>\n",
       "    <tr>\n",
       "      <th>2</th>\n",
       "      <td>32000</td>\n",
       "      <td>30.0</td>\n",
       "      <td>4</td>\n",
       "      <td>1</td>\n",
       "      <td>3</td>\n",
       "      <td>1</td>\n",
       "      <td>1</td>\n",
       "    </tr>\n",
       "    <tr>\n",
       "      <th>3</th>\n",
       "      <td>50000</td>\n",
       "      <td>55.0</td>\n",
       "      <td>1</td>\n",
       "      <td>2</td>\n",
       "      <td>3</td>\n",
       "      <td>1</td>\n",
       "      <td>1</td>\n",
       "    </tr>\n",
       "    <tr>\n",
       "      <th>...</th>\n",
       "      <td>...</td>\n",
       "      <td>...</td>\n",
       "      <td>...</td>\n",
       "      <td>...</td>\n",
       "      <td>...</td>\n",
       "      <td>...</td>\n",
       "      <td>...</td>\n",
       "    </tr>\n",
       "    <tr>\n",
       "      <th>126</th>\n",
       "      <td>47800</td>\n",
       "      <td>54.0</td>\n",
       "      <td>1</td>\n",
       "      <td>2</td>\n",
       "      <td>1</td>\n",
       "      <td>1</td>\n",
       "      <td>1</td>\n",
       "    </tr>\n",
       "    <tr>\n",
       "      <th>127</th>\n",
       "      <td>34200</td>\n",
       "      <td>54.0</td>\n",
       "      <td>3</td>\n",
       "      <td>2</td>\n",
       "      <td>2</td>\n",
       "      <td>0</td>\n",
       "      <td>1</td>\n",
       "    </tr>\n",
       "    <tr>\n",
       "      <th>128</th>\n",
       "      <td>20800</td>\n",
       "      <td>12.0</td>\n",
       "      <td>4</td>\n",
       "      <td>1</td>\n",
       "      <td>3</td>\n",
       "      <td>1</td>\n",
       "      <td>0</td>\n",
       "    </tr>\n",
       "    <tr>\n",
       "      <th>129</th>\n",
       "      <td>34200</td>\n",
       "      <td>68.0</td>\n",
       "      <td>4</td>\n",
       "      <td>2</td>\n",
       "      <td>2</td>\n",
       "      <td>0</td>\n",
       "      <td>1</td>\n",
       "    </tr>\n",
       "  </tbody>\n",
       "</table>\n",
       "<p>130 rows × 7 columns</p>\n",
       "</div>"
      ],
      "text/plain": [
       "      rent     s  floor  rooms  district  walls  furniture\n",
       "0    27500  35.0      5      1         3      1          1\n",
       "1    29800  31.0      2      1         2      0          1\n",
       "2    32000  30.0      4      1         3      1          1\n",
       "3    50000  55.0      1      2         3      1          1\n",
       "..     ...   ...    ...    ...       ...    ...        ...\n",
       "126  47800  54.0      1      2         1      1          1\n",
       "127  34200  54.0      3      2         2      0          1\n",
       "128  20800  12.0      4      1         3      1          0\n",
       "129  34200  68.0      4      2         2      0          1\n",
       "\n",
       "[130 rows x 7 columns]"
      ]
     },
     "execution_count": 120,
     "metadata": {},
     "output_type": "execute_result"
    }
   ],
   "source": [
    "df = pd.read_csv(\"../data/Ap_Rent_2023.csv\", sep=';')\n",
    "df"
   ]
  },
  {
   "cell_type": "code",
   "execution_count": 123,
   "id": "bbadb8da",
   "metadata": {},
   "outputs": [
    {
     "name": "stdout",
     "output_type": "stream",
     "text": [
      "<class 'pandas.core.frame.DataFrame'>\n",
      "Index: 129 entries, 0 to 129\n",
      "Data columns (total 7 columns):\n",
      " #   Column     Non-Null Count  Dtype  \n",
      "---  ------     --------------  -----  \n",
      " 0   rent       129 non-null    int64  \n",
      " 1   s          129 non-null    float64\n",
      " 2   floor      129 non-null    int64  \n",
      " 3   rooms      129 non-null    int64  \n",
      " 4   district   129 non-null    int64  \n",
      " 5   walls      129 non-null    int64  \n",
      " 6   furniture  129 non-null    int64  \n",
      "dtypes: float64(1), int64(6)\n",
      "memory usage: 8.1 KB\n"
     ]
    }
   ],
   "source": [
    "df.loc[(df['rent'] == 50000) & (df['district'] == 2)]\n",
    "df=df.drop(df.index[[37]])\n",
    "df.info()"
   ]
  },
  {
   "cell_type": "code",
   "execution_count": 124,
   "id": "767452bc",
   "metadata": {},
   "outputs": [
    {
     "data": {
      "text/html": [
       "<div>\n",
       "<style scoped>\n",
       "    .dataframe tbody tr th:only-of-type {\n",
       "        vertical-align: middle;\n",
       "    }\n",
       "\n",
       "    .dataframe tbody tr th {\n",
       "        vertical-align: top;\n",
       "    }\n",
       "\n",
       "    .dataframe thead th {\n",
       "        text-align: right;\n",
       "    }\n",
       "</style>\n",
       "<table border=\"1\" class=\"dataframe\">\n",
       "  <thead>\n",
       "    <tr style=\"text-align: right;\">\n",
       "      <th></th>\n",
       "      <th>s</th>\n",
       "      <th>rooms</th>\n",
       "      <th>floor</th>\n",
       "      <th>walls</th>\n",
       "      <th>furniture</th>\n",
       "    </tr>\n",
       "  </thead>\n",
       "  <tbody>\n",
       "    <tr>\n",
       "      <th>0</th>\n",
       "      <td>35.0</td>\n",
       "      <td>1</td>\n",
       "      <td>5</td>\n",
       "      <td>1</td>\n",
       "      <td>1</td>\n",
       "    </tr>\n",
       "    <tr>\n",
       "      <th>1</th>\n",
       "      <td>31.0</td>\n",
       "      <td>1</td>\n",
       "      <td>2</td>\n",
       "      <td>0</td>\n",
       "      <td>1</td>\n",
       "    </tr>\n",
       "    <tr>\n",
       "      <th>2</th>\n",
       "      <td>30.0</td>\n",
       "      <td>1</td>\n",
       "      <td>4</td>\n",
       "      <td>1</td>\n",
       "      <td>1</td>\n",
       "    </tr>\n",
       "    <tr>\n",
       "      <th>3</th>\n",
       "      <td>55.0</td>\n",
       "      <td>2</td>\n",
       "      <td>1</td>\n",
       "      <td>1</td>\n",
       "      <td>1</td>\n",
       "    </tr>\n",
       "    <tr>\n",
       "      <th>...</th>\n",
       "      <td>...</td>\n",
       "      <td>...</td>\n",
       "      <td>...</td>\n",
       "      <td>...</td>\n",
       "      <td>...</td>\n",
       "    </tr>\n",
       "    <tr>\n",
       "      <th>126</th>\n",
       "      <td>54.0</td>\n",
       "      <td>2</td>\n",
       "      <td>1</td>\n",
       "      <td>1</td>\n",
       "      <td>1</td>\n",
       "    </tr>\n",
       "    <tr>\n",
       "      <th>127</th>\n",
       "      <td>54.0</td>\n",
       "      <td>2</td>\n",
       "      <td>3</td>\n",
       "      <td>0</td>\n",
       "      <td>1</td>\n",
       "    </tr>\n",
       "    <tr>\n",
       "      <th>128</th>\n",
       "      <td>12.0</td>\n",
       "      <td>1</td>\n",
       "      <td>4</td>\n",
       "      <td>1</td>\n",
       "      <td>0</td>\n",
       "    </tr>\n",
       "    <tr>\n",
       "      <th>129</th>\n",
       "      <td>68.0</td>\n",
       "      <td>2</td>\n",
       "      <td>4</td>\n",
       "      <td>0</td>\n",
       "      <td>1</td>\n",
       "    </tr>\n",
       "  </tbody>\n",
       "</table>\n",
       "<p>129 rows × 5 columns</p>\n",
       "</div>"
      ],
      "text/plain": [
       "        s  rooms  floor  walls  furniture\n",
       "0    35.0      1      5      1          1\n",
       "1    31.0      1      2      0          1\n",
       "2    30.0      1      4      1          1\n",
       "3    55.0      2      1      1          1\n",
       "..    ...    ...    ...    ...        ...\n",
       "126  54.0      2      1      1          1\n",
       "127  54.0      2      3      0          1\n",
       "128  12.0      1      4      1          0\n",
       "129  68.0      2      4      0          1\n",
       "\n",
       "[129 rows x 5 columns]"
      ]
     },
     "execution_count": 124,
     "metadata": {},
     "output_type": "execute_result"
    }
   ],
   "source": [
    "X=df[['s','rooms','floor','walls','furniture']]\n",
    "X"
   ]
  },
  {
   "cell_type": "code",
   "execution_count": 125,
   "id": "19261dcd",
   "metadata": {},
   "outputs": [
    {
     "data": {
      "text/plain": [
       "(array([12722.79887587]),\n",
       " array([[ 436.96292374, -177.1438411 ,  -20.12818464, 2646.18795355,\n",
       "         2184.98723122]]))"
      ]
     },
     "execution_count": 125,
     "metadata": {},
     "output_type": "execute_result"
    }
   ],
   "source": [
    "Y=df[['rent']]\n",
    "mod_m = LR.fit(X,Y)\n",
    "mod_m.intercept_, mod_m.coef_"
   ]
  },
  {
   "cell_type": "markdown",
   "id": "73cf2861",
   "metadata": {},
   "source": [
    "получились отрицательные коэфф, это странно, по логике такого в данной задаче не должно быть\n",
    "оказывается, это из-за того что в есть мультиколлениарность (из-за сильной связи комнат с площадью, площадь взяла на себя всю нагрузку в функциональной зависимости и влияние кол комнат совсем ослабло)\n",
    "это ошибка, которую желательно сразу отследить на этапе постройки модели\n",
    "\n",
    "Лучше проверить каждый предиктор"
   ]
  },
  {
   "cell_type": "code",
   "execution_count": 126,
   "id": "a16c3891",
   "metadata": {},
   "outputs": [
    {
     "data": {
      "text/plain": [
       "0.7197984795575015"
      ]
     },
     "execution_count": 126,
     "metadata": {},
     "output_type": "execute_result"
    }
   ],
   "source": [
    "r2 = mod_m.score(X,Y)\n",
    "r2"
   ]
  },
  {
   "cell_type": "code",
   "execution_count": 127,
   "id": "5c6e79c1",
   "metadata": {},
   "outputs": [],
   "source": [
    "x_new_app = [[54,2,5,1,1]]"
   ]
  },
  {
   "cell_type": "code",
   "execution_count": 128,
   "id": "239a702d",
   "metadata": {},
   "outputs": [
    {
     "name": "stdout",
     "output_type": "stream",
     "text": [
      "Прогноз цены:  [[40695.]]\n"
     ]
    },
    {
     "name": "stderr",
     "output_type": "stream",
     "text": [
      "/Users/elenko/pyprojects/pandas_venv/lib/python3.13/site-packages/sklearn/utils/validation.py:2739: UserWarning:\n",
      "\n",
      "X does not have valid feature names, but LinearRegression was fitted with feature names\n",
      "\n"
     ]
    }
   ],
   "source": [
    "y_new_app=mod_m.predict(x_new_app)\n",
    "print(\"Прогноз цены: \",y_new_app.round(0))"
   ]
  },
  {
   "cell_type": "markdown",
   "id": "ac3c3e5c",
   "metadata": {},
   "source": [
    "### Множественная регрессия (OLS)"
   ]
  },
  {
   "cell_type": "code",
   "execution_count": 129,
   "id": "c87582de",
   "metadata": {},
   "outputs": [
    {
     "data": {
      "text/html": [
       "<table class=\"simpletable\">\n",
       "<caption>OLS Regression Results</caption>\n",
       "<tr>\n",
       "  <th>Dep. Variable:</th>          <td>rent</td>       <th>  R-squared:         </th> <td>   0.720</td>\n",
       "</tr>\n",
       "<tr>\n",
       "  <th>Model:</th>                   <td>OLS</td>       <th>  Adj. R-squared:    </th> <td>   0.708</td>\n",
       "</tr>\n",
       "<tr>\n",
       "  <th>Method:</th>             <td>Least Squares</td>  <th>  F-statistic:       </th> <td>   63.19</td>\n",
       "</tr>\n",
       "<tr>\n",
       "  <th>Date:</th>             <td>Mon, 30 Jun 2025</td> <th>  Prob (F-statistic):</th> <td>2.41e-32</td>\n",
       "</tr>\n",
       "<tr>\n",
       "  <th>Time:</th>                 <td>00:44:46</td>     <th>  Log-Likelihood:    </th> <td> -1264.4</td>\n",
       "</tr>\n",
       "<tr>\n",
       "  <th>No. Observations:</th>      <td>   129</td>      <th>  AIC:               </th> <td>   2541.</td>\n",
       "</tr>\n",
       "<tr>\n",
       "  <th>Df Residuals:</th>          <td>   123</td>      <th>  BIC:               </th> <td>   2558.</td>\n",
       "</tr>\n",
       "<tr>\n",
       "  <th>Df Model:</th>              <td>     5</td>      <th>                     </th>     <td> </td>   \n",
       "</tr>\n",
       "<tr>\n",
       "  <th>Covariance Type:</th>      <td>nonrobust</td>    <th>                     </th>     <td> </td>   \n",
       "</tr>\n",
       "</table>\n",
       "<table class=\"simpletable\">\n",
       "<tr>\n",
       "      <td></td>         <th>coef</th>     <th>std err</th>      <th>t</th>      <th>P>|t|</th>  <th>[0.025</th>    <th>0.975]</th>  \n",
       "</tr>\n",
       "<tr>\n",
       "  <th>Intercept</th> <td> 1.272e+04</td> <td> 1402.121</td> <td>    9.074</td> <td> 0.000</td> <td> 9947.385</td> <td> 1.55e+04</td>\n",
       "</tr>\n",
       "<tr>\n",
       "  <th>s</th>         <td>  436.9629</td> <td>   43.157</td> <td>   10.125</td> <td> 0.000</td> <td>  351.537</td> <td>  522.389</td>\n",
       "</tr>\n",
       "<tr>\n",
       "  <th>rooms</th>     <td> -177.1438</td> <td>  993.306</td> <td>   -0.178</td> <td> 0.859</td> <td>-2143.332</td> <td> 1789.044</td>\n",
       "</tr>\n",
       "<tr>\n",
       "  <th>floor</th>     <td>  -20.1282</td> <td>  166.039</td> <td>   -0.121</td> <td> 0.904</td> <td> -348.793</td> <td>  308.537</td>\n",
       "</tr>\n",
       "<tr>\n",
       "  <th>walls</th>     <td> 2646.1880</td> <td>  823.063</td> <td>    3.215</td> <td> 0.002</td> <td> 1016.984</td> <td> 4275.392</td>\n",
       "</tr>\n",
       "<tr>\n",
       "  <th>furniture</th> <td> 2184.9872</td> <td> 1169.265</td> <td>    1.869</td> <td> 0.064</td> <td> -129.502</td> <td> 4499.476</td>\n",
       "</tr>\n",
       "</table>\n",
       "<table class=\"simpletable\">\n",
       "<tr>\n",
       "  <th>Omnibus:</th>       <td> 0.279</td> <th>  Durbin-Watson:     </th> <td>   1.856</td>\n",
       "</tr>\n",
       "<tr>\n",
       "  <th>Prob(Omnibus):</th> <td> 0.870</td> <th>  Jarque-Bera (JB):  </th> <td>   0.094</td>\n",
       "</tr>\n",
       "<tr>\n",
       "  <th>Skew:</th>          <td> 0.057</td> <th>  Prob(JB):          </th> <td>   0.954</td>\n",
       "</tr>\n",
       "<tr>\n",
       "  <th>Kurtosis:</th>      <td> 3.066</td> <th>  Cond. No.          </th> <td>    163.</td>\n",
       "</tr>\n",
       "</table><br/><br/>Notes:<br/>[1] Standard Errors assume that the covariance matrix of the errors is correctly specified."
      ],
      "text/latex": [
       "\\begin{center}\n",
       "\\begin{tabular}{lclc}\n",
       "\\toprule\n",
       "\\textbf{Dep. Variable:}    &       rent       & \\textbf{  R-squared:         } &     0.720   \\\\\n",
       "\\textbf{Model:}            &       OLS        & \\textbf{  Adj. R-squared:    } &     0.708   \\\\\n",
       "\\textbf{Method:}           &  Least Squares   & \\textbf{  F-statistic:       } &     63.19   \\\\\n",
       "\\textbf{Date:}             & Mon, 30 Jun 2025 & \\textbf{  Prob (F-statistic):} &  2.41e-32   \\\\\n",
       "\\textbf{Time:}             &     00:44:46     & \\textbf{  Log-Likelihood:    } &   -1264.4   \\\\\n",
       "\\textbf{No. Observations:} &         129      & \\textbf{  AIC:               } &     2541.   \\\\\n",
       "\\textbf{Df Residuals:}     &         123      & \\textbf{  BIC:               } &     2558.   \\\\\n",
       "\\textbf{Df Model:}         &           5      & \\textbf{                     } &             \\\\\n",
       "\\textbf{Covariance Type:}  &    nonrobust     & \\textbf{                     } &             \\\\\n",
       "\\bottomrule\n",
       "\\end{tabular}\n",
       "\\begin{tabular}{lcccccc}\n",
       "                   & \\textbf{coef} & \\textbf{std err} & \\textbf{t} & \\textbf{P$> |$t$|$} & \\textbf{[0.025} & \\textbf{0.975]}  \\\\\n",
       "\\midrule\n",
       "\\textbf{Intercept} &    1.272e+04  &     1402.121     &     9.074  &         0.000        &     9947.385    &     1.55e+04     \\\\\n",
       "\\textbf{s}         &     436.9629  &       43.157     &    10.125  &         0.000        &      351.537    &      522.389     \\\\\n",
       "\\textbf{rooms}     &    -177.1438  &      993.306     &    -0.178  &         0.859        &    -2143.332    &     1789.044     \\\\\n",
       "\\textbf{floor}     &     -20.1282  &      166.039     &    -0.121  &         0.904        &     -348.793    &      308.537     \\\\\n",
       "\\textbf{walls}     &    2646.1880  &      823.063     &     3.215  &         0.002        &     1016.984    &     4275.392     \\\\\n",
       "\\textbf{furniture} &    2184.9872  &     1169.265     &     1.869  &         0.064        &     -129.502    &     4499.476     \\\\\n",
       "\\bottomrule\n",
       "\\end{tabular}\n",
       "\\begin{tabular}{lclc}\n",
       "\\textbf{Omnibus:}       &  0.279 & \\textbf{  Durbin-Watson:     } &    1.856  \\\\\n",
       "\\textbf{Prob(Omnibus):} &  0.870 & \\textbf{  Jarque-Bera (JB):  } &    0.094  \\\\\n",
       "\\textbf{Skew:}          &  0.057 & \\textbf{  Prob(JB):          } &    0.954  \\\\\n",
       "\\textbf{Kurtosis:}      &  3.066 & \\textbf{  Cond. No.          } &     163.  \\\\\n",
       "\\bottomrule\n",
       "\\end{tabular}\n",
       "%\\caption{OLS Regression Results}\n",
       "\\end{center}\n",
       "\n",
       "Notes: \\newline\n",
       " [1] Standard Errors assume that the covariance matrix of the errors is correctly specified."
      ],
      "text/plain": [
       "<class 'statsmodels.iolib.summary.Summary'>\n",
       "\"\"\"\n",
       "                            OLS Regression Results                            \n",
       "==============================================================================\n",
       "Dep. Variable:                   rent   R-squared:                       0.720\n",
       "Model:                            OLS   Adj. R-squared:                  0.708\n",
       "Method:                 Least Squares   F-statistic:                     63.19\n",
       "Date:                Mon, 30 Jun 2025   Prob (F-statistic):           2.41e-32\n",
       "Time:                        00:44:46   Log-Likelihood:                -1264.4\n",
       "No. Observations:                 129   AIC:                             2541.\n",
       "Df Residuals:                     123   BIC:                             2558.\n",
       "Df Model:                           5                                         \n",
       "Covariance Type:            nonrobust                                         \n",
       "==============================================================================\n",
       "                 coef    std err          t      P>|t|      [0.025      0.975]\n",
       "------------------------------------------------------------------------------\n",
       "Intercept   1.272e+04   1402.121      9.074      0.000    9947.385    1.55e+04\n",
       "s            436.9629     43.157     10.125      0.000     351.537     522.389\n",
       "rooms       -177.1438    993.306     -0.178      0.859   -2143.332    1789.044\n",
       "floor        -20.1282    166.039     -0.121      0.904    -348.793     308.537\n",
       "walls       2646.1880    823.063      3.215      0.002    1016.984    4275.392\n",
       "furniture   2184.9872   1169.265      1.869      0.064    -129.502    4499.476\n",
       "==============================================================================\n",
       "Omnibus:                        0.279   Durbin-Watson:                   1.856\n",
       "Prob(Omnibus):                  0.870   Jarque-Bera (JB):                0.094\n",
       "Skew:                           0.057   Prob(JB):                        0.954\n",
       "Kurtosis:                       3.066   Cond. No.                         163.\n",
       "==============================================================================\n",
       "\n",
       "Notes:\n",
       "[1] Standard Errors assume that the covariance matrix of the errors is correctly specified.\n",
       "\"\"\""
      ]
     },
     "execution_count": 129,
     "metadata": {},
     "output_type": "execute_result"
    }
   ],
   "source": [
    "resultsm = smf.ols('rent ~ s + rooms + floor + walls + furniture' , data=df).fit()\n",
    "resultsm.summary()"
   ]
  },
  {
   "cell_type": "markdown",
   "id": "5ad6cbc2",
   "metadata": {},
   "source": [
    "floor\t-20.1282\t166.039\t-0.121\t0.904\n",
    "\n",
    "rooms\t-177.1438\t993.306\t-0.178\t0.859\n",
    "\n",
    "этажи и комнаты показывают статистич не значимость\n",
    "\n",
    "нулевые гипотезы принимаем, коэфф для этих предикторов должны быть = 0\n",
    "\n",
    "еще значимость корреляции можно понять по доверит интервалу\n",
    "\n",
    "* если обе границы положительные, то корреляция -- значимая прямая\n",
    "* если обе границы отрицательные, то корреляция -- значимая обратная \n",
    "* если одна положительная, другая отрицательная, то есть интервал накрывает 0, то связи нет\n",
    "\n",
    "этаж точно убираем\n",
    "\n",
    "комнаты, надо еще подумать, потому что возможно есть мультиколлинеарность\n",
    "\n",
    "!!\n",
    "\n",
    "убирать параметры из модели по одному! может получиться что изменится значимость других параметров!\n",
    "\n",
    "для \n",
    "furniture\t2184.9872\t1169.265\t1.869\t0.064\n",
    "\n",
    "под вопросом, так как pvalue на границе и значение коэфф достаточно большое\n",
    "\n",
    "---\n",
    "Prob(JB):\t0.954 \n",
    "=> оснований отклонить гипотезу о нормальности нет (остатки нормальные)"
   ]
  },
  {
   "cell_type": "code",
   "execution_count": 130,
   "id": "c464f4ad",
   "metadata": {},
   "outputs": [
    {
     "data": {
      "text/html": [
       "<table class=\"simpletable\">\n",
       "<caption>OLS Regression Results</caption>\n",
       "<tr>\n",
       "  <th>Dep. Variable:</th>          <td>rent</td>       <th>  R-squared:         </th> <td>   0.720</td>\n",
       "</tr>\n",
       "<tr>\n",
       "  <th>Model:</th>                   <td>OLS</td>       <th>  Adj. R-squared:    </th> <td>   0.711</td>\n",
       "</tr>\n",
       "<tr>\n",
       "  <th>Method:</th>             <td>Least Squares</td>  <th>  F-statistic:       </th> <td>   79.62</td>\n",
       "</tr>\n",
       "<tr>\n",
       "  <th>Date:</th>             <td>Mon, 30 Jun 2025</td> <th>  Prob (F-statistic):</th> <td>2.54e-33</td>\n",
       "</tr>\n",
       "<tr>\n",
       "  <th>Time:</th>                 <td>00:45:37</td>     <th>  Log-Likelihood:    </th> <td> -1264.4</td>\n",
       "</tr>\n",
       "<tr>\n",
       "  <th>No. Observations:</th>      <td>   129</td>      <th>  AIC:               </th> <td>   2539.</td>\n",
       "</tr>\n",
       "<tr>\n",
       "  <th>Df Residuals:</th>          <td>   124</td>      <th>  BIC:               </th> <td>   2553.</td>\n",
       "</tr>\n",
       "<tr>\n",
       "  <th>Df Model:</th>              <td>     4</td>      <th>                     </th>     <td> </td>   \n",
       "</tr>\n",
       "<tr>\n",
       "  <th>Covariance Type:</th>      <td>nonrobust</td>    <th>                     </th>     <td> </td>   \n",
       "</tr>\n",
       "</table>\n",
       "<table class=\"simpletable\">\n",
       "<tr>\n",
       "      <td></td>         <th>coef</th>     <th>std err</th>      <th>t</th>      <th>P>|t|</th>  <th>[0.025</th>    <th>0.975]</th>  \n",
       "</tr>\n",
       "<tr>\n",
       "  <th>Intercept</th> <td> 1.269e+04</td> <td> 1364.609</td> <td>    9.297</td> <td> 0.000</td> <td> 9985.716</td> <td> 1.54e+04</td>\n",
       "</tr>\n",
       "<tr>\n",
       "  <th>s</th>         <td>  434.7689</td> <td>   39.022</td> <td>   11.142</td> <td> 0.000</td> <td>  357.533</td> <td>  512.005</td>\n",
       "</tr>\n",
       "<tr>\n",
       "  <th>rooms</th>     <td> -151.1137</td> <td>  965.959</td> <td>   -0.156</td> <td> 0.876</td> <td>-2063.016</td> <td> 1760.789</td>\n",
       "</tr>\n",
       "<tr>\n",
       "  <th>walls</th>     <td> 2639.9891</td> <td>  818.203</td> <td>    3.227</td> <td> 0.002</td> <td> 1020.536</td> <td> 4259.443</td>\n",
       "</tr>\n",
       "<tr>\n",
       "  <th>furniture</th> <td> 2185.1790</td> <td> 1164.609</td> <td>    1.876</td> <td> 0.063</td> <td> -119.909</td> <td> 4490.267</td>\n",
       "</tr>\n",
       "</table>\n",
       "<table class=\"simpletable\">\n",
       "<tr>\n",
       "  <th>Omnibus:</th>       <td> 0.330</td> <th>  Durbin-Watson:     </th> <td>   1.857</td>\n",
       "</tr>\n",
       "<tr>\n",
       "  <th>Prob(Omnibus):</th> <td> 0.848</td> <th>  Jarque-Bera (JB):  </th> <td>   0.129</td>\n",
       "</tr>\n",
       "<tr>\n",
       "  <th>Skew:</th>          <td> 0.068</td> <th>  Prob(JB):          </th> <td>   0.937</td>\n",
       "</tr>\n",
       "<tr>\n",
       "  <th>Kurtosis:</th>      <td> 3.075</td> <th>  Cond. No.          </th> <td>    159.</td>\n",
       "</tr>\n",
       "</table><br/><br/>Notes:<br/>[1] Standard Errors assume that the covariance matrix of the errors is correctly specified."
      ],
      "text/latex": [
       "\\begin{center}\n",
       "\\begin{tabular}{lclc}\n",
       "\\toprule\n",
       "\\textbf{Dep. Variable:}    &       rent       & \\textbf{  R-squared:         } &     0.720   \\\\\n",
       "\\textbf{Model:}            &       OLS        & \\textbf{  Adj. R-squared:    } &     0.711   \\\\\n",
       "\\textbf{Method:}           &  Least Squares   & \\textbf{  F-statistic:       } &     79.62   \\\\\n",
       "\\textbf{Date:}             & Mon, 30 Jun 2025 & \\textbf{  Prob (F-statistic):} &  2.54e-33   \\\\\n",
       "\\textbf{Time:}             &     00:45:37     & \\textbf{  Log-Likelihood:    } &   -1264.4   \\\\\n",
       "\\textbf{No. Observations:} &         129      & \\textbf{  AIC:               } &     2539.   \\\\\n",
       "\\textbf{Df Residuals:}     &         124      & \\textbf{  BIC:               } &     2553.   \\\\\n",
       "\\textbf{Df Model:}         &           4      & \\textbf{                     } &             \\\\\n",
       "\\textbf{Covariance Type:}  &    nonrobust     & \\textbf{                     } &             \\\\\n",
       "\\bottomrule\n",
       "\\end{tabular}\n",
       "\\begin{tabular}{lcccccc}\n",
       "                   & \\textbf{coef} & \\textbf{std err} & \\textbf{t} & \\textbf{P$> |$t$|$} & \\textbf{[0.025} & \\textbf{0.975]}  \\\\\n",
       "\\midrule\n",
       "\\textbf{Intercept} &    1.269e+04  &     1364.609     &     9.297  &         0.000        &     9985.716    &     1.54e+04     \\\\\n",
       "\\textbf{s}         &     434.7689  &       39.022     &    11.142  &         0.000        &      357.533    &      512.005     \\\\\n",
       "\\textbf{rooms}     &    -151.1137  &      965.959     &    -0.156  &         0.876        &    -2063.016    &     1760.789     \\\\\n",
       "\\textbf{walls}     &    2639.9891  &      818.203     &     3.227  &         0.002        &     1020.536    &     4259.443     \\\\\n",
       "\\textbf{furniture} &    2185.1790  &     1164.609     &     1.876  &         0.063        &     -119.909    &     4490.267     \\\\\n",
       "\\bottomrule\n",
       "\\end{tabular}\n",
       "\\begin{tabular}{lclc}\n",
       "\\textbf{Omnibus:}       &  0.330 & \\textbf{  Durbin-Watson:     } &    1.857  \\\\\n",
       "\\textbf{Prob(Omnibus):} &  0.848 & \\textbf{  Jarque-Bera (JB):  } &    0.129  \\\\\n",
       "\\textbf{Skew:}          &  0.068 & \\textbf{  Prob(JB):          } &    0.937  \\\\\n",
       "\\textbf{Kurtosis:}      &  3.075 & \\textbf{  Cond. No.          } &     159.  \\\\\n",
       "\\bottomrule\n",
       "\\end{tabular}\n",
       "%\\caption{OLS Regression Results}\n",
       "\\end{center}\n",
       "\n",
       "Notes: \\newline\n",
       " [1] Standard Errors assume that the covariance matrix of the errors is correctly specified."
      ],
      "text/plain": [
       "<class 'statsmodels.iolib.summary.Summary'>\n",
       "\"\"\"\n",
       "                            OLS Regression Results                            \n",
       "==============================================================================\n",
       "Dep. Variable:                   rent   R-squared:                       0.720\n",
       "Model:                            OLS   Adj. R-squared:                  0.711\n",
       "Method:                 Least Squares   F-statistic:                     79.62\n",
       "Date:                Mon, 30 Jun 2025   Prob (F-statistic):           2.54e-33\n",
       "Time:                        00:45:37   Log-Likelihood:                -1264.4\n",
       "No. Observations:                 129   AIC:                             2539.\n",
       "Df Residuals:                     124   BIC:                             2553.\n",
       "Df Model:                           4                                         \n",
       "Covariance Type:            nonrobust                                         \n",
       "==============================================================================\n",
       "                 coef    std err          t      P>|t|      [0.025      0.975]\n",
       "------------------------------------------------------------------------------\n",
       "Intercept   1.269e+04   1364.609      9.297      0.000    9985.716    1.54e+04\n",
       "s            434.7689     39.022     11.142      0.000     357.533     512.005\n",
       "rooms       -151.1137    965.959     -0.156      0.876   -2063.016    1760.789\n",
       "walls       2639.9891    818.203      3.227      0.002    1020.536    4259.443\n",
       "furniture   2185.1790   1164.609      1.876      0.063    -119.909    4490.267\n",
       "==============================================================================\n",
       "Omnibus:                        0.330   Durbin-Watson:                   1.857\n",
       "Prob(Omnibus):                  0.848   Jarque-Bera (JB):                0.129\n",
       "Skew:                           0.068   Prob(JB):                        0.937\n",
       "Kurtosis:                       3.075   Cond. No.                         159.\n",
       "==============================================================================\n",
       "\n",
       "Notes:\n",
       "[1] Standard Errors assume that the covariance matrix of the errors is correctly specified.\n",
       "\"\"\""
      ]
     },
     "execution_count": 130,
     "metadata": {},
     "output_type": "execute_result"
    }
   ],
   "source": [
    "resultsm = smf.ols('rent ~ s + rooms + walls + furniture' , data=df).fit()\n",
    "resultsm.summary()"
   ]
  },
  {
   "cell_type": "code",
   "execution_count": 131,
   "id": "29de61c7",
   "metadata": {},
   "outputs": [
    {
     "data": {
      "text/html": [
       "<table class=\"simpletable\">\n",
       "<caption>OLS Regression Results</caption>\n",
       "<tr>\n",
       "  <th>Dep. Variable:</th>          <td>rent</td>       <th>  R-squared:         </th> <td>   0.720</td>\n",
       "</tr>\n",
       "<tr>\n",
       "  <th>Model:</th>                   <td>OLS</td>       <th>  Adj. R-squared:    </th> <td>   0.713</td>\n",
       "</tr>\n",
       "<tr>\n",
       "  <th>Method:</th>             <td>Least Squares</td>  <th>  F-statistic:       </th> <td>   107.0</td>\n",
       "</tr>\n",
       "<tr>\n",
       "  <th>Date:</th>             <td>Mon, 30 Jun 2025</td> <th>  Prob (F-statistic):</th> <td>2.28e-34</td>\n",
       "</tr>\n",
       "<tr>\n",
       "  <th>Time:</th>                 <td>00:45:47</td>     <th>  Log-Likelihood:    </th> <td> -1264.4</td>\n",
       "</tr>\n",
       "<tr>\n",
       "  <th>No. Observations:</th>      <td>   129</td>      <th>  AIC:               </th> <td>   2537.</td>\n",
       "</tr>\n",
       "<tr>\n",
       "  <th>Df Residuals:</th>          <td>   125</td>      <th>  BIC:               </th> <td>   2548.</td>\n",
       "</tr>\n",
       "<tr>\n",
       "  <th>Df Model:</th>              <td>     3</td>      <th>                     </th>     <td> </td>   \n",
       "</tr>\n",
       "<tr>\n",
       "  <th>Covariance Type:</th>      <td>nonrobust</td>    <th>                     </th>     <td> </td>   \n",
       "</tr>\n",
       "</table>\n",
       "<table class=\"simpletable\">\n",
       "<tr>\n",
       "      <td></td>         <th>coef</th>     <th>std err</th>      <th>t</th>      <th>P>|t|</th>  <th>[0.025</th>    <th>0.975]</th>  \n",
       "</tr>\n",
       "<tr>\n",
       "  <th>Intercept</th> <td> 1.262e+04</td> <td> 1301.168</td> <td>    9.703</td> <td> 0.000</td> <td>    1e+04</td> <td> 1.52e+04</td>\n",
       "</tr>\n",
       "<tr>\n",
       "  <th>s</th>         <td>  430.4937</td> <td>   27.746</td> <td>   15.515</td> <td> 0.000</td> <td>  375.581</td> <td>  485.407</td>\n",
       "</tr>\n",
       "<tr>\n",
       "  <th>walls</th>     <td> 2646.4127</td> <td>  813.977</td> <td>    3.251</td> <td> 0.001</td> <td> 1035.450</td> <td> 4257.375</td>\n",
       "</tr>\n",
       "<tr>\n",
       "  <th>furniture</th> <td> 2192.9019</td> <td> 1159.013</td> <td>    1.892</td> <td> 0.061</td> <td> -100.929</td> <td> 4486.733</td>\n",
       "</tr>\n",
       "</table>\n",
       "<table class=\"simpletable\">\n",
       "<tr>\n",
       "  <th>Omnibus:</th>       <td> 0.337</td> <th>  Durbin-Watson:     </th> <td>   1.864</td>\n",
       "</tr>\n",
       "<tr>\n",
       "  <th>Prob(Omnibus):</th> <td> 0.845</td> <th>  Jarque-Bera (JB):  </th> <td>   0.124</td>\n",
       "</tr>\n",
       "<tr>\n",
       "  <th>Skew:</th>          <td> 0.063</td> <th>  Prob(JB):          </th> <td>   0.940</td>\n",
       "</tr>\n",
       "<tr>\n",
       "  <th>Kurtosis:</th>      <td> 3.086</td> <th>  Cond. No.          </th> <td>    153.</td>\n",
       "</tr>\n",
       "</table><br/><br/>Notes:<br/>[1] Standard Errors assume that the covariance matrix of the errors is correctly specified."
      ],
      "text/latex": [
       "\\begin{center}\n",
       "\\begin{tabular}{lclc}\n",
       "\\toprule\n",
       "\\textbf{Dep. Variable:}    &       rent       & \\textbf{  R-squared:         } &     0.720   \\\\\n",
       "\\textbf{Model:}            &       OLS        & \\textbf{  Adj. R-squared:    } &     0.713   \\\\\n",
       "\\textbf{Method:}           &  Least Squares   & \\textbf{  F-statistic:       } &     107.0   \\\\\n",
       "\\textbf{Date:}             & Mon, 30 Jun 2025 & \\textbf{  Prob (F-statistic):} &  2.28e-34   \\\\\n",
       "\\textbf{Time:}             &     00:45:47     & \\textbf{  Log-Likelihood:    } &   -1264.4   \\\\\n",
       "\\textbf{No. Observations:} &         129      & \\textbf{  AIC:               } &     2537.   \\\\\n",
       "\\textbf{Df Residuals:}     &         125      & \\textbf{  BIC:               } &     2548.   \\\\\n",
       "\\textbf{Df Model:}         &           3      & \\textbf{                     } &             \\\\\n",
       "\\textbf{Covariance Type:}  &    nonrobust     & \\textbf{                     } &             \\\\\n",
       "\\bottomrule\n",
       "\\end{tabular}\n",
       "\\begin{tabular}{lcccccc}\n",
       "                   & \\textbf{coef} & \\textbf{std err} & \\textbf{t} & \\textbf{P$> |$t$|$} & \\textbf{[0.025} & \\textbf{0.975]}  \\\\\n",
       "\\midrule\n",
       "\\textbf{Intercept} &    1.262e+04  &     1301.168     &     9.703  &         0.000        &        1e+04    &     1.52e+04     \\\\\n",
       "\\textbf{s}         &     430.4937  &       27.746     &    15.515  &         0.000        &      375.581    &      485.407     \\\\\n",
       "\\textbf{walls}     &    2646.4127  &      813.977     &     3.251  &         0.001        &     1035.450    &     4257.375     \\\\\n",
       "\\textbf{furniture} &    2192.9019  &     1159.013     &     1.892  &         0.061        &     -100.929    &     4486.733     \\\\\n",
       "\\bottomrule\n",
       "\\end{tabular}\n",
       "\\begin{tabular}{lclc}\n",
       "\\textbf{Omnibus:}       &  0.337 & \\textbf{  Durbin-Watson:     } &    1.864  \\\\\n",
       "\\textbf{Prob(Omnibus):} &  0.845 & \\textbf{  Jarque-Bera (JB):  } &    0.124  \\\\\n",
       "\\textbf{Skew:}          &  0.063 & \\textbf{  Prob(JB):          } &    0.940  \\\\\n",
       "\\textbf{Kurtosis:}      &  3.086 & \\textbf{  Cond. No.          } &     153.  \\\\\n",
       "\\bottomrule\n",
       "\\end{tabular}\n",
       "%\\caption{OLS Regression Results}\n",
       "\\end{center}\n",
       "\n",
       "Notes: \\newline\n",
       " [1] Standard Errors assume that the covariance matrix of the errors is correctly specified."
      ],
      "text/plain": [
       "<class 'statsmodels.iolib.summary.Summary'>\n",
       "\"\"\"\n",
       "                            OLS Regression Results                            \n",
       "==============================================================================\n",
       "Dep. Variable:                   rent   R-squared:                       0.720\n",
       "Model:                            OLS   Adj. R-squared:                  0.713\n",
       "Method:                 Least Squares   F-statistic:                     107.0\n",
       "Date:                Mon, 30 Jun 2025   Prob (F-statistic):           2.28e-34\n",
       "Time:                        00:45:47   Log-Likelihood:                -1264.4\n",
       "No. Observations:                 129   AIC:                             2537.\n",
       "Df Residuals:                     125   BIC:                             2548.\n",
       "Df Model:                           3                                         \n",
       "Covariance Type:            nonrobust                                         \n",
       "==============================================================================\n",
       "                 coef    std err          t      P>|t|      [0.025      0.975]\n",
       "------------------------------------------------------------------------------\n",
       "Intercept   1.262e+04   1301.168      9.703      0.000       1e+04    1.52e+04\n",
       "s            430.4937     27.746     15.515      0.000     375.581     485.407\n",
       "walls       2646.4127    813.977      3.251      0.001    1035.450    4257.375\n",
       "furniture   2192.9019   1159.013      1.892      0.061    -100.929    4486.733\n",
       "==============================================================================\n",
       "Omnibus:                        0.337   Durbin-Watson:                   1.864\n",
       "Prob(Omnibus):                  0.845   Jarque-Bera (JB):                0.124\n",
       "Skew:                           0.063   Prob(JB):                        0.940\n",
       "Kurtosis:                       3.086   Cond. No.                         153.\n",
       "==============================================================================\n",
       "\n",
       "Notes:\n",
       "[1] Standard Errors assume that the covariance matrix of the errors is correctly specified.\n",
       "\"\"\""
      ]
     },
     "execution_count": 131,
     "metadata": {},
     "output_type": "execute_result"
    }
   ],
   "source": [
    "resultsm = smf.ols('rent ~ s + walls + furniture' , data=df).fit()\n",
    "resultsm.summary()"
   ]
  },
  {
   "cell_type": "code",
   "execution_count": 132,
   "id": "b2859ad5",
   "metadata": {},
   "outputs": [
    {
     "data": {
      "text/html": [
       "<table class=\"simpletable\">\n",
       "<caption>OLS Regression Results</caption>\n",
       "<tr>\n",
       "  <th>Dep. Variable:</th>          <td>rent</td>       <th>  R-squared:         </th> <td>   0.712</td>\n",
       "</tr>\n",
       "<tr>\n",
       "  <th>Model:</th>                   <td>OLS</td>       <th>  Adj. R-squared:    </th> <td>   0.707</td>\n",
       "</tr>\n",
       "<tr>\n",
       "  <th>Method:</th>             <td>Least Squares</td>  <th>  F-statistic:       </th> <td>   155.5</td>\n",
       "</tr>\n",
       "<tr>\n",
       "  <th>Date:</th>             <td>Mon, 30 Jun 2025</td> <th>  Prob (F-statistic):</th> <td>9.37e-35</td>\n",
       "</tr>\n",
       "<tr>\n",
       "  <th>Time:</th>                 <td>00:45:56</td>     <th>  Log-Likelihood:    </th> <td> -1266.3</td>\n",
       "</tr>\n",
       "<tr>\n",
       "  <th>No. Observations:</th>      <td>   129</td>      <th>  AIC:               </th> <td>   2539.</td>\n",
       "</tr>\n",
       "<tr>\n",
       "  <th>Df Residuals:</th>          <td>   126</td>      <th>  BIC:               </th> <td>   2547.</td>\n",
       "</tr>\n",
       "<tr>\n",
       "  <th>Df Model:</th>              <td>     2</td>      <th>                     </th>     <td> </td>   \n",
       "</tr>\n",
       "<tr>\n",
       "  <th>Covariance Type:</th>      <td>nonrobust</td>    <th>                     </th>     <td> </td>   \n",
       "</tr>\n",
       "</table>\n",
       "<table class=\"simpletable\">\n",
       "<tr>\n",
       "      <td></td>         <th>coef</th>     <th>std err</th>      <th>t</th>      <th>P>|t|</th>  <th>[0.025</th>    <th>0.975]</th>  \n",
       "</tr>\n",
       "<tr>\n",
       "  <th>Intercept</th> <td> 1.368e+04</td> <td> 1188.566</td> <td>   11.506</td> <td> 0.000</td> <td> 1.13e+04</td> <td>  1.6e+04</td>\n",
       "</tr>\n",
       "<tr>\n",
       "  <th>s</th>         <td>  451.7116</td> <td>   25.637</td> <td>   17.619</td> <td> 0.000</td> <td>  400.976</td> <td>  502.447</td>\n",
       "</tr>\n",
       "<tr>\n",
       "  <th>walls</th>     <td> 2672.3165</td> <td>  822.152</td> <td>    3.250</td> <td> 0.001</td> <td> 1045.302</td> <td> 4299.331</td>\n",
       "</tr>\n",
       "</table>\n",
       "<table class=\"simpletable\">\n",
       "<tr>\n",
       "  <th>Omnibus:</th>       <td> 0.492</td> <th>  Durbin-Watson:     </th> <td>   1.891</td>\n",
       "</tr>\n",
       "<tr>\n",
       "  <th>Prob(Omnibus):</th> <td> 0.782</td> <th>  Jarque-Bera (JB):  </th> <td>   0.200</td>\n",
       "</tr>\n",
       "<tr>\n",
       "  <th>Skew:</th>          <td> 0.062</td> <th>  Prob(JB):          </th> <td>   0.905</td>\n",
       "</tr>\n",
       "<tr>\n",
       "  <th>Kurtosis:</th>      <td> 3.148</td> <th>  Cond. No.          </th> <td>    130.</td>\n",
       "</tr>\n",
       "</table><br/><br/>Notes:<br/>[1] Standard Errors assume that the covariance matrix of the errors is correctly specified."
      ],
      "text/latex": [
       "\\begin{center}\n",
       "\\begin{tabular}{lclc}\n",
       "\\toprule\n",
       "\\textbf{Dep. Variable:}    &       rent       & \\textbf{  R-squared:         } &     0.712   \\\\\n",
       "\\textbf{Model:}            &       OLS        & \\textbf{  Adj. R-squared:    } &     0.707   \\\\\n",
       "\\textbf{Method:}           &  Least Squares   & \\textbf{  F-statistic:       } &     155.5   \\\\\n",
       "\\textbf{Date:}             & Mon, 30 Jun 2025 & \\textbf{  Prob (F-statistic):} &  9.37e-35   \\\\\n",
       "\\textbf{Time:}             &     00:45:56     & \\textbf{  Log-Likelihood:    } &   -1266.3   \\\\\n",
       "\\textbf{No. Observations:} &         129      & \\textbf{  AIC:               } &     2539.   \\\\\n",
       "\\textbf{Df Residuals:}     &         126      & \\textbf{  BIC:               } &     2547.   \\\\\n",
       "\\textbf{Df Model:}         &           2      & \\textbf{                     } &             \\\\\n",
       "\\textbf{Covariance Type:}  &    nonrobust     & \\textbf{                     } &             \\\\\n",
       "\\bottomrule\n",
       "\\end{tabular}\n",
       "\\begin{tabular}{lcccccc}\n",
       "                   & \\textbf{coef} & \\textbf{std err} & \\textbf{t} & \\textbf{P$> |$t$|$} & \\textbf{[0.025} & \\textbf{0.975]}  \\\\\n",
       "\\midrule\n",
       "\\textbf{Intercept} &    1.368e+04  &     1188.566     &    11.506  &         0.000        &     1.13e+04    &      1.6e+04     \\\\\n",
       "\\textbf{s}         &     451.7116  &       25.637     &    17.619  &         0.000        &      400.976    &      502.447     \\\\\n",
       "\\textbf{walls}     &    2672.3165  &      822.152     &     3.250  &         0.001        &     1045.302    &     4299.331     \\\\\n",
       "\\bottomrule\n",
       "\\end{tabular}\n",
       "\\begin{tabular}{lclc}\n",
       "\\textbf{Omnibus:}       &  0.492 & \\textbf{  Durbin-Watson:     } &    1.891  \\\\\n",
       "\\textbf{Prob(Omnibus):} &  0.782 & \\textbf{  Jarque-Bera (JB):  } &    0.200  \\\\\n",
       "\\textbf{Skew:}          &  0.062 & \\textbf{  Prob(JB):          } &    0.905  \\\\\n",
       "\\textbf{Kurtosis:}      &  3.148 & \\textbf{  Cond. No.          } &     130.  \\\\\n",
       "\\bottomrule\n",
       "\\end{tabular}\n",
       "%\\caption{OLS Regression Results}\n",
       "\\end{center}\n",
       "\n",
       "Notes: \\newline\n",
       " [1] Standard Errors assume that the covariance matrix of the errors is correctly specified."
      ],
      "text/plain": [
       "<class 'statsmodels.iolib.summary.Summary'>\n",
       "\"\"\"\n",
       "                            OLS Regression Results                            \n",
       "==============================================================================\n",
       "Dep. Variable:                   rent   R-squared:                       0.712\n",
       "Model:                            OLS   Adj. R-squared:                  0.707\n",
       "Method:                 Least Squares   F-statistic:                     155.5\n",
       "Date:                Mon, 30 Jun 2025   Prob (F-statistic):           9.37e-35\n",
       "Time:                        00:45:56   Log-Likelihood:                -1266.3\n",
       "No. Observations:                 129   AIC:                             2539.\n",
       "Df Residuals:                     126   BIC:                             2547.\n",
       "Df Model:                           2                                         \n",
       "Covariance Type:            nonrobust                                         \n",
       "==============================================================================\n",
       "                 coef    std err          t      P>|t|      [0.025      0.975]\n",
       "------------------------------------------------------------------------------\n",
       "Intercept   1.368e+04   1188.566     11.506      0.000    1.13e+04     1.6e+04\n",
       "s            451.7116     25.637     17.619      0.000     400.976     502.447\n",
       "walls       2672.3165    822.152      3.250      0.001    1045.302    4299.331\n",
       "==============================================================================\n",
       "Omnibus:                        0.492   Durbin-Watson:                   1.891\n",
       "Prob(Omnibus):                  0.782   Jarque-Bera (JB):                0.200\n",
       "Skew:                           0.062   Prob(JB):                        0.905\n",
       "Kurtosis:                       3.148   Cond. No.                         130.\n",
       "==============================================================================\n",
       "\n",
       "Notes:\n",
       "[1] Standard Errors assume that the covariance matrix of the errors is correctly specified.\n",
       "\"\"\""
      ]
     },
     "execution_count": 132,
     "metadata": {},
     "output_type": "execute_result"
    }
   ],
   "source": [
    "resultsm = smf.ols('rent ~ s + walls' , data=df).fit()\n",
    "resultsm.summary()"
   ]
  },
  {
   "cell_type": "markdown",
   "id": "79e8e824",
   "metadata": {},
   "source": [
    "## Влияние категориальных факторов. Dummy variables"
   ]
  },
  {
   "cell_type": "code",
   "execution_count": 134,
   "id": "51c12092",
   "metadata": {},
   "outputs": [
    {
     "data": {
      "text/html": [
       "<div>\n",
       "<style scoped>\n",
       "    .dataframe tbody tr th:only-of-type {\n",
       "        vertical-align: middle;\n",
       "    }\n",
       "\n",
       "    .dataframe tbody tr th {\n",
       "        vertical-align: top;\n",
       "    }\n",
       "\n",
       "    .dataframe thead th {\n",
       "        text-align: right;\n",
       "    }\n",
       "</style>\n",
       "<table border=\"1\" class=\"dataframe\">\n",
       "  <thead>\n",
       "    <tr style=\"text-align: right;\">\n",
       "      <th></th>\n",
       "      <th>rent</th>\n",
       "      <th>s</th>\n",
       "      <th>floor</th>\n",
       "      <th>rooms</th>\n",
       "      <th>district</th>\n",
       "      <th>walls</th>\n",
       "      <th>furniture</th>\n",
       "      <th>d1</th>\n",
       "      <th>d2</th>\n",
       "      <th>d3</th>\n",
       "    </tr>\n",
       "  </thead>\n",
       "  <tbody>\n",
       "    <tr>\n",
       "      <th>0</th>\n",
       "      <td>27500</td>\n",
       "      <td>35.0</td>\n",
       "      <td>5</td>\n",
       "      <td>1</td>\n",
       "      <td>3</td>\n",
       "      <td>1</td>\n",
       "      <td>1</td>\n",
       "      <td>False</td>\n",
       "      <td>False</td>\n",
       "      <td>True</td>\n",
       "    </tr>\n",
       "    <tr>\n",
       "      <th>1</th>\n",
       "      <td>29800</td>\n",
       "      <td>31.0</td>\n",
       "      <td>2</td>\n",
       "      <td>1</td>\n",
       "      <td>2</td>\n",
       "      <td>0</td>\n",
       "      <td>1</td>\n",
       "      <td>False</td>\n",
       "      <td>True</td>\n",
       "      <td>False</td>\n",
       "    </tr>\n",
       "    <tr>\n",
       "      <th>2</th>\n",
       "      <td>32000</td>\n",
       "      <td>30.0</td>\n",
       "      <td>4</td>\n",
       "      <td>1</td>\n",
       "      <td>3</td>\n",
       "      <td>1</td>\n",
       "      <td>1</td>\n",
       "      <td>False</td>\n",
       "      <td>False</td>\n",
       "      <td>True</td>\n",
       "    </tr>\n",
       "    <tr>\n",
       "      <th>3</th>\n",
       "      <td>50000</td>\n",
       "      <td>55.0</td>\n",
       "      <td>1</td>\n",
       "      <td>2</td>\n",
       "      <td>3</td>\n",
       "      <td>1</td>\n",
       "      <td>1</td>\n",
       "      <td>False</td>\n",
       "      <td>False</td>\n",
       "      <td>True</td>\n",
       "    </tr>\n",
       "    <tr>\n",
       "      <th>...</th>\n",
       "      <td>...</td>\n",
       "      <td>...</td>\n",
       "      <td>...</td>\n",
       "      <td>...</td>\n",
       "      <td>...</td>\n",
       "      <td>...</td>\n",
       "      <td>...</td>\n",
       "      <td>...</td>\n",
       "      <td>...</td>\n",
       "      <td>...</td>\n",
       "    </tr>\n",
       "    <tr>\n",
       "      <th>126</th>\n",
       "      <td>47800</td>\n",
       "      <td>54.0</td>\n",
       "      <td>1</td>\n",
       "      <td>2</td>\n",
       "      <td>1</td>\n",
       "      <td>1</td>\n",
       "      <td>1</td>\n",
       "      <td>True</td>\n",
       "      <td>False</td>\n",
       "      <td>False</td>\n",
       "    </tr>\n",
       "    <tr>\n",
       "      <th>127</th>\n",
       "      <td>34200</td>\n",
       "      <td>54.0</td>\n",
       "      <td>3</td>\n",
       "      <td>2</td>\n",
       "      <td>2</td>\n",
       "      <td>0</td>\n",
       "      <td>1</td>\n",
       "      <td>False</td>\n",
       "      <td>True</td>\n",
       "      <td>False</td>\n",
       "    </tr>\n",
       "    <tr>\n",
       "      <th>128</th>\n",
       "      <td>20800</td>\n",
       "      <td>12.0</td>\n",
       "      <td>4</td>\n",
       "      <td>1</td>\n",
       "      <td>3</td>\n",
       "      <td>1</td>\n",
       "      <td>0</td>\n",
       "      <td>False</td>\n",
       "      <td>False</td>\n",
       "      <td>True</td>\n",
       "    </tr>\n",
       "    <tr>\n",
       "      <th>129</th>\n",
       "      <td>34200</td>\n",
       "      <td>68.0</td>\n",
       "      <td>4</td>\n",
       "      <td>2</td>\n",
       "      <td>2</td>\n",
       "      <td>0</td>\n",
       "      <td>1</td>\n",
       "      <td>False</td>\n",
       "      <td>True</td>\n",
       "      <td>False</td>\n",
       "    </tr>\n",
       "  </tbody>\n",
       "</table>\n",
       "<p>129 rows × 10 columns</p>\n",
       "</div>"
      ],
      "text/plain": [
       "      rent     s  floor  rooms  district  walls  furniture     d1     d2  \\\n",
       "0    27500  35.0      5      1         3      1          1  False  False   \n",
       "1    29800  31.0      2      1         2      0          1  False   True   \n",
       "2    32000  30.0      4      1         3      1          1  False  False   \n",
       "3    50000  55.0      1      2         3      1          1  False  False   \n",
       "..     ...   ...    ...    ...       ...    ...        ...    ...    ...   \n",
       "126  47800  54.0      1      2         1      1          1   True  False   \n",
       "127  34200  54.0      3      2         2      0          1  False   True   \n",
       "128  20800  12.0      4      1         3      1          0  False  False   \n",
       "129  34200  68.0      4      2         2      0          1  False   True   \n",
       "\n",
       "        d3  \n",
       "0     True  \n",
       "1    False  \n",
       "2     True  \n",
       "3     True  \n",
       "..     ...  \n",
       "126  False  \n",
       "127  False  \n",
       "128   True  \n",
       "129  False  \n",
       "\n",
       "[129 rows x 10 columns]"
      ]
     },
     "execution_count": 134,
     "metadata": {},
     "output_type": "execute_result"
    }
   ],
   "source": [
    "df01 = pd.concat((df, pd.get_dummies(df.district, prefix=\"d\", prefix_sep='',)), axis=1)\n",
    "df01"
   ]
  },
  {
   "cell_type": "markdown",
   "id": "b74e1994",
   "metadata": {},
   "source": [
    "Все фиктивные переменные в модель включить незьля, будет мультиколлинеарность, хотя бы один надо исключить, часто это первый, но можно и подобрать перебором, какой меньше влияет или по смыслу данных."
   ]
  },
  {
   "cell_type": "markdown",
   "id": "18cfd730",
   "metadata": {},
   "source": [
    "если категорий очень много, можно сделать кластеризацию, то есть укрупнить количество вариантов"
   ]
  },
  {
   "cell_type": "code",
   "execution_count": null,
   "id": "a1a74592",
   "metadata": {},
   "outputs": [
    {
     "data": {
      "text/html": [
       "<table class=\"simpletable\">\n",
       "<caption>OLS Regression Results</caption>\n",
       "<tr>\n",
       "  <th>Dep. Variable:</th>          <td>rent</td>       <th>  R-squared:         </th> <td>   0.773</td>\n",
       "</tr>\n",
       "<tr>\n",
       "  <th>Model:</th>                   <td>OLS</td>       <th>  Adj. R-squared:    </th> <td>   0.764</td>\n",
       "</tr>\n",
       "<tr>\n",
       "  <th>Method:</th>             <td>Least Squares</td>  <th>  F-statistic:       </th> <td>   83.86</td>\n",
       "</tr>\n",
       "<tr>\n",
       "  <th>Date:</th>             <td>Mon, 30 Jun 2025</td> <th>  Prob (F-statistic):</th> <td>6.04e-38</td>\n",
       "</tr>\n",
       "<tr>\n",
       "  <th>Time:</th>                 <td>00:47:51</td>     <th>  Log-Likelihood:    </th> <td> -1250.8</td>\n",
       "</tr>\n",
       "<tr>\n",
       "  <th>No. Observations:</th>      <td>   129</td>      <th>  AIC:               </th> <td>   2514.</td>\n",
       "</tr>\n",
       "<tr>\n",
       "  <th>Df Residuals:</th>          <td>   123</td>      <th>  BIC:               </th> <td>   2531.</td>\n",
       "</tr>\n",
       "<tr>\n",
       "  <th>Df Model:</th>              <td>     5</td>      <th>                     </th>     <td> </td>   \n",
       "</tr>\n",
       "<tr>\n",
       "  <th>Covariance Type:</th>      <td>nonrobust</td>    <th>                     </th>     <td> </td>   \n",
       "</tr>\n",
       "</table>\n",
       "<table class=\"simpletable\">\n",
       "<tr>\n",
       "       <td></td>         <th>coef</th>     <th>std err</th>      <th>t</th>      <th>P>|t|</th>  <th>[0.025</th>    <th>0.975]</th>  \n",
       "</tr>\n",
       "<tr>\n",
       "  <th>Intercept</th>  <td> 1.378e+04</td> <td> 1378.043</td> <td>   10.001</td> <td> 0.000</td> <td> 1.11e+04</td> <td> 1.65e+04</td>\n",
       "</tr>\n",
       "<tr>\n",
       "  <th>d1[T.True]</th> <td> 2729.7874</td> <td>  887.477</td> <td>    3.076</td> <td> 0.003</td> <td>  973.082</td> <td> 4486.493</td>\n",
       "</tr>\n",
       "<tr>\n",
       "  <th>d2[T.True]</th> <td>-2312.9677</td> <td>  875.250</td> <td>   -2.643</td> <td> 0.009</td> <td>-4045.471</td> <td> -580.464</td>\n",
       "</tr>\n",
       "<tr>\n",
       "  <th>s</th>          <td>  408.4594</td> <td>   25.560</td> <td>   15.980</td> <td> 0.000</td> <td>  357.864</td> <td>  459.054</td>\n",
       "</tr>\n",
       "<tr>\n",
       "  <th>walls</th>      <td> 1561.4917</td> <td>  766.748</td> <td>    2.037</td> <td> 0.044</td> <td>   43.761</td> <td> 3079.223</td>\n",
       "</tr>\n",
       "<tr>\n",
       "  <th>furniture</th>  <td> 2528.0645</td> <td> 1061.180</td> <td>    2.382</td> <td> 0.019</td> <td>  427.524</td> <td> 4628.605</td>\n",
       "</tr>\n",
       "</table>\n",
       "<table class=\"simpletable\">\n",
       "<tr>\n",
       "  <th>Omnibus:</th>       <td> 0.210</td> <th>  Durbin-Watson:     </th> <td>   1.732</td>\n",
       "</tr>\n",
       "<tr>\n",
       "  <th>Prob(Omnibus):</th> <td> 0.900</td> <th>  Jarque-Bera (JB):  </th> <td>   0.309</td>\n",
       "</tr>\n",
       "<tr>\n",
       "  <th>Skew:</th>          <td>-0.090</td> <th>  Prob(JB):          </th> <td>   0.857</td>\n",
       "</tr>\n",
       "<tr>\n",
       "  <th>Kurtosis:</th>      <td> 2.843</td> <th>  Cond. No.          </th> <td>    181.</td>\n",
       "</tr>\n",
       "</table><br/><br/>Notes:<br/>[1] Standard Errors assume that the covariance matrix of the errors is correctly specified."
      ],
      "text/latex": [
       "\\begin{center}\n",
       "\\begin{tabular}{lclc}\n",
       "\\toprule\n",
       "\\textbf{Dep. Variable:}    &       rent       & \\textbf{  R-squared:         } &     0.773   \\\\\n",
       "\\textbf{Model:}            &       OLS        & \\textbf{  Adj. R-squared:    } &     0.764   \\\\\n",
       "\\textbf{Method:}           &  Least Squares   & \\textbf{  F-statistic:       } &     83.86   \\\\\n",
       "\\textbf{Date:}             & Mon, 30 Jun 2025 & \\textbf{  Prob (F-statistic):} &  6.04e-38   \\\\\n",
       "\\textbf{Time:}             &     00:47:51     & \\textbf{  Log-Likelihood:    } &   -1250.8   \\\\\n",
       "\\textbf{No. Observations:} &         129      & \\textbf{  AIC:               } &     2514.   \\\\\n",
       "\\textbf{Df Residuals:}     &         123      & \\textbf{  BIC:               } &     2531.   \\\\\n",
       "\\textbf{Df Model:}         &           5      & \\textbf{                     } &             \\\\\n",
       "\\textbf{Covariance Type:}  &    nonrobust     & \\textbf{                     } &             \\\\\n",
       "\\bottomrule\n",
       "\\end{tabular}\n",
       "\\begin{tabular}{lcccccc}\n",
       "                    & \\textbf{coef} & \\textbf{std err} & \\textbf{t} & \\textbf{P$> |$t$|$} & \\textbf{[0.025} & \\textbf{0.975]}  \\\\\n",
       "\\midrule\n",
       "\\textbf{Intercept}  &    1.378e+04  &     1378.043     &    10.001  &         0.000        &     1.11e+04    &     1.65e+04     \\\\\n",
       "\\textbf{d1[T.True]} &    2729.7874  &      887.477     &     3.076  &         0.003        &      973.082    &     4486.493     \\\\\n",
       "\\textbf{d2[T.True]} &   -2312.9677  &      875.250     &    -2.643  &         0.009        &    -4045.471    &     -580.464     \\\\\n",
       "\\textbf{s}          &     408.4594  &       25.560     &    15.980  &         0.000        &      357.864    &      459.054     \\\\\n",
       "\\textbf{walls}      &    1561.4917  &      766.748     &     2.037  &         0.044        &       43.761    &     3079.223     \\\\\n",
       "\\textbf{furniture}  &    2528.0645  &     1061.180     &     2.382  &         0.019        &      427.524    &     4628.605     \\\\\n",
       "\\bottomrule\n",
       "\\end{tabular}\n",
       "\\begin{tabular}{lclc}\n",
       "\\textbf{Omnibus:}       &  0.210 & \\textbf{  Durbin-Watson:     } &    1.732  \\\\\n",
       "\\textbf{Prob(Omnibus):} &  0.900 & \\textbf{  Jarque-Bera (JB):  } &    0.309  \\\\\n",
       "\\textbf{Skew:}          & -0.090 & \\textbf{  Prob(JB):          } &    0.857  \\\\\n",
       "\\textbf{Kurtosis:}      &  2.843 & \\textbf{  Cond. No.          } &     181.  \\\\\n",
       "\\bottomrule\n",
       "\\end{tabular}\n",
       "%\\caption{OLS Regression Results}\n",
       "\\end{center}\n",
       "\n",
       "Notes: \\newline\n",
       " [1] Standard Errors assume that the covariance matrix of the errors is correctly specified."
      ],
      "text/plain": [
       "<class 'statsmodels.iolib.summary.Summary'>\n",
       "\"\"\"\n",
       "                            OLS Regression Results                            \n",
       "==============================================================================\n",
       "Dep. Variable:                   rent   R-squared:                       0.773\n",
       "Model:                            OLS   Adj. R-squared:                  0.764\n",
       "Method:                 Least Squares   F-statistic:                     83.86\n",
       "Date:                Mon, 30 Jun 2025   Prob (F-statistic):           6.04e-38\n",
       "Time:                        00:47:51   Log-Likelihood:                -1250.8\n",
       "No. Observations:                 129   AIC:                             2514.\n",
       "Df Residuals:                     123   BIC:                             2531.\n",
       "Df Model:                           5                                         \n",
       "Covariance Type:            nonrobust                                         \n",
       "==============================================================================\n",
       "                 coef    std err          t      P>|t|      [0.025      0.975]\n",
       "------------------------------------------------------------------------------\n",
       "Intercept   1.378e+04   1378.043     10.001      0.000    1.11e+04    1.65e+04\n",
       "d1[T.True]  2729.7874    887.477      3.076      0.003     973.082    4486.493\n",
       "d2[T.True] -2312.9677    875.250     -2.643      0.009   -4045.471    -580.464\n",
       "s            408.4594     25.560     15.980      0.000     357.864     459.054\n",
       "walls       1561.4917    766.748      2.037      0.044      43.761    3079.223\n",
       "furniture   2528.0645   1061.180      2.382      0.019     427.524    4628.605\n",
       "==============================================================================\n",
       "Omnibus:                        0.210   Durbin-Watson:                   1.732\n",
       "Prob(Omnibus):                  0.900   Jarque-Bera (JB):                0.309\n",
       "Skew:                          -0.090   Prob(JB):                        0.857\n",
       "Kurtosis:                       2.843   Cond. No.                         181.\n",
       "==============================================================================\n",
       "\n",
       "Notes:\n",
       "[1] Standard Errors assume that the covariance matrix of the errors is correctly specified.\n",
       "\"\"\""
      ]
     },
     "execution_count": 135,
     "metadata": {},
     "output_type": "execute_result"
    }
   ],
   "source": [
    "resultsm = smf.ols('rent ~ s + walls + furniture + d1 + d2 ', data=df01).fit()\n",
    "resultsm.summary()"
   ]
  },
  {
   "cell_type": "markdown",
   "id": "af840088",
   "metadata": {},
   "source": [
    "furniture\t2528.0645\t1061.180\t2.382\t0.019\n",
    "\n",
    "мебель стала статистически значимой"
   ]
  },
  {
   "cell_type": "code",
   "execution_count": null,
   "id": "a2da8b5a",
   "metadata": {},
   "outputs": [
    {
     "data": {
      "text/html": [
       "<table class=\"simpletable\">\n",
       "<caption>OLS Regression Results</caption>\n",
       "<tr>\n",
       "  <th>Dep. Variable:</th>          <td>rent</td>       <th>  R-squared:         </th> <td>   0.773</td>\n",
       "</tr>\n",
       "<tr>\n",
       "  <th>Model:</th>                   <td>OLS</td>       <th>  Adj. R-squared:    </th> <td>   0.764</td>\n",
       "</tr>\n",
       "<tr>\n",
       "  <th>Method:</th>             <td>Least Squares</td>  <th>  F-statistic:       </th> <td>   83.86</td>\n",
       "</tr>\n",
       "<tr>\n",
       "  <th>Date:</th>             <td>Mon, 30 Jun 2025</td> <th>  Prob (F-statistic):</th> <td>6.04e-38</td>\n",
       "</tr>\n",
       "<tr>\n",
       "  <th>Time:</th>                 <td>00:47:59</td>     <th>  Log-Likelihood:    </th> <td> -1250.8</td>\n",
       "</tr>\n",
       "<tr>\n",
       "  <th>No. Observations:</th>      <td>   129</td>      <th>  AIC:               </th> <td>   2514.</td>\n",
       "</tr>\n",
       "<tr>\n",
       "  <th>Df Residuals:</th>          <td>   123</td>      <th>  BIC:               </th> <td>   2531.</td>\n",
       "</tr>\n",
       "<tr>\n",
       "  <th>Df Model:</th>              <td>     5</td>      <th>                     </th>     <td> </td>   \n",
       "</tr>\n",
       "<tr>\n",
       "  <th>Covariance Type:</th>      <td>nonrobust</td>    <th>                     </th>     <td> </td>   \n",
       "</tr>\n",
       "</table>\n",
       "<table class=\"simpletable\">\n",
       "<tr>\n",
       "          <td></td>            <th>coef</th>     <th>std err</th>      <th>t</th>      <th>P>|t|</th>  <th>[0.025</th>    <th>0.975]</th>  \n",
       "</tr>\n",
       "<tr>\n",
       "  <th>Intercept</th>        <td> 1.651e+04</td> <td> 1384.054</td> <td>   11.930</td> <td> 0.000</td> <td> 1.38e+04</td> <td> 1.93e+04</td>\n",
       "</tr>\n",
       "<tr>\n",
       "  <th>C(district)[T.2]</th> <td>-5042.7551</td> <td>  936.924</td> <td>   -5.382</td> <td> 0.000</td> <td>-6897.339</td> <td>-3188.171</td>\n",
       "</tr>\n",
       "<tr>\n",
       "  <th>C(district)[T.3]</th> <td>-2729.7874</td> <td>  887.477</td> <td>   -3.076</td> <td> 0.003</td> <td>-4486.493</td> <td> -973.082</td>\n",
       "</tr>\n",
       "<tr>\n",
       "  <th>s</th>                <td>  408.4594</td> <td>   25.560</td> <td>   15.980</td> <td> 0.000</td> <td>  357.864</td> <td>  459.054</td>\n",
       "</tr>\n",
       "<tr>\n",
       "  <th>walls</th>            <td> 1561.4917</td> <td>  766.748</td> <td>    2.037</td> <td> 0.044</td> <td>   43.761</td> <td> 3079.223</td>\n",
       "</tr>\n",
       "<tr>\n",
       "  <th>furniture</th>        <td> 2528.0645</td> <td> 1061.180</td> <td>    2.382</td> <td> 0.019</td> <td>  427.524</td> <td> 4628.605</td>\n",
       "</tr>\n",
       "</table>\n",
       "<table class=\"simpletable\">\n",
       "<tr>\n",
       "  <th>Omnibus:</th>       <td> 0.210</td> <th>  Durbin-Watson:     </th> <td>   1.732</td>\n",
       "</tr>\n",
       "<tr>\n",
       "  <th>Prob(Omnibus):</th> <td> 0.900</td> <th>  Jarque-Bera (JB):  </th> <td>   0.309</td>\n",
       "</tr>\n",
       "<tr>\n",
       "  <th>Skew:</th>          <td>-0.090</td> <th>  Prob(JB):          </th> <td>   0.857</td>\n",
       "</tr>\n",
       "<tr>\n",
       "  <th>Kurtosis:</th>      <td> 2.843</td> <th>  Cond. No.          </th> <td>    182.</td>\n",
       "</tr>\n",
       "</table><br/><br/>Notes:<br/>[1] Standard Errors assume that the covariance matrix of the errors is correctly specified."
      ],
      "text/latex": [
       "\\begin{center}\n",
       "\\begin{tabular}{lclc}\n",
       "\\toprule\n",
       "\\textbf{Dep. Variable:}    &       rent       & \\textbf{  R-squared:         } &     0.773   \\\\\n",
       "\\textbf{Model:}            &       OLS        & \\textbf{  Adj. R-squared:    } &     0.764   \\\\\n",
       "\\textbf{Method:}           &  Least Squares   & \\textbf{  F-statistic:       } &     83.86   \\\\\n",
       "\\textbf{Date:}             & Mon, 30 Jun 2025 & \\textbf{  Prob (F-statistic):} &  6.04e-38   \\\\\n",
       "\\textbf{Time:}             &     00:47:59     & \\textbf{  Log-Likelihood:    } &   -1250.8   \\\\\n",
       "\\textbf{No. Observations:} &         129      & \\textbf{  AIC:               } &     2514.   \\\\\n",
       "\\textbf{Df Residuals:}     &         123      & \\textbf{  BIC:               } &     2531.   \\\\\n",
       "\\textbf{Df Model:}         &           5      & \\textbf{                     } &             \\\\\n",
       "\\textbf{Covariance Type:}  &    nonrobust     & \\textbf{                     } &             \\\\\n",
       "\\bottomrule\n",
       "\\end{tabular}\n",
       "\\begin{tabular}{lcccccc}\n",
       "                          & \\textbf{coef} & \\textbf{std err} & \\textbf{t} & \\textbf{P$> |$t$|$} & \\textbf{[0.025} & \\textbf{0.975]}  \\\\\n",
       "\\midrule\n",
       "\\textbf{Intercept}        &    1.651e+04  &     1384.054     &    11.930  &         0.000        &     1.38e+04    &     1.93e+04     \\\\\n",
       "\\textbf{C(district)[T.2]} &   -5042.7551  &      936.924     &    -5.382  &         0.000        &    -6897.339    &    -3188.171     \\\\\n",
       "\\textbf{C(district)[T.3]} &   -2729.7874  &      887.477     &    -3.076  &         0.003        &    -4486.493    &     -973.082     \\\\\n",
       "\\textbf{s}                &     408.4594  &       25.560     &    15.980  &         0.000        &      357.864    &      459.054     \\\\\n",
       "\\textbf{walls}            &    1561.4917  &      766.748     &     2.037  &         0.044        &       43.761    &     3079.223     \\\\\n",
       "\\textbf{furniture}        &    2528.0645  &     1061.180     &     2.382  &         0.019        &      427.524    &     4628.605     \\\\\n",
       "\\bottomrule\n",
       "\\end{tabular}\n",
       "\\begin{tabular}{lclc}\n",
       "\\textbf{Omnibus:}       &  0.210 & \\textbf{  Durbin-Watson:     } &    1.732  \\\\\n",
       "\\textbf{Prob(Omnibus):} &  0.900 & \\textbf{  Jarque-Bera (JB):  } &    0.309  \\\\\n",
       "\\textbf{Skew:}          & -0.090 & \\textbf{  Prob(JB):          } &    0.857  \\\\\n",
       "\\textbf{Kurtosis:}      &  2.843 & \\textbf{  Cond. No.          } &     182.  \\\\\n",
       "\\bottomrule\n",
       "\\end{tabular}\n",
       "%\\caption{OLS Regression Results}\n",
       "\\end{center}\n",
       "\n",
       "Notes: \\newline\n",
       " [1] Standard Errors assume that the covariance matrix of the errors is correctly specified."
      ],
      "text/plain": [
       "<class 'statsmodels.iolib.summary.Summary'>\n",
       "\"\"\"\n",
       "                            OLS Regression Results                            \n",
       "==============================================================================\n",
       "Dep. Variable:                   rent   R-squared:                       0.773\n",
       "Model:                            OLS   Adj. R-squared:                  0.764\n",
       "Method:                 Least Squares   F-statistic:                     83.86\n",
       "Date:                Mon, 30 Jun 2025   Prob (F-statistic):           6.04e-38\n",
       "Time:                        00:47:59   Log-Likelihood:                -1250.8\n",
       "No. Observations:                 129   AIC:                             2514.\n",
       "Df Residuals:                     123   BIC:                             2531.\n",
       "Df Model:                           5                                         \n",
       "Covariance Type:            nonrobust                                         \n",
       "====================================================================================\n",
       "                       coef    std err          t      P>|t|      [0.025      0.975]\n",
       "------------------------------------------------------------------------------------\n",
       "Intercept         1.651e+04   1384.054     11.930      0.000    1.38e+04    1.93e+04\n",
       "C(district)[T.2] -5042.7551    936.924     -5.382      0.000   -6897.339   -3188.171\n",
       "C(district)[T.3] -2729.7874    887.477     -3.076      0.003   -4486.493    -973.082\n",
       "s                  408.4594     25.560     15.980      0.000     357.864     459.054\n",
       "walls             1561.4917    766.748      2.037      0.044      43.761    3079.223\n",
       "furniture         2528.0645   1061.180      2.382      0.019     427.524    4628.605\n",
       "==============================================================================\n",
       "Omnibus:                        0.210   Durbin-Watson:                   1.732\n",
       "Prob(Omnibus):                  0.900   Jarque-Bera (JB):                0.309\n",
       "Skew:                          -0.090   Prob(JB):                        0.857\n",
       "Kurtosis:                       2.843   Cond. No.                         182.\n",
       "==============================================================================\n",
       "\n",
       "Notes:\n",
       "[1] Standard Errors assume that the covariance matrix of the errors is correctly specified.\n",
       "\"\"\""
      ]
     },
     "execution_count": 136,
     "metadata": {},
     "output_type": "execute_result"
    }
   ],
   "source": [
    "# формула из языка R -- создание модели без кодирования категориальных признаков фиктивными переменными\n",
    "# C значит categorical (создастся внутри матрица с фикт перем и возьмет все кроме первого)\n",
    "resultsm = smf.ols('rent ~ s + walls + furniture + C(district) ', data=df01).fit()\n",
    "resultsm.summary()"
   ]
  },
  {
   "cell_type": "markdown",
   "id": "3ea7006b",
   "metadata": {},
   "source": [
    "здесь формула из языка R \n",
    "\n",
    "'rent ~ s + walls + furniture + C(district) '\n",
    "\n",
    "C значит categorical\n",
    "\n",
    "чтобы выкинул третий фиктивный признак используем Treatment\n",
    "\n",
    "'rent ~ s + walls + furniture + C(district, Treatment(reference=3))'"
   ]
  },
  {
   "cell_type": "code",
   "execution_count": 137,
   "id": "38121cb6",
   "metadata": {},
   "outputs": [
    {
     "data": {
      "text/html": [
       "<table class=\"simpletable\">\n",
       "<caption>OLS Regression Results</caption>\n",
       "<tr>\n",
       "  <th>Dep. Variable:</th>          <td>rent</td>       <th>  R-squared:         </th> <td>   0.773</td>\n",
       "</tr>\n",
       "<tr>\n",
       "  <th>Model:</th>                   <td>OLS</td>       <th>  Adj. R-squared:    </th> <td>   0.764</td>\n",
       "</tr>\n",
       "<tr>\n",
       "  <th>Method:</th>             <td>Least Squares</td>  <th>  F-statistic:       </th> <td>   83.86</td>\n",
       "</tr>\n",
       "<tr>\n",
       "  <th>Date:</th>             <td>Mon, 30 Jun 2025</td> <th>  Prob (F-statistic):</th> <td>6.04e-38</td>\n",
       "</tr>\n",
       "<tr>\n",
       "  <th>Time:</th>                 <td>00:48:15</td>     <th>  Log-Likelihood:    </th> <td> -1250.8</td>\n",
       "</tr>\n",
       "<tr>\n",
       "  <th>No. Observations:</th>      <td>   129</td>      <th>  AIC:               </th> <td>   2514.</td>\n",
       "</tr>\n",
       "<tr>\n",
       "  <th>Df Residuals:</th>          <td>   123</td>      <th>  BIC:               </th> <td>   2531.</td>\n",
       "</tr>\n",
       "<tr>\n",
       "  <th>Df Model:</th>              <td>     5</td>      <th>                     </th>     <td> </td>   \n",
       "</tr>\n",
       "<tr>\n",
       "  <th>Covariance Type:</th>      <td>nonrobust</td>    <th>                     </th>     <td> </td>   \n",
       "</tr>\n",
       "</table>\n",
       "<table class=\"simpletable\">\n",
       "<tr>\n",
       "                      <td></td>                        <th>coef</th>     <th>std err</th>      <th>t</th>      <th>P>|t|</th>  <th>[0.025</th>    <th>0.975]</th>  \n",
       "</tr>\n",
       "<tr>\n",
       "  <th>Intercept</th>                                <td> 1.378e+04</td> <td> 1378.043</td> <td>   10.001</td> <td> 0.000</td> <td> 1.11e+04</td> <td> 1.65e+04</td>\n",
       "</tr>\n",
       "<tr>\n",
       "  <th>C(district, Treatment(reference=3))[T.1]</th> <td> 2729.7874</td> <td>  887.477</td> <td>    3.076</td> <td> 0.003</td> <td>  973.082</td> <td> 4486.493</td>\n",
       "</tr>\n",
       "<tr>\n",
       "  <th>C(district, Treatment(reference=3))[T.2]</th> <td>-2312.9677</td> <td>  875.250</td> <td>   -2.643</td> <td> 0.009</td> <td>-4045.471</td> <td> -580.464</td>\n",
       "</tr>\n",
       "<tr>\n",
       "  <th>s</th>                                        <td>  408.4594</td> <td>   25.560</td> <td>   15.980</td> <td> 0.000</td> <td>  357.864</td> <td>  459.054</td>\n",
       "</tr>\n",
       "<tr>\n",
       "  <th>walls</th>                                    <td> 1561.4917</td> <td>  766.748</td> <td>    2.037</td> <td> 0.044</td> <td>   43.761</td> <td> 3079.223</td>\n",
       "</tr>\n",
       "<tr>\n",
       "  <th>furniture</th>                                <td> 2528.0645</td> <td> 1061.180</td> <td>    2.382</td> <td> 0.019</td> <td>  427.524</td> <td> 4628.605</td>\n",
       "</tr>\n",
       "</table>\n",
       "<table class=\"simpletable\">\n",
       "<tr>\n",
       "  <th>Omnibus:</th>       <td> 0.210</td> <th>  Durbin-Watson:     </th> <td>   1.732</td>\n",
       "</tr>\n",
       "<tr>\n",
       "  <th>Prob(Omnibus):</th> <td> 0.900</td> <th>  Jarque-Bera (JB):  </th> <td>   0.309</td>\n",
       "</tr>\n",
       "<tr>\n",
       "  <th>Skew:</th>          <td>-0.090</td> <th>  Prob(JB):          </th> <td>   0.857</td>\n",
       "</tr>\n",
       "<tr>\n",
       "  <th>Kurtosis:</th>      <td> 2.843</td> <th>  Cond. No.          </th> <td>    181.</td>\n",
       "</tr>\n",
       "</table><br/><br/>Notes:<br/>[1] Standard Errors assume that the covariance matrix of the errors is correctly specified."
      ],
      "text/latex": [
       "\\begin{center}\n",
       "\\begin{tabular}{lclc}\n",
       "\\toprule\n",
       "\\textbf{Dep. Variable:}                           &       rent       & \\textbf{  R-squared:         } &     0.773   \\\\\n",
       "\\textbf{Model:}                                   &       OLS        & \\textbf{  Adj. R-squared:    } &     0.764   \\\\\n",
       "\\textbf{Method:}                                  &  Least Squares   & \\textbf{  F-statistic:       } &     83.86   \\\\\n",
       "\\textbf{Date:}                                    & Mon, 30 Jun 2025 & \\textbf{  Prob (F-statistic):} &  6.04e-38   \\\\\n",
       "\\textbf{Time:}                                    &     00:48:15     & \\textbf{  Log-Likelihood:    } &   -1250.8   \\\\\n",
       "\\textbf{No. Observations:}                        &         129      & \\textbf{  AIC:               } &     2514.   \\\\\n",
       "\\textbf{Df Residuals:}                            &         123      & \\textbf{  BIC:               } &     2531.   \\\\\n",
       "\\textbf{Df Model:}                                &           5      & \\textbf{                     } &             \\\\\n",
       "\\textbf{Covariance Type:}                         &    nonrobust     & \\textbf{                     } &             \\\\\n",
       "\\bottomrule\n",
       "\\end{tabular}\n",
       "\\begin{tabular}{lcccccc}\n",
       "                                                  & \\textbf{coef} & \\textbf{std err} & \\textbf{t} & \\textbf{P$> |$t$|$} & \\textbf{[0.025} & \\textbf{0.975]}  \\\\\n",
       "\\midrule\n",
       "\\textbf{Intercept}                                &    1.378e+04  &     1378.043     &    10.001  &         0.000        &     1.11e+04    &     1.65e+04     \\\\\n",
       "\\textbf{C(district, Treatment(reference=3))[T.1]} &    2729.7874  &      887.477     &     3.076  &         0.003        &      973.082    &     4486.493     \\\\\n",
       "\\textbf{C(district, Treatment(reference=3))[T.2]} &   -2312.9677  &      875.250     &    -2.643  &         0.009        &    -4045.471    &     -580.464     \\\\\n",
       "\\textbf{s}                                        &     408.4594  &       25.560     &    15.980  &         0.000        &      357.864    &      459.054     \\\\\n",
       "\\textbf{walls}                                    &    1561.4917  &      766.748     &     2.037  &         0.044        &       43.761    &     3079.223     \\\\\n",
       "\\textbf{furniture}                                &    2528.0645  &     1061.180     &     2.382  &         0.019        &      427.524    &     4628.605     \\\\\n",
       "\\bottomrule\n",
       "\\end{tabular}\n",
       "\\begin{tabular}{lclc}\n",
       "\\textbf{Omnibus:}       &  0.210 & \\textbf{  Durbin-Watson:     } &    1.732  \\\\\n",
       "\\textbf{Prob(Omnibus):} &  0.900 & \\textbf{  Jarque-Bera (JB):  } &    0.309  \\\\\n",
       "\\textbf{Skew:}          & -0.090 & \\textbf{  Prob(JB):          } &    0.857  \\\\\n",
       "\\textbf{Kurtosis:}      &  2.843 & \\textbf{  Cond. No.          } &     181.  \\\\\n",
       "\\bottomrule\n",
       "\\end{tabular}\n",
       "%\\caption{OLS Regression Results}\n",
       "\\end{center}\n",
       "\n",
       "Notes: \\newline\n",
       " [1] Standard Errors assume that the covariance matrix of the errors is correctly specified."
      ],
      "text/plain": [
       "<class 'statsmodels.iolib.summary.Summary'>\n",
       "\"\"\"\n",
       "                            OLS Regression Results                            \n",
       "==============================================================================\n",
       "Dep. Variable:                   rent   R-squared:                       0.773\n",
       "Model:                            OLS   Adj. R-squared:                  0.764\n",
       "Method:                 Least Squares   F-statistic:                     83.86\n",
       "Date:                Mon, 30 Jun 2025   Prob (F-statistic):           6.04e-38\n",
       "Time:                        00:48:15   Log-Likelihood:                -1250.8\n",
       "No. Observations:                 129   AIC:                             2514.\n",
       "Df Residuals:                     123   BIC:                             2531.\n",
       "Df Model:                           5                                         \n",
       "Covariance Type:            nonrobust                                         \n",
       "============================================================================================================\n",
       "                                               coef    std err          t      P>|t|      [0.025      0.975]\n",
       "------------------------------------------------------------------------------------------------------------\n",
       "Intercept                                 1.378e+04   1378.043     10.001      0.000    1.11e+04    1.65e+04\n",
       "C(district, Treatment(reference=3))[T.1]  2729.7874    887.477      3.076      0.003     973.082    4486.493\n",
       "C(district, Treatment(reference=3))[T.2] -2312.9677    875.250     -2.643      0.009   -4045.471    -580.464\n",
       "s                                          408.4594     25.560     15.980      0.000     357.864     459.054\n",
       "walls                                     1561.4917    766.748      2.037      0.044      43.761    3079.223\n",
       "furniture                                 2528.0645   1061.180      2.382      0.019     427.524    4628.605\n",
       "==============================================================================\n",
       "Omnibus:                        0.210   Durbin-Watson:                   1.732\n",
       "Prob(Omnibus):                  0.900   Jarque-Bera (JB):                0.309\n",
       "Skew:                          -0.090   Prob(JB):                        0.857\n",
       "Kurtosis:                       2.843   Cond. No.                         181.\n",
       "==============================================================================\n",
       "\n",
       "Notes:\n",
       "[1] Standard Errors assume that the covariance matrix of the errors is correctly specified.\n",
       "\"\"\""
      ]
     },
     "execution_count": 137,
     "metadata": {},
     "output_type": "execute_result"
    }
   ],
   "source": [
    "from patsy.contrasts import Treatment\n",
    "\n",
    "resultsm = smf.ols('rent ~ s + walls + furniture + C(district, Treatment(reference=3))', data=df01).fit()\n",
    "resultsm.summary()"
   ]
  },
  {
   "cell_type": "code",
   "execution_count": 138,
   "id": "fb31adfc",
   "metadata": {},
   "outputs": [
    {
     "data": {
      "text/plain": [
       "Intercept                                   13782.200632\n",
       "C(district, Treatment(reference=3))[T.1]     2729.787428\n",
       "C(district, Treatment(reference=3))[T.2]    -2312.967696\n",
       "s                                             408.459375\n",
       "walls                                        1561.491703\n",
       "furniture                                    2528.064475\n",
       "dtype: float64"
      ]
     },
     "execution_count": 138,
     "metadata": {},
     "output_type": "execute_result"
    }
   ],
   "source": [
    "rp=resultsm.params\n",
    "rp"
   ]
  },
  {
   "cell_type": "code",
   "execution_count": 139,
   "id": "729994de",
   "metadata": {},
   "outputs": [],
   "source": [
    "x_new_app = pd.array([1,40,1,1,0,0]) # Первая единица на Intercept"
   ]
  },
  {
   "cell_type": "code",
   "execution_count": 141,
   "id": "1d8bcd59",
   "metadata": {},
   "outputs": [
    {
     "name": "stdout",
     "output_type": "stream",
     "text": [
      "Прогноз цены: 121069.18944958347\n"
     ]
    }
   ],
   "source": [
    "y_new_app=np.dot(rp,x_new_app) # скалярное произведение векторов\n",
    "print('Прогноз цены:', y_new_app)"
   ]
  },
  {
   "cell_type": "code",
   "execution_count": 142,
   "id": "f5667366",
   "metadata": {},
   "outputs": [
    {
     "data": {
      "text/plain": [
       "(array([13782.20063185]),\n",
       " array([[  408.45937549,  1561.49170315,  2528.06447484,  2729.78742847,\n",
       "         -2312.96769645]]))"
      ]
     },
     "execution_count": 142,
     "metadata": {},
     "output_type": "execute_result"
    }
   ],
   "source": [
    "X01=df01[['s','walls','furniture','d1','d2']]\n",
    "mod_m_01 = LR.fit(X01,Y)\n",
    "mod_m_01.intercept_, mod_m_01.coef_"
   ]
  },
  {
   "cell_type": "code",
   "execution_count": 143,
   "id": "32631780",
   "metadata": {},
   "outputs": [
    {
     "data": {
      "text/plain": [
       "0.7731966910332445"
      ]
     },
     "execution_count": 143,
     "metadata": {},
     "output_type": "execute_result"
    }
   ],
   "source": [
    "r2 = mod_m_01.score(X01,Y)\n",
    "r2"
   ]
  },
  {
   "cell_type": "code",
   "execution_count": 144,
   "id": "5a63f95a",
   "metadata": {},
   "outputs": [],
   "source": [
    "x_new_app = [[40,1,1,0,0]]"
   ]
  },
  {
   "cell_type": "code",
   "execution_count": 145,
   "id": "87ef67e3",
   "metadata": {},
   "outputs": [
    {
     "name": "stdout",
     "output_type": "stream",
     "text": [
      "Прогноз цены:  [[34210.]]\n"
     ]
    },
    {
     "name": "stderr",
     "output_type": "stream",
     "text": [
      "/Users/elenko/pyprojects/pandas_venv/lib/python3.13/site-packages/sklearn/utils/validation.py:2739: UserWarning:\n",
      "\n",
      "X does not have valid feature names, but LinearRegression was fitted with feature names\n",
      "\n"
     ]
    }
   ],
   "source": [
    "y_new_app=mod_m_01.predict(x_new_app)\n",
    "print(\"Прогноз цены: \",y_new_app.round(0))"
   ]
  },
  {
   "cell_type": "markdown",
   "id": "189b06c2",
   "metadata": {},
   "source": [
    "### Убедимся, что комнаты все-таки влияют на арендную плату"
   ]
  },
  {
   "cell_type": "code",
   "execution_count": 146,
   "id": "3ae0d0ce",
   "metadata": {},
   "outputs": [
    {
     "data": {
      "text/html": [
       "<table class=\"simpletable\">\n",
       "<caption>OLS Regression Results</caption>\n",
       "<tr>\n",
       "  <th>Dep. Variable:</th>          <td>rent</td>       <th>  R-squared:         </th> <td>   0.351</td>\n",
       "</tr>\n",
       "<tr>\n",
       "  <th>Model:</th>                   <td>OLS</td>       <th>  Adj. R-squared:    </th> <td>   0.346</td>\n",
       "</tr>\n",
       "<tr>\n",
       "  <th>Method:</th>             <td>Least Squares</td>  <th>  F-statistic:       </th> <td>   68.74</td>\n",
       "</tr>\n",
       "<tr>\n",
       "  <th>Date:</th>             <td>Mon, 30 Jun 2025</td> <th>  Prob (F-statistic):</th> <td>1.38e-13</td>\n",
       "</tr>\n",
       "<tr>\n",
       "  <th>Time:</th>                 <td>00:49:52</td>     <th>  Log-Likelihood:    </th> <td> -1318.6</td>\n",
       "</tr>\n",
       "<tr>\n",
       "  <th>No. Observations:</th>      <td>   129</td>      <th>  AIC:               </th> <td>   2641.</td>\n",
       "</tr>\n",
       "<tr>\n",
       "  <th>Df Residuals:</th>          <td>   127</td>      <th>  BIC:               </th> <td>   2647.</td>\n",
       "</tr>\n",
       "<tr>\n",
       "  <th>Df Model:</th>              <td>     1</td>      <th>                     </th>     <td> </td>   \n",
       "</tr>\n",
       "<tr>\n",
       "  <th>Covariance Type:</th>      <td>nonrobust</td>    <th>                     </th>     <td> </td>   \n",
       "</tr>\n",
       "</table>\n",
       "<table class=\"simpletable\">\n",
       "<tr>\n",
       "      <td></td>         <th>coef</th>     <th>std err</th>      <th>t</th>      <th>P>|t|</th>  <th>[0.025</th>    <th>0.975]</th>  \n",
       "</tr>\n",
       "<tr>\n",
       "  <th>Intercept</th> <td>  2.05e+04</td> <td> 1473.688</td> <td>   13.912</td> <td> 0.000</td> <td> 1.76e+04</td> <td> 2.34e+04</td>\n",
       "</tr>\n",
       "<tr>\n",
       "  <th>rooms</th>     <td> 8205.7283</td> <td>  989.731</td> <td>    8.291</td> <td> 0.000</td> <td> 6247.229</td> <td> 1.02e+04</td>\n",
       "</tr>\n",
       "</table>\n",
       "<table class=\"simpletable\">\n",
       "<tr>\n",
       "  <th>Omnibus:</th>       <td> 4.039</td> <th>  Durbin-Watson:     </th> <td>   2.114</td>\n",
       "</tr>\n",
       "<tr>\n",
       "  <th>Prob(Omnibus):</th> <td> 0.133</td> <th>  Jarque-Bera (JB):  </th> <td>   3.639</td>\n",
       "</tr>\n",
       "<tr>\n",
       "  <th>Skew:</th>          <td> 0.405</td> <th>  Prob(JB):          </th> <td>   0.162</td>\n",
       "</tr>\n",
       "<tr>\n",
       "  <th>Kurtosis:</th>      <td> 3.139</td> <th>  Cond. No.          </th> <td>    5.20</td>\n",
       "</tr>\n",
       "</table><br/><br/>Notes:<br/>[1] Standard Errors assume that the covariance matrix of the errors is correctly specified."
      ],
      "text/latex": [
       "\\begin{center}\n",
       "\\begin{tabular}{lclc}\n",
       "\\toprule\n",
       "\\textbf{Dep. Variable:}    &       rent       & \\textbf{  R-squared:         } &     0.351   \\\\\n",
       "\\textbf{Model:}            &       OLS        & \\textbf{  Adj. R-squared:    } &     0.346   \\\\\n",
       "\\textbf{Method:}           &  Least Squares   & \\textbf{  F-statistic:       } &     68.74   \\\\\n",
       "\\textbf{Date:}             & Mon, 30 Jun 2025 & \\textbf{  Prob (F-statistic):} &  1.38e-13   \\\\\n",
       "\\textbf{Time:}             &     00:49:52     & \\textbf{  Log-Likelihood:    } &   -1318.6   \\\\\n",
       "\\textbf{No. Observations:} &         129      & \\textbf{  AIC:               } &     2641.   \\\\\n",
       "\\textbf{Df Residuals:}     &         127      & \\textbf{  BIC:               } &     2647.   \\\\\n",
       "\\textbf{Df Model:}         &           1      & \\textbf{                     } &             \\\\\n",
       "\\textbf{Covariance Type:}  &    nonrobust     & \\textbf{                     } &             \\\\\n",
       "\\bottomrule\n",
       "\\end{tabular}\n",
       "\\begin{tabular}{lcccccc}\n",
       "                   & \\textbf{coef} & \\textbf{std err} & \\textbf{t} & \\textbf{P$> |$t$|$} & \\textbf{[0.025} & \\textbf{0.975]}  \\\\\n",
       "\\midrule\n",
       "\\textbf{Intercept} &     2.05e+04  &     1473.688     &    13.912  &         0.000        &     1.76e+04    &     2.34e+04     \\\\\n",
       "\\textbf{rooms}     &    8205.7283  &      989.731     &     8.291  &         0.000        &     6247.229    &     1.02e+04     \\\\\n",
       "\\bottomrule\n",
       "\\end{tabular}\n",
       "\\begin{tabular}{lclc}\n",
       "\\textbf{Omnibus:}       &  4.039 & \\textbf{  Durbin-Watson:     } &    2.114  \\\\\n",
       "\\textbf{Prob(Omnibus):} &  0.133 & \\textbf{  Jarque-Bera (JB):  } &    3.639  \\\\\n",
       "\\textbf{Skew:}          &  0.405 & \\textbf{  Prob(JB):          } &    0.162  \\\\\n",
       "\\textbf{Kurtosis:}      &  3.139 & \\textbf{  Cond. No.          } &     5.20  \\\\\n",
       "\\bottomrule\n",
       "\\end{tabular}\n",
       "%\\caption{OLS Regression Results}\n",
       "\\end{center}\n",
       "\n",
       "Notes: \\newline\n",
       " [1] Standard Errors assume that the covariance matrix of the errors is correctly specified."
      ],
      "text/plain": [
       "<class 'statsmodels.iolib.summary.Summary'>\n",
       "\"\"\"\n",
       "                            OLS Regression Results                            \n",
       "==============================================================================\n",
       "Dep. Variable:                   rent   R-squared:                       0.351\n",
       "Model:                            OLS   Adj. R-squared:                  0.346\n",
       "Method:                 Least Squares   F-statistic:                     68.74\n",
       "Date:                Mon, 30 Jun 2025   Prob (F-statistic):           1.38e-13\n",
       "Time:                        00:49:52   Log-Likelihood:                -1318.6\n",
       "No. Observations:                 129   AIC:                             2641.\n",
       "Df Residuals:                     127   BIC:                             2647.\n",
       "Df Model:                           1                                         \n",
       "Covariance Type:            nonrobust                                         \n",
       "==============================================================================\n",
       "                 coef    std err          t      P>|t|      [0.025      0.975]\n",
       "------------------------------------------------------------------------------\n",
       "Intercept    2.05e+04   1473.688     13.912      0.000    1.76e+04    2.34e+04\n",
       "rooms       8205.7283    989.731      8.291      0.000    6247.229    1.02e+04\n",
       "==============================================================================\n",
       "Omnibus:                        4.039   Durbin-Watson:                   2.114\n",
       "Prob(Omnibus):                  0.133   Jarque-Bera (JB):                3.639\n",
       "Skew:                           0.405   Prob(JB):                        0.162\n",
       "Kurtosis:                       3.139   Cond. No.                         5.20\n",
       "==============================================================================\n",
       "\n",
       "Notes:\n",
       "[1] Standard Errors assume that the covariance matrix of the errors is correctly specified.\n",
       "\"\"\""
      ]
     },
     "execution_count": 146,
     "metadata": {},
     "output_type": "execute_result"
    }
   ],
   "source": [
    "results2 = smf.ols('rent ~ rooms', data=df01).fit()\n",
    "results2.summary()"
   ]
  },
  {
   "cell_type": "markdown",
   "id": "42c03e29",
   "metadata": {},
   "source": [
    "R-squared:\t0.351\n",
    "\n",
    "детерминация мала, эту модель можно использовать только как описательную (какую долю вариативности мы можем оценить с помощью количества комнат)\n",
    "\n",
    "rooms\t8205.7283\t989.731\t8.291\t0.000\n",
    "\n",
    "pvalue мало, параметр значимый, и с большим коэфф\n",
    "\n",
    "но видно что влияние комнат есть"
   ]
  },
  {
   "cell_type": "markdown",
   "id": "d6762533",
   "metadata": {},
   "source": [
    "# Задание\n",
    "\n",
    "Dutch sensory modality norms\n",
    "Laura J. Speed1 & Marc Brybaert 2\n",
    "\n",
    "Построение регрессионной модели"
   ]
  },
  {
   "cell_type": "code",
   "execution_count": 148,
   "id": "c8d5ca19",
   "metadata": {},
   "outputs": [
    {
     "data": {
      "text/html": [
       "<div>\n",
       "<style scoped>\n",
       "    .dataframe tbody tr th:only-of-type {\n",
       "        vertical-align: middle;\n",
       "    }\n",
       "\n",
       "    .dataframe tbody tr th {\n",
       "        vertical-align: top;\n",
       "    }\n",
       "\n",
       "    .dataframe thead th {\n",
       "        text-align: right;\n",
       "    }\n",
       "</style>\n",
       "<table border=\"1\" class=\"dataframe\">\n",
       "  <thead>\n",
       "    <tr style=\"text-align: right;\">\n",
       "      <th></th>\n",
       "      <th>Woord</th>\n",
       "      <th>Horen</th>\n",
       "      <th>Zien</th>\n",
       "      <th>Ruiken</th>\n",
       "      <th>Proeven</th>\n",
       "      <th>Voelen</th>\n",
       "      <th>Sensaties</th>\n",
       "      <th>Modality</th>\n",
       "      <th>ModalityExclusivity</th>\n",
       "      <th>MaxPercStrength</th>\n",
       "      <th>...</th>\n",
       "      <th>Prevalence</th>\n",
       "      <th>Length</th>\n",
       "      <th>Nsyl</th>\n",
       "      <th>N_phonemes</th>\n",
       "      <th>PoS</th>\n",
       "      <th>OLD20</th>\n",
       "      <th>DLP_RT</th>\n",
       "      <th>DLP_Acc</th>\n",
       "      <th>DCP_RT</th>\n",
       "      <th>DCP_Acc</th>\n",
       "    </tr>\n",
       "  </thead>\n",
       "  <tbody>\n",
       "    <tr>\n",
       "      <th>0</th>\n",
       "      <td>aai</td>\n",
       "      <td>0.2</td>\n",
       "      <td>3.1</td>\n",
       "      <td>0.00</td>\n",
       "      <td>0.00</td>\n",
       "      <td>4.40</td>\n",
       "      <td>0.80</td>\n",
       "      <td>Voelen</td>\n",
       "      <td>0.517647</td>\n",
       "      <td>4.40</td>\n",
       "      <td>...</td>\n",
       "      <td>1.714174</td>\n",
       "      <td>3</td>\n",
       "      <td>1</td>\n",
       "      <td>2</td>\n",
       "      <td>N</td>\n",
       "      <td>1.00</td>\n",
       "      <td>537.85</td>\n",
       "      <td>0.95000</td>\n",
       "      <td>1024.92</td>\n",
       "      <td>0.97</td>\n",
       "    </tr>\n",
       "    <tr>\n",
       "      <th>1</th>\n",
       "      <td>aaien</td>\n",
       "      <td>0.0</td>\n",
       "      <td>2.7</td>\n",
       "      <td>0.00</td>\n",
       "      <td>0.00</td>\n",
       "      <td>4.90</td>\n",
       "      <td>0.90</td>\n",
       "      <td>Voelen</td>\n",
       "      <td>0.576471</td>\n",
       "      <td>4.90</td>\n",
       "      <td>...</td>\n",
       "      <td>2.586581</td>\n",
       "      <td>5</td>\n",
       "      <td>2</td>\n",
       "      <td>3</td>\n",
       "      <td>WW</td>\n",
       "      <td>1.25</td>\n",
       "      <td>571.50</td>\n",
       "      <td>0.95122</td>\n",
       "      <td>991.05</td>\n",
       "      <td>1.00</td>\n",
       "    </tr>\n",
       "    <tr>\n",
       "      <th>2</th>\n",
       "      <td>aal</td>\n",
       "      <td>0.0</td>\n",
       "      <td>3.4</td>\n",
       "      <td>0.90</td>\n",
       "      <td>0.30</td>\n",
       "      <td>1.40</td>\n",
       "      <td>0.40</td>\n",
       "      <td>Zien</td>\n",
       "      <td>0.531250</td>\n",
       "      <td>3.40</td>\n",
       "      <td>...</td>\n",
       "      <td>1.830408</td>\n",
       "      <td>3</td>\n",
       "      <td>1</td>\n",
       "      <td>2</td>\n",
       "      <td>N</td>\n",
       "      <td>1.00</td>\n",
       "      <td>613.63</td>\n",
       "      <td>0.80000</td>\n",
       "      <td>1075.17</td>\n",
       "      <td>0.97</td>\n",
       "    </tr>\n",
       "    <tr>\n",
       "      <th>3</th>\n",
       "      <td>aalbes</td>\n",
       "      <td>0.0</td>\n",
       "      <td>4.0</td>\n",
       "      <td>1.92</td>\n",
       "      <td>4.17</td>\n",
       "      <td>2.92</td>\n",
       "      <td>0.25</td>\n",
       "      <td>Proeven</td>\n",
       "      <td>0.314465</td>\n",
       "      <td>4.17</td>\n",
       "      <td>...</td>\n",
       "      <td>1.562257</td>\n",
       "      <td>6</td>\n",
       "      <td>2</td>\n",
       "      <td>5</td>\n",
       "      <td>N</td>\n",
       "      <td>2.00</td>\n",
       "      <td>593.23</td>\n",
       "      <td>0.82500</td>\n",
       "      <td>1041.53</td>\n",
       "      <td>0.96</td>\n",
       "    </tr>\n",
       "    <tr>\n",
       "      <th>4</th>\n",
       "      <td>aalmoes</td>\n",
       "      <td>0.5</td>\n",
       "      <td>2.9</td>\n",
       "      <td>0.00</td>\n",
       "      <td>0.00</td>\n",
       "      <td>1.50</td>\n",
       "      <td>0.30</td>\n",
       "      <td>Zien</td>\n",
       "      <td>0.557692</td>\n",
       "      <td>2.90</td>\n",
       "      <td>...</td>\n",
       "      <td>2.192199</td>\n",
       "      <td>7</td>\n",
       "      <td>2</td>\n",
       "      <td>5</td>\n",
       "      <td>N</td>\n",
       "      <td>2.55</td>\n",
       "      <td>634.01</td>\n",
       "      <td>0.92500</td>\n",
       "      <td>953.61</td>\n",
       "      <td>0.98</td>\n",
       "    </tr>\n",
       "  </tbody>\n",
       "</table>\n",
       "<p>5 rows × 28 columns</p>\n",
       "</div>"
      ],
      "text/plain": [
       "     Woord  Horen  Zien  Ruiken  Proeven  Voelen  Sensaties Modality  \\\n",
       "0      aai    0.2   3.1    0.00     0.00    4.40       0.80   Voelen   \n",
       "1    aaien    0.0   2.7    0.00     0.00    4.90       0.90   Voelen   \n",
       "2      aal    0.0   3.4    0.90     0.30    1.40       0.40     Zien   \n",
       "3   aalbes    0.0   4.0    1.92     4.17    2.92       0.25  Proeven   \n",
       "4  aalmoes    0.5   2.9    0.00     0.00    1.50       0.30     Zien   \n",
       "\n",
       "   ModalityExclusivity  MaxPercStrength  ...  Prevalence  Length  Nsyl  \\\n",
       "0             0.517647             4.40  ...    1.714174       3     1   \n",
       "1             0.576471             4.90  ...    2.586581       5     2   \n",
       "2             0.531250             3.40  ...    1.830408       3     1   \n",
       "3             0.314465             4.17  ...    1.562257       6     2   \n",
       "4             0.557692             2.90  ...    2.192199       7     2   \n",
       "\n",
       "  N_phonemes PoS OLD20  DLP_RT  DLP_Acc   DCP_RT  DCP_Acc  \n",
       "0          2   N  1.00  537.85  0.95000  1024.92     0.97  \n",
       "1          3  WW  1.25  571.50  0.95122   991.05     1.00  \n",
       "2          2   N  1.00  613.63  0.80000  1075.17     0.97  \n",
       "3          5   N  2.00  593.23  0.82500  1041.53     0.96  \n",
       "4          5   N  2.55  634.01  0.92500   953.61     0.98  \n",
       "\n",
       "[5 rows x 28 columns]"
      ]
     },
     "execution_count": 148,
     "metadata": {},
     "output_type": "execute_result"
    }
   ],
   "source": [
    "file_path = '../data/SpeedBrysbaert_Norms.csv'  \n",
    "df_du = pd.read_csv(file_path, sep=';')\n",
    "\n",
    "df_du.head()"
   ]
  },
  {
   "cell_type": "code",
   "execution_count": 149,
   "id": "e3a3ad45",
   "metadata": {},
   "outputs": [],
   "source": [
    "X=df_du[['Horen','Zien','Ruiken','Proeven','Voelen','Sensaties']]\n",
    "Y=df_du[['Concreteness']]"
   ]
  },
  {
   "cell_type": "code",
   "execution_count": 150,
   "id": "e2815a0f",
   "metadata": {},
   "outputs": [
    {
     "data": {
      "image/png": "[encoded data removed]",
      "text/plain": [
       "<Figure size 640x480 with 2 Axes>"
      ]
     },
     "metadata": {},
     "output_type": "display_data"
    }
   ],
   "source": [
    "hm = sns.heatmap(X.corr(),annot=True)"
   ]
  },
  {
   "cell_type": "code",
   "execution_count": 151,
   "id": "10c26c83",
   "metadata": {},
   "outputs": [
    {
     "data": {
      "text/html": [
       "<div>\n",
       "<style scoped>\n",
       "    .dataframe tbody tr th:only-of-type {\n",
       "        vertical-align: middle;\n",
       "    }\n",
       "\n",
       "    .dataframe tbody tr th {\n",
       "        vertical-align: top;\n",
       "    }\n",
       "\n",
       "    .dataframe thead th {\n",
       "        text-align: right;\n",
       "    }\n",
       "</style>\n",
       "<table border=\"1\" class=\"dataframe\">\n",
       "  <thead>\n",
       "    <tr style=\"text-align: right;\">\n",
       "      <th></th>\n",
       "      <th>Horen</th>\n",
       "      <th>Zien</th>\n",
       "      <th>Ruiken</th>\n",
       "      <th>Proeven</th>\n",
       "      <th>Voelen</th>\n",
       "      <th>Sensaties</th>\n",
       "    </tr>\n",
       "  </thead>\n",
       "  <tbody>\n",
       "    <tr>\n",
       "      <th>Horen</th>\n",
       "      <td>1.000000</td>\n",
       "      <td>-0.090255</td>\n",
       "      <td>-0.126828</td>\n",
       "      <td>-0.162467</td>\n",
       "      <td>-0.156464</td>\n",
       "      <td>0.219187</td>\n",
       "    </tr>\n",
       "    <tr>\n",
       "      <th>Zien</th>\n",
       "      <td>-0.090255</td>\n",
       "      <td>1.000000</td>\n",
       "      <td>0.256869</td>\n",
       "      <td>0.153960</td>\n",
       "      <td>0.558252</td>\n",
       "      <td>-0.213318</td>\n",
       "    </tr>\n",
       "    <tr>\n",
       "      <th>Ruiken</th>\n",
       "      <td>-0.126828</td>\n",
       "      <td>0.256869</td>\n",
       "      <td>1.000000</td>\n",
       "      <td>0.697768</td>\n",
       "      <td>0.266620</td>\n",
       "      <td>-0.064437</td>\n",
       "    </tr>\n",
       "    <tr>\n",
       "      <th>Proeven</th>\n",
       "      <td>-0.162467</td>\n",
       "      <td>0.153960</td>\n",
       "      <td>0.697768</td>\n",
       "      <td>1.000000</td>\n",
       "      <td>0.212626</td>\n",
       "      <td>-0.041444</td>\n",
       "    </tr>\n",
       "    <tr>\n",
       "      <th>Voelen</th>\n",
       "      <td>-0.156464</td>\n",
       "      <td>0.558252</td>\n",
       "      <td>0.266620</td>\n",
       "      <td>0.212626</td>\n",
       "      <td>1.000000</td>\n",
       "      <td>-0.119524</td>\n",
       "    </tr>\n",
       "    <tr>\n",
       "      <th>Sensaties</th>\n",
       "      <td>0.219187</td>\n",
       "      <td>-0.213318</td>\n",
       "      <td>-0.064437</td>\n",
       "      <td>-0.041444</td>\n",
       "      <td>-0.119524</td>\n",
       "      <td>1.000000</td>\n",
       "    </tr>\n",
       "  </tbody>\n",
       "</table>\n",
       "</div>"
      ],
      "text/plain": [
       "              Horen      Zien    Ruiken   Proeven    Voelen  Sensaties\n",
       "Horen      1.000000 -0.090255 -0.126828 -0.162467 -0.156464   0.219187\n",
       "Zien      -0.090255  1.000000  0.256869  0.153960  0.558252  -0.213318\n",
       "Ruiken    -0.126828  0.256869  1.000000  0.697768  0.266620  -0.064437\n",
       "Proeven   -0.162467  0.153960  0.697768  1.000000  0.212626  -0.041444\n",
       "Voelen    -0.156464  0.558252  0.266620  0.212626  1.000000  -0.119524\n",
       "Sensaties  0.219187 -0.213318 -0.064437 -0.041444 -0.119524   1.000000"
      ]
     },
     "execution_count": 151,
     "metadata": {},
     "output_type": "execute_result"
    }
   ],
   "source": [
    "X.corr()"
   ]
  },
  {
   "cell_type": "code",
   "execution_count": 153,
   "id": "b7eca87b",
   "metadata": {},
   "outputs": [
    {
     "data": {
      "text/html": [
       "<table class=\"simpletable\">\n",
       "<caption>OLS Regression Results</caption>\n",
       "<tr>\n",
       "  <th>Dep. Variable:</th>      <td>Concreteness</td>   <th>  R-squared:         </th> <td>   0.483</td> \n",
       "</tr>\n",
       "<tr>\n",
       "  <th>Model:</th>                   <td>OLS</td>       <th>  Adj. R-squared:    </th> <td>   0.483</td> \n",
       "</tr>\n",
       "<tr>\n",
       "  <th>Method:</th>             <td>Least Squares</td>  <th>  F-statistic:       </th> <td>2.246e+04</td>\n",
       "</tr>\n",
       "<tr>\n",
       "  <th>Date:</th>             <td>Mon, 30 Jun 2025</td> <th>  Prob (F-statistic):</th>  <td>  0.00</td>  \n",
       "</tr>\n",
       "<tr>\n",
       "  <th>Time:</th>                 <td>02:30:45</td>     <th>  Log-Likelihood:    </th> <td> -26646.</td> \n",
       "</tr>\n",
       "<tr>\n",
       "  <th>No. Observations:</th>      <td> 24036</td>      <th>  AIC:               </th> <td>5.330e+04</td>\n",
       "</tr>\n",
       "<tr>\n",
       "  <th>Df Residuals:</th>          <td> 24034</td>      <th>  BIC:               </th> <td>5.331e+04</td>\n",
       "</tr>\n",
       "<tr>\n",
       "  <th>Df Model:</th>              <td>     1</td>      <th>                     </th>     <td> </td>    \n",
       "</tr>\n",
       "<tr>\n",
       "  <th>Covariance Type:</th>      <td>nonrobust</td>    <th>                     </th>     <td> </td>    \n",
       "</tr>\n",
       "</table>\n",
       "<table class=\"simpletable\">\n",
       "<tr>\n",
       "      <td></td>         <th>coef</th>     <th>std err</th>      <th>t</th>      <th>P>|t|</th>  <th>[0.025</th>    <th>0.975]</th>  \n",
       "</tr>\n",
       "<tr>\n",
       "  <th>Intercept</th> <td>    1.2471</td> <td>    0.013</td> <td>   97.835</td> <td> 0.000</td> <td>    1.222</td> <td>    1.272</td>\n",
       "</tr>\n",
       "<tr>\n",
       "  <th>Zien</th>      <td>    0.6708</td> <td>    0.004</td> <td>  149.861</td> <td> 0.000</td> <td>    0.662</td> <td>    0.680</td>\n",
       "</tr>\n",
       "</table>\n",
       "<table class=\"simpletable\">\n",
       "<tr>\n",
       "  <th>Omnibus:</th>       <td>171.175</td> <th>  Durbin-Watson:     </th> <td>   1.474</td>\n",
       "</tr>\n",
       "<tr>\n",
       "  <th>Prob(Omnibus):</th> <td> 0.000</td>  <th>  Jarque-Bera (JB):  </th> <td> 172.698</td>\n",
       "</tr>\n",
       "<tr>\n",
       "  <th>Skew:</th>          <td> 0.200</td>  <th>  Prob(JB):          </th> <td>3.16e-38</td>\n",
       "</tr>\n",
       "<tr>\n",
       "  <th>Kurtosis:</th>      <td> 2.886</td>  <th>  Cond. No.          </th> <td>    8.50</td>\n",
       "</tr>\n",
       "</table><br/><br/>Notes:<br/>[1] Standard Errors assume that the covariance matrix of the errors is correctly specified."
      ],
      "text/latex": [
       "\\begin{center}\n",
       "\\begin{tabular}{lclc}\n",
       "\\toprule\n",
       "\\textbf{Dep. Variable:}    &   Concreteness   & \\textbf{  R-squared:         } &     0.483   \\\\\n",
       "\\textbf{Model:}            &       OLS        & \\textbf{  Adj. R-squared:    } &     0.483   \\\\\n",
       "\\textbf{Method:}           &  Least Squares   & \\textbf{  F-statistic:       } & 2.246e+04   \\\\\n",
       "\\textbf{Date:}             & Mon, 30 Jun 2025 & \\textbf{  Prob (F-statistic):} &     0.00    \\\\\n",
       "\\textbf{Time:}             &     02:30:45     & \\textbf{  Log-Likelihood:    } &   -26646.   \\\\\n",
       "\\textbf{No. Observations:} &       24036      & \\textbf{  AIC:               } & 5.330e+04   \\\\\n",
       "\\textbf{Df Residuals:}     &       24034      & \\textbf{  BIC:               } & 5.331e+04   \\\\\n",
       "\\textbf{Df Model:}         &           1      & \\textbf{                     } &             \\\\\n",
       "\\textbf{Covariance Type:}  &    nonrobust     & \\textbf{                     } &             \\\\\n",
       "\\bottomrule\n",
       "\\end{tabular}\n",
       "\\begin{tabular}{lcccccc}\n",
       "                   & \\textbf{coef} & \\textbf{std err} & \\textbf{t} & \\textbf{P$> |$t$|$} & \\textbf{[0.025} & \\textbf{0.975]}  \\\\\n",
       "\\midrule\n",
       "\\textbf{Intercept} &       1.2471  &        0.013     &    97.835  &         0.000        &        1.222    &        1.272     \\\\\n",
       "\\textbf{Zien}      &       0.6708  &        0.004     &   149.861  &         0.000        &        0.662    &        0.680     \\\\\n",
       "\\bottomrule\n",
       "\\end{tabular}\n",
       "\\begin{tabular}{lclc}\n",
       "\\textbf{Omnibus:}       & 171.175 & \\textbf{  Durbin-Watson:     } &    1.474  \\\\\n",
       "\\textbf{Prob(Omnibus):} &   0.000 & \\textbf{  Jarque-Bera (JB):  } &  172.698  \\\\\n",
       "\\textbf{Skew:}          &   0.200 & \\textbf{  Prob(JB):          } & 3.16e-38  \\\\\n",
       "\\textbf{Kurtosis:}      &   2.886 & \\textbf{  Cond. No.          } &     8.50  \\\\\n",
       "\\bottomrule\n",
       "\\end{tabular}\n",
       "%\\caption{OLS Regression Results}\n",
       "\\end{center}\n",
       "\n",
       "Notes: \\newline\n",
       " [1] Standard Errors assume that the covariance matrix of the errors is correctly specified."
      ],
      "text/plain": [
       "<class 'statsmodels.iolib.summary.Summary'>\n",
       "\"\"\"\n",
       "                            OLS Regression Results                            \n",
       "==============================================================================\n",
       "Dep. Variable:           Concreteness   R-squared:                       0.483\n",
       "Model:                            OLS   Adj. R-squared:                  0.483\n",
       "Method:                 Least Squares   F-statistic:                 2.246e+04\n",
       "Date:                Mon, 30 Jun 2025   Prob (F-statistic):               0.00\n",
       "Time:                        02:30:45   Log-Likelihood:                -26646.\n",
       "No. Observations:               24036   AIC:                         5.330e+04\n",
       "Df Residuals:                   24034   BIC:                         5.331e+04\n",
       "Df Model:                           1                                         \n",
       "Covariance Type:            nonrobust                                         \n",
       "==============================================================================\n",
       "                 coef    std err          t      P>|t|      [0.025      0.975]\n",
       "------------------------------------------------------------------------------\n",
       "Intercept      1.2471      0.013     97.835      0.000       1.222       1.272\n",
       "Zien           0.6708      0.004    149.861      0.000       0.662       0.680\n",
       "==============================================================================\n",
       "Omnibus:                      171.175   Durbin-Watson:                   1.474\n",
       "Prob(Omnibus):                  0.000   Jarque-Bera (JB):              172.698\n",
       "Skew:                           0.200   Prob(JB):                     3.16e-38\n",
       "Kurtosis:                       2.886   Cond. No.                         8.50\n",
       "==============================================================================\n",
       "\n",
       "Notes:\n",
       "[1] Standard Errors assume that the covariance matrix of the errors is correctly specified.\n",
       "\"\"\""
      ]
     },
     "execution_count": 153,
     "metadata": {},
     "output_type": "execute_result"
    }
   ],
   "source": [
    "results1 = smf.ols('Concreteness ~ Zien' , data=df_du).fit()\n",
    "results1.summary()"
   ]
  },
  {
   "cell_type": "markdown",
   "id": "a70d75a7",
   "metadata": {},
   "source": [
    "Prob(JB):\t3.16e-38\n",
    "\n",
    "гипотезу о нормальности принять не можем, когда много параметров сложно говорить о нормальном разспределении для остатков\n",
    "\n",
    "\n",
    "Для этой задачи можем построить только описательную модель, но не предиктивную"
   ]
  },
  {
   "cell_type": "code",
   "execution_count": 154,
   "id": "565a4f20",
   "metadata": {},
   "outputs": [
    {
     "data": {
      "text/html": [
       "<table class=\"simpletable\">\n",
       "<caption>OLS Regression Results</caption>\n",
       "<tr>\n",
       "  <th>Dep. Variable:</th>      <td>Concreteness</td>   <th>  R-squared:         </th> <td>   0.621</td> \n",
       "</tr>\n",
       "<tr>\n",
       "  <th>Model:</th>                   <td>OLS</td>       <th>  Adj. R-squared:    </th> <td>   0.620</td> \n",
       "</tr>\n",
       "<tr>\n",
       "  <th>Method:</th>             <td>Least Squares</td>  <th>  F-statistic:       </th> <td>   6550.</td> \n",
       "</tr>\n",
       "<tr>\n",
       "  <th>Date:</th>             <td>Mon, 30 Jun 2025</td> <th>  Prob (F-statistic):</th>  <td>  0.00</td>  \n",
       "</tr>\n",
       "<tr>\n",
       "  <th>Time:</th>                 <td>02:31:08</td>     <th>  Log-Likelihood:    </th> <td> -22929.</td> \n",
       "</tr>\n",
       "<tr>\n",
       "  <th>No. Observations:</th>      <td> 24036</td>      <th>  AIC:               </th> <td>4.587e+04</td>\n",
       "</tr>\n",
       "<tr>\n",
       "  <th>Df Residuals:</th>          <td> 24029</td>      <th>  BIC:               </th> <td>4.593e+04</td>\n",
       "</tr>\n",
       "<tr>\n",
       "  <th>Df Model:</th>              <td>     6</td>      <th>                     </th>     <td> </td>    \n",
       "</tr>\n",
       "<tr>\n",
       "  <th>Covariance Type:</th>      <td>nonrobust</td>    <th>                     </th>     <td> </td>    \n",
       "</tr>\n",
       "</table>\n",
       "<table class=\"simpletable\">\n",
       "<tr>\n",
       "      <td></td>         <th>coef</th>     <th>std err</th>      <th>t</th>      <th>P>|t|</th>  <th>[0.025</th>    <th>0.975]</th>  \n",
       "</tr>\n",
       "<tr>\n",
       "  <th>Intercept</th> <td>    1.6156</td> <td>    0.013</td> <td>  121.517</td> <td> 0.000</td> <td>    1.590</td> <td>    1.642</td>\n",
       "</tr>\n",
       "<tr>\n",
       "  <th>Horen</th>     <td>    0.0501</td> <td>    0.004</td> <td>   11.771</td> <td> 0.000</td> <td>    0.042</td> <td>    0.058</td>\n",
       "</tr>\n",
       "<tr>\n",
       "  <th>Zien</th>      <td>    0.4269</td> <td>    0.005</td> <td>   89.824</td> <td> 0.000</td> <td>    0.418</td> <td>    0.436</td>\n",
       "</tr>\n",
       "<tr>\n",
       "  <th>Ruiken</th>    <td>    0.1921</td> <td>    0.009</td> <td>   22.478</td> <td> 0.000</td> <td>    0.175</td> <td>    0.209</td>\n",
       "</tr>\n",
       "<tr>\n",
       "  <th>Proeven</th>   <td>    0.0630</td> <td>    0.007</td> <td>    8.517</td> <td> 0.000</td> <td>    0.049</td> <td>    0.078</td>\n",
       "</tr>\n",
       "<tr>\n",
       "  <th>Voelen</th>    <td>    0.3208</td> <td>    0.005</td> <td>   64.211</td> <td> 0.000</td> <td>    0.311</td> <td>    0.331</td>\n",
       "</tr>\n",
       "<tr>\n",
       "  <th>Sensaties</th> <td>   -0.2374</td> <td>    0.005</td> <td>  -47.037</td> <td> 0.000</td> <td>   -0.247</td> <td>   -0.228</td>\n",
       "</tr>\n",
       "</table>\n",
       "<table class=\"simpletable\">\n",
       "<tr>\n",
       "  <th>Omnibus:</th>       <td>197.913</td> <th>  Durbin-Watson:     </th> <td>   1.559</td>\n",
       "</tr>\n",
       "<tr>\n",
       "  <th>Prob(Omnibus):</th> <td> 0.000</td>  <th>  Jarque-Bera (JB):  </th> <td> 208.048</td>\n",
       "</tr>\n",
       "<tr>\n",
       "  <th>Skew:</th>          <td> 0.204</td>  <th>  Prob(JB):          </th> <td>6.65e-46</td>\n",
       "</tr>\n",
       "<tr>\n",
       "  <th>Kurtosis:</th>      <td> 3.203</td>  <th>  Cond. No.          </th> <td>    12.1</td>\n",
       "</tr>\n",
       "</table><br/><br/>Notes:<br/>[1] Standard Errors assume that the covariance matrix of the errors is correctly specified."
      ],
      "text/latex": [
       "\\begin{center}\n",
       "\\begin{tabular}{lclc}\n",
       "\\toprule\n",
       "\\textbf{Dep. Variable:}    &   Concreteness   & \\textbf{  R-squared:         } &     0.621   \\\\\n",
       "\\textbf{Model:}            &       OLS        & \\textbf{  Adj. R-squared:    } &     0.620   \\\\\n",
       "\\textbf{Method:}           &  Least Squares   & \\textbf{  F-statistic:       } &     6550.   \\\\\n",
       "\\textbf{Date:}             & Mon, 30 Jun 2025 & \\textbf{  Prob (F-statistic):} &     0.00    \\\\\n",
       "\\textbf{Time:}             &     02:31:08     & \\textbf{  Log-Likelihood:    } &   -22929.   \\\\\n",
       "\\textbf{No. Observations:} &       24036      & \\textbf{  AIC:               } & 4.587e+04   \\\\\n",
       "\\textbf{Df Residuals:}     &       24029      & \\textbf{  BIC:               } & 4.593e+04   \\\\\n",
       "\\textbf{Df Model:}         &           6      & \\textbf{                     } &             \\\\\n",
       "\\textbf{Covariance Type:}  &    nonrobust     & \\textbf{                     } &             \\\\\n",
       "\\bottomrule\n",
       "\\end{tabular}\n",
       "\\begin{tabular}{lcccccc}\n",
       "                   & \\textbf{coef} & \\textbf{std err} & \\textbf{t} & \\textbf{P$> |$t$|$} & \\textbf{[0.025} & \\textbf{0.975]}  \\\\\n",
       "\\midrule\n",
       "\\textbf{Intercept} &       1.6156  &        0.013     &   121.517  &         0.000        &        1.590    &        1.642     \\\\\n",
       "\\textbf{Horen}     &       0.0501  &        0.004     &    11.771  &         0.000        &        0.042    &        0.058     \\\\\n",
       "\\textbf{Zien}      &       0.4269  &        0.005     &    89.824  &         0.000        &        0.418    &        0.436     \\\\\n",
       "\\textbf{Ruiken}    &       0.1921  &        0.009     &    22.478  &         0.000        &        0.175    &        0.209     \\\\\n",
       "\\textbf{Proeven}   &       0.0630  &        0.007     &     8.517  &         0.000        &        0.049    &        0.078     \\\\\n",
       "\\textbf{Voelen}    &       0.3208  &        0.005     &    64.211  &         0.000        &        0.311    &        0.331     \\\\\n",
       "\\textbf{Sensaties} &      -0.2374  &        0.005     &   -47.037  &         0.000        &       -0.247    &       -0.228     \\\\\n",
       "\\bottomrule\n",
       "\\end{tabular}\n",
       "\\begin{tabular}{lclc}\n",
       "\\textbf{Omnibus:}       & 197.913 & \\textbf{  Durbin-Watson:     } &    1.559  \\\\\n",
       "\\textbf{Prob(Omnibus):} &   0.000 & \\textbf{  Jarque-Bera (JB):  } &  208.048  \\\\\n",
       "\\textbf{Skew:}          &   0.204 & \\textbf{  Prob(JB):          } & 6.65e-46  \\\\\n",
       "\\textbf{Kurtosis:}      &   3.203 & \\textbf{  Cond. No.          } &     12.1  \\\\\n",
       "\\bottomrule\n",
       "\\end{tabular}\n",
       "%\\caption{OLS Regression Results}\n",
       "\\end{center}\n",
       "\n",
       "Notes: \\newline\n",
       " [1] Standard Errors assume that the covariance matrix of the errors is correctly specified."
      ],
      "text/plain": [
       "<class 'statsmodels.iolib.summary.Summary'>\n",
       "\"\"\"\n",
       "                            OLS Regression Results                            \n",
       "==============================================================================\n",
       "Dep. Variable:           Concreteness   R-squared:                       0.621\n",
       "Model:                            OLS   Adj. R-squared:                  0.620\n",
       "Method:                 Least Squares   F-statistic:                     6550.\n",
       "Date:                Mon, 30 Jun 2025   Prob (F-statistic):               0.00\n",
       "Time:                        02:31:08   Log-Likelihood:                -22929.\n",
       "No. Observations:               24036   AIC:                         4.587e+04\n",
       "Df Residuals:                   24029   BIC:                         4.593e+04\n",
       "Df Model:                           6                                         \n",
       "Covariance Type:            nonrobust                                         \n",
       "==============================================================================\n",
       "                 coef    std err          t      P>|t|      [0.025      0.975]\n",
       "------------------------------------------------------------------------------\n",
       "Intercept      1.6156      0.013    121.517      0.000       1.590       1.642\n",
       "Horen          0.0501      0.004     11.771      0.000       0.042       0.058\n",
       "Zien           0.4269      0.005     89.824      0.000       0.418       0.436\n",
       "Ruiken         0.1921      0.009     22.478      0.000       0.175       0.209\n",
       "Proeven        0.0630      0.007      8.517      0.000       0.049       0.078\n",
       "Voelen         0.3208      0.005     64.211      0.000       0.311       0.331\n",
       "Sensaties     -0.2374      0.005    -47.037      0.000      -0.247      -0.228\n",
       "==============================================================================\n",
       "Omnibus:                      197.913   Durbin-Watson:                   1.559\n",
       "Prob(Omnibus):                  0.000   Jarque-Bera (JB):              208.048\n",
       "Skew:                           0.204   Prob(JB):                     6.65e-46\n",
       "Kurtosis:                       3.203   Cond. No.                         12.1\n",
       "==============================================================================\n",
       "\n",
       "Notes:\n",
       "[1] Standard Errors assume that the covariance matrix of the errors is correctly specified.\n",
       "\"\"\""
      ]
     },
     "execution_count": 154,
     "metadata": {},
     "output_type": "execute_result"
    }
   ],
   "source": [
    "resultsm = smf.ols('Concreteness ~ Horen + Zien + Ruiken + Proeven + Voelen + Sensaties' , data=df_du).fit()\n",
    "resultsm.summary()"
   ]
  },
  {
   "cell_type": "code",
   "execution_count": 155,
   "id": "726a7449",
   "metadata": {},
   "outputs": [],
   "source": [
    "LR = lm.LinearRegression()"
   ]
  },
  {
   "cell_type": "code",
   "execution_count": 156,
   "id": "c6a29890",
   "metadata": {},
   "outputs": [
    {
     "data": {
      "text/plain": [
       "(array([1.6155862]),\n",
       " array([[ 0.05007727,  0.42692991,  0.19210296,  0.06301922,  0.32078267,\n",
       "         -0.23740935]]))"
      ]
     },
     "execution_count": 156,
     "metadata": {},
     "output_type": "execute_result"
    }
   ],
   "source": [
    "mod_m = LR.fit(X,Y)\n",
    "mod_m.intercept_, mod_m.coef_"
   ]
  },
  {
   "cell_type": "code",
   "execution_count": 157,
   "id": "a473dc12",
   "metadata": {},
   "outputs": [
    {
     "data": {
      "text/plain": [
       "0.6205650810710623"
      ]
     },
     "execution_count": 157,
     "metadata": {},
     "output_type": "execute_result"
    }
   ],
   "source": [
    "r2 = mod_m.score(X,Y)\n",
    "r2"
   ]
  },
  {
   "cell_type": "code",
   "execution_count": null,
   "id": "ec7298ec",
   "metadata": {},
   "outputs": [
    {
     "data": {
      "text/plain": [
       "array([[<Axes: title={'center': 'Concreteness'}>]], dtype=object)"
      ]
     },
     "execution_count": 158,
     "metadata": {},
     "output_type": "execute_result"
    },
    {
     "data": {
      "image/png": "[encoded data removed]",
      "text/plain": [
       "<Figure size 640x480 with 1 Axes>"
      ]
     },
     "metadata": {},
     "output_type": "display_data"
    }
   ],
   "source": [
    "Y_pred = mod_m.predict(X)\n",
    "res=Y-Y_pred\n",
    "res.hist()"
   ]
  },
  {
   "cell_type": "markdown",
   "id": "75a2d336",
   "metadata": {},
   "source": [
    "если остатки хотя бы симметричные, то модель не очень плоха\n",
    "\n",
    "почти как стандартное нормальное распределение получается"
   ]
  },
  {
   "cell_type": "code",
   "execution_count": 159,
   "id": "e65cffc0",
   "metadata": {},
   "outputs": [
    {
     "data": {
      "text/plain": [
       "0.6333226263706343"
      ]
     },
     "execution_count": 159,
     "metadata": {},
     "output_type": "execute_result"
    }
   ],
   "source": [
    "X_full = df_du[['Horen', 'Zien', 'Ruiken', 'Proeven', 'Voelen', 'Sensaties', 'Prevalence', 'Length', 'Frequency']]\n",
    "\n",
    "mod_m_full = LR.fit(X_full, Y)\n",
    "\n",
    "r2_full = mod_m_full.score(X_full, Y)\n",
    "r2_full"
   ]
  },
  {
   "cell_type": "code",
   "execution_count": 161,
   "id": "0dbd33fb",
   "metadata": {},
   "outputs": [
    {
     "data": {
      "text/plain": [
       "0.01275754529957196"
      ]
     },
     "execution_count": 161,
     "metadata": {},
     "output_type": "execute_result"
    }
   ],
   "source": [
    "r2_full - r2"
   ]
  }
 ],
 "metadata": {
  "kernelspec": {
   "display_name": "pandas_kernel",
   "language": "python",
   "name": "pandas_kernel"
  },
  "language_info": {
   "codemirror_mode": {
    "name": "ipython",
    "version": 3
   },
   "file_extension": ".py",
   "mimetype": "text/x-python",
   "name": "python",
   "nbconvert_exporter": "python",
   "pygments_lexer": "ipython3",
   "version": "3.13.5"
  }
 },
 "nbformat": 4,
 "nbformat_minor": 5
}
