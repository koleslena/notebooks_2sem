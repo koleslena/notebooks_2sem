{
 "cells": [
  {
   "cell_type": "markdown",
   "id": "6313d33e",
   "metadata": {},
   "source": [
    "# Практическое задание 1. Предобработка и векторизация"
   ]
  },
  {
   "cell_type": "markdown",
   "id": "b2818d26",
   "metadata": {},
   "source": [
    "В данной тетрадке предтавлен пайплайн для классификации спам текстов.\n",
    "Ваша задача:\n",
    "1. Аналогично приведенному ниже коду разработать модель с предобработкой  и TF-IDF векторизацией\n",
    "2. Сравнить качество с BoW\n",
    "3. Как можно ускорить обучение в данном случае?"
   ]
  },
  {
   "cell_type": "code",
   "execution_count": null,
   "id": "0f0eafca",
   "metadata": {},
   "outputs": [],
   "source": [
    "import numpy as np\n",
    "import wget\n",
    "import zipfile\n",
    "\n",
    "import pandas as pd\n",
    "from sklearn.linear_model import LogisticRegression\n",
    "from sklearn.model_selection import train_test_split\n",
    "from sklearn.metrics import accuracy_score, classification_report, confusion_matrix"
   ]
  },
  {
   "cell_type": "markdown",
   "id": "cef4e7ad",
   "metadata": {},
   "source": [
    "# Маленький набор для теста - BoW + Logistic Regression"
   ]
  },
  {
   "cell_type": "code",
   "execution_count": 2,
   "id": "07abc9cb",
   "metadata": {},
   "outputs": [],
   "source": [
    "data = {\n",
    "    'text': [\n",
    "        'Buy now and get 50% off!',    # спам\n",
    "        'Meeting at 10 am tomorrow',   # не спам\n",
    "        'Congratulations, you won!',   # спам\n",
    "        'Please find the attached file',  # не спам\n",
    "        'Limited time offer - claim your prize!',  # спам\n",
    "        'Reminder: Team meeting at 3 pm',   # не спам\n",
    "    ],\n",
    "    'label': [1, 0, 1, 0, 1, 0]  # 1 - спам, 0 - не спам\n",
    "}\n",
    "\n",
    "\n",
    "spam_data = pd.DataFrame(data)\n",
    "\n",
    "# Разделение данных на обучающую и тестовую выборки\n",
    "train_data, test_data, train_labels, test_labels = train_test_split(\n",
    "    spam_data['text'], spam_data['label'], test_size=0.2, random_state=42\n",
    ")"
   ]
  },
  {
   "cell_type": "code",
   "execution_count": 3,
   "id": "1490c8b0",
   "metadata": {},
   "outputs": [],
   "source": [
    "def create_bow(data):\n",
    "    vocabulary = set(word for sentence in data for word in sentence.split())\n",
    "    bow_matrix = np.zeros((len(data), len(vocabulary)), dtype=int)\n",
    "\n",
    "    for i, sentence in enumerate(data):\n",
    "        for j, word in enumerate(vocabulary):\n",
    "            bow_matrix[i, j] = sentence.split().count(word)\n",
    "\n",
    "    return bow_matrix, list(vocabulary)\n",
    "\n",
    "train_bow, vocabulary = create_bow(train_data)\n",
    "test_bow = np.zeros((len(test_data), len(vocabulary)), dtype=int)\n",
    "\n",
    "for i, sentence in enumerate(test_data):\n",
    "    for j, word in enumerate(vocabulary):\n",
    "        test_bow[i, j] = sentence.split().count(word)"
   ]
  },
  {
   "cell_type": "code",
   "execution_count": 4,
   "id": "33254a7a",
   "metadata": {},
   "outputs": [
    {
     "name": "stdout",
     "output_type": "stream",
     "text": [
      "Results for Bag of Words:\n",
      "Accuracy: 1.0\n",
      "Classification Report:\n",
      "               precision    recall  f1-score   support\n",
      "\n",
      "           0       1.00      1.00      1.00         1\n",
      "           1       1.00      1.00      1.00         1\n",
      "\n",
      "    accuracy                           1.00         2\n",
      "   macro avg       1.00      1.00      1.00         2\n",
      "weighted avg       1.00      1.00      1.00         2\n",
      "\n"
     ]
    }
   ],
   "source": [
    "model_bow = LogisticRegression()\n",
    "model_bow.fit(train_bow, train_labels)\n",
    "predictions_bow = model_bow.predict(test_bow)\n",
    "\n",
    "# Вывод результатов для Bag of Words\n",
    "print(\"Results for Bag of Words:\")\n",
    "print(\"Accuracy:\", accuracy_score(test_labels, predictions_bow))\n",
    "print(\"Classification Report:\\n\", classification_report(test_labels, predictions_bow))"
   ]
  },
  {
   "cell_type": "markdown",
   "id": "5fb6e0a0",
   "metadata": {},
   "source": [
    "# Визуализируем матрицу векторов BoW"
   ]
  },
  {
   "cell_type": "code",
   "execution_count": 5,
   "id": "b7411bc0",
   "metadata": {},
   "outputs": [
    {
     "data": {
      "text/plain": [
       "array([[1, 0, 1, 0, 0, 0, 0, 1, 0, 0, 0, 1, 0, 0, 0, 0, 0, 0, 1, 0, 1],\n",
       "       [0, 0, 0, 0, 0, 1, 0, 0, 0, 0, 1, 0, 0, 0, 1, 0, 0, 0, 0, 0, 0],\n",
       "       [0, 1, 0, 0, 0, 0, 1, 0, 1, 0, 0, 0, 0, 1, 0, 0, 1, 1, 0, 1, 0],\n",
       "       [0, 0, 0, 1, 1, 0, 0, 0, 0, 1, 0, 0, 1, 0, 0, 1, 0, 0, 0, 0, 0]])"
      ]
     },
     "execution_count": 5,
     "metadata": {},
     "output_type": "execute_result"
    }
   ],
   "source": [
    "train_bow"
   ]
  },
  {
   "cell_type": "markdown",
   "id": "0ebc6f9f",
   "metadata": {},
   "source": [
    "# Большой набор данных "
   ]
  },
  {
   "cell_type": "code",
   "execution_count": 6,
   "id": "67d29840",
   "metadata": {},
   "outputs": [],
   "source": [
    "# Загрузка датасета\n",
    "url = \"https://archive.ics.uci.edu/ml/machine-learning-databases/00228/smsspamcollection.zip\"\n",
    "wget.download(url, \"smsspamcollection.zip\")\n",
    "\n",
    "# Распаковка архива\n",
    "with zipfile.ZipFile(\"smsspamcollection.zip\", \"r\") as zip_ref:\n",
    "    zip_ref.extractall(\"\")\n",
    "\n",
    "# Чтение датасета\n",
    "sms_data = pd.read_table(\"SMSSpamCollection\", header=None, names=['label', 'text'])\n",
    "\n",
    "# Преобразование меток в числовой формат (spam=1, ham=0)\n",
    "sms_data['label'] = sms_data['label'].map({'ham': 0, 'spam': 1})"
   ]
  },
  {
   "cell_type": "code",
   "execution_count": 7,
   "id": "edda9b1f",
   "metadata": {},
   "outputs": [],
   "source": [
    "# внимание, на выполнение этой ячейки может уйти несоклько минут!\n",
    "train_data, test_data, train_labels, test_labels = train_test_split(\n",
    "    sms_data['text'], sms_data['label'], test_size=0.2, random_state=42\n",
    ")\n",
    "\n",
    "train_bow, vocabulary = create_bow(train_data)\n",
    "test_bow = np.zeros((len(test_data), len(vocabulary)), dtype=int)\n",
    "\n",
    "for i, sentence in enumerate(test_data):\n",
    "    for j, word in enumerate(vocabulary):\n",
    "        test_bow[i, j] = sentence.split().count(word)"
   ]
  },
  {
   "cell_type": "code",
   "execution_count": 8,
   "id": "c69e8dad",
   "metadata": {},
   "outputs": [
    {
     "name": "stdout",
     "output_type": "stream",
     "text": [
      "Results for Bag of Words:\n",
      "Accuracy: 0.979372197309417\n",
      "Classification Report:\n",
      "               precision    recall  f1-score   support\n",
      "\n",
      "           0       0.98      1.00      0.99       966\n",
      "           1       0.98      0.87      0.92       149\n",
      "\n",
      "    accuracy                           0.98      1115\n",
      "   macro avg       0.98      0.93      0.95      1115\n",
      "weighted avg       0.98      0.98      0.98      1115\n",
      "\n"
     ]
    }
   ],
   "source": [
    "model_bow = LogisticRegression()\n",
    "model_bow.fit(train_bow, train_labels)\n",
    "predictions_bow = model_bow.predict(test_bow)\n",
    "\n",
    "# Вывод результатов для Bag of Words\n",
    "print(\"Results for Bag of Words:\")\n",
    "print(\"Accuracy:\", accuracy_score(test_labels, predictions_bow))\n",
    "print(\"Classification Report:\\n\", classification_report(test_labels, predictions_bow))"
   ]
  },
  {
   "cell_type": "markdown",
   "id": "148e376d",
   "metadata": {},
   "source": [
    "# Pеализация tf idf"
   ]
  },
  {
   "attachments": {
    "image.png": {
     "image/png": "[encoded data removed]"
    }
   },
   "cell_type": "markdown",
   "id": "f2621f1e",
   "metadata": {},
   "source": [
    "![image.png](attachment:image.png)"
   ]
  },
  {
   "cell_type": "code",
   "execution_count": 11,
   "id": "5b5617df",
   "metadata": {},
   "outputs": [],
   "source": [
    "class CustomTFIDFVectorizer:\n",
    "    \"\"\"\n",
    "    Расчет TF-IDF для текста\n",
    "        alpha -- коэффициент сглаживания, по умолчанию = 1, если задачть = 0 сглаживания не будет\n",
    "    \"\"\"\n",
    "    def __init__(self, alpha=1):\n",
    "        self._alpha = alpha\n",
    "        self._dict_idf = {}\n",
    "    \n",
    "    def transform(self, data, y=None):\n",
    "        # Подсчет TF\n",
    "        tf_dict = {}\n",
    "        for word in self._dict_idf:\n",
    "            tf_word = np.zeros(len(data), dtype=float)\n",
    "            for i, doc in enumerate(data):\n",
    "                text = doc if isinstance(doc, list) else doc.split()\n",
    "                count_word = text.count(word)\n",
    "                tf_word[i] = count_word / len(text) if len(text) != 0 else 0\n",
    "            tf_dict[word] = tf_word\n",
    "        \n",
    "        # Умножение на IDF\n",
    "        tfidf_matrix = np.zeros((len(data), len(self._dict_idf)), dtype=float)\n",
    "        for i, doc in enumerate(data):\n",
    "            for j, word in enumerate(self._dict_idf):\n",
    "                tfidf_matrix[i][j] = tf_dict[word][i] * self._dict_idf[word]\n",
    "        \n",
    "        return tfidf_matrix\n",
    "\n",
    "    def fit_transform(self, data, y=None):\n",
    "        return self.fit(data).transform(data)\n",
    "\n",
    "    def fit(self, data, y=None):\n",
    "        # Построение словаря и подсчет IDF\n",
    "        N = len(data)\n",
    "        words = set([word for text in data for word in (text if isinstance(text, list) else text.split())])\n",
    "        for word in words:\n",
    "            count_word = sum(1 for text in data if word in (text if isinstance(text, list) else text.split()))\n",
    "            self._dict_idf[word] = np.log(N / (count_word + self._alpha)) + self._alpha\n",
    "\n",
    "        return self\n",
    "    \n",
    "    def get_feature_names_out(self):\n",
    "        return [d for d in self._dict_idf.keys()]"
   ]
  },
  {
   "cell_type": "markdown",
   "id": "478ea29a",
   "metadata": {},
   "source": [
    "### Tests"
   ]
  },
  {
   "cell_type": "code",
   "execution_count": 17,
   "id": "075beff8",
   "metadata": {},
   "outputs": [
    {
     "data": {
      "text/html": [
       "<div>\n",
       "<style scoped>\n",
       "    .dataframe tbody tr th:only-of-type {\n",
       "        vertical-align: middle;\n",
       "    }\n",
       "\n",
       "    .dataframe tbody tr th {\n",
       "        vertical-align: top;\n",
       "    }\n",
       "\n",
       "    .dataframe thead th {\n",
       "        text-align: right;\n",
       "    }\n",
       "</style>\n",
       "<table border=\"1\" class=\"dataframe\">\n",
       "  <thead>\n",
       "    <tr style=\"text-align: right;\">\n",
       "      <th></th>\n",
       "      <th>second</th>\n",
       "      <th>first</th>\n",
       "      <th>document</th>\n",
       "      <th>is</th>\n",
       "      <th>the</th>\n",
       "      <th>one</th>\n",
       "      <th>and</th>\n",
       "      <th>this</th>\n",
       "      <th>third</th>\n",
       "    </tr>\n",
       "  </thead>\n",
       "  <tbody>\n",
       "    <tr>\n",
       "      <th>0</th>\n",
       "      <td>0.000000</td>\n",
       "      <td>0.257536</td>\n",
       "      <td>0.200000</td>\n",
       "      <td>0.155371</td>\n",
       "      <td>0.155371</td>\n",
       "      <td>0.000000</td>\n",
       "      <td>0.000000</td>\n",
       "      <td>0.155371</td>\n",
       "      <td>0.000000</td>\n",
       "    </tr>\n",
       "    <tr>\n",
       "      <th>1</th>\n",
       "      <td>0.282191</td>\n",
       "      <td>0.000000</td>\n",
       "      <td>0.333333</td>\n",
       "      <td>0.129476</td>\n",
       "      <td>0.129476</td>\n",
       "      <td>0.000000</td>\n",
       "      <td>0.000000</td>\n",
       "      <td>0.129476</td>\n",
       "      <td>0.000000</td>\n",
       "    </tr>\n",
       "    <tr>\n",
       "      <th>2</th>\n",
       "      <td>0.000000</td>\n",
       "      <td>0.000000</td>\n",
       "      <td>0.000000</td>\n",
       "      <td>0.129476</td>\n",
       "      <td>0.129476</td>\n",
       "      <td>0.282191</td>\n",
       "      <td>0.282191</td>\n",
       "      <td>0.129476</td>\n",
       "      <td>0.282191</td>\n",
       "    </tr>\n",
       "    <tr>\n",
       "      <th>3</th>\n",
       "      <td>0.000000</td>\n",
       "      <td>0.257536</td>\n",
       "      <td>0.200000</td>\n",
       "      <td>0.155371</td>\n",
       "      <td>0.155371</td>\n",
       "      <td>0.000000</td>\n",
       "      <td>0.000000</td>\n",
       "      <td>0.155371</td>\n",
       "      <td>0.000000</td>\n",
       "    </tr>\n",
       "  </tbody>\n",
       "</table>\n",
       "</div>"
      ],
      "text/plain": [
       "     second     first  document        is       the       one       and  \\\n",
       "0  0.000000  0.257536  0.200000  0.155371  0.155371  0.000000  0.000000   \n",
       "1  0.282191  0.000000  0.333333  0.129476  0.129476  0.000000  0.000000   \n",
       "2  0.000000  0.000000  0.000000  0.129476  0.129476  0.282191  0.282191   \n",
       "3  0.000000  0.257536  0.200000  0.155371  0.155371  0.000000  0.000000   \n",
       "\n",
       "       this     third  \n",
       "0  0.155371  0.000000  \n",
       "1  0.129476  0.000000  \n",
       "2  0.129476  0.282191  \n",
       "3  0.155371  0.000000  "
      ]
     },
     "execution_count": 17,
     "metadata": {},
     "output_type": "execute_result"
    }
   ],
   "source": [
    "texts = [\n",
    "         'this is the first document',\n",
    "         'this document is the second document',\n",
    "         'and this is the third one',\n",
    "         'is this the first document',\n",
    "     ]\n",
    "\n",
    "words = ['second', 'first', 'document', 'is', 'the', 'one', 'and', 'this', 'third']\n",
    "\n",
    "def tf_idf(n, ws, c):\n",
    "    return c*(np.log(4/(n + 1))+1)/ws\n",
    "\n",
    "answer_features = [[ tf_idf(sum(1 for t in texts if w in t.split()), len(text.split()), text.split().count(w)) for w in words] for text in texts]\n",
    "\n",
    "answers_df = pd.DataFrame(answer_features, columns=words)\n",
    "\n",
    "answers_df"
   ]
  },
  {
   "cell_type": "code",
   "execution_count": 248,
   "id": "cd5dcde6",
   "metadata": {},
   "outputs": [
    {
     "data": {
      "text/plain": [
       "array([[0.        , 0.25753641, 0.2       , 0.15537129, 0.15537129,\n",
       "        0.        , 0.        , 0.15537129, 0.        ],\n",
       "       [0.2821912 , 0.        , 0.33333333, 0.12947607, 0.12947607,\n",
       "        0.        , 0.        , 0.12947607, 0.        ],\n",
       "       [0.        , 0.        , 0.        , 0.12947607, 0.12947607,\n",
       "        0.2821912 , 0.2821912 , 0.12947607, 0.2821912 ],\n",
       "       [0.        , 0.25753641, 0.2       , 0.15537129, 0.15537129,\n",
       "        0.        , 0.        , 0.15537129, 0.        ]])"
      ]
     },
     "execution_count": 248,
     "metadata": {},
     "output_type": "execute_result"
    }
   ],
   "source": [
    "custom_vectorizer = CustomTFIDFVectorizer()\n",
    "result_features = custom_vectorizer.fit_transform(texts)\n",
    "\n",
    "result_features"
   ]
  },
  {
   "cell_type": "code",
   "execution_count": 220,
   "id": "9846ce55",
   "metadata": {},
   "outputs": [
    {
     "data": {
      "text/plain": [
       "['second', 'first', 'document', 'is', 'the', 'one', 'and', 'this', 'third']"
      ]
     },
     "execution_count": 220,
     "metadata": {},
     "output_type": "execute_result"
    }
   ],
   "source": [
    "custom_vectorizer.get_feature_names_out()"
   ]
  },
  {
   "cell_type": "code",
   "execution_count": 221,
   "id": "e18b314e",
   "metadata": {},
   "outputs": [
    {
     "data": {
      "text/html": [
       "<div>\n",
       "<style scoped>\n",
       "    .dataframe tbody tr th:only-of-type {\n",
       "        vertical-align: middle;\n",
       "    }\n",
       "\n",
       "    .dataframe tbody tr th {\n",
       "        vertical-align: top;\n",
       "    }\n",
       "\n",
       "    .dataframe thead th {\n",
       "        text-align: right;\n",
       "    }\n",
       "</style>\n",
       "<table border=\"1\" class=\"dataframe\">\n",
       "  <thead>\n",
       "    <tr style=\"text-align: right;\">\n",
       "      <th></th>\n",
       "      <th>second</th>\n",
       "      <th>first</th>\n",
       "      <th>document</th>\n",
       "      <th>is</th>\n",
       "      <th>the</th>\n",
       "      <th>one</th>\n",
       "      <th>and</th>\n",
       "      <th>this</th>\n",
       "      <th>third</th>\n",
       "    </tr>\n",
       "  </thead>\n",
       "  <tbody>\n",
       "    <tr>\n",
       "      <th>0</th>\n",
       "      <td>0.000000</td>\n",
       "      <td>0.257536</td>\n",
       "      <td>0.200000</td>\n",
       "      <td>0.155371</td>\n",
       "      <td>0.155371</td>\n",
       "      <td>0.000000</td>\n",
       "      <td>0.000000</td>\n",
       "      <td>0.155371</td>\n",
       "      <td>0.000000</td>\n",
       "    </tr>\n",
       "    <tr>\n",
       "      <th>1</th>\n",
       "      <td>0.282191</td>\n",
       "      <td>0.000000</td>\n",
       "      <td>0.333333</td>\n",
       "      <td>0.129476</td>\n",
       "      <td>0.129476</td>\n",
       "      <td>0.000000</td>\n",
       "      <td>0.000000</td>\n",
       "      <td>0.129476</td>\n",
       "      <td>0.000000</td>\n",
       "    </tr>\n",
       "    <tr>\n",
       "      <th>2</th>\n",
       "      <td>0.000000</td>\n",
       "      <td>0.000000</td>\n",
       "      <td>0.000000</td>\n",
       "      <td>0.129476</td>\n",
       "      <td>0.129476</td>\n",
       "      <td>0.282191</td>\n",
       "      <td>0.282191</td>\n",
       "      <td>0.129476</td>\n",
       "      <td>0.282191</td>\n",
       "    </tr>\n",
       "    <tr>\n",
       "      <th>3</th>\n",
       "      <td>0.000000</td>\n",
       "      <td>0.257536</td>\n",
       "      <td>0.200000</td>\n",
       "      <td>0.155371</td>\n",
       "      <td>0.155371</td>\n",
       "      <td>0.000000</td>\n",
       "      <td>0.000000</td>\n",
       "      <td>0.155371</td>\n",
       "      <td>0.000000</td>\n",
       "    </tr>\n",
       "  </tbody>\n",
       "</table>\n",
       "</div>"
      ],
      "text/plain": [
       "     second     first  document        is       the       one       and  \\\n",
       "0  0.000000  0.257536  0.200000  0.155371  0.155371  0.000000  0.000000   \n",
       "1  0.282191  0.000000  0.333333  0.129476  0.129476  0.000000  0.000000   \n",
       "2  0.000000  0.000000  0.000000  0.129476  0.129476  0.282191  0.282191   \n",
       "3  0.000000  0.257536  0.200000  0.155371  0.155371  0.000000  0.000000   \n",
       "\n",
       "       this     third  \n",
       "0  0.155371  0.000000  \n",
       "1  0.129476  0.000000  \n",
       "2  0.129476  0.282191  \n",
       "3  0.155371  0.000000  "
      ]
     },
     "execution_count": 221,
     "metadata": {},
     "output_type": "execute_result"
    }
   ],
   "source": [
    "tfidf_df_result = pd.DataFrame(result_features, columns=custom_vectorizer.get_feature_names_out())\n",
    "tfidf_df_result"
   ]
  },
  {
   "cell_type": "code",
   "execution_count": null,
   "id": "202122df",
   "metadata": {},
   "outputs": [
    {
     "name": "stdout",
     "output_type": "stream",
     "text": [
      "tf-idf для слова second в 1 предложении расчитан правильно\n",
      "tf-idf для слова second в 2 предложении расчитан правильно\n",
      "tf-idf для слова second в 3 предложении расчитан правильно\n",
      "tf-idf для слова second в 4 предложении расчитан правильно\n",
      "tf-idf для слова is в 1 предложении расчитан правильно\n",
      "tf-idf для слова is в 2 предложении расчитан правильно\n",
      "tf-idf для слова is в 3 предложении расчитан правильно\n",
      "tf-idf для слова is в 4 предложении расчитан правильно\n",
      "tf-idf для слова one в 1 предложении расчитан правильно\n",
      "tf-idf для слова one в 2 предложении расчитан правильно\n",
      "tf-idf для слова one в 3 предложении расчитан правильно\n",
      "tf-idf для слова one в 4 предложении расчитан правильно\n",
      "tf-idf для слова the в 1 предложении расчитан правильно\n",
      "tf-idf для слова the в 2 предложении расчитан правильно\n",
      "tf-idf для слова the в 3 предложении расчитан правильно\n",
      "tf-idf для слова the в 4 предложении расчитан правильно\n",
      "tf-idf для слова this в 1 предложении расчитан правильно\n",
      "tf-idf для слова this в 2 предложении расчитан правильно\n",
      "tf-idf для слова this в 3 предложении расчитан правильно\n",
      "tf-idf для слова this в 4 предложении расчитан правильно\n",
      "tf-idf для слова and в 1 предложении расчитан правильно\n",
      "tf-idf для слова and в 2 предложении расчитан правильно\n",
      "tf-idf для слова and в 3 предложении расчитан правильно\n",
      "tf-idf для слова and в 4 предложении расчитан правильно\n",
      "tf-idf для слова document в 1 предложении расчитан правильно\n",
      "tf-idf для слова document в 2 предложении расчитан правильно\n",
      "tf-idf для слова document в 3 предложении расчитан правильно\n",
      "tf-idf для слова document в 4 предложении расчитан правильно\n",
      "tf-idf для слова third в 1 предложении расчитан правильно\n",
      "tf-idf для слова third в 2 предложении расчитан правильно\n",
      "tf-idf для слова third в 3 предложении расчитан правильно\n",
      "tf-idf для слова third в 4 предложении расчитан правильно\n",
      "tf-idf для слова first в 1 предложении расчитан правильно\n",
      "tf-idf для слова first в 2 предложении расчитан правильно\n",
      "tf-idf для слова first в 3 предложении расчитан правильно\n",
      "tf-idf для слова first в 4 предложении расчитан правильно\n"
     ]
    }
   ],
   "source": [
    "custom_vectorizer = CustomTFIDFVectorizer()\n",
    "result_features = custom_vectorizer.fit_transform(texts)\n",
    "\n",
    "features = custom_vectorizer.get_feature_names_out()\n",
    "\n",
    "tfidf_df_result = pd.DataFrame(result_features, columns=features)\n",
    "\n",
    "for i in range(len(features)):\n",
    "    word = features[i]\n",
    "    for j in range(len(tfidf_df_result[word])):\n",
    "        if answers_df[word][j] - tfidf_df_result[word][j] < 0.000001:\n",
    "            print('tf-idf для слова {} в {} предложении расчитан правильно'.format(word, j + 1))\n",
    "        else:\n",
    "            print('tf-idf для слова {} в {} предложении неправильно расчитан, получили {}, а должен быть {}'.format(word, j + 1, tfidf_df_result[word][j], answers_df[word][j]))\n"
   ]
  },
  {
   "cell_type": "markdown",
   "id": "72ec617d",
   "metadata": {},
   "source": [
    "## Предобработка NLTK"
   ]
  },
  {
   "cell_type": "code",
   "execution_count": 10,
   "id": "92513c7e",
   "metadata": {},
   "outputs": [],
   "source": [
    "import nltk\n",
    "from nltk.corpus import stopwords\n",
    "from nltk.stem import WordNetLemmatizer\n",
    "import string\n",
    "\n",
    "class TextPreprocessor:\n",
    "    \"\"\"\n",
    "    Предобработка с помощью NLTK\n",
    "    \"\"\"\n",
    "    \n",
    "    def __init__(self):\n",
    "        self.stop_words = set(stopwords.words('english'))\n",
    "        self.punctuation = set(string.punctuation)\n",
    "        self.lemmatizer = WordNetLemmatizer()\n",
    "\n",
    "    def fit_transform(self, data, y=None):\n",
    "        return self.fit(data).transform(data)\n",
    "\n",
    "    def fit(self, data, y=None):\n",
    "        return self\n",
    "\n",
    "    def transform(self, data, y=None):\n",
    "        return [self._transform(text) for text in data]\n",
    "\n",
    "    def _transform(self, data):\n",
    "        # Привести к нижнему регистру и токенизировать\n",
    "        tokens = nltk.word_tokenize(data.lower())\n",
    "\n",
    "        # Исключить пунктуацию, стоп-слова\n",
    "        return [self.lemmatizer.lemmatize(t) for t in tokens\n",
    "                if t not in self.stop_words and t not in self.punctuation ]"
   ]
  },
  {
   "cell_type": "code",
   "execution_count": 243,
   "id": "edb6bb78",
   "metadata": {},
   "outputs": [
    {
     "data": {
      "text/plain": [
       "0              This is the first document.\n",
       "1    This document is the second document.\n",
       "2               And this is the third one.\n",
       "3              Is this the first document?\n",
       "Name: 0, dtype: object"
      ]
     },
     "execution_count": 243,
     "metadata": {},
     "output_type": "execute_result"
    }
   ],
   "source": [
    "texts_test = [\n",
    "    'This is the first document.',\n",
    "    'This document is the second document.',\n",
    "    'And this is the third one.',\n",
    "    'Is this the first document?',\n",
    "]\n",
    "\n",
    "texts_test_df = pd.DataFrame(texts_test)[0]\n",
    "texts_test_df"
   ]
  },
  {
   "cell_type": "code",
   "execution_count": 246,
   "id": "d0db3f91",
   "metadata": {},
   "outputs": [
    {
     "data": {
      "text/plain": [
       "[['first', 'document'],\n",
       " ['document', 'second', 'document'],\n",
       " ['third', 'one'],\n",
       " ['first', 'document']]"
      ]
     },
     "execution_count": 246,
     "metadata": {},
     "output_type": "execute_result"
    }
   ],
   "source": [
    "texts_test_transforms = TextPreprocessor().transform(texts_test_df)\n",
    "texts_test_transforms"
   ]
  },
  {
   "cell_type": "markdown",
   "id": "ad4fd441",
   "metadata": {},
   "source": [
    "## Пайплайн с кастомной векторизацией tf-idf"
   ]
  },
  {
   "cell_type": "code",
   "execution_count": 18,
   "id": "7777462a",
   "metadata": {},
   "outputs": [
    {
     "name": "stdout",
     "output_type": "stream",
     "text": [
      "[['first', 'document'], ['document', 'second', 'document'], ['third', 'one'], ['first', 'document']]\n",
      "[[0.         0.         0.5        0.         0.64384104]\n",
      " [0.56438239 0.         0.66666667 0.         0.        ]\n",
      " [0.         0.84657359 0.         0.84657359 0.        ]\n",
      " [0.         0.         0.5        0.         0.64384104]]\n"
     ]
    }
   ],
   "source": [
    "from sklearn.pipeline import Pipeline\n",
    "\n",
    "#  Тестирование пайплайна предобработки данных\n",
    "pipeline_preprocessor = Pipeline([\n",
    "    ('preprocessor', TextPreprocessor()), \n",
    "])\n",
    "\n",
    "print(pipeline_preprocessor.fit_transform(texts))\n",
    "\n",
    "pipeline_vectorizer = Pipeline([\n",
    "    ('preprocessor', TextPreprocessor()), \n",
    "    ('vectorizer', CustomTFIDFVectorizer()), \n",
    "])\n",
    "\n",
    "print(pipeline_vectorizer.fit_transform(texts))"
   ]
  },
  {
   "cell_type": "code",
   "execution_count": 14,
   "id": "13c7eb6e",
   "metadata": {},
   "outputs": [
    {
     "name": "stdout",
     "output_type": "stream",
     "text": [
      "              precision    recall  f1-score   support\n",
      "\n",
      "           0       0.98      0.99      0.98       966\n",
      "           1       0.95      0.85      0.89       149\n",
      "\n",
      "    accuracy                           0.97      1115\n",
      "   macro avg       0.96      0.92      0.94      1115\n",
      "weighted avg       0.97      0.97      0.97      1115\n",
      "\n",
      "Accuracy: 0.9730941704035875\n",
      "\n",
      "Confusion Matrix:\n"
     ]
    },
    {
     "data": {
      "image/png": "[encoded data removed]",
      "text/plain": [
       "<Figure size 640x480 with 2 Axes>"
      ]
     },
     "metadata": {},
     "output_type": "display_data"
    }
   ],
   "source": [
    "from sklearn.pipeline import Pipeline\n",
    "import matplotlib.pyplot as plt\n",
    "import seaborn as sns\n",
    "\n",
    "# Разделение датасета на обучающий и тестовый\n",
    "X_train, X_test, y_train, y_test = train_test_split(\n",
    "    sms_data['text'], sms_data['label'], test_size=0.2, random_state=42\n",
    ")\n",
    "\n",
    "# Создание пайплайна предобработки данных и обучения\n",
    "pipeline_lr = Pipeline([\n",
    "    ('preprocessor', TextPreprocessor()), \n",
    "    ('vectorizer', CustomTFIDFVectorizer()), \n",
    "    ('classifier', LogisticRegression()) \n",
    "])\n",
    "\n",
    "# Запуск пайплайна\n",
    "pipeline_lr.fit(X_train, y_train)\n",
    "y_pred_test_lr = pipeline_lr.predict(X_test)\n",
    "\n",
    "# Вывод метрик\n",
    "print(classification_report(y_test, y_pred_test_lr))\n",
    "print(\"Accuracy:\", accuracy_score(y_test, y_pred_test_lr))\n",
    "\n",
    "# Графическое представление матрицы ошибок\n",
    "print(\"\\nConfusion Matrix:\")\n",
    "cm_lr = confusion_matrix(y_test, y_pred_test_lr)\n",
    "sns.heatmap(cm_lr, annot=True, fmt='d', cmap='Blues')\n",
    "plt.xlabel('Predicted')\n",
    "plt.ylabel('Actual')\n",
    "plt.title('Confusion Matrix')\n",
    "plt.show()"
   ]
  }
 ],
 "metadata": {
  "kernelspec": {
   "display_name": "pandas_kernel",
   "language": "python",
   "name": "pandas_kernel"
  },
  "language_info": {
   "codemirror_mode": {
    "name": "ipython",
    "version": 3
   },
   "file_extension": ".py",
   "mimetype": "text/x-python",
   "name": "python",
   "nbconvert_exporter": "python",
   "pygments_lexer": "ipython3",
   "version": "3.13.3"
  }
 },
 "nbformat": 4,
 "nbformat_minor": 5
}
